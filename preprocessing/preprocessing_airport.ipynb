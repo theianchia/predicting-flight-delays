{
 "cells": [
  {
   "cell_type": "code",
   "execution_count": null,
   "id": "4223ee6c",
   "metadata": {},
   "outputs": [],
   "source": [
    "import pandas as pd"
   ]
  },
  {
   "cell_type": "code",
   "execution_count": null,
   "id": "5db89a0e",
   "metadata": {},
   "outputs": [],
   "source": [
    "airport_df = pd.read_csv(\"datasets/airport/airport.csv\")\n",
    "airport_df.head()"
   ]
  },
  {
   "cell_type": "code",
   "execution_count": null,
   "id": "bc3d89e4",
   "metadata": {},
   "outputs": [],
   "source": [
    "airport_df[airport_df['Year'] == 2018].head()"
   ]
  },
  {
   "cell_type": "code",
   "execution_count": null,
   "id": "a3a72e7f",
   "metadata": {},
   "outputs": [],
   "source": [
    "airport_df[airport_df['Year'] == 2018].groupby('Month').count()"
   ]
  },
  {
   "cell_type": "code",
   "execution_count": null,
   "id": "c436a5c7",
   "metadata": {},
   "outputs": [],
   "source": [
    "airport_df[airport_df['Year'] == 2018].groupby('Month').sum()['TotalOperations']"
   ]
  },
  {
   "cell_type": "code",
   "execution_count": null,
   "id": "e75541c0",
   "metadata": {},
   "outputs": [],
   "source": [
    "airport_df.isnull().sum()"
   ]
  },
  {
   "cell_type": "code",
   "execution_count": null,
   "id": "98f27c36",
   "metadata": {},
   "outputs": [],
   "source": [
    "AIRPORT_COLS_RENAME = {\n",
    "    'Airport': 'Origin', \n",
    "    'TotalOperations': 'Total Operations',\n",
    "}\n",
    "\n",
    "airport_df.rename(columns=AIRPORT_COLS_RENAME, inplace=True)\n",
    "\n",
    "airport_df.head()"
   ]
  },
  {
   "cell_type": "code",
   "execution_count": null,
   "id": "911b2e07",
   "metadata": {},
   "outputs": [],
   "source": []
  }
 ],
 "metadata": {
  "kernelspec": {
   "display_name": "Python 3 (ipykernel)",
   "language": "python",
   "name": "python3"
  },
  "language_info": {
   "codemirror_mode": {
    "name": "ipython",
    "version": 3
   },
   "file_extension": ".py",
   "mimetype": "text/x-python",
   "name": "python",
   "nbconvert_exporter": "python",
   "pygments_lexer": "ipython3",
   "version": "3.7.4"
  }
 },
 "nbformat": 4,
 "nbformat_minor": 5
}
