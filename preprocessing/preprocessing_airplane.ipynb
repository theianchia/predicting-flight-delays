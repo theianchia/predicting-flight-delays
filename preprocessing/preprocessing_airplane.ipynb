{
 "cells": [
  {
   "cell_type": "code",
   "execution_count": null,
   "id": "bb543170",
   "metadata": {},
   "outputs": [],
   "source": [
    "import pandas as pd"
   ]
  },
  {
   "cell_type": "code",
   "execution_count": null,
   "id": "76bb3e1d",
   "metadata": {},
   "outputs": [],
   "source": [
    "carrier_df = pd.read_csv('datasets/airplane/us_carrier_2018.csv')\n",
    "airplane_df = pd.read_csv('datasets/airplane/airplane.csv')\n",
    "print(us_carrier_df.shape)\n",
    "us_carrier_df.head()"
   ]
  },
  {
   "cell_type": "code",
   "execution_count": null,
   "id": "8096d117",
   "metadata": {},
   "outputs": [],
   "source": [
    "print(airplane_df.shape)\n",
    "airplane_df.head()"
   ]
  },
  {
   "cell_type": "code",
   "execution_count": null,
   "id": "c8848a23",
   "metadata": {},
   "outputs": [],
   "source": [
    "carrier_df.isnull().sum()"
   ]
  },
  {
   "cell_type": "code",
   "execution_count": null,
   "id": "f3dd80d3",
   "metadata": {},
   "outputs": [],
   "source": [
    "airplane_df.isnull().sum()"
   ]
  },
  {
   "cell_type": "code",
   "execution_count": null,
   "id": "b06b6f3d",
   "metadata": {},
   "outputs": [],
   "source": [
    "carrier_df.dropna(inplace=True)\n",
    "print(carrier_df.shape)\n",
    "carrier_df.head()"
   ]
  },
  {
   "cell_type": "code",
   "execution_count": null,
   "id": "08d13cba",
   "metadata": {},
   "outputs": [],
   "source": [
    "airplane_df.dropna(inplace=True)\n",
    "print(airplane_df.shape)\n",
    "airplane_df.head()"
   ]
  },
  {
   "cell_type": "code",
   "execution_count": null,
   "id": "effa2427",
   "metadata": {},
   "outputs": [],
   "source": [
    "carrier_df = carrier_df[carrier_df['ORIGIN'] != carrier_df['DEST']]"
   ]
  },
  {
   "cell_type": "code",
   "execution_count": null,
   "id": "71ca4747",
   "metadata": {},
   "outputs": [],
   "source": [
    "CARRIER_FEATURES = [\"ORIGIN\", \"DEST\", \"UNIQUE_CARRIER\",  \"AIRCRAFT_TYPE\", \"SEATS\"]\n",
    "\n",
    "AIRPLANE_FEATURES = [\"aircraft_type\", \"age\"]\n",
    "\n",
    "CARRIER_COLS_RENAME = {\n",
    "    \"ORIGIN\": \"Origin\",\n",
    "    \"DEST\": \"Destination\",\n",
    "    \"UNIQUE_CARRIER\": \"Carrier\",\n",
    "    \"YEAR\": \"Year\",\n",
    "    \"MONTH\": \"Month\",\n",
    "    \"AIRCRAFT_TYPE\": \"Airplane\",\n",
    "    \"SEATS\": \"Seats\"\n",
    "}\n",
    "\n",
    "AIRPLANE_COLS_RENAME = {\n",
    "    \"aircraft_type\": \"Airplane\",\n",
    "    \"age\": \"Airplane Age\",\n",
    "}\n",
    "\n",
    "selected_carrier_df = carrier_df[CARRIER_FEATURES]\n",
    "selected_airplane_df = airplane_df[AIRPLANE_FEATURES]\n",
    "\n",
    "selected_carrier_df.rename(columns=CARRIER_COLS_RENAME, inplace=True)\n",
    "selected_airplane_df.rename(columns=AIRPLANE_COLS_RENAME, inplace=True)\n",
    "selected_carrier_df.head()"
   ]
  },
  {
   "cell_type": "code",
   "execution_count": null,
   "id": "46f90185",
   "metadata": {},
   "outputs": [],
   "source": [
    "selected_airplane_df.head()"
   ]
  },
  {
   "cell_type": "code",
   "execution_count": null,
   "id": "454b5cf4",
   "metadata": {},
   "outputs": [],
   "source": [
    "selected_airplane_df = selected_carrier_df.merge(selected_airplane_df.set_index(['Airplane']), on=['Airplane'], how='left')\n",
    "selected_airplane_df.head()"
   ]
  },
  {
   "cell_type": "code",
   "execution_count": null,
   "id": "0c3afa10",
   "metadata": {},
   "outputs": [],
   "source": [
    "selected_airplane_df.isnull().sum()"
   ]
  },
  {
   "cell_type": "code",
   "execution_count": null,
   "id": "f3b2b221",
   "metadata": {},
   "outputs": [],
   "source": [
    "selected_airplane_df[selected_airplane_df[\"Airplane age\"].isnull()]"
   ]
  },
  {
   "cell_type": "code",
   "execution_count": null,
   "id": "abe34236",
   "metadata": {},
   "outputs": [],
   "source": [
    "selected_airplane_df.dropna(inplace=True)"
   ]
  },
  {
   "cell_type": "code",
   "execution_count": null,
   "id": "cf7ca3aa",
   "metadata": {},
   "outputs": [],
   "source": [
    "mode_airplane_df = selected_airplane_df.groupby(['Origin', 'Destination', 'Carrier']).agg(lambda x:x.value_counts().index[0]).reset_index()\n",
    "mode_airplane_df"
   ]
  },
  {
   "cell_type": "code",
   "execution_count": null,
   "id": "aa87cb1b",
   "metadata": {},
   "outputs": [],
   "source": [
    "selected_airplane_df[(selected_airplane_df['Origin'] == '05A') & (selected_airplane_df['Destination'] == 'AKP')]"
   ]
  },
  {
   "cell_type": "code",
   "execution_count": null,
   "id": "0c566213",
   "metadata": {},
   "outputs": [],
   "source": []
  },
  {
   "cell_type": "markdown",
   "id": "c976a35e",
   "metadata": {},
   "source": [
    "## Merging with airline dataset"
   ]
  },
  {
   "cell_type": "code",
   "execution_count": null,
   "id": "ff11e794",
   "metadata": {},
   "outputs": [],
   "source": [
    "airline_df = pd.read_csv('datasets/airline/airline_cancel_data_2018.csv')\n",
    "airline_df.head()"
   ]
  },
  {
   "cell_type": "code",
   "execution_count": null,
   "id": "cafc0b9c",
   "metadata": {},
   "outputs": [],
   "source": []
  }
 ],
 "metadata": {
  "kernelspec": {
   "display_name": "Python 3 (ipykernel)",
   "language": "python",
   "name": "python3"
  },
  "language_info": {
   "codemirror_mode": {
    "name": "ipython",
    "version": 3
   },
   "file_extension": ".py",
   "mimetype": "text/x-python",
   "name": "python",
   "nbconvert_exporter": "python",
   "pygments_lexer": "ipython3",
   "version": "3.7.4"
  }
 },
 "nbformat": 4,
 "nbformat_minor": 5
}
