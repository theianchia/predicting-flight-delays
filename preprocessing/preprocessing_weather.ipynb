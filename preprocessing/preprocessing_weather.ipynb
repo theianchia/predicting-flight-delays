{
 "cells": [
  {
   "cell_type": "code",
   "execution_count": null,
   "id": "ceb19909",
   "metadata": {},
   "outputs": [],
   "source": [
    "import pandas as pd"
   ]
  },
  {
   "cell_type": "code",
   "execution_count": null,
   "id": "fea78fdf",
   "metadata": {},
   "outputs": [],
   "source": [
    "abe_df = pd.read_csv(\"datasets/weather/ABE.csv\", skiprows=[0,1,2],)\n",
    "abe_df.head()"
   ]
  },
  {
   "cell_type": "code",
   "execution_count": null,
   "id": "46e1c6d8",
   "metadata": {},
   "outputs": [],
   "source": [
    "# testing with 2018 data\n",
    "abe_df['time'] = abe_df['time'].apply(pd.to_datetime)\n",
    "abe_test_df = abe_df[abe_df['time'].dt.year == 2018]\n",
    "\n",
    "abe_test_df.head()"
   ]
  },
  {
   "cell_type": "code",
   "execution_count": null,
   "id": "6e4a1618",
   "metadata": {},
   "outputs": [],
   "source": [
    "abe_test_df.isnull().sum()"
   ]
  },
  {
   "cell_type": "code",
   "execution_count": null,
   "id": "be94afbe",
   "metadata": {},
   "outputs": [],
   "source": [
    "WEATHER_COLS = [\n",
    "    'time',\n",
    "    'precipitation_sum (mm)',\n",
    "    'rain_sum (mm)',\n",
    "    'snowfall_sum (cm)',\n",
    "    'windspeed_10m_max (km/h)',\n",
    "    'windgusts_10m_max (km/h)',\n",
    "    'et0_fao_evapotranspiration (mm)',\n",
    "    'shortwave_radiation_sum (MJ/m²)',\n",
    "]\n",
    "\n",
    "WEATHER_COLS_RENAME = {\n",
    "    'time': 'Date',\n",
    "    'precipitation_sum (mm)': 'Precipitation',\n",
    "    'rain_sum (mm)': 'Rain',\n",
    "    'snowfall_sum (cm)': 'Snowfall',\n",
    "    'windspeed_10m_max (km/h)': 'Windspeed',\n",
    "    'windgusts_10m_max (km/h)': 'Windgusts',\n",
    "    'et0_fao_evapotranspiration (mm)': 'Evapotranspiration',\n",
    "    'shortwave_radiation_sum (MJ/m²)': 'Shortwave Radiation',\n",
    "}\n",
    "\n",
    "abe_selected_df = abe_test_df[WEATHER_COLS]\n",
    "\n",
    "abe_selected_df.rename(columns=WEATHER_COLS_RENAME, inplace=True)\n",
    "\n",
    "abe_selected_df.head()"
   ]
  },
  {
   "cell_type": "code",
   "execution_count": null,
   "id": "7a7d6339",
   "metadata": {},
   "outputs": [],
   "source": [
    "abe_selected_df.shape"
   ]
  },
  {
   "cell_type": "code",
   "execution_count": null,
   "id": "c19b9a15",
   "metadata": {},
   "outputs": [],
   "source": []
  },
  {
   "cell_type": "code",
   "execution_count": null,
   "id": "c4a2047c",
   "metadata": {},
   "outputs": [],
   "source": []
  },
  {
   "cell_type": "code",
   "execution_count": null,
   "id": "9310f796",
   "metadata": {},
   "outputs": [],
   "source": []
  }
 ],
 "metadata": {
  "kernelspec": {
   "display_name": "Python 3 (ipykernel)",
   "language": "python",
   "name": "python3"
  },
  "language_info": {
   "codemirror_mode": {
    "name": "ipython",
    "version": 3
   },
   "file_extension": ".py",
   "mimetype": "text/x-python",
   "name": "python",
   "nbconvert_exporter": "python",
   "pygments_lexer": "ipython3",
   "version": "3.7.4"
  }
 },
 "nbformat": 4,
 "nbformat_minor": 5
}
