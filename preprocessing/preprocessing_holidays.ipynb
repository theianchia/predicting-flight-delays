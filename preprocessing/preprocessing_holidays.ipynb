{
 "cells": [
  {
   "cell_type": "code",
   "execution_count": null,
   "id": "57a4040e",
   "metadata": {},
   "outputs": [],
   "source": [
    "import pandas as pd"
   ]
  },
  {
   "cell_type": "code",
   "execution_count": null,
   "id": "9f964311",
   "metadata": {},
   "outputs": [],
   "source": [
    "holidays_df = pd.read_csv('datasets/holidays/holidays.csv')\n",
    "holidays_df.head()"
   ]
  },
  {
   "cell_type": "code",
   "execution_count": null,
   "id": "b2db9f78",
   "metadata": {},
   "outputs": [],
   "source": [
    "holidays_df = holidays_df[holidays_df['Year']== 2018][['Date', 'Holiday', 'WeekDay']].reset_index(drop=True)\n",
    "holidays_df.rename(columns = {'WeekDay': 'Day of Holiday'}, inplace = True)\n",
    "holidays_df.head()"
   ]
  },
  {
   "cell_type": "code",
   "execution_count": null,
   "id": "2039791f",
   "metadata": {},
   "outputs": [],
   "source": []
  }
 ],
 "metadata": {
  "kernelspec": {
   "display_name": "Python 3 (ipykernel)",
   "language": "python",
   "name": "python3"
  },
  "language_info": {
   "codemirror_mode": {
    "name": "ipython",
    "version": 3
   },
   "file_extension": ".py",
   "mimetype": "text/x-python",
   "name": "python",
   "nbconvert_exporter": "python",
   "pygments_lexer": "ipython3",
   "version": "3.7.10"
  }
 },
 "nbformat": 4,
 "nbformat_minor": 5
}
