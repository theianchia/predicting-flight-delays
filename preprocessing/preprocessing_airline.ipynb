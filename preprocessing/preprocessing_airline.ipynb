{
 "cells": [
  {
   "cell_type": "code",
   "execution_count": null,
   "id": "e2ec63b7",
   "metadata": {},
   "outputs": [],
   "source": [
    "import pandas as pd"
   ]
  },
  {
   "cell_type": "code",
   "execution_count": null,
   "id": "0db91d5a",
   "metadata": {},
   "outputs": [],
   "source": [
    "airline_df = pd.read_csv(\"datasets/airline/airline_cancel_data_2018.csv\")"
   ]
  },
  {
   "cell_type": "code",
   "execution_count": null,
   "id": "88c82934",
   "metadata": {},
   "outputs": [],
   "source": [
    "airline_df.head()"
   ]
  },
  {
   "cell_type": "code",
   "execution_count": null,
   "id": "7bdaf39a",
   "metadata": {},
   "outputs": [],
   "source": [
    "airline_df.shape"
   ]
  },
  {
   "cell_type": "code",
   "execution_count": null,
   "id": "0b4b240f",
   "metadata": {},
   "outputs": [],
   "source": [
    "airline_df['Flight Delay'] = airline_df['ACTUAL_ELAPSED_TIME'] - airline_df['CRS_ELAPSED_TIME']"
   ]
  },
  {
   "cell_type": "code",
   "execution_count": null,
   "id": "9749f464",
   "metadata": {},
   "outputs": [],
   "source": [
    "AIRLINE_COLS = [\n",
    "    'FL_DATE',\n",
    "    'OP_CARRIER',\n",
    "    'OP_CARRIER_FL_NUM',\n",
    "    'CRS_DEP_TIME',\n",
    "    'ORIGIN',\n",
    "    'DEST',\n",
    "    'DISTANCE',\n",
    "    'DEP_DELAY',\n",
    "    'Flight Delay'\n",
    "]\n",
    "\n",
    "selected_airline_df = airline_df[AIRLINE_COLS]\n",
    "\n",
    "selected_airline_df.head()"
   ]
  },
  {
   "cell_type": "code",
   "execution_count": null,
   "id": "07bcc401",
   "metadata": {},
   "outputs": [],
   "source": [
    "AIRLINE_COLS_RENAME = {\n",
    "  'FL_DATE': 'Date',\n",
    "  'ORIGIN': 'Origin',\n",
    "  'DEST': 'Destination',\n",
    "  'OP_CARRIER': 'Carrier',\n",
    "  'OP_CARRIER_FL_NUM': 'Flight Num',\n",
    "  'CRS_DEP_TIME': 'Departure Time',\n",
    "  'DISTANCE': 'Distance',\n",
    "  'DEP_DELAY': 'Departure Delay'\n",
    "}\n",
    "\n",
    "selected_airline_df.rename(columns=AIRLINE_COLS_RENAME, inplace=True)\n",
    "\n",
    "selected_airline_df.head()"
   ]
  },
  {
   "cell_type": "code",
   "execution_count": null,
   "id": "2c2efc86",
   "metadata": {},
   "outputs": [],
   "source": [
    "selected_airline_df['Carrier'].value_counts()"
   ]
  },
  {
   "cell_type": "code",
   "execution_count": null,
   "id": "5ddca5ea",
   "metadata": {},
   "outputs": [],
   "source": [
    "encoded_airlines_df = pd.get_dummies(selected_airline_df['Carrier'])\n",
    "encoded_airlines_df.head()"
   ]
  },
  {
   "cell_type": "code",
   "execution_count": null,
   "id": "2060b787",
   "metadata": {},
   "outputs": [],
   "source": [
    "AIRLINES_RENAME = {\n",
    "  'UA':'United Airlines',\n",
    "  'AS':'Alaska Airlines',\n",
    "  '9E':'Endeavor Air',\n",
    "  'B6':'JetBlue Airways',\n",
    "  'EV':'ExpressJet',\n",
    "  'F9':'Frontier Airlines',\n",
    "  'G4':'Allegiant Air',\n",
    "  'HA':'Hawaiian Airlines',\n",
    "  'MQ':'Envoy Air',\n",
    "  'NK':'Spirit Airlines',\n",
    "  'OH':'PSA Airlines',\n",
    "  'OO':'SkyWest Airlines',\n",
    "  'VX':'Virgin America',\n",
    "  'WN':'Southwest Airlines',\n",
    "  'YV':'Mesa Airline',\n",
    "  'YX':'Republic Airways',\n",
    "  'AA':'American Airlines',\n",
    "  'DL':'Delta Airlines'\n",
    "}\n",
    "\n",
    "selected_airline_df['Carrier'].replace(AIRLINES_RENAME, inplace=True)\n",
    "selected_airline_df.drop('Carrier', axis=1, inplace=True)\n",
    "\n",
    "selected_airline_df.head()"
   ]
  },
  {
   "cell_type": "code",
   "execution_count": null,
   "id": "c863ef61",
   "metadata": {},
   "outputs": [],
   "source": [
    "selected_airline_df.isnull().sum()"
   ]
  },
  {
   "cell_type": "code",
   "execution_count": null,
   "id": "798a4c53",
   "metadata": {},
   "outputs": [],
   "source": [
    "selected_airline_df.dropna(inplace=True)"
   ]
  },
  {
   "cell_type": "code",
   "execution_count": null,
   "id": "3d88bffd",
   "metadata": {},
   "outputs": [],
   "source": [
    "cleaned_airline_df = pd.concat([selected_airline_df, encoded_airlines_df], axis=1)\n",
    "cleaned_airline_df.head()"
   ]
  },
  {
   "cell_type": "code",
   "execution_count": null,
   "id": "9f70930b",
   "metadata": {},
   "outputs": [],
   "source": []
  },
  {
   "cell_type": "code",
   "execution_count": null,
   "id": "0c9813cf",
   "metadata": {},
   "outputs": [],
   "source": []
  },
  {
   "cell_type": "code",
   "execution_count": null,
   "id": "b2084617",
   "metadata": {},
   "outputs": [],
   "source": []
  },
  {
   "cell_type": "code",
   "execution_count": null,
   "id": "643e728f",
   "metadata": {},
   "outputs": [],
   "source": []
  },
  {
   "cell_type": "code",
   "execution_count": null,
   "id": "f75f27ef",
   "metadata": {},
   "outputs": [],
   "source": []
  },
  {
   "cell_type": "code",
   "execution_count": null,
   "id": "bd55c140",
   "metadata": {},
   "outputs": [],
   "source": []
  }
 ],
 "metadata": {
  "kernelspec": {
   "display_name": "Python 3 (ipykernel)",
   "language": "python",
   "name": "python3"
  },
  "language_info": {
   "codemirror_mode": {
    "name": "ipython",
    "version": 3
   },
   "file_extension": ".py",
   "mimetype": "text/x-python",
   "name": "python",
   "nbconvert_exporter": "python",
   "pygments_lexer": "ipython3",
   "version": "3.7.4"
  }
 },
 "nbformat": 4,
 "nbformat_minor": 5
}
