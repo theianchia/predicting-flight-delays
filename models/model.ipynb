{
 "cells": [
  {
   "cell_type": "code",
   "execution_count": 1,
   "id": "6745e448",
   "metadata": {},
   "outputs": [
    {
     "ename": "SyntaxError",
     "evalue": "trailing comma not allowed without surrounding parentheses (1309210781.py, line 20)",
     "output_type": "error",
     "traceback": [
      "\u001b[0;36m  File \u001b[0;32m\"/var/folders/3x/7pqt8p3n7js0j19wm70jwyt00000gn/T/ipykernel_73307/1309210781.py\"\u001b[0;36m, line \u001b[0;32m20\u001b[0m\n\u001b[0;31m    from sklearn.metrics import cohen_kappa_score, confusion_matrix, roc_curve, auc,\u001b[0m\n\u001b[0m                               ^\u001b[0m\n\u001b[0;31mSyntaxError\u001b[0m\u001b[0;31m:\u001b[0m trailing comma not allowed without surrounding parentheses\n"
     ]
    }
   ],
   "source": [
    "import pandas as pd\n",
    "import numpy as np\n",
    "import plotly.express as px\n",
    "import plotly.graph_objects as go\n",
    "\n",
    "from sklearn.model_selection import train_test_split\n",
    "\n",
    "# Regression Models\n",
    "from sklearn.linear_model import LinearRegression, Lasso\n",
    "from sklearn.ensemble import GradientBoostingRegressor, RandomForestRegressor\n",
    "\n",
    "# Classification Models\n",
    "from sklearn.linear_model import LogisticRegression\n",
    "from sklearn.ensemble import RandomForestClassifier\n",
    "\n",
    "# Regression Metrics\n",
    "from sklearn.metrics import mean_squared_error, r2_score, mean_absolute_error\n",
    "\n",
    "# Classification Metrics\n",
    "from sklearn.metrics import cohen_kappa_score, confusion_matrix, roc_curve, auc\n",
    "from sklearn.metrics import accuracy_score, precision_score, recall_score, f1_score"
   ]
  },
  {
   "cell_type": "code",
   "execution_count": null,
   "id": "df176b55",
   "metadata": {},
   "outputs": [],
   "source": [
    "# !pip3 install --upgrade plotly"
   ]
  },
  {
   "cell_type": "code",
   "execution_count": null,
   "id": "9ccfefe4",
   "metadata": {},
   "outputs": [],
   "source": [
    "df = pd.read_csv(\"../scripts/eda_2018.csv\")"
   ]
  },
  {
   "cell_type": "code",
   "execution_count": null,
   "id": "7a283c81",
   "metadata": {},
   "outputs": [],
   "source": [
    "df.head()"
   ]
  },
  {
   "cell_type": "markdown",
   "id": "a52e3485",
   "metadata": {},
   "source": [
    "# Regression Models"
   ]
  },
  {
   "cell_type": "code",
   "execution_count": null,
   "id": "6ce40f44",
   "metadata": {},
   "outputs": [],
   "source": [
    "features = [\n",
    "    'Origin Total Operations',\n",
    "    'Origin Precipitation', 'Origin Rain', 'Origin Snowfall', \n",
    "    'Origin Windspeed', 'Origin Windgusts', 'Origin Evapotranspiration',\n",
    "    'Origin Shortwave Radiation',\n",
    "]\n",
    "\n",
    "X = df[features]\n",
    "y = df['Delay']\n",
    "\n",
    "X_train, X_test, y_train, y_test = train_test_split(X, y, test_size=0.3, random_state=123)"
   ]
  },
  {
   "cell_type": "code",
   "execution_count": null,
   "id": "ab9a8c0e",
   "metadata": {},
   "outputs": [],
   "source": [
    "linear = LinearRegression()\n",
    "linear.fit(X_train, y_train)\n",
    "\n",
    "lasso = Lasso(alpha=0.1)\n",
    "lasso.fit(X_train, y_train)\n",
    "\n",
    "gbr = GradientBoostingRegressor(n_estimators=100, learning_rate=0.1, max_depth=1, random_state=123)\n",
    "gbr.fit(X_train, y_train)\n",
    "\n",
    "rfr = RandomForestRegressor(n_estimators=100, max_depth=1, random_state=123)\n",
    "rfr.fit(X_train, y_train)\n",
    "\n",
    "y_pred_linear = linear.predict(X_test)\n",
    "y_pred_lasso = lasso.predict(X_test)\n",
    "y_pred_gbr = gbr.predict(X_test)\n",
    "y_pred_rfr = rfr.predict(X_test)"
   ]
  },
  {
   "cell_type": "code",
   "execution_count": null,
   "id": "a29e3cda",
   "metadata": {},
   "outputs": [],
   "source": [
    "mse_linear = mean_squared_error(y_test, y_pred_linear, squared=False)\n",
    "r2_linear = r2_score(y_test, y_pred_linear)\n",
    "mae_linear = mean_absolute_error(y_test, y_pred_linear)\n",
    "\n",
    "mse_lasso = mean_squared_error(y_test, y_pred_lasso, squared=False)\n",
    "r2_lasso = r2_score(y_test, y_pred_lasso)\n",
    "mae_lasso = mean_absolute_error(y_test, y_pred_lasso)\n",
    "\n",
    "mse_gbr = mean_squared_error(y_test, y_pred_gbr, squared=False)\n",
    "r2_gbr = r2_score(y_test, y_pred_gbr)\n",
    "mae_gbr = mean_absolute_error(y_test, y_pred_gbr)\n",
    "\n",
    "mse_rfr = mean_squared_error(y_test, y_pred_rfr, squared=False)\n",
    "r2_rfr = r2_score(y_test, y_pred_rfr)\n",
    "mae_rfr = mean_absolute_error(y_test, y_pred_rfr)\n",
    "\n",
    "\n",
    "fig = go.Figure()\n",
    "fig.add_trace(go.Bar(x=['Linear Regression', 'Lasso Regression', 'Gradient Boosting Regression', 'Random Forest Regression'],\n",
    "                     y=[mse_linear, mse_lasso, mse_gbr, mse_rfr],\n",
    "                     name='Root Mean Squared Error',\n",
    "                     text=[f'{mse_linear:.5f}', f'{mse_lasso:.5f}', f'{mse_gbr:.5f}', f'{mse_rfr:.5f}'],\n",
    "                     textposition='auto'))\n",
    "fig.add_trace(go.Bar(x=['Linear Regression', 'Lasso Regression', 'Gradient Boosting Regression', 'Random Forest Regression'],\n",
    "                     y=[mae_linear, mae_lasso, mae_gbr, mae_rfr],\n",
    "                     name='Mean Absolute Error',\n",
    "                     text=[f'{mse_linear:.5f}', f'{mse_lasso:.5f}', f'{mse_gbr:.5f}', f'{mse_rfr:.5f}'],\n",
    "                     textposition='auto'))\n",
    "fig.add_trace(go.Bar(x=['Linear Regression', 'Lasso Regression', 'Gradient Boosting Regression', 'Random Forest Regression'],\n",
    "                     y=[r2_linear, r2_lasso, r2_gbr, r2_rfr],\n",
    "                     name='R-squared',\n",
    "                     text=[f'{r2_linear:.5f}', f'{r2_lasso:.5f}', f'{r2_gbr:.5f}', f'{r2_rfr:.5f}'],\n",
    "                     textposition='auto'))\n",
    "fig.update_layout(title='Linear vs Lasso vs Gradient Boosting vs Random Forest Regression Performance Metrics',\n",
    "                  xaxis_title='Regression Model',\n",
    "                  yaxis_title='Value')\n",
    "\n",
    "fig.show()"
   ]
  },
  {
   "cell_type": "code",
   "execution_count": null,
   "id": "b3e1a306",
   "metadata": {},
   "outputs": [],
   "source": [
    "# Get the coefficients\n",
    "coef = pd.Series(linear.coef_, index = X.columns)\n",
    "\n",
    "fig = px.bar(coef, x=coef.index, y=coef.values)\n",
    "\n",
    "fig.update_layout(\n",
    "    title='Linear Regression Coefficients',\n",
    "    xaxis_title='Features',\n",
    "    yaxis_title='Coefficient Values'\n",
    ")\n",
    "\n",
    "fig.show()"
   ]
  },
  {
   "cell_type": "code",
   "execution_count": null,
   "id": "1eccb192",
   "metadata": {},
   "outputs": [],
   "source": []
  },
  {
   "cell_type": "code",
   "execution_count": null,
   "id": "12b344b5",
   "metadata": {},
   "outputs": [],
   "source": []
  },
  {
   "cell_type": "markdown",
   "id": "c9b253f1",
   "metadata": {},
   "source": [
    "# Classification Models"
   ]
  },
  {
   "cell_type": "code",
   "execution_count": 2,
   "id": "347b3d39",
   "metadata": {},
   "outputs": [
    {
     "ename": "NameError",
     "evalue": "name 'df' is not defined",
     "output_type": "error",
     "traceback": [
      "\u001b[0;31m---------------------------------------------------------------------------\u001b[0m",
      "\u001b[0;31mNameError\u001b[0m                                 Traceback (most recent call last)",
      "\u001b[0;32m/var/folders/3x/7pqt8p3n7js0j19wm70jwyt00000gn/T/ipykernel_73307/1515919786.py\u001b[0m in \u001b[0;36m<module>\u001b[0;34m\u001b[0m\n\u001b[1;32m      5\u001b[0m ]\n\u001b[1;32m      6\u001b[0m \u001b[0;34m\u001b[0m\u001b[0m\n\u001b[0;32m----> 7\u001b[0;31m \u001b[0mX\u001b[0m \u001b[0;34m=\u001b[0m \u001b[0mdf\u001b[0m\u001b[0;34m[\u001b[0m\u001b[0mfeatures\u001b[0m\u001b[0;34m]\u001b[0m\u001b[0;34m\u001b[0m\u001b[0;34m\u001b[0m\u001b[0m\n\u001b[0m\u001b[1;32m      8\u001b[0m \u001b[0my\u001b[0m \u001b[0;34m=\u001b[0m \u001b[0mdf\u001b[0m\u001b[0;34m[\u001b[0m\u001b[0;34m'Classified Delay'\u001b[0m\u001b[0;34m]\u001b[0m\u001b[0;34m\u001b[0m\u001b[0;34m\u001b[0m\u001b[0m\n\u001b[1;32m      9\u001b[0m \u001b[0;34m\u001b[0m\u001b[0m\n",
      "\u001b[0;31mNameError\u001b[0m: name 'df' is not defined"
     ]
    }
   ],
   "source": [
    "features = [\n",
    "    'Origin Total Operations',\n",
    "    'Origin Precipitation', 'Origin Rain', 'Origin Snowfall',\n",
    "    'Origin Windspeed', 'Origin Windgusts', 'Origin Evapotranspiration'\n",
    "]\n",
    "\n",
    "X = df[features]\n",
    "y = df['Classified Delay']\n",
    "\n",
    "X_train, X_test, y_train, y_test = train_test_split(X, y, test_size=0.3, random_state=123)"
   ]
  },
  {
   "cell_type": "code",
   "execution_count": null,
   "id": "a41395b8",
   "metadata": {},
   "outputs": [],
   "source": [
    "lr = LogisticRegression(max_iter=300, random_state=42)\n",
    "lr.fit(X_train, y_train)\n",
    "\n",
    "rfc = RandomForestClassifier(n_estimators = 10, criterion = 'entropy', random_state = 42)\n",
    "rfc.fit(X_train, y_train)\n",
    "\n",
    "y_pred_lr = lr.predict(X_test)\n",
    "y_pred_rfc = rfc.predict(X_test)"
   ]
  },
  {
   "cell_type": "code",
   "execution_count": null,
   "id": "b5cbc687",
   "metadata": {},
   "outputs": [],
   "source": [
    "lr_acc = accuracy_score(y_test, y_pred_lr)\n",
    "rfc_acc = accuracy_score(y_test, y_pred_rfc)\n",
    "\n",
    "lr_prec = precision_score(y_test, y_pred_lr)\n",
    "rfc_prec = precision_score(y_test, y_pred_rfc)\n",
    "\n",
    "lr_rec = recall_score(y_test, y_pred_lr)\n",
    "rfc_rec = recall_score(y_test, y_pred_rfc)\n",
    "\n",
    "lr_f1 = f1_score(y_test, y_pred_lr)\n",
    "rfc_f1 = f1_score(y_test, y_pred_rfc)\n",
    "\n",
    "print(\"LR Accuracy:\", lr_acc)\n",
    "print(\"RFC Accuracy:\", rfc_acc)\n",
    "\n",
    "print(\"LR Precision:\", lr_prec)\n",
    "print(\"RFC Precision:\", rfc_prec)\n",
    "\n",
    "print(\"LR Recall:\", lr_rec)\n",
    "print(\"RFC Recall:\", rfc_rec)\n",
    "\n",
    "print(\"LR F1 Score:\", lr_f1)\n",
    "print(\"RFC F1 Score:\", rfc_f1)"
   ]
  },
  {
   "cell_type": "code",
   "execution_count": null,
   "id": "eb0b7fc9",
   "metadata": {},
   "outputs": [],
   "source": [
    "rfc_cm = confusion_matrix(y_test, y_pred_rfc)\n",
    "rfc_cm"
   ]
  },
  {
   "cell_type": "code",
   "execution_count": null,
   "id": "30b21cf7",
   "metadata": {},
   "outputs": [],
   "source": [
    "fig = go.Figure(data=[go.Heatmap(z=rfc_cm, x=['class ' + str(i+1) for i in range(len(cm))],\n",
    "                                  y=['class ' + str(i+1) for i in range(len(cm))],\n",
    "                                  colorscale='viridis')])\n",
    "fig.update_layout(title='Confusion Matrix', xaxis_title='Predicted outputs', yaxis_title='Actual outputs')\n",
    "fig.show()"
   ]
  },
  {
   "cell_type": "code",
   "execution_count": null,
   "id": "a6fe67c4",
   "metadata": {},
   "outputs": [],
   "source": [
    "kappa = cohen_kappa_score(y_test, y_pred_rfc, weights='quadratic')\n",
    "\n",
    "fig = go.Figure(go.Indicator(\n",
    "    mode = \"number\",\n",
    "    value = kappa,\n",
    "    title = {\"text\": \"Cohen's kappa score\"},\n",
    "    domain = {'x': [0, 1], 'y': [0, 1]},\n",
    "    ))\n",
    "fig.show()"
   ]
  }
 ],
 "metadata": {
  "kernelspec": {
   "display_name": "Python 3 (ipykernel)",
   "language": "python",
   "name": "python3"
  },
  "language_info": {
   "codemirror_mode": {
    "name": "ipython",
    "version": 3
   },
   "file_extension": ".py",
   "mimetype": "text/x-python",
   "name": "python",
   "nbconvert_exporter": "python",
   "pygments_lexer": "ipython3",
   "version": "3.7.4"
  }
 },
 "nbformat": 4,
 "nbformat_minor": 5
}
