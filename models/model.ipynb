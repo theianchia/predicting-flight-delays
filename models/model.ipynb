{
 "cells": [
  {
   "cell_type": "code",
   "execution_count": null,
   "id": "6745e448",
   "metadata": {},
   "outputs": [],
   "source": [
    "import pandas as pd\n",
    "import numpy as np\n",
    "import plotly.express as px\n",
    "import plotly.graph_objects as go\n",
    "\n",
    "from sklearn.model_selection import train_test_split\n",
    "\n",
    "from imblearn.over_sampling import SMOTE"
   ]
  },
  {
   "cell_type": "code",
   "execution_count": null,
   "id": "35525b26",
   "metadata": {},
   "outputs": [],
   "source": [
    "# Regression Models\n",
    "from sklearn.linear_model import LinearRegression, Lasso\n",
    "from sklearn.ensemble import GradientBoostingRegressor, RandomForestRegressor\n",
    "\n",
    "# Classification Models\n",
    "from sklearn.linear_model import LogisticRegression\n",
    "from sklearn.ensemble import RandomForestClassifier\n",
    "\n",
    "# ANN\n",
    "from keras.models import Sequential\n",
    "from keras.layers import Dense, Activation\n",
    "from keras.utils import to_categorical\n",
    "\n",
    "# Regression Metrics\n",
    "from sklearn.metrics import mean_squared_error, r2_score, mean_absolute_error\n",
    "\n",
    "# Classification Metrics\n",
    "from sklearn.metrics import cohen_kappa_score, confusion_matrix, roc_curve, auc\n",
    "from sklearn.metrics import accuracy_score, precision_score, recall_score, f1_score\n",
    "from sklearn.metrics import precision_recall_fscore_support"
   ]
  },
  {
   "cell_type": "code",
   "execution_count": null,
   "id": "13e79917",
   "metadata": {},
   "outputs": [],
   "source": [
    "# !pip3 install --upgrade plotly"
   ]
  },
  {
   "cell_type": "code",
   "execution_count": null,
   "id": "9ccfefe4",
   "metadata": {},
   "outputs": [],
   "source": [
    "df = pd.read_csv(\"../eda/model_2018.csv\")"
   ]
  },
  {
   "cell_type": "code",
   "execution_count": null,
   "id": "7a283c81",
   "metadata": {},
   "outputs": [],
   "source": [
    "print(df.shape)\n",
    "df.head()"
   ]
  },
  {
   "cell_type": "markdown",
   "id": "705d92c6",
   "metadata": {},
   "source": [
    "# Regression Models"
   ]
  },
  {
   "cell_type": "code",
   "execution_count": null,
   "id": "6ce40f44",
   "metadata": {},
   "outputs": [],
   "source": [
    "dep_delay_features = [\n",
    "    'Airplane Age', 'Distance', \n",
    "    'Origin Total Operations','Destination Total Operations',\n",
    "    'PCA Origin Weather 1', 'PCA Origin Weather 2',\n",
    "    'PCA Dest Weather 1', 'PCA Dest Weather 2',\n",
    "    'Morning Dep Time', 'Regular Dep Time', 'Night Dep Time',\n",
    "    'Monthly Median Departure Delay',\n",
    "]\n",
    "\n",
    "X_dep = df[dep_delay_features]\n",
    "\n",
    "y_dep = df['Departure Delay']\n",
    "\n",
    "X_train_dep, X_test_dep, y_train_dep, y_test_dep = train_test_split(X_dep, y_dep, test_size=0.3, random_state=123)"
   ]
  },
  {
   "cell_type": "code",
   "execution_count": null,
   "id": "b0da58f1",
   "metadata": {},
   "outputs": [],
   "source": [
    "print(X_dep.shape)\n",
    "print(y_dep.shape)"
   ]
  },
  {
   "cell_type": "code",
   "execution_count": null,
   "id": "85b91ae0",
   "metadata": {},
   "outputs": [],
   "source": [
    "fl_delay_features = [\n",
    "    'Airplane Age', 'Distance', \n",
    "    'Origin Total Operations','Destination Total Operations',\n",
    "    'PCA Origin Weather 1', 'PCA Origin Weather 2',\n",
    "    'PCA Dest Weather 1', 'PCA Dest Weather 2',\n",
    "    'Morning Dep Time', 'Regular Dep Time', 'Night Dep Time',\n",
    "    'Monthly Median Flight Delay',\n",
    "]\n",
    "\n",
    "X_fl = df[fl_delay_features]\n",
    "\n",
    "y_fl = df['Flight Delay']\n",
    "\n",
    "X_train_fl, X_test_fl, y_train_fl, y_test_fl = train_test_split(X_fl, y_fl, test_size=0.3, random_state=123)"
   ]
  },
  {
   "cell_type": "code",
   "execution_count": null,
   "id": "70e2b7f7",
   "metadata": {},
   "outputs": [],
   "source": [
    "print(X_fl.shape)\n",
    "print(y_fl.shape)"
   ]
  },
  {
   "cell_type": "code",
   "execution_count": null,
   "id": "ab9a8c0e",
   "metadata": {},
   "outputs": [],
   "source": [
    "linear = LinearRegression()\n",
    "linear.fit(X_train_dep, y_train_dep)\n",
    "\n",
    "lasso = Lasso(alpha=0.1)\n",
    "lasso.fit(X_train_dep, y_train_dep)\n",
    "\n",
    "gbr = GradientBoostingRegressor(n_estimators=100, learning_rate=0.1, max_depth=1, random_state=123)\n",
    "gbr.fit(X_train_dep, y_train_dep)\n",
    "\n",
    "rfr = RandomForestRegressor(n_estimators=100, max_depth=1, random_state=123)\n",
    "rfr.fit(X_train_dep, y_train_dep)\n",
    "\n",
    "y_pred_linear = linear.predict(X_test_dep)\n",
    "y_pred_lasso = lasso.predict(X_test_dep)\n",
    "y_pred_gbr = gbr.predict(X_test_dep)\n",
    "y_pred_rfr = rfr.predict(X_test_dep)"
   ]
  },
  {
   "cell_type": "code",
   "execution_count": null,
   "id": "a29e3cda",
   "metadata": {},
   "outputs": [],
   "source": [
    "mse_linear = mean_squared_error(y_test_dep, y_pred_linear, squared=False)\n",
    "r2_linear = r2_score(y_test_dep, y_pred_linear)\n",
    "mae_linear = mean_absolute_error(y_test_dep, y_pred_linear)\n",
    "\n",
    "mse_lasso = mean_squared_error(y_test_dep, y_pred_lasso, squared=False)\n",
    "r2_lasso = r2_score(y_test_dep, y_pred_lasso)\n",
    "mae_lasso = mean_absolute_error(y_test_dep, y_pred_lasso)\n",
    "\n",
    "mse_gbr = mean_squared_error(y_test_dep, y_pred_gbr, squared=False)\n",
    "r2_gbr = r2_score(y_test_dep, y_pred_gbr)\n",
    "mae_gbr = mean_absolute_error(y_test_dep, y_pred_gbr)\n",
    "\n",
    "mse_rfr = mean_squared_error(y_test_dep, y_pred_rfr, squared=False)\n",
    "r2_rfr = r2_score(y_test_dep, y_pred_rfr)\n",
    "mae_rfr = mean_absolute_error(y_test_dep, y_pred_rfr)\n",
    "\n",
    "\n",
    "fig = go.Figure()\n",
    "fig.add_trace(go.Bar(x=['Linear Regression', 'Lasso Regression', 'Gradient Boosting Regression', 'Random Forest Regression'],\n",
    "                     y=[mse_linear, mse_lasso, mse_gbr, mse_rfr],\n",
    "                     name='Root Mean Squared Error',\n",
    "                     text=[f'{mse_linear:.5f}', f'{mse_lasso:.5f}', f'{mse_gbr:.5f}', f'{mse_rfr:.5f}'],\n",
    "                     textposition='auto'))\n",
    "fig.add_trace(go.Bar(x=['Linear Regression', 'Lasso Regression', 'Gradient Boosting Regression', 'Random Forest Regression'],\n",
    "                     y=[mae_linear, mae_lasso, mae_gbr, mae_rfr],\n",
    "                     name='Mean Absolute Error',\n",
    "                     text=[f'{mse_linear:.5f}', f'{mse_lasso:.5f}', f'{mse_gbr:.5f}', f'{mse_rfr:.5f}'],\n",
    "                     textposition='auto'))\n",
    "fig.add_trace(go.Bar(x=['Linear Regression', 'Lasso Regression', 'Gradient Boosting Regression', 'Random Forest Regression'],\n",
    "                     y=[r2_linear, r2_lasso, r2_gbr, r2_rfr],\n",
    "                     name='R-squared',\n",
    "                     text=[f'{r2_linear:.5f}', f'{r2_lasso:.5f}', f'{r2_gbr:.5f}', f'{r2_rfr:.5f}'],\n",
    "                     textposition='auto'))\n",
    "fig.update_layout(title='Linear vs Lasso vs Gradient Boosting vs Random Forest Regression Performance Metrics',\n",
    "                  xaxis_title='Regression Model',\n",
    "                  yaxis_title='Value')\n",
    "\n",
    "fig.show()"
   ]
  },
  {
   "cell_type": "code",
   "execution_count": null,
   "id": "92d450c7",
   "metadata": {},
   "outputs": [],
   "source": [
    "# Get the coefficients\n",
    "coef = pd.Series(linear.coef_, index= X_dep.columns)\n",
    "\n",
    "fig = px.bar(coef, x=coef.index, y=coef.values)\n",
    "\n",
    "fig.update_layout(\n",
    "    title='Linear Regression Coefficients',\n",
    "    xaxis_title='Features',\n",
    "    yaxis_title='Coefficient Values'\n",
    ")\n",
    "\n",
    "fig.show()"
   ]
  },
  {
   "cell_type": "code",
   "execution_count": null,
   "id": "18326726",
   "metadata": {},
   "outputs": [],
   "source": []
  },
  {
   "cell_type": "code",
   "execution_count": null,
   "id": "b3e1a306",
   "metadata": {},
   "outputs": [],
   "source": []
  },
  {
   "cell_type": "code",
   "execution_count": null,
   "id": "1eccb192",
   "metadata": {},
   "outputs": [],
   "source": [
    "linear = LinearRegression()\n",
    "linear.fit(X_train_fl, y_train_fl)\n",
    "\n",
    "lasso = Lasso(alpha=0.1)\n",
    "lasso.fit(X_train_fl, y_train_fl)\n",
    "\n",
    "gbr = GradientBoostingRegressor(n_estimators=100, learning_rate=0.1, max_depth=1, random_state=123)\n",
    "gbr.fit(X_train_fl, y_train_fl)\n",
    "\n",
    "rfr = RandomForestRegressor(n_estimators=100, max_depth=1, random_state=123)\n",
    "rfr.fit(X_train_fl, y_train_fl)\n",
    "\n",
    "y_pred_linear = linear.predict(X_test_fl)\n",
    "y_pred_lasso = lasso.predict(X_test_fl)\n",
    "y_pred_gbr = gbr.predict(X_test_fl)\n",
    "y_pred_rfr = rfr.predict(X_test_fl)"
   ]
  },
  {
   "cell_type": "code",
   "execution_count": null,
   "id": "ed7a7c86",
   "metadata": {},
   "outputs": [],
   "source": [
    "mse_linear = mean_squared_error(y_test_fl, y_pred_linear, squared=False)\n",
    "r2_linear = r2_score(y_test_fl, y_pred_linear)\n",
    "mae_linear = mean_absolute_error(y_test_fl, y_pred_linear)\n",
    "\n",
    "mse_lasso = mean_squared_error(y_test_fl, y_pred_lasso, squared=False)\n",
    "r2_lasso = r2_score(y_test_fl, y_pred_lasso)\n",
    "mae_lasso = mean_absolute_error(y_test_fl, y_pred_lasso)\n",
    "\n",
    "mse_gbr = mean_squared_error(y_test_fl, y_pred_gbr, squared=False)\n",
    "r2_gbr = r2_score(y_test_fl, y_pred_gbr)\n",
    "mae_gbr = mean_absolute_error(y_test_fl, y_pred_gbr)\n",
    "\n",
    "mse_rfr = mean_squared_error(y_test_fl, y_pred_rfr, squared=False)\n",
    "r2_rfr = r2_score(y_test_fl, y_pred_rfr)\n",
    "mae_rfr = mean_absolute_error(y_test_fl, y_pred_rfr)\n",
    "\n",
    "\n",
    "fig = go.Figure()\n",
    "fig.add_trace(go.Bar(x=['Linear Regression', 'Lasso Regression', 'Gradient Boosting Regression', 'Random Forest Regression'],\n",
    "                     y=[mse_linear, mse_lasso, mse_gbr, mse_rfr],\n",
    "                     name='Root Mean Squared Error',\n",
    "                     text=[f'{mse_linear:.5f}', f'{mse_lasso:.5f}', f'{mse_gbr:.5f}', f'{mse_rfr:.5f}'],\n",
    "                     textposition='auto'))\n",
    "fig.add_trace(go.Bar(x=['Linear Regression', 'Lasso Regression', 'Gradient Boosting Regression', 'Random Forest Regression'],\n",
    "                     y=[mae_linear, mae_lasso, mae_gbr, mae_rfr],\n",
    "                     name='Mean Absolute Error',\n",
    "                     text=[f'{mse_linear:.5f}', f'{mse_lasso:.5f}', f'{mse_gbr:.5f}', f'{mse_rfr:.5f}'],\n",
    "                     textposition='auto'))\n",
    "fig.add_trace(go.Bar(x=['Linear Regression', 'Lasso Regression', 'Gradient Boosting Regression', 'Random Forest Regression'],\n",
    "                     y=[r2_linear, r2_lasso, r2_gbr, r2_rfr],\n",
    "                     name='R-squared',\n",
    "                     text=[f'{r2_linear:.5f}', f'{r2_lasso:.5f}', f'{r2_gbr:.5f}', f'{r2_rfr:.5f}'],\n",
    "                     textposition='auto'))\n",
    "fig.update_layout(title='Linear vs Lasso vs Gradient Boosting vs Random Forest Regression Performance Metrics',\n",
    "                  xaxis_title='Regression Model',\n",
    "                  yaxis_title='Value')\n",
    "\n",
    "fig.show()"
   ]
  },
  {
   "cell_type": "code",
   "execution_count": null,
   "id": "b7e8ef93",
   "metadata": {},
   "outputs": [],
   "source": [
    "# Get the coefficients\n",
    "coef = pd.Series(linear.coef_, index= X_fl.columns)\n",
    "\n",
    "fig = px.bar(coef, x=coef.index, y=coef.values)\n",
    "\n",
    "fig.update_layout(\n",
    "    title='Linear Regression Coefficients',\n",
    "    xaxis_title='Features',\n",
    "    yaxis_title='Coefficient Values'\n",
    ")\n",
    "\n",
    "fig.show()"
   ]
  },
  {
   "cell_type": "code",
   "execution_count": null,
   "id": "43e7e3ca",
   "metadata": {},
   "outputs": [],
   "source": []
  },
  {
   "cell_type": "code",
   "execution_count": null,
   "id": "d47587d5",
   "metadata": {},
   "outputs": [],
   "source": []
  },
  {
   "cell_type": "code",
   "execution_count": null,
   "id": "87f3a7e6",
   "metadata": {},
   "outputs": [],
   "source": []
  },
  {
   "cell_type": "markdown",
   "id": "ac78e19d",
   "metadata": {},
   "source": [
    "# Classification Models"
   ]
  },
  {
   "cell_type": "code",
   "execution_count": null,
   "id": "3e968ba4",
   "metadata": {},
   "outputs": [],
   "source": [
    "dep_delay_features = [\n",
    "    'Airplane Age', 'Distance', \n",
    "    'Origin Total Operations','Destination Total Operations',\n",
    "    'PCA Origin Weather 1', 'PCA Origin Weather 2',\n",
    "    'Morning Dep Time', 'Regular Dep Time', 'Night Dep Time',\n",
    "    'Monthly Median Departure Delay', 'Monthly Mode Flight Delay Class',\n",
    "]\n",
    "\n",
    "X_dep = df[dep_delay_features]\n",
    "\n",
    "y_dep = df['Classified Departure Delay']\n",
    "\n",
    "X_train_dep, X_test_dep, y_train_dep, y_test_dep = train_test_split(X_dep, y_dep, test_size=0.3, random_state=123)"
   ]
  },
  {
   "cell_type": "code",
   "execution_count": null,
   "id": "08daae9b",
   "metadata": {},
   "outputs": [],
   "source": [
    "smote = SMOTE()\n",
    "\n",
    "X_train_dep, y_train_dep, = smote.fit_resample(X_train_dep, y_train_dep)"
   ]
  },
  {
   "cell_type": "code",
   "execution_count": null,
   "id": "d5e1f22f",
   "metadata": {},
   "outputs": [],
   "source": [
    "fl_delay_features = [\n",
    "    'Airplane Age', 'Distance', \n",
    "    'Origin Total Operations','Destination Total Operations',\n",
    "    'PCA Origin Weather 1', 'PCA Origin Weather 2',\n",
    "    'PCA Dest Weather 1', 'PCA Dest Weather 2',\n",
    "    'Morning Dep Time', 'Regular Dep Time', 'Night Dep Time',\n",
    "    'Monthly Median Flight Delay', 'Monthly Mode Flight Delay Class',\n",
    "]\n",
    "\n",
    "X_fl = df[fl_delay_features]\n",
    "\n",
    "y_fl = df['Classified Flight Delay']\n",
    "\n",
    "X_train_fl, X_test_fl, y_train_fl, y_test_fl = train_test_split(X_fl, y_fl, test_size=0.3, random_state=123)"
   ]
  },
  {
   "cell_type": "code",
   "execution_count": null,
   "id": "ba065727",
   "metadata": {},
   "outputs": [],
   "source": [
    "smote = SMOTE()\n",
    "\n",
    "X_train_fl, y_train_fl = smote.fit_resample(X_train_fl, y_train_fl)"
   ]
  },
  {
   "cell_type": "code",
   "execution_count": null,
   "id": "624cc4b9",
   "metadata": {},
   "outputs": [],
   "source": [
    "lr = LogisticRegression(max_iter=300, random_state=42)\n",
    "lr.fit(X_train_dep, y_train_dep)\n",
    "\n",
    "rfc = RandomForestClassifier(n_estimators = 10, criterion = 'entropy', random_state = 42)\n",
    "rfc.fit(X_train_dep, y_train_dep)\n",
    "\n",
    "y_pred_lr = lr.predict(X_test_dep)\n",
    "y_pred_rfc = rfc.predict(X_test_dep)"
   ]
  },
  {
   "cell_type": "code",
   "execution_count": null,
   "id": "0a4eb628",
   "metadata": {},
   "outputs": [],
   "source": [
    "lr_acc = accuracy_score(y_test_dep, y_pred_lr)\n",
    "rfc_acc = accuracy_score(y_test_dep, y_pred_rfc)\n",
    "\n",
    "lr_prec = precision_score(y_test_dep, y_pred_lr)\n",
    "rfc_prec = precision_score(y_test_dep, y_pred_rfc)\n",
    "\n",
    "lr_rec = recall_score(y_test_dep, y_pred_lr)\n",
    "rfc_rec = recall_score(y_test_dep, y_pred_rfc)\n",
    "\n",
    "lr_f1 = f1_score(y_test_dep, y_pred_lr)\n",
    "rfc_f1 = f1_score(y_test_dep, y_pred_rfc)\n",
    "\n",
    "print(\"LR Accuracy:\", lr_acc)\n",
    "print(\"RFC Accuracy:\", rfc_acc)\n",
    "\n",
    "print(\"LR Precision:\", lr_prec)\n",
    "print(\"RFC Precision:\", rfc_prec)\n",
    "\n",
    "print(\"LR Recall:\", lr_rec)\n",
    "print(\"RFC Recall:\", rfc_rec)\n",
    "\n",
    "print(\"LR F1:\", lr_f1)\n",
    "print(\"RFC F1:\", rfc_f1)"
   ]
  },
  {
   "cell_type": "code",
   "execution_count": null,
   "id": "d36bf57f",
   "metadata": {},
   "outputs": [],
   "source": [
    "rfc_cm = confusion_matrix(y_test_dep, y_pred_rfc)\n",
    "rfc_cm"
   ]
  },
  {
   "cell_type": "code",
   "execution_count": null,
   "id": "443d63da",
   "metadata": {},
   "outputs": [],
   "source": [
    "fig = go.Figure(data=[go.Heatmap(z=rfc_cm, x=['class ' + str(i+1) for i in range(len(rfc_cm))],\n",
    "                                  y=['class ' + str(i+1) for i in range(len(rfc_cm))],\n",
    "                                  colorscale='viridis')])\n",
    "fig.update_layout(title='Confusion Matrix', xaxis_title='Predicted outputs', yaxis_title='Actual outputs')\n",
    "fig.show()"
   ]
  },
  {
   "cell_type": "code",
   "execution_count": null,
   "id": "1b7a11e5",
   "metadata": {},
   "outputs": [],
   "source": [
    "kappa = cohen_kappa_score(y_test_dep, y_pred_rfc, weights='quadratic')\n",
    "\n",
    "fig = go.Figure(go.Indicator(\n",
    "    mode = \"number\",\n",
    "    value = kappa,\n",
    "    title = {\"text\": \"Cohen's kappa score\"},\n",
    "    domain = {'x': [0, 1], 'y': [0, 1]},\n",
    "    ))\n",
    "fig.show()"
   ]
  },
  {
   "cell_type": "code",
   "execution_count": null,
   "id": "f5dbda2a",
   "metadata": {},
   "outputs": [],
   "source": []
  },
  {
   "cell_type": "code",
   "execution_count": null,
   "id": "080fbc16",
   "metadata": {},
   "outputs": [],
   "source": []
  },
  {
   "cell_type": "code",
   "execution_count": null,
   "id": "1bd4f18f",
   "metadata": {},
   "outputs": [],
   "source": [
    "lr = LogisticRegression(max_iter=300, random_state=42)\n",
    "lr.fit(X_train_fl, y_train_fl)\n",
    "\n",
    "rfc = RandomForestClassifier(n_estimators = 10, criterion = 'entropy', random_state = 42)\n",
    "rfc.fit(X_train_fl, y_train_fl)\n",
    "\n",
    "y_pred_lr = lr.predict(X_test_fl)\n",
    "y_pred_rfc = rfc.predict(X_test_fl)"
   ]
  },
  {
   "cell_type": "code",
   "execution_count": null,
   "id": "062d3503",
   "metadata": {},
   "outputs": [],
   "source": [
    "lr_acc = accuracy_score(y_test_fl, y_pred_lr)\n",
    "rfc_acc = accuracy_score(y_test_fl, y_pred_rfc)\n",
    "\n",
    "lr_prec = precision_score(y_test_fl, y_pred_lr)\n",
    "rfc_prec = precision_score(y_test_fl, y_pred_rfc)\n",
    "\n",
    "lr_rec = recall_score(y_test_fl, y_pred_lr)\n",
    "rfc_rec = recall_score(y_test_fl, y_pred_rfc)\n",
    "\n",
    "lr_f1 = f1_score(y_test_fl, y_pred_lr)\n",
    "rfc_f1 = f1_score(y_test_fl, y_pred_rfc)\n",
    "\n",
    "print(\"LR Accuracy:\", lr_acc)\n",
    "print(\"RFC Accuracy:\", rfc_acc)\n",
    "\n",
    "print(\"LR Precision:\", lr_prec)\n",
    "print(\"RFC Precision:\", rfc_prec)\n",
    "\n",
    "print(\"LR Recall:\", lr_rec)\n",
    "print(\"RFC Recall:\", rfc_rec)\n",
    "\n",
    "print(\"LR F1:\", lr_f1)\n",
    "print(\"RFC F1:\", rfc_f1)"
   ]
  },
  {
   "cell_type": "code",
   "execution_count": null,
   "id": "c7d11024",
   "metadata": {},
   "outputs": [],
   "source": [
    "rfc_cm = confusion_matrix(y_test_fl, y_pred_rfc)\n",
    "rfc_cm"
   ]
  },
  {
   "cell_type": "code",
   "execution_count": null,
   "id": "77425b5d",
   "metadata": {},
   "outputs": [],
   "source": [
    "fig = go.Figure(data=[go.Heatmap(z=rfc_cm, x=['class ' + str(i+1) for i in range(len(rfc_cm))],\n",
    "                                  y=['class ' + str(i+1) for i in range(len(rfc_cm))],\n",
    "                                  colorscale='viridis')])\n",
    "fig.update_layout(title='Confusion Matrix', xaxis_title='Predicted outputs', yaxis_title='Actual outputs')\n",
    "fig.show()"
   ]
  },
  {
   "cell_type": "code",
   "execution_count": null,
   "id": "1ebd70da",
   "metadata": {},
   "outputs": [],
   "source": [
    "kappa = cohen_kappa_score(y_test_fl, y_pred_rfc, weights='quadratic')\n",
    "\n",
    "fig = go.Figure(go.Indicator(\n",
    "    mode = \"number\",\n",
    "    value = kappa,\n",
    "    title = {\"text\": \"Cohen's kappa score\"},\n",
    "    domain = {'x': [0, 1], 'y': [0, 1]},\n",
    "    ))\n",
    "fig.show()"
   ]
  },
  {
   "cell_type": "code",
   "execution_count": null,
   "id": "a9da8bcd",
   "metadata": {},
   "outputs": [],
   "source": []
  },
  {
   "cell_type": "code",
   "execution_count": null,
   "id": "09daa9ca",
   "metadata": {},
   "outputs": [],
   "source": []
  },
  {
   "cell_type": "code",
   "execution_count": null,
   "id": "c2b3da2b",
   "metadata": {},
   "outputs": [],
   "source": []
  },
  {
   "cell_type": "markdown",
   "id": "4e8282e2",
   "metadata": {},
   "source": [
    "# Neural Networks"
   ]
  },
  {
   "cell_type": "code",
   "execution_count": null,
   "id": "a44da8e9",
   "metadata": {},
   "outputs": [],
   "source": []
  },
  {
   "cell_type": "code",
   "execution_count": null,
   "id": "ac00db44",
   "metadata": {},
   "outputs": [],
   "source": [
    "fl_delay_features = [\n",
    "    'Airplane Age', 'Distance', \n",
    "    'Origin Total Operations','Destination Total Operations',\n",
    "    'PCA Origin Weather 1', 'PCA Origin Weather 2',\n",
    "    'PCA Dest Weather 1', 'PCA Dest Weather 2',\n",
    "    'Morning Dep Time', 'Regular Dep Time', 'Night Dep Time',\n",
    "    'Monthly Median Flight Delay', 'Monthly Mode Flight Delay Class',\n",
    "]\n",
    "\n",
    "X_fl = df[fl_delay_features]\n",
    "\n",
    "y_fl = df['Classified Flight Delay']\n",
    "\n",
    "X_train_fl, X_test_fl, y_train_fl, y_test_fl = train_test_split(X_fl, y_fl, test_size=0.3, random_state=123)"
   ]
  },
  {
   "cell_type": "code",
   "execution_count": null,
   "id": "1a95bae2",
   "metadata": {},
   "outputs": [],
   "source": [
    "y_fl.value_counts()"
   ]
  },
  {
   "cell_type": "code",
   "execution_count": null,
   "id": "cee4a50d",
   "metadata": {},
   "outputs": [],
   "source": [
    "y_train_arr = y_train_fl.to_numpy()\n",
    "y_test_arr = y_test_fl.to_numpy()\n",
    "y_train = to_categorical(y_train_arr, 3)\n",
    "y_test = to_categorical(y_test_arr, 3)"
   ]
  },
  {
   "cell_type": "code",
   "execution_count": null,
   "id": "53078b1a",
   "metadata": {},
   "outputs": [],
   "source": []
  },
  {
   "cell_type": "code",
   "execution_count": null,
   "id": "c63b4da8",
   "metadata": {},
   "outputs": [],
   "source": []
  },
  {
   "cell_type": "code",
   "execution_count": null,
   "id": "86ee5ca0",
   "metadata": {},
   "outputs": [],
   "source": [
    "model = Sequential()\n",
    "model.add(Dense(32, input_dim=len(fl_delay_features)))\n",
    "model.add(Activation('relu'))\n",
    "model.add(Dense(3))\n",
    "model.add(Activation('softmax'))"
   ]
  },
  {
   "cell_type": "code",
   "execution_count": null,
   "id": "7370e41d",
   "metadata": {},
   "outputs": [],
   "source": [
    "model.compile(loss='categorical_crossentropy', optimizer='adam', metrics=['accuracy'])"
   ]
  },
  {
   "cell_type": "code",
   "execution_count": null,
   "id": "7b971f2c",
   "metadata": {},
   "outputs": [],
   "source": [
    "model.fit(X_train_fl, y_train, epochs=10, batch_size=32, validation_split=0.2)"
   ]
  },
  {
   "cell_type": "code",
   "execution_count": null,
   "id": "3f1e93fb",
   "metadata": {},
   "outputs": [],
   "source": [
    "y_pred = np.argmax(model.predict(X_test_fl), axis=-1)"
   ]
  },
  {
   "cell_type": "code",
   "execution_count": null,
   "id": "5bacb5c5",
   "metadata": {},
   "outputs": [],
   "source": [
    "y_test = np.argmax(y_test, axis=-1)"
   ]
  },
  {
   "cell_type": "code",
   "execution_count": null,
   "id": "b1d43239",
   "metadata": {},
   "outputs": [],
   "source": [
    "acc = accuracy_score(y_test, y_pred)\n",
    "prec = precision_score(y_test, y_pred, average=None)\n",
    "rec = recall_score(y_test, y_pred, average=None)\n",
    "f1 = f1_score(y_test, y_pred, average=None)\n",
    "\n",
    "print(\"Accuracy:\", acc)\n",
    "for i in range(3):  \n",
    "    print(f\"Class {i} Precision: {prec[i]}\")\n",
    "    print(f\"Class {i} Recall: {rec[i]}\")\n",
    "    print(f\"Class {i} F1: {f1[i]}\")\n",
    "    print()"
   ]
  },
  {
   "cell_type": "code",
   "execution_count": null,
   "id": "7887f998",
   "metadata": {},
   "outputs": [],
   "source": []
  },
  {
   "cell_type": "code",
   "execution_count": null,
   "id": "b225ac2e",
   "metadata": {},
   "outputs": [],
   "source": [
    "smote = SMOTE()\n",
    "\n",
    "X_train_resampled, y_train_resampled = smote.fit_resample(X_train_fl, y_train_fl)\n",
    "\n",
    "y_train_arr_resampled = y_train_resampled.to_numpy()\n",
    "\n",
    "y_train_resampled = to_categorical(y_train_arr_resampled, 3)"
   ]
  },
  {
   "cell_type": "code",
   "execution_count": null,
   "id": "fa0716d8",
   "metadata": {},
   "outputs": [],
   "source": [
    "model = Sequential()\n",
    "model.add(Dense(32, input_dim=len(fl_delay_features)))\n",
    "model.add(Activation('relu'))\n",
    "model.add(Dense(3))\n",
    "model.add(Activation('softmax'))\n",
    "\n",
    "model.compile(loss='categorical_crossentropy', optimizer='adam', metrics=['accuracy'])\n",
    "\n",
    "model.fit(X_train_resampled, y_train_resampled, epochs=10, batch_size=32, validation_split=0.2)"
   ]
  },
  {
   "cell_type": "code",
   "execution_count": null,
   "id": "177a3436",
   "metadata": {},
   "outputs": [],
   "source": [
    "y_pred = np.argmax(model.predict(X_test_fl), axis=-1)\n",
    "y_test = to_categorical(y_test_arr, 3)\n",
    "y_test = np.argmax(y_test, axis=-1)"
   ]
  },
  {
   "cell_type": "code",
   "execution_count": null,
   "id": "7023b1c0",
   "metadata": {},
   "outputs": [],
   "source": [
    "acc = accuracy_score(y_test, y_pred)\n",
    "prec = precision_score(y_test, y_pred, average=None)\n",
    "rec = recall_score(y_test, y_pred, average=None)\n",
    "f1 = f1_score(y_test, y_pred, average=None)\n",
    "\n",
    "print(\"Accuracy:\", acc)\n",
    "for i in range(3):  \n",
    "    print(f\"Class {i} Precision: {prec[i]}\")\n",
    "    print(f\"Class {i} Recall: {rec[i]}\")\n",
    "    print(f\"Class {i} F1: {f1[i]}\")\n",
    "    print()"
   ]
  },
  {
   "cell_type": "code",
   "execution_count": null,
   "id": "cb2f0d9c",
   "metadata": {},
   "outputs": [],
   "source": []
  },
  {
   "cell_type": "code",
   "execution_count": null,
   "id": "1030b446",
   "metadata": {},
   "outputs": [],
   "source": []
  },
  {
   "cell_type": "code",
   "execution_count": null,
   "id": "5fb582fc",
   "metadata": {},
   "outputs": [],
   "source": []
  }
 ],
 "metadata": {
  "kernelspec": {
   "display_name": "Python 3 (ipykernel)",
   "language": "python",
   "name": "python3"
  },
  "language_info": {
   "codemirror_mode": {
    "name": "ipython",
    "version": 3
   },
   "file_extension": ".py",
   "mimetype": "text/x-python",
   "name": "python",
   "nbconvert_exporter": "python",
   "pygments_lexer": "ipython3",
   "version": "3.7.4"
  }
 },
 "nbformat": 4,
 "nbformat_minor": 5
}
