{
 "cells": [
  {
   "cell_type": "code",
   "execution_count": null,
   "id": "6745e448",
   "metadata": {
    "scrolled": true
   },
   "outputs": [],
   "source": [
    "import pandas as pd\n",
    "import numpy as np\n",
    "import plotly.express as px\n",
    "import plotly.graph_objects as go\n",
    "\n",
    "from sklearn.model_selection import train_test_split\n",
    "\n",
    "from imblearn.over_sampling import SMOTE"
   ]
  },
  {
   "cell_type": "code",
   "execution_count": null,
   "id": "35525b26",
   "metadata": {
    "scrolled": true
   },
   "outputs": [],
   "source": [
    "# Regression Models\n",
    "from sklearn.linear_model import LinearRegression, Lasso\n",
    "from sklearn.ensemble import GradientBoostingRegressor, RandomForestRegressor\n",
    "\n",
    "# Classification Models\n",
    "from sklearn.linear_model import LogisticRegression\n",
    "from sklearn.ensemble import RandomForestClassifier\n",
    "from catboost import CatBoostClassifier, Pool\n",
    "import xgboost as xgb\n",
    "\n",
    "# ANN\n",
    "from keras.models import Sequential\n",
    "from keras.layers import Dense, Activation\n",
    "from keras.utils import to_categorical\n",
    "\n",
    "# Regression Metrics\n",
    "from sklearn.metrics import mean_squared_error, r2_score, mean_absolute_error\n",
    "\n",
    "# Classification Metrics\n",
    "from sklearn.metrics import cohen_kappa_score, confusion_matrix, roc_curve, auc\n",
    "from sklearn.metrics import accuracy_score, precision_score, recall_score, f1_score\n",
    "from sklearn.metrics import precision_recall_fscore_support"
   ]
  },
  {
   "cell_type": "code",
   "execution_count": null,
   "id": "13e79917",
   "metadata": {
    "scrolled": true
   },
   "outputs": [],
   "source": [
    "# !pip3 install --upgrade plotly"
   ]
  },
  {
   "cell_type": "code",
   "execution_count": null,
   "id": "9ccfefe4",
   "metadata": {
    "scrolled": true
   },
   "outputs": [],
   "source": [
    "df = pd.read_csv(\"../eda/model_2018.csv\")"
   ]
  },
  {
   "cell_type": "code",
   "execution_count": null,
   "id": "7a283c81",
   "metadata": {
    "scrolled": true
   },
   "outputs": [],
   "source": [
    "print(df.shape)\n",
    "df.head()"
   ]
  },
  {
   "cell_type": "code",
   "execution_count": null,
   "id": "c6038f02",
   "metadata": {},
   "outputs": [],
   "source": [
    "df.isnull().sum()"
   ]
  },
  {
   "cell_type": "code",
   "execution_count": null,
   "id": "0b6c3d52",
   "metadata": {},
   "outputs": [],
   "source": [
    "df.columns"
   ]
  },
  {
   "cell_type": "code",
   "execution_count": null,
   "id": "b67a1fde",
   "metadata": {},
   "outputs": [],
   "source": []
  },
  {
   "cell_type": "markdown",
   "id": "705d92c6",
   "metadata": {},
   "source": [
    "# Regression Models"
   ]
  },
  {
   "cell_type": "code",
   "execution_count": null,
   "id": "6ce40f44",
   "metadata": {
    "scrolled": true
   },
   "outputs": [],
   "source": [
    "dep_delay_features = [\n",
    "    'Weather Code Intensity', 'Month', 'Irregular Departure Time',\n",
    "    'Is Holiday', 'Is Labour Day', 'Is Xmas', 'Departure Delay',\n",
    "    'Origin Precipitation', 'Origin Windspeed',\n",
    "    'Monthly Median Departure Delay', 'Airplane Age',\n",
    "    'Origin Total Operations',\n",
    "]\n",
    "\n",
    "X_dep = df[dep_delay_features]\n",
    "\n",
    "y_dep = df['Departure Delay']\n",
    "\n",
    "X_train_dep, X_test_dep, y_train_dep, y_test_dep = train_test_split(X_dep, y_dep, test_size=0.3, random_state=123)"
   ]
  },
  {
   "cell_type": "code",
   "execution_count": null,
   "id": "b0da58f1",
   "metadata": {
    "scrolled": true
   },
   "outputs": [],
   "source": [
    "print(X_dep.shape)\n",
    "print(y_dep.shape)"
   ]
  },
  {
   "cell_type": "code",
   "execution_count": null,
   "id": "85b91ae0",
   "metadata": {
    "scrolled": true
   },
   "outputs": [],
   "source": [
    "linear = LinearRegression()\n",
    "linear.fit(X_train_dep, y_train_dep)\n",
    "\n",
    "lasso = Lasso(alpha=0.1)\n",
    "lasso.fit(X_train_dep, y_train_dep)\n",
    "\n",
    "gbr = GradientBoostingRegressor(n_estimators=100, learning_rate=0.1, max_depth=1, random_state=123)\n",
    "gbr.fit(X_train_dep, y_train_dep)\n",
    "\n",
    "rfr = RandomForestRegressor(n_estimators=100, max_depth=1, random_state=123)\n",
    "rfr.fit(X_train_dep, y_train_dep)\n",
    "\n",
    "y_pred_linear = linear.predict(X_test_dep)\n",
    "y_pred_lasso = lasso.predict(X_test_dep)\n",
    "y_pred_gbr = gbr.predict(X_test_dep)\n",
    "y_pred_rfr = rfr.predict(X_test_dep)"
   ]
  },
  {
   "cell_type": "code",
   "execution_count": null,
   "id": "70e2b7f7",
   "metadata": {
    "scrolled": true
   },
   "outputs": [],
   "source": [
    "mse_linear = mean_squared_error(y_test_dep, y_pred_linear, squared=False)\n",
    "r2_linear = r2_score(y_test_dep, y_pred_linear)\n",
    "mae_linear = mean_absolute_error(y_test_dep, y_pred_linear)\n",
    "\n",
    "mse_lasso = mean_squared_error(y_test_dep, y_pred_lasso, squared=False)\n",
    "r2_lasso = r2_score(y_test_dep, y_pred_lasso)\n",
    "mae_lasso = mean_absolute_error(y_test_dep, y_pred_lasso)\n",
    "\n",
    "mse_gbr = mean_squared_error(y_test_dep, y_pred_gbr, squared=False)\n",
    "r2_gbr = r2_score(y_test_dep, y_pred_gbr)\n",
    "mae_gbr = mean_absolute_error(y_test_dep, y_pred_gbr)\n",
    "\n",
    "mse_rfr = mean_squared_error(y_test_dep, y_pred_rfr, squared=False)\n",
    "r2_rfr = r2_score(y_test_dep, y_pred_rfr)\n",
    "mae_rfr = mean_absolute_error(y_test_dep, y_pred_rfr)\n",
    "\n",
    "\n",
    "fig = go.Figure()\n",
    "fig.add_trace(go.Bar(x=['Linear Regression', 'Lasso Regression', 'Gradient Boosting Regression', 'Random Forest Regression'],\n",
    "                     y=[mse_linear, mse_lasso, mse_gbr, mse_rfr],\n",
    "                     name='Root Mean Squared Error',\n",
    "                     text=[f'{mse_linear:.5f}', f'{mse_lasso:.5f}', f'{mse_gbr:.5f}', f'{mse_rfr:.5f}'],\n",
    "                     textposition='auto'))\n",
    "fig.add_trace(go.Bar(x=['Linear Regression', 'Lasso Regression', 'Gradient Boosting Regression', 'Random Forest Regression'],\n",
    "                     y=[mae_linear, mae_lasso, mae_gbr, mae_rfr],\n",
    "                     name='Mean Absolute Error',\n",
    "                     text=[f'{mse_linear:.5f}', f'{mse_lasso:.5f}', f'{mse_gbr:.5f}', f'{mse_rfr:.5f}'],\n",
    "                     textposition='auto'))\n",
    "fig.add_trace(go.Bar(x=['Linear Regression', 'Lasso Regression', 'Gradient Boosting Regression', 'Random Forest Regression'],\n",
    "                     y=[r2_linear, r2_lasso, r2_gbr, r2_rfr],\n",
    "                     name='R-squared',\n",
    "                     text=[f'{r2_linear:.5f}', f'{r2_lasso:.5f}', f'{r2_gbr:.5f}', f'{r2_rfr:.5f}'],\n",
    "                     textposition='auto'))\n",
    "fig.update_layout(title='Linear vs Lasso vs Gradient Boosting vs Random Forest Regression Performance Metrics',\n",
    "                  xaxis_title='Regression Model',\n",
    "                  yaxis_title='Value')\n",
    "\n",
    "fig.show()"
   ]
  },
  {
   "cell_type": "code",
   "execution_count": null,
   "id": "ab9a8c0e",
   "metadata": {
    "scrolled": true
   },
   "outputs": [],
   "source": []
  },
  {
   "cell_type": "code",
   "execution_count": null,
   "id": "a29e3cda",
   "metadata": {
    "scrolled": true
   },
   "outputs": [],
   "source": []
  },
  {
   "cell_type": "code",
   "execution_count": null,
   "id": "92d450c7",
   "metadata": {
    "scrolled": true
   },
   "outputs": [],
   "source": [
    "# Get the coefficients\n",
    "coef = pd.Series(linear.coef_, index= X_dep.columns)\n",
    "\n",
    "fig = px.bar(coef, x=coef.index, y=coef.values)\n",
    "\n",
    "fig.update_layout(\n",
    "    title='Linear Regression Coefficients',\n",
    "    xaxis_title='Features',\n",
    "    yaxis_title='Coefficient Values'\n",
    ")\n",
    "\n",
    "fig.show()"
   ]
  },
  {
   "cell_type": "code",
   "execution_count": null,
   "id": "18326726",
   "metadata": {
    "scrolled": true
   },
   "outputs": [],
   "source": []
  },
  {
   "cell_type": "code",
   "execution_count": null,
   "id": "b3e1a306",
   "metadata": {
    "scrolled": true
   },
   "outputs": [],
   "source": []
  },
  {
   "cell_type": "code",
   "execution_count": null,
   "id": "1eccb192",
   "metadata": {
    "scrolled": true
   },
   "outputs": [],
   "source": []
  },
  {
   "cell_type": "code",
   "execution_count": null,
   "id": "ed7a7c86",
   "metadata": {
    "scrolled": true
   },
   "outputs": [],
   "source": []
  },
  {
   "cell_type": "code",
   "execution_count": null,
   "id": "b7e8ef93",
   "metadata": {
    "scrolled": true
   },
   "outputs": [],
   "source": []
  },
  {
   "cell_type": "code",
   "execution_count": null,
   "id": "43e7e3ca",
   "metadata": {
    "scrolled": true
   },
   "outputs": [],
   "source": []
  },
  {
   "cell_type": "code",
   "execution_count": null,
   "id": "d47587d5",
   "metadata": {
    "scrolled": true
   },
   "outputs": [],
   "source": []
  },
  {
   "cell_type": "code",
   "execution_count": null,
   "id": "87f3a7e6",
   "metadata": {
    "scrolled": true
   },
   "outputs": [],
   "source": []
  },
  {
   "cell_type": "markdown",
   "id": "ac78e19d",
   "metadata": {},
   "source": [
    "# Classification Models"
   ]
  },
  {
   "cell_type": "code",
   "execution_count": null,
   "id": "3e968ba4",
   "metadata": {
    "scrolled": true
   },
   "outputs": [],
   "source": [
    "dep_delay_features = [\n",
    "    'Weather Code Intensity', 'Month', 'Irregular Departure Time',\n",
    "    'Is Holiday', 'Is Labour Day', 'Is Xmas', 'Departure Delay',\n",
    "    'Origin Precipitation', 'Origin Windspeed',\n",
    "    'Monthly Median Departure Delay', 'Airplane Age',\n",
    "    'Origin Total Operations',\n",
    "]\n",
    "\n",
    "X_dep = df[dep_delay_features]\n",
    "\n",
    "y_dep = df['Classified Departure Delay (5)']\n",
    "\n",
    "y_dep_equal = df['Classified Departure Delay (5 Equal)']\n",
    "\n",
    "X_train_dep, X_test_dep, y_train_dep, y_test_dep = train_test_split(X_dep, y_dep, test_size=0.3, random_state=123)\n",
    "\n",
    "X_train_dep_eq, X_test_dep_eq, y_train_dep_eq, y_test_dep_eq = train_test_split(X_dep, y_dep_equal, test_size=0.3, random_state=123)"
   ]
  },
  {
   "cell_type": "code",
   "execution_count": null,
   "id": "08daae9b",
   "metadata": {
    "scrolled": true
   },
   "outputs": [],
   "source": []
  },
  {
   "cell_type": "markdown",
   "id": "f0216690",
   "metadata": {},
   "source": [
    "## Using SMOTE"
   ]
  },
  {
   "cell_type": "code",
   "execution_count": null,
   "id": "ba065727",
   "metadata": {
    "scrolled": true
   },
   "outputs": [],
   "source": [
    "smote = SMOTE()\n",
    "\n",
    "X_train_dep, y_train_dep, = smote.fit_resample(X_train_dep, y_train_dep)"
   ]
  },
  {
   "cell_type": "code",
   "execution_count": null,
   "id": "624cc4b9",
   "metadata": {
    "scrolled": true
   },
   "outputs": [],
   "source": [
    "lr = LogisticRegression(max_iter=300, random_state=42)\n",
    "lr.fit(X_train_dep, y_train_dep)\n",
    "\n",
    "rfc = RandomForestClassifier(n_estimators = 10, criterion = 'entropy', random_state = 42)\n",
    "rfc.fit(X_train_dep, y_train_dep)\n",
    "\n",
    "y_pred_lr = lr.predict(X_test_dep)\n",
    "y_pred_rfc = rfc.predict(X_test_dep)"
   ]
  },
  {
   "cell_type": "code",
   "execution_count": null,
   "id": "0a4eb628",
   "metadata": {
    "scrolled": true
   },
   "outputs": [],
   "source": [
    "lr_acc = accuracy_score(y_test_dep, y_pred_lr)\n",
    "rfc_acc = accuracy_score(y_test_dep, y_pred_rfc)\n",
    "\n",
    "lr_prec = precision_score(y_test_dep, y_pred_lr, average=None)\n",
    "rfc_prec = precision_score(y_test_dep, y_pred_rfc, average=None)\n",
    "\n",
    "lr_rec = recall_score(y_test_dep, y_pred_lr, average=None)\n",
    "rfc_rec = recall_score(y_test_dep, y_pred_rfc, average=None)\n",
    "\n",
    "lr_f1 = f1_score(y_test_dep, y_pred_lr, average=None)\n",
    "rfc_f1 = f1_score(y_test_dep, y_pred_rfc, average=None)\n",
    "\n",
    "print(\"LR Accuracy:\", lr_acc)\n",
    "print(\"RFC Accuracy:\", rfc_acc)\n",
    "print()\n",
    "print(\"LR Precision:\", lr_prec)\n",
    "print(\"RFC Precision:\", rfc_prec)\n",
    "print()\n",
    "print(\"LR Recall:\", lr_rec)\n",
    "print(\"RFC Recall:\", rfc_rec)\n",
    "print()\n",
    "print(\"LR F1:\", lr_f1)\n",
    "print(\"RFC F1:\", rfc_f1)"
   ]
  },
  {
   "cell_type": "code",
   "execution_count": null,
   "id": "d36bf57f",
   "metadata": {
    "scrolled": true
   },
   "outputs": [],
   "source": [
    "rfc_cm = confusion_matrix(y_test_dep, y_pred_rfc)\n",
    "rfc_cm"
   ]
  },
  {
   "cell_type": "code",
   "execution_count": null,
   "id": "443d63da",
   "metadata": {
    "scrolled": true
   },
   "outputs": [],
   "source": [
    "fig = go.Figure(data=[go.Heatmap(z=rfc_cm, x=['class ' + str(i) for i in range(len(rfc_cm))],\n",
    "                                  y=['class ' + str(i) for i in range(len(rfc_cm))],\n",
    "                                  colorscale='viridis')])\n",
    "fig.update_layout(title='Confusion Matrix', xaxis_title='Predicted outputs', yaxis_title='Actual outputs')\n",
    "fig.show()"
   ]
  },
  {
   "cell_type": "code",
   "execution_count": null,
   "id": "1b7a11e5",
   "metadata": {
    "scrolled": true
   },
   "outputs": [],
   "source": [
    "kappa = cohen_kappa_score(y_test_dep, y_pred_rfc, weights='quadratic')\n",
    "\n",
    "fig = go.Figure(go.Indicator(\n",
    "    mode = \"number\",\n",
    "    value = kappa,\n",
    "    title = {\"text\": \"Cohen's kappa score\"},\n",
    "    domain = {'x': [0, 1], 'y': [0, 1]},\n",
    "    ))\n",
    "fig.show()"
   ]
  },
  {
   "cell_type": "code",
   "execution_count": null,
   "id": "f5dbda2a",
   "metadata": {
    "scrolled": true
   },
   "outputs": [],
   "source": []
  },
  {
   "cell_type": "code",
   "execution_count": null,
   "id": "080fbc16",
   "metadata": {
    "scrolled": true
   },
   "outputs": [],
   "source": []
  },
  {
   "cell_type": "code",
   "execution_count": null,
   "id": "2052d215",
   "metadata": {
    "scrolled": true
   },
   "outputs": [],
   "source": []
  },
  {
   "cell_type": "code",
   "execution_count": null,
   "id": "062d3503",
   "metadata": {
    "scrolled": true
   },
   "outputs": [],
   "source": []
  },
  {
   "cell_type": "code",
   "execution_count": null,
   "id": "c7d11024",
   "metadata": {
    "scrolled": true
   },
   "outputs": [],
   "source": []
  },
  {
   "cell_type": "code",
   "execution_count": null,
   "id": "77425b5d",
   "metadata": {
    "scrolled": true
   },
   "outputs": [],
   "source": []
  },
  {
   "cell_type": "code",
   "execution_count": null,
   "id": "1ebd70da",
   "metadata": {
    "scrolled": true
   },
   "outputs": [],
   "source": []
  },
  {
   "cell_type": "code",
   "execution_count": null,
   "id": "a9da8bcd",
   "metadata": {
    "scrolled": true
   },
   "outputs": [],
   "source": []
  },
  {
   "cell_type": "code",
   "execution_count": null,
   "id": "09daa9ca",
   "metadata": {
    "scrolled": true
   },
   "outputs": [],
   "source": []
  },
  {
   "cell_type": "code",
   "execution_count": null,
   "id": "c2b3da2b",
   "metadata": {
    "scrolled": true
   },
   "outputs": [],
   "source": []
  },
  {
   "cell_type": "code",
   "execution_count": null,
   "id": "a0f371e0",
   "metadata": {
    "scrolled": true
   },
   "outputs": [],
   "source": []
  },
  {
   "cell_type": "markdown",
   "id": "bb11c08e",
   "metadata": {},
   "source": [
    "## Using Equal Binning"
   ]
  },
  {
   "cell_type": "code",
   "execution_count": null,
   "id": "2c9af610",
   "metadata": {
    "scrolled": true
   },
   "outputs": [],
   "source": [
    "lr = LogisticRegression(max_iter=300, random_state=42)\n",
    "lr.fit(X_train_dep_eq, y_train_dep_eq)\n",
    "\n",
    "rfc = RandomForestClassifier(n_estimators = 10, criterion = 'entropy', random_state = 42)\n",
    "rfc.fit(X_train_dep_eq, y_train_dep_eq)\n",
    "\n",
    "y_pred_lr = lr.predict(X_test_dep_eq)\n",
    "y_pred_rfc = rfc.predict(X_test_dep_eq)"
   ]
  },
  {
   "cell_type": "code",
   "execution_count": null,
   "id": "fdd5ee72",
   "metadata": {
    "scrolled": true
   },
   "outputs": [],
   "source": [
    "lr_acc = accuracy_score(y_test_dep_eq, y_pred_lr)\n",
    "rfc_acc = accuracy_score(y_test_dep_eq, y_pred_rfc)\n",
    "\n",
    "lr_prec = precision_score(y_test_dep_eq, y_pred_lr, average=None)\n",
    "rfc_prec = precision_score(y_test_dep_eq, y_pred_rfc, average=None)\n",
    "\n",
    "lr_rec = recall_score(y_test_dep_eq, y_pred_lr, average=None)\n",
    "rfc_rec = recall_score(y_test_dep_eq, y_pred_rfc, average=None)\n",
    "\n",
    "lr_f1 = f1_score(y_test_dep_eq, y_pred_lr, average=None)\n",
    "rfc_f1 = f1_score(y_test_dep_eq, y_pred_rfc, average=None)\n",
    "\n",
    "print(\"LR Accuracy:\", lr_acc)\n",
    "print(\"RFC Accuracy:\", rfc_acc)\n",
    "print()\n",
    "print(\"LR Precision:\", lr_prec)\n",
    "print(\"RFC Precision:\", rfc_prec)\n",
    "print()\n",
    "print(\"LR Recall:\", lr_rec)\n",
    "print(\"RFC Recall:\", rfc_rec)\n",
    "print()\n",
    "print(\"LR F1:\", lr_f1)\n",
    "print(\"RFC F1:\", rfc_f1)"
   ]
  },
  {
   "cell_type": "code",
   "execution_count": null,
   "id": "efa94ebb",
   "metadata": {
    "scrolled": true
   },
   "outputs": [],
   "source": []
  },
  {
   "cell_type": "markdown",
   "id": "d235e48f",
   "metadata": {
    "scrolled": true
   },
   "source": [
    "## Hyperparameter Tuning\n",
    "* repeat with equal binning dataset"
   ]
  },
  {
   "cell_type": "markdown",
   "id": "84b22ecd",
   "metadata": {},
   "source": [
    "### XGBoost"
   ]
  },
  {
   "cell_type": "code",
   "execution_count": null,
   "id": "ab42f638",
   "metadata": {},
   "outputs": [],
   "source": [
    "# Baseline\n",
    "xg_model0 = xgb.XGBClassifier(\n",
    "    reg_lambda=3,\n",
    "    learning_rate= 0.1,\n",
    "    max_depth=5,\n",
    "    n_estimators=5,\n",
    "    objective='multi:softmax',\n",
    "#   scale_pos_weight=0.2,\n",
    "    booster='gbtree',\n",
    "    eval_metric='auc',\n",
    "    tree_method='hist',\n",
    "    grow_policy='lossguide'\n",
    ")\n",
    "xg_model0.fit(X_train, y_train_dep)\n",
    "\n",
    "xg_predictions0 = xg_model0.predict(X_test)\n",
    "print(np.unique(xg_predictions0))\n",
    "conf_matrix = confusion_matrix(y_test_dep, xg_predictions0)\n",
    "# print(conf_matrix)\n",
    "cfmx_disp = ConfusionMatrixDisplay(conf_matrix, display_labels=xg_model0.classes_)\n",
    "cfmx_disp.plot()\n",
    "plt.show()"
   ]
  },
  {
   "cell_type": "code",
   "execution_count": null,
   "id": "34ee9f63",
   "metadata": {},
   "outputs": [],
   "source": [
    "# xg_model = xgb.XGBClassifier(n_estimators=2, max_depth=2, learning_rate=1, objective='binary:logistic')\n",
    "xg_model = xgb.XGBClassifier(\n",
    "    n_estimators=100,\n",
    "    learning_rate=0.1,\n",
    "#   num_boost_round=1000,\n",
    "    booster='gbtree',\n",
    "    eval_metric='auc',\n",
    "    tree_method='hist',\n",
    "    grow_policy='lossguide'\n",
    ")\n",
    "# xg_model_0.fit(X_train, y_train_dep)"
   ]
  },
  {
   "cell_type": "code",
   "execution_count": null,
   "id": "60acbab9",
   "metadata": {},
   "outputs": [],
   "source": [
    "param_grid = {\n",
    "#   'n_estimators': [5, 10, 15, 20],\n",
    "    'max_depth': [None, 4, 8, 12], # 16],\n",
    "    'min_child_weight': [0, 1, 4, 8, 10]\n",
    "#   'lambda': [3,5], # [3,5,7],\n",
    "#   'scale_pos_weight': [0.1, 0.2, 0.4, 0.8, 1],\n",
    "#   'objective': ['multi:softmax', 'multi:softprob'],\n",
    "#   'objective': ['reg:logistic', 'binary:logistic'],\n",
    "#   'learning_rate': [0.1, 0.05]\n",
    "}\n",
    "\n",
    "grid_search = GridSearchCV(xg_model, param_grid, cv=5, verbose=True)\n",
    "\n",
    "# Time\n",
    "print('Timer start.')\n",
    "st = time.time()\n",
    "\n",
    "# main program\n",
    "grid_search.fit(X_train, y_train_dep)\n",
    "\n",
    "et = time.time()\n",
    "print(\"Best hyperparameters:\", grid_search.best_params_)\n",
    "print('Execution time:', et-st, 'seconds')\n",
    "\n",
    "param_save = {}\n",
    "param_save['max_depth'] = grid_search.best_params_['max_depth']\n",
    "param_save['min_child_weight'] = grid_search.best_params_['min_child_weight']"
   ]
  },
  {
   "cell_type": "code",
   "execution_count": null,
   "id": "71858a6a",
   "metadata": {},
   "outputs": [],
   "source": [
    "xg_model = xgb.XGBClassifier(\n",
    "    n_estimators=100,\n",
    "    learning_rate=0.1,\n",
    "#   num_boost_round=1000,\n",
    "    max_depth= param_save['max_depth'],\n",
    "    min_child_weight= param_save['min_child_weight'],\n",
    "    booster='gbtree',\n",
    "    eval_metric='auc',\n",
    "    tree_method='hist',\n",
    "    grow_policy='lossguide'\n",
    ")\n",
    "\n",
    "param_grid = {\n",
    "#   'n_estimators': [12], # [3, 6, 9, 12],\n",
    "#   'max_depth': [None, 4, 8, 12, 16],\n",
    "#   'min_child_weight': [0, 1, 4, 8, 10]\n",
    "    'reg_alpha': [0,5,10], # [3,5,7],\n",
    "    'reg_lambda': [0,5,10], # [3,5,7],\n",
    "    'gamma': [0,4,8,12]\n",
    "#   'scale_pos_weight': [0.1, 0.2, 0.4, 0.8, 1],\n",
    "#   'objective': ['multi:softmax', 'multi:softprob'],\n",
    "#   'objective': ['reg:logistic', 'binary:logistic'],\n",
    "#   'learning_rate': [0.1, 0.05]\n",
    "}\n",
    "\n",
    "grid_search = GridSearchCV(xg_model, param_grid, cv=5, verbose=True)\n",
    "\n",
    "# Time\n",
    "print('Timer start.')\n",
    "st = time.time()\n",
    "\n",
    "# main program\n",
    "grid_search.fit(X_train, y_train_dep)\n",
    "\n",
    "et = time.time()\n",
    "print(\"Best hyperparameters:\", grid_search.best_params_)\n",
    "print('Execution time:', et-st, 'seconds')\n",
    "\n",
    "param_save['reg_alpha'] = 0 # grid_search.best_params_['reg_alpha']\n",
    "param_save['reg_lambda'] = 0 # grid_search.best_params_['reg_lambda']\n",
    "param_save['gamma'] = grid_search.best_params_['gamma']"
   ]
  },
  {
   "cell_type": "code",
   "execution_count": null,
   "id": "50e8f9e4",
   "metadata": {},
   "outputs": [],
   "source": [
    "xg_model = xgb.XGBClassifier(\n",
    "    max_depth= param_save['max_depth'],\n",
    "    min_child_weight= param_save['min_child_weight'],\n",
    "    reg_alpha= param_save['reg_alpha'],\n",
    "    reg_lambda= param_save['reg_lambda'],\n",
    "    gamma= param_save['gamma'],\n",
    "    booster='gbtree',\n",
    "    eval_metric='auc',\n",
    "    tree_method='hist',\n",
    "    grow_policy='lossguide'\n",
    ")\n",
    "\n",
    "param_grid = {\n",
    "    'n_estimators': [50, 100, 150],\n",
    "#   'max_depth': [None, 4, 8, 12, 16],\n",
    "#   'min_child_weight': [0, 1, 4, 8, 10]\n",
    "#   'reg_alpha': [0,1,4,7,10], # [3,5,7],\n",
    "#   'reg_lambda': [0,1,4,7,10], # [3,5,7],\n",
    "#   'scale_pos_weight': [0.1, 0.2, 0.4, 0.8, 1],\n",
    "#   'objective': ['multi:softmax', 'multi:softprob'],\n",
    "#   'objective': ['reg:logistic', 'binary:logistic'],\n",
    "    'learning_rate': [0.1, 0.04],\n",
    "#   'num_boost_round': [400, 800, 1000, 1300]\n",
    "}\n",
    "\n",
    "grid_search = GridSearchCV(xg_model, param_grid, cv=5, verbose=True)\n",
    "\n",
    "# Time\n",
    "print('Timer start.')\n",
    "st = time.time()\n",
    "\n",
    "# main program\n",
    "grid_search.fit(X_train, y_train)\n",
    "\n",
    "et = time.time()\n",
    "print(\"Best hyperparameters:\", grid_search.best_params_)\n",
    "print('Execution time:', et-st, 'seconds')\n",
    "\n",
    "param_save['learning_rate'] = grid_search.best_params_['learning_rate']\n",
    "param_save['n_estimators'] = grid_search.best_params_['n_estimators']"
   ]
  },
  {
   "cell_type": "code",
   "execution_count": null,
   "id": "1897a2bc",
   "metadata": {},
   "outputs": [],
   "source": [
    "xg_model = xgb.XGBClassifier(\n",
    "    n_estimators=param_save['n_estimators'],\n",
    "    learning_rate= param_save['learning_rate'],\n",
    "#   num_boost_round= param_save['num_boost_round']\n",
    "    max_depth=  param_save['max_depth'],\n",
    "    min_child_weight= param_save['min_child_weight'],\n",
    "    reg_alpha= param_save['reg_alpha'],\n",
    "    reg_lambda= param_save['reg_lambda'],\n",
    "    gamma= param_save['gamma'],\n",
    "    booster='gbtree',\n",
    "    eval_metric='auc',\n",
    "    tree_method='hist',\n",
    "    grow_policy='lossguide'\n",
    ")\n",
    "\n",
    "xg_model.fit(X_train, y_train_dep)\n",
    "xg_predictions = xg_model.predict(X_test)"
   ]
  },
  {
   "cell_type": "code",
   "execution_count": null,
   "id": "93d4ce8e",
   "metadata": {},
   "outputs": [],
   "source": [
    "y_test = y_test_dep\n",
    "\n",
    "print(np.unique(xg_predictions))\n",
    "conf_matrix = confusion_matrix(y_test, xg_predictions)\n",
    "# print(conf_matrix)\n",
    "cfmx_disp = ConfusionMatrixDisplay(conf_matrix, display_labels=xg_model.classes_)\n",
    "cfmx_disp.plot()\n",
    "plt.show()\n",
    "\n",
    "acc = accuracy_score(y_test, xg_predictions)\n",
    "# RF Precision and Recall\n",
    "print('accuracy:', acc, conf_matrix[0][0] + conf_matrix[1][1] + conf_matrix[2][2] + conf_matrix[3][3] + conf_matrix[4][4])\n",
    "print('Class 0:')\n",
    "print('Precision:', conf_matrix[0][0]/(conf_matrix[0][0]+conf_matrix[1][0]+conf_matrix[2][0]+conf_matrix[3][0]+conf_matrix[4][0]))\n",
    "print('Recall:', conf_matrix[0][0]/sum(conf_matrix[0]))\n",
    "print('Class 1:')\n",
    "print('Precision:', conf_matrix[1][1]/(conf_matrix[0][1]+conf_matrix[1][1]+conf_matrix[2][1]+conf_matrix[3][1]+conf_matrix[4][1]))\n",
    "print('Recall:', conf_matrix[1][1]/sum(conf_matrix[1]))\n",
    "\n",
    "combined_nom = conf_matrix[0][0] + conf_matrix[0][1] + conf_matrix[1][0] + conf_matrix[1][1] \n",
    "combined_prec_denom = (conf_matrix[0][0]+conf_matrix[1][0]+conf_matrix[2][0]+conf_matrix[3][0]+conf_matrix[4][0]) + (conf_matrix[0][1]+conf_matrix[1][1]+conf_matrix[2][1]+conf_matrix[3][1]+conf_matrix[4][1])\n",
    "combined_rec_denom = sum(conf_matrix[0]) + sum(conf_matrix[1])\n",
    "print('Combined Classes 0 and 1:')\n",
    "print('Precision: ', combined_nom/combined_prec_denom)\n",
    "print('Recall: ', combined_nom/combined_rec_denom)\n",
    "\n",
    "print('Class 3:')\n",
    "print('Precision:', conf_matrix[3][3]/(conf_matrix[0][3]+conf_matrix[1][3]+conf_matrix[2][3]+conf_matrix[3][3]+conf_matrix[4][3]))\n",
    "print('Recall:', conf_matrix[3][3]/sum(conf_matrix[3]))\n",
    "print('Class 4:')\n",
    "print('Precision:', conf_matrix[4][4]/(conf_matrix[4][4]+conf_matrix[3][4]+conf_matrix[2][4]+conf_matrix[1][4]+conf_matrix[0][4]))\n",
    "print('Recall:', conf_matrix[4][4]/sum(conf_matrix[4]))\n",
    "\n",
    "combined_nom = conf_matrix[3][3] + conf_matrix[3][4] + conf_matrix[4][3] + conf_matrix[4][4] \n",
    "combined_prec_denom = (conf_matrix[0][3]+conf_matrix[1][3]+conf_matrix[2][3]+conf_matrix[3][3]+conf_matrix[4][3]) + (conf_matrix[4][4]+conf_matrix[3][4]+conf_matrix[2][4]+conf_matrix[1][4]+conf_matrix[0][4])\n",
    "combined_rec_denom = sum(conf_matrix[3]) + sum(conf_matrix[4])\n",
    "print('Combined Classes 3 and 4:')\n",
    "print('Precision: ', combined_nom/combined_prec_denom)\n",
    "print('Recall: ', combined_nom/combined_rec_denom)"
   ]
  },
  {
   "cell_type": "code",
   "execution_count": null,
   "id": "1d76d1df",
   "metadata": {},
   "outputs": [],
   "source": []
  },
  {
   "cell_type": "code",
   "execution_count": null,
   "id": "f031c93e",
   "metadata": {},
   "outputs": [],
   "source": []
  },
  {
   "cell_type": "code",
   "execution_count": null,
   "id": "068a49a5",
   "metadata": {},
   "outputs": [],
   "source": []
  },
  {
   "cell_type": "markdown",
   "id": "94c1e38c",
   "metadata": {},
   "source": [
    "## Catboost"
   ]
  },
  {
   "cell_type": "code",
   "execution_count": null,
   "id": "1804d9d1",
   "metadata": {},
   "outputs": [],
   "source": [
    "# Baseline model\n",
    "catBoostModel0 = CatBoostClassifier()\n",
    "catBoostModel0.fit(X_train, y_train_dep)"
   ]
  },
  {
   "cell_type": "code",
   "execution_count": null,
   "id": "83ba260b",
   "metadata": {},
   "outputs": [],
   "source": [
    "cat_predictions0 = catBoostModel0.predict(X_test)\n",
    "\n",
    "print(np.unique(cat_predictions0))\n",
    "conf_matrix = confusion_matrix(y_test_dep, cat_predictions0)\n",
    "# print(conf_matrix)\n",
    "cfmx_disp = ConfusionMatrixDisplay(conf_matrix, display_labels=catBoostModel0.classes_)\n",
    "cfmx_disp.plot()\n",
    "plt.show()"
   ]
  },
  {
   "cell_type": "code",
   "execution_count": null,
   "id": "f1aaa2cd",
   "metadata": {},
   "outputs": [],
   "source": [
    "catBoostModel = CatBoostClassifier(iterations=600)\n",
    "# iterations: 500. bestiter is consistently low\n",
    "cat_grid = {\n",
    "    'learning_rate': [0.1, 0.04],\n",
    "    'depth': [4, 9, 14],\n",
    "    'l2_leaf_reg': [1, 3, 5, 7, 9]}\n",
    "\n",
    "# Time\n",
    "print('Timer start.')\n",
    "st = time.time()\n",
    "\n",
    "catBoostModel.grid_search(cat_grid, X_train, y_train)\n",
    "\n",
    "et = time.time()\n",
    "print('Execution time:', et-st, 'seconds')\n",
    "\n",
    "# \"After searching, the model is trained and ready to use.\"\n",
    "# https://catboost.ai/en/docs/concepts/python-reference_catboost_grid_search"
   ]
  },
  {
   "cell_type": "code",
   "execution_count": null,
   "id": "3e980a48",
   "metadata": {},
   "outputs": [],
   "source": [
    "catBoostModel.fit(X_train,y_train_dep)\n",
    "cat_predictions = catBoostModel.predict(X_test)"
   ]
  },
  {
   "cell_type": "code",
   "execution_count": null,
   "id": "2cb9f7d2",
   "metadata": {},
   "outputs": [],
   "source": [
    "y_test = y_test_dep\n",
    "\n",
    "print(np.unique(cat_predictions))\n",
    "conf_matrix = confusion_matrix(y_test, cat_predictions)\n",
    "# print(conf_matrix)\n",
    "cfmx_disp = ConfusionMatrixDisplay(conf_matrix, display_labels=catBoostModel.classes_)\n",
    "cfmx_disp.plot()\n",
    "plt.show()\n",
    "\n",
    "acc = accuracy_score(y_test, cat_predictions)\n",
    "# RF Precision and Recall\n",
    "print('accuracy:', acc, conf_matrix[0][0] + conf_matrix[1][1] + conf_matrix[2][2] + conf_matrix[3][3] + conf_matrix[4][4])\n",
    "print('Class 0:')\n",
    "print('Precision:', conf_matrix[0][0]/(conf_matrix[0][0]+conf_matrix[1][0]+conf_matrix[2][0]+conf_matrix[3][0]+conf_matrix[4][0]))\n",
    "print('Recall:', conf_matrix[0][0]/sum(conf_matrix[0]))\n",
    "print('Class 1:')\n",
    "print('Precision:', conf_matrix[1][1]/(conf_matrix[0][1]+conf_matrix[1][1]+conf_matrix[2][1]+conf_matrix[3][1]+conf_matrix[4][1]))\n",
    "print('Recall:', conf_matrix[1][1]/sum(conf_matrix[1]))\n",
    "\n",
    "combined_nom = conf_matrix[0][0] + conf_matrix[0][1] + conf_matrix[1][0] + conf_matrix[1][1] \n",
    "combined_prec_denom = (conf_matrix[0][0]+conf_matrix[1][0]+conf_matrix[2][0]+conf_matrix[3][0]+conf_matrix[4][0]) + (conf_matrix[0][1]+conf_matrix[1][1]+conf_matrix[2][1]+conf_matrix[3][1]+conf_matrix[4][1])\n",
    "combined_rec_denom = sum(conf_matrix[0]) + sum(conf_matrix[1])\n",
    "print('Combined Classes 0 and 1:')\n",
    "print('Precision: ', combined_nom/combined_prec_denom)\n",
    "print('Recall: ', combined_nom/combined_rec_denom)\n",
    "\n",
    "print('Class 3:')\n",
    "print('Precision:', conf_matrix[3][3]/(conf_matrix[0][3]+conf_matrix[1][3]+conf_matrix[2][3]+conf_matrix[3][3]+conf_matrix[4][3]))\n",
    "print('Recall:', conf_matrix[3][3]/sum(conf_matrix[3]))\n",
    "print('Class 4:')\n",
    "print('Precision:', conf_matrix[4][4]/(conf_matrix[4][4]+conf_matrix[3][4]+conf_matrix[2][4]+conf_matrix[1][4]+conf_matrix[0][4]))\n",
    "print('Recall:', conf_matrix[4][4]/sum(conf_matrix[4]))\n",
    "\n",
    "combined_nom = conf_matrix[3][3] + conf_matrix[3][4] + conf_matrix[4][3] + conf_matrix[4][4] \n",
    "combined_prec_denom = (conf_matrix[0][3]+conf_matrix[1][3]+conf_matrix[2][3]+conf_matrix[3][3]+conf_matrix[4][3]) + (conf_matrix[4][4]+conf_matrix[3][4]+conf_matrix[2][4]+conf_matrix[1][4]+conf_matrix[0][4])\n",
    "combined_rec_denom = sum(conf_matrix[3]) + sum(conf_matrix[4])\n",
    "print('Combined Classes 3 and 4:')\n",
    "print('Precision: ', combined_nom/combined_prec_denom)\n",
    "print('Recall: ', combined_nom/combined_rec_denom)"
   ]
  },
  {
   "cell_type": "code",
   "execution_count": null,
   "id": "c664e796",
   "metadata": {},
   "outputs": [],
   "source": []
  },
  {
   "cell_type": "markdown",
   "id": "55ce7fc4",
   "metadata": {},
   "source": [
    "## Random Forest"
   ]
  },
  {
   "cell_type": "code",
   "execution_count": null,
   "id": "df660090",
   "metadata": {},
   "outputs": [],
   "source": [
    "rf_model0 = RandomForestClassifier(criterion=\"entropy\", random_state=424)\n",
    "rf_model0.fit(X_train, y_train_dep)\n",
    "\n",
    "rf_predictions0 = rf_model0.predict(X_test)\n",
    "print(np.unique(rf_predictions0))\n",
    "conf_matrix = confusion_matrix(y_test_dep, rf_predictions0)\n",
    "# print(conf_matrix)\n",
    "cfmx_disp = ConfusionMatrixDisplay(conf_matrix, display_labels=rf_model0.classes_)\n",
    "cfmx_disp.plot()\n",
    "plt.show()"
   ]
  },
  {
   "cell_type": "code",
   "execution_count": null,
   "id": "51afbfba",
   "metadata": {},
   "outputs": [],
   "source": [
    "rf_model = RandomForestClassifier(criterion=\"entropy\", random_state=424)\n",
    "param_grid = {\n",
    "    'n_estimators': [40, 100, 140],\n",
    "    'max_depth': [None, 4, 8, 12, 16],\n",
    "    'class_weight': ['balanced', 'balanced_subsample']\n",
    "#   'min_samples_split': [70000],\n",
    "}\n",
    "\n",
    "grid_search_rf = GridSearchCV(rf_model, param_grid, cv=5, verbose=True)\n",
    "\n",
    "# Time\n",
    "print('Timer start.')\n",
    "st = time.time()\n",
    "\n",
    "# main program\n",
    "grid_search_rf.fit(X_train, y_train_dep)\n",
    "\n",
    "et = time.time()\n",
    "print(\"Best hyperparameters:\", grid_search_rf.best_params_)\n",
    "print('Execution time:', et-st, 'seconds')\n",
    "# rf_model0.fit(X_train, y_train)"
   ]
  },
  {
   "cell_type": "code",
   "execution_count": null,
   "id": "3c59a68e",
   "metadata": {},
   "outputs": [],
   "source": [
    "rf_param_save = {}\n",
    "rf_param_save['n_estimators'] = grid_search_rf.best_params_['n_estimators']\n",
    "rf_param_save['max_depth'] = grid_search_rf.best_params_['max_depth']\n",
    "rf_param_save['class_weight'] = grid_search_rf.best_params_['class_weight']\n",
    "rf_param_save"
   ]
  },
  {
   "cell_type": "code",
   "execution_count": null,
   "id": "aa2a741c",
   "metadata": {},
   "outputs": [],
   "source": [
    "rf_model = RandomForestClassifier(\n",
    "    n_estimators=rf_param_save['n_estimators'],\n",
    "    max_depth=rf_param_save['max_depth'],\n",
    "    class_weight=rf_param_save['class_weight'],\n",
    "    criterion=\"entropy\", random_state=424\n",
    ")\n",
    "\n",
    "rf_model.fit(X_train, y_train_dep)\n",
    "rf_predictions = rf_model.predict(X_test)"
   ]
  },
  {
   "cell_type": "code",
   "execution_count": null,
   "id": "d6ebf816",
   "metadata": {},
   "outputs": [],
   "source": [
    "y_test = y_test_dep\n",
    "\n",
    "print(np.unique(rf_predictions))\n",
    "conf_matrix = confusion_matrix(y_test, rf_predictions)\n",
    "# print(conf_matrix)\n",
    "cfmx_disp = ConfusionMatrixDisplay(conf_matrix, display_labels=rf_model.classes_)\n",
    "cfmx_disp.plot()\n",
    "plt.show()\n",
    "\n",
    "acc = accuracy_score(y_test, rf_predictions)\n",
    "# RF Precision and Recall\n",
    "print('accuracy:', acc, conf_matrix[0][0] + conf_matrix[1][1] + conf_matrix[2][2] + conf_matrix[3][3] + conf_matrix[4][4])\n",
    "print('Class 0:')\n",
    "print('Precision:', conf_matrix[0][0]/(conf_matrix[0][0]+conf_matrix[1][0]+conf_matrix[2][0]+conf_matrix[3][0]+conf_matrix[4][0]))\n",
    "print('Recall:', conf_matrix[0][0]/sum(conf_matrix[0]))\n",
    "print('Class 1:')\n",
    "print('Precision:', conf_matrix[1][1]/(conf_matrix[0][1]+conf_matrix[1][1]+conf_matrix[2][1]+conf_matrix[3][1]+conf_matrix[4][1]))\n",
    "print('Recall:', conf_matrix[1][1]/sum(conf_matrix[1]))\n",
    "\n",
    "combined_nom = conf_matrix[0][0] + conf_matrix[0][1] + conf_matrix[1][0] + conf_matrix[1][1] \n",
    "combined_prec_denom = (conf_matrix[0][0]+conf_matrix[1][0]+conf_matrix[2][0]+conf_matrix[3][0]+conf_matrix[4][0]) + (conf_matrix[0][1]+conf_matrix[1][1]+conf_matrix[2][1]+conf_matrix[3][1]+conf_matrix[4][1])\n",
    "combined_rec_denom = sum(conf_matrix[0]) + sum(conf_matrix[1])\n",
    "print('Combined Classes 0 and 1:')\n",
    "print('Precision: ', combined_nom/combined_prec_denom)\n",
    "print('Recall: ', combined_nom/combined_rec_denom)\n",
    "\n",
    "print('Class 3:')\n",
    "print('Precision:', conf_matrix[3][3]/(conf_matrix[0][3]+conf_matrix[1][3]+conf_matrix[2][3]+conf_matrix[3][3]+conf_matrix[4][3]))\n",
    "print('Recall:', conf_matrix[3][3]/sum(conf_matrix[3]))\n",
    "print('Class 4:')\n",
    "print('Precision:', conf_matrix[4][4]/(conf_matrix[4][4]+conf_matrix[3][4]+conf_matrix[2][4]+conf_matrix[1][4]+conf_matrix[0][4]))\n",
    "print('Recall:', conf_matrix[4][4]/sum(conf_matrix[4]))\n",
    "\n",
    "combined_nom = conf_matrix[3][3] + conf_matrix[3][4] + conf_matrix[4][3] + conf_matrix[4][4] \n",
    "combined_prec_denom = (conf_matrix[0][3]+conf_matrix[1][3]+conf_matrix[2][3]+conf_matrix[3][3]+conf_matrix[4][3]) + (conf_matrix[4][4]+conf_matrix[3][4]+conf_matrix[2][4]+conf_matrix[1][4]+conf_matrix[0][4])\n",
    "combined_rec_denom = sum(conf_matrix[3]) + sum(conf_matrix[4])\n",
    "print('Combined Classes 3 and 4:')\n",
    "print('Precision: ', combined_nom/combined_prec_denom)\n",
    "print('Recall: ', combined_nom/combined_rec_denom)"
   ]
  },
  {
   "cell_type": "code",
   "execution_count": null,
   "id": "b6fa230c",
   "metadata": {},
   "outputs": [],
   "source": []
  },
  {
   "cell_type": "code",
   "execution_count": null,
   "id": "a0df8cf6",
   "metadata": {},
   "outputs": [],
   "source": []
  },
  {
   "cell_type": "markdown",
   "id": "4e8282e2",
   "metadata": {},
   "source": [
    "# Neural Networks"
   ]
  },
  {
   "cell_type": "code",
   "execution_count": null,
   "id": "a44da8e9",
   "metadata": {
    "scrolled": true
   },
   "outputs": [],
   "source": []
  },
  {
   "cell_type": "code",
   "execution_count": null,
   "id": "ac00db44",
   "metadata": {
    "scrolled": true
   },
   "outputs": [],
   "source": []
  },
  {
   "cell_type": "code",
   "execution_count": null,
   "id": "1a95bae2",
   "metadata": {
    "scrolled": true
   },
   "outputs": [],
   "source": [
    "y_dep.value_counts()"
   ]
  },
  {
   "cell_type": "code",
   "execution_count": null,
   "id": "7f7e9d54",
   "metadata": {
    "scrolled": true
   },
   "outputs": [],
   "source": [
    "y_bins = 5"
   ]
  },
  {
   "cell_type": "code",
   "execution_count": null,
   "id": "cee4a50d",
   "metadata": {
    "scrolled": true
   },
   "outputs": [],
   "source": [
    "y_train_arr = y_train_dep.to_numpy()\n",
    "y_test_arr = y_test_dep.to_numpy()\n",
    "y_train = to_categorical(y_train_arr, y_bins)\n",
    "y_test = to_categorical(y_test_arr, y_bins)"
   ]
  },
  {
   "cell_type": "code",
   "execution_count": null,
   "id": "53078b1a",
   "metadata": {
    "scrolled": true
   },
   "outputs": [],
   "source": []
  },
  {
   "cell_type": "code",
   "execution_count": null,
   "id": "c63b4da8",
   "metadata": {
    "scrolled": true
   },
   "outputs": [],
   "source": []
  },
  {
   "cell_type": "code",
   "execution_count": null,
   "id": "86ee5ca0",
   "metadata": {
    "scrolled": true
   },
   "outputs": [],
   "source": [
    "model = Sequential()\n",
    "model.add(Dense(32, input_dim=len(dep_delay_features)))\n",
    "model.add(Activation('relu'))\n",
    "model.add(Dense(y_bins))\n",
    "model.add(Activation('softmax'))"
   ]
  },
  {
   "cell_type": "code",
   "execution_count": null,
   "id": "7370e41d",
   "metadata": {
    "scrolled": true
   },
   "outputs": [],
   "source": [
    "model.compile(loss='categorical_crossentropy', optimizer='adam', metrics=['accuracy'])"
   ]
  },
  {
   "cell_type": "code",
   "execution_count": null,
   "id": "7b971f2c",
   "metadata": {
    "scrolled": true
   },
   "outputs": [],
   "source": [
    "model.fit(X_train_dep, y_train, epochs=10, batch_size=32, validation_split=0.2)"
   ]
  },
  {
   "cell_type": "code",
   "execution_count": null,
   "id": "3f1e93fb",
   "metadata": {
    "scrolled": true
   },
   "outputs": [],
   "source": [
    "y_pred = np.argmax(model.predict(X_test_dep), axis=-1)"
   ]
  },
  {
   "cell_type": "code",
   "execution_count": null,
   "id": "5bacb5c5",
   "metadata": {
    "scrolled": true
   },
   "outputs": [],
   "source": [
    "y_test = np.argmax(y_test, axis=-1)"
   ]
  },
  {
   "cell_type": "code",
   "execution_count": null,
   "id": "b1d43239",
   "metadata": {
    "scrolled": true
   },
   "outputs": [],
   "source": [
    "acc = accuracy_score(y_test, y_pred)\n",
    "prec = precision_score(y_test, y_pred, average=None)\n",
    "rec = recall_score(y_test, y_pred, average=None)\n",
    "f1 = f1_score(y_test, y_pred, average=None)\n",
    "\n",
    "print(\"Accuracy:\", acc)\n",
    "for i in range(y_bins):  \n",
    "    print(f\"Class {i} Precision: {prec[i]}\")\n",
    "    print(f\"Class {i} Recall: {rec[i]}\")\n",
    "    print(f\"Class {i} F1: {f1[i]}\")\n",
    "    print()"
   ]
  },
  {
   "cell_type": "markdown",
   "id": "b88a5ec9",
   "metadata": {},
   "source": [
    "## Using Smote"
   ]
  },
  {
   "cell_type": "code",
   "execution_count": null,
   "id": "b225ac2e",
   "metadata": {
    "scrolled": true
   },
   "outputs": [],
   "source": [
    "smote = SMOTE()\n",
    "\n",
    "X_train_resampled, y_train_resampled = smote.fit_resample(X_train_dep, y_train_dep)\n",
    "\n",
    "y_train_arr_resampled = y_train_resampled.to_numpy()\n",
    "\n",
    "y_train_resampled = to_categorical(y_train_arr_resampled, y_bins)"
   ]
  },
  {
   "cell_type": "code",
   "execution_count": 22,
   "id": "fa0716d8",
   "metadata": {
    "scrolled": true
   },
   "outputs": [
    {
     "name": "stdout",
     "output_type": "stream",
     "text": [
      "469099/469099 [==============================] - 503s 1ms/step - loss: 0.0045 - accuracy: 0.9985 - val_loss: 0.1457 - val_accuracy: 0.9484\n",
      "Epoch 3/10\n",
      "469099/469099 [==============================] - 501s 1ms/step - loss: 0.0038 - accuracy: 0.9987 - val_loss: 0.0405 - val_accuracy: 0.9783\n",
      "Epoch 4/10\n",
      "469099/469099 [==============================] - 504s 1ms/step - loss: 0.0034 - accuracy: 0.9989 - val_loss: 0.0151 - val_accuracy: 0.9922\n",
      "Epoch 5/10\n",
      "469099/469099 [==============================] - 484s 1ms/step - loss: 0.0031 - accuracy: 0.9990 - val_loss: 0.0192 - val_accuracy: 0.9893\n",
      "Epoch 6/10\n",
      "469099/469099 [==============================] - 491s 1ms/step - loss: 0.0028 - accuracy: 0.9991 - val_loss: 0.0519 - val_accuracy: 0.9759\n",
      "Epoch 7/10\n",
      "469099/469099 [==============================] - 477s 1ms/step - loss: 0.0026 - accuracy: 0.9991 - val_loss: 0.0244 - val_accuracy: 0.9813\n",
      "Epoch 8/10\n",
      "469099/469099 [==============================] - 467s 996us/step - loss: 0.0026 - accuracy: 0.9992 - val_loss: 0.1059 - val_accuracy: 0.9719\n",
      "Epoch 9/10\n",
      "469099/469099 [==============================] - 466s 993us/step - loss: 0.0025 - accuracy: 0.9992 - val_loss: 0.0292 - val_accuracy: 0.9823\n",
      "Epoch 10/10\n",
      "469099/469099 [==============================] - 465s 992us/step - loss: 0.0024 - accuracy: 0.9992 - val_loss: 0.0264 - val_accuracy: 0.9836\n"
     ]
    },
    {
     "data": {
      "text/plain": [
       "<keras.callbacks.History at 0x7fd460785d10>"
      ]
     },
     "execution_count": 22,
     "metadata": {},
     "output_type": "execute_result"
    }
   ],
   "source": [
    "model = Sequential()\n",
    "model.add(Dense(32, input_dim=len(dep_delay_features)))\n",
    "model.add(Activation('relu'))\n",
    "model.add(Dense(y_bins))\n",
    "model.add(Activation('softmax'))\n",
    "\n",
    "model.compile(loss='categorical_crossentropy', optimizer='adam', metrics=['accuracy'])\n",
    "\n",
    "model.fit(X_train_resampled, y_train_resampled, epochs=10, batch_size=32, validation_split=0.2)"
   ]
  },
  {
   "cell_type": "code",
   "execution_count": 23,
   "id": "177a3436",
   "metadata": {
    "scrolled": true
   },
   "outputs": [
    {
     "name": "stdout",
     "output_type": "stream",
     "text": [
      "61599/61599 [==============================] - 40s 652us/step\n"
     ]
    }
   ],
   "source": [
    "y_pred = np.argmax(model.predict(X_test_dep), axis=-1)\n",
    "y_test = to_categorical(y_test_arr, y_bins)\n",
    "y_test = np.argmax(y_test, axis=-1)"
   ]
  },
  {
   "cell_type": "code",
   "execution_count": 24,
   "id": "7023b1c0",
   "metadata": {
    "scrolled": true
   },
   "outputs": [
    {
     "name": "stdout",
     "output_type": "stream",
     "text": [
      "Accuracy: 0.9993252721106554\n",
      "Class 0 Precision: 0.9665948275862069\n",
      "Class 0 Recall: 0.999777084262149\n",
      "Class 0 F1: 0.982905982905983\n",
      "\n",
      "Class 1 Precision: 0.9999879861119454\n",
      "Class 1 Recall: 0.9981412862299289\n",
      "Class 1 F1: 0.9990637827976091\n",
      "\n",
      "Class 2 Precision: 1.0\n",
      "Class 2 Recall: 1.0\n",
      "Class 2 F1: 1.0\n",
      "\n",
      "Class 3 Precision: 0.9943404776366914\n",
      "Class 3 Recall: 1.0\n",
      "Class 3 F1: 0.9971622085462483\n",
      "\n",
      "Class 4 Precision: 1.0\n",
      "Class 4 Recall: 0.983036888265977\n",
      "Class 4 F1: 0.9914458919879923\n",
      "\n"
     ]
    }
   ],
   "source": [
    "acc = accuracy_score(y_test, y_pred)\n",
    "prec = precision_score(y_test, y_pred, average=None)\n",
    "rec = recall_score(y_test, y_pred, average=None)\n",
    "f1 = f1_score(y_test, y_pred, average=None)\n",
    "\n",
    "print(\"Accuracy:\", acc)\n",
    "for i in range(y_bins):  \n",
    "    print(f\"Class {i} Precision: {prec[i]}\")\n",
    "    print(f\"Class {i} Recall: {rec[i]}\")\n",
    "    print(f\"Class {i} F1: {f1[i]}\")\n",
    "    print()"
   ]
  },
  {
   "cell_type": "code",
   "execution_count": null,
   "id": "cb2f0d9c",
   "metadata": {
    "scrolled": true
   },
   "outputs": [],
   "source": []
  },
  {
   "cell_type": "markdown",
   "id": "d5441ff7",
   "metadata": {},
   "source": [
    "## Using Equal Binning"
   ]
  },
  {
   "cell_type": "code",
   "execution_count": 25,
   "id": "5fb582fc",
   "metadata": {
    "scrolled": true
   },
   "outputs": [
    {
     "data": {
      "text/plain": [
       "0    1476424\n",
       "1    1435784\n",
       "2    1315475\n",
       "4    1258655\n",
       "3    1084212\n",
       "Name: Classified Departure Delay (5 Equal), dtype: int64"
      ]
     },
     "execution_count": 25,
     "metadata": {},
     "output_type": "execute_result"
    }
   ],
   "source": [
    "y_dep_equal.value_counts()"
   ]
  },
  {
   "cell_type": "code",
   "execution_count": 26,
   "id": "be7fefcc",
   "metadata": {
    "scrolled": true
   },
   "outputs": [],
   "source": [
    "y_bins = 5"
   ]
  },
  {
   "cell_type": "code",
   "execution_count": 27,
   "id": "fe0dd787",
   "metadata": {
    "scrolled": true
   },
   "outputs": [],
   "source": [
    "y_train_arr_eq = y_train_dep_eq.to_numpy()\n",
    "y_test_arr_eq = y_test_dep_eq.to_numpy()\n",
    "\n",
    "y_train_eq = to_categorical(y_train_arr_eq, y_bins)\n",
    "y_test_eq = to_categorical(y_test_arr_eq, y_bins)"
   ]
  },
  {
   "cell_type": "code",
   "execution_count": 28,
   "id": "ab799bfb",
   "metadata": {
    "scrolled": true
   },
   "outputs": [
    {
     "name": "stdout",
     "output_type": "stream",
     "text": [
      "Epoch 1/10\n",
      "114985/114985 [==============================] - 117s 1ms/step - loss: 0.0113 - accuracy: 0.9972 - val_loss: 2.5078e-05 - val_accuracy: 1.0000\n",
      "Epoch 2/10\n",
      "114985/114985 [==============================] - 114s 991us/step - loss: 6.7310e-05 - accuracy: 1.0000 - val_loss: 8.2882e-08 - val_accuracy: 1.0000\n",
      "Epoch 3/10\n",
      "114985/114985 [==============================] - 114s 991us/step - loss: 8.6033e-05 - accuracy: 1.0000 - val_loss: 2.2631e-07 - val_accuracy: 1.0000\n",
      "Epoch 4/10\n",
      "114985/114985 [==============================] - 115s 997us/step - loss: 1.1074e-04 - accuracy: 1.0000 - val_loss: 1.1899e-05 - val_accuracy: 1.0000\n",
      "Epoch 5/10\n",
      "114985/114985 [==============================] - 116s 1ms/step - loss: 9.5969e-05 - accuracy: 1.0000 - val_loss: 5.4045e-08 - val_accuracy: 1.0000\n",
      "Epoch 6/10\n",
      "114985/114985 [==============================] - 114s 989us/step - loss: 8.7676e-05 - accuracy: 1.0000 - val_loss: 1.1561e-09 - val_accuracy: 1.0000\n",
      "Epoch 7/10\n",
      "114985/114985 [==============================] - 114s 989us/step - loss: 1.2519e-04 - accuracy: 1.0000 - val_loss: 2.4967e-09 - val_accuracy: 1.0000\n",
      "Epoch 8/10\n",
      "114985/114985 [==============================] - 113s 987us/step - loss: 1.0312e-04 - accuracy: 1.0000 - val_loss: 2.7124e-10 - val_accuracy: 1.0000\n",
      "Epoch 9/10\n",
      "114985/114985 [==============================] - 114s 987us/step - loss: 1.6160e-04 - accuracy: 1.0000 - val_loss: 3.4438e-08 - val_accuracy: 1.0000\n",
      "Epoch 10/10\n",
      "114985/114985 [==============================] - 115s 997us/step - loss: 5.9129e-05 - accuracy: 1.0000 - val_loss: 1.0303e-10 - val_accuracy: 1.0000\n"
     ]
    },
    {
     "data": {
      "text/plain": [
       "<keras.callbacks.History at 0x7fd460785a90>"
      ]
     },
     "execution_count": 28,
     "metadata": {},
     "output_type": "execute_result"
    }
   ],
   "source": [
    "model = Sequential()\n",
    "model.add(Dense(32, input_dim=len(dep_delay_features)))\n",
    "model.add(Activation('relu'))\n",
    "model.add(Dense(y_bins))\n",
    "model.add(Activation('softmax'))\n",
    "\n",
    "model.compile(loss='categorical_crossentropy', optimizer='adam', metrics=['accuracy'])\n",
    "\n",
    "model.fit(X_train_dep_eq, y_train_eq, epochs=10, batch_size=32, validation_split=0.2)"
   ]
  },
  {
   "cell_type": "code",
   "execution_count": 29,
   "id": "c0c5794f",
   "metadata": {
    "scrolled": true
   },
   "outputs": [
    {
     "name": "stdout",
     "output_type": "stream",
     "text": [
      "61599/61599 [==============================] - 40s 648us/step\n"
     ]
    }
   ],
   "source": [
    "y_pred = np.argmax(model.predict(X_test_dep_eq), axis=-1)\n",
    "\n",
    "y_test = np.argmax(y_test_eq, axis=-1)"
   ]
  },
  {
   "cell_type": "code",
   "execution_count": 30,
   "id": "6aa0318c",
   "metadata": {
    "scrolled": true
   },
   "outputs": [
    {
     "name": "stdout",
     "output_type": "stream",
     "text": [
      "Accuracy: 1.0\n",
      "Class 0 Precision: 1.0\n",
      "Class 0 Recall: 1.0\n",
      "Class 0 F1: 1.0\n",
      "\n",
      "Class 1 Precision: 1.0\n",
      "Class 1 Recall: 1.0\n",
      "Class 1 F1: 1.0\n",
      "\n",
      "Class 2 Precision: 1.0\n",
      "Class 2 Recall: 1.0\n",
      "Class 2 F1: 1.0\n",
      "\n",
      "Class 3 Precision: 1.0\n",
      "Class 3 Recall: 1.0\n",
      "Class 3 F1: 1.0\n",
      "\n",
      "Class 4 Precision: 1.0\n",
      "Class 4 Recall: 1.0\n",
      "Class 4 F1: 1.0\n",
      "\n"
     ]
    }
   ],
   "source": [
    "acc = accuracy_score(y_test, y_pred)\n",
    "prec = precision_score(y_test, y_pred, average=None)\n",
    "rec = recall_score(y_test, y_pred, average=None)\n",
    "f1 = f1_score(y_test, y_pred, average=None)\n",
    "\n",
    "print(\"Accuracy:\", acc)\n",
    "for i in range(y_bins):  \n",
    "    print(f\"Class {i} Precision: {prec[i]}\")\n",
    "    print(f\"Class {i} Recall: {rec[i]}\")\n",
    "    print(f\"Class {i} F1: {f1[i]}\")\n",
    "    print()"
   ]
  },
  {
   "cell_type": "code",
   "execution_count": null,
   "id": "05627fbb",
   "metadata": {
    "scrolled": true
   },
   "outputs": [],
   "source": []
  },
  {
   "cell_type": "code",
   "execution_count": null,
   "id": "b2a4c36b",
   "metadata": {
    "scrolled": true
   },
   "outputs": [],
   "source": []
  },
  {
   "cell_type": "code",
   "execution_count": null,
   "id": "3eb06bff",
   "metadata": {
    "scrolled": true
   },
   "outputs": [],
   "source": []
  },
  {
   "cell_type": "code",
   "execution_count": null,
   "id": "f6bdcceb",
   "metadata": {
    "scrolled": true
   },
   "outputs": [],
   "source": []
  },
  {
   "cell_type": "markdown",
   "id": "bd12ed1d",
   "metadata": {},
   "source": [
    "# Visualisations"
   ]
  },
  {
   "cell_type": "markdown",
   "id": "5a4bad91",
   "metadata": {},
   "source": [
    "## Fisher's Score"
   ]
  },
  {
   "cell_type": "code",
   "execution_count": null,
   "id": "6ce055b1",
   "metadata": {
    "scrolled": true
   },
   "outputs": [],
   "source": [
    "from skfeature.function.similarity_based.fisher_score import fisher_score\n",
    "\n",
    "from sklearn.feature_selection import SelectKBest, f_classif\n",
    "\n",
    "from sklearn.feature_selection import chi2\n"
   ]
  },
  {
   "cell_type": "code",
   "execution_count": null,
   "id": "2f35be8d",
   "metadata": {
    "scrolled": true
   },
   "outputs": [],
   "source": [
    "df.head()"
   ]
  },
  {
   "cell_type": "code",
   "execution_count": null,
   "id": "1aec6fc6",
   "metadata": {},
   "outputs": [],
   "source": [
    "X = df[[\n",
    "    'Weather Code Intensity', 'Month', 'Irregular Departure Time',\n",
    "    'Is Holiday', 'Is Labour Day', 'Is Xmas',\n",
    "    'Origin Precipitation', 'Origin Windspeed',\n",
    "    'Monthly Median Departure Delay', 'Airplane Age',\n",
    "    'Origin Total Operations'\n",
    "]]\n",
    "y = df['Classified Departure Delay (5)']"
   ]
  },
  {
   "cell_type": "code",
   "execution_count": null,
   "id": "8a01bb31",
   "metadata": {
    "scrolled": true
   },
   "outputs": [],
   "source": [
    "fisher_scores = SelectKBest(score_func=f_classif, k='all').fit(X, y).scores_\n",
    "\n",
    "fig = go.Figure()\n",
    "fig.add_trace(go.Bar(x=list(X.columns), y=fisher_scores))\n",
    "\n",
    "fig.update_layout(title=\"Fisher's Score of Features\", xaxis_title='Features', yaxis_title=\"Fisher's Score\")\n",
    "\n",
    "fig.show()"
   ]
  },
  {
   "cell_type": "code",
   "execution_count": null,
   "id": "3953c4d6",
   "metadata": {
    "scrolled": true
   },
   "outputs": [],
   "source": [
    "sorted_features"
   ]
  },
  {
   "cell_type": "code",
   "execution_count": null,
   "id": "4174705c",
   "metadata": {
    "scrolled": true
   },
   "outputs": [],
   "source": [
    "fisher_scores"
   ]
  },
  {
   "cell_type": "code",
   "execution_count": null,
   "id": "92e07a56",
   "metadata": {},
   "outputs": [],
   "source": [
    "X.columns"
   ]
  },
  {
   "cell_type": "code",
   "execution_count": null,
   "id": "4fdd7159",
   "metadata": {},
   "outputs": [],
   "source": [
    "import plotly.graph_objects as go\n",
    "\n",
    "fig = go.Figure()\n",
    "fig.add_trace(go.Bar(x=list(X.columns), y=fisher_scores))\n",
    "\n",
    "fig.update_layout(title=\"Fisher's Score of Features\", xaxis_title='Features', yaxis_title=\"Fisher's Score\")\n",
    "\n",
    "fig.show()"
   ]
  },
  {
   "cell_type": "code",
   "execution_count": null,
   "id": "e13a061b",
   "metadata": {},
   "outputs": [],
   "source": []
  }
 ],
 "metadata": {
  "kernelspec": {
   "display_name": "Python 3 (ipykernel)",
   "language": "python",
   "name": "python3"
  },
  "language_info": {
   "codemirror_mode": {
    "name": "ipython",
    "version": 3
   },
   "file_extension": ".py",
   "mimetype": "text/x-python",
   "name": "python",
   "nbconvert_exporter": "python",
   "pygments_lexer": "ipython3",
   "version": "3.7.10"
  }
 },
 "nbformat": 4,
 "nbformat_minor": 5
}
