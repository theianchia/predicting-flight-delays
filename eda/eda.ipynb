{
 "cells": [
  {
   "cell_type": "code",
   "execution_count": null,
   "id": "b99e98ad",
   "metadata": {},
   "outputs": [],
   "source": [
    "import pandas as pd\n",
    "import numpy as np\n",
    "import plotly.express as px\n",
    "import plotly.graph_objects as go\n",
    "from plotly.subplots import make_subplots\n",
    "\n",
    "from sklearn.preprocessing import StandardScaler\n",
    "\n",
    "from sklearn.decomposition import PCA\n",
    "\n",
    "from sklearn.cluster import KMeans"
   ]
  },
  {
   "cell_type": "code",
   "execution_count": null,
   "id": "a8354a3f",
   "metadata": {},
   "outputs": [],
   "source": [
    "# !pip3 install --upgrade plotly"
   ]
  },
  {
   "cell_type": "code",
   "execution_count": null,
   "id": "c446dcda",
   "metadata": {},
   "outputs": [],
   "source": []
  },
  {
   "cell_type": "code",
   "execution_count": null,
   "id": "d3959991",
   "metadata": {},
   "outputs": [],
   "source": []
  },
  {
   "cell_type": "code",
   "execution_count": null,
   "id": "b2e1d494",
   "metadata": {},
   "outputs": [],
   "source": []
  },
  {
   "cell_type": "code",
   "execution_count": null,
   "id": "d29fa680",
   "metadata": {},
   "outputs": [],
   "source": []
  },
  {
   "cell_type": "code",
   "execution_count": null,
   "id": "172caf52",
   "metadata": {},
   "outputs": [],
   "source": []
  },
  {
   "cell_type": "markdown",
   "id": "237c48a6",
   "metadata": {},
   "source": [
    "# Post-merge EDA"
   ]
  },
  {
   "cell_type": "code",
   "execution_count": null,
   "id": "003046b4",
   "metadata": {},
   "outputs": [],
   "source": [
    "df = pd.read_csv(\"../scripts/eda_2018.csv\")\n",
    "df.head()"
   ]
  },
  {
   "cell_type": "code",
   "execution_count": null,
   "id": "4fa656ad",
   "metadata": {},
   "outputs": [],
   "source": [
    "print(df.shape)\n",
    "df.isnull().sum()"
   ]
  },
  {
   "cell_type": "code",
   "execution_count": null,
   "id": "d882e1be",
   "metadata": {},
   "outputs": [],
   "source": [
    "df.dropna(inplace=True)\n",
    "df.reset_index(inplace=True, drop=True)\n",
    "print(df.shape)\n",
    "df.head()"
   ]
  },
  {
   "cell_type": "markdown",
   "id": "86166649",
   "metadata": {},
   "source": [
    "## Creating Outcome Column"
   ]
  },
  {
   "cell_type": "code",
   "execution_count": null,
   "id": "bd7cc9cf",
   "metadata": {},
   "outputs": [],
   "source": [
    "departure_delay_df = df['Departure Delay'].reset_index()\n",
    "departure_delay_df.drop('index', axis=1, inplace=True)\n",
    "departure_delay_df.head()"
   ]
  },
  {
   "cell_type": "code",
   "execution_count": null,
   "id": "da96a8cd",
   "metadata": {},
   "outputs": [],
   "source": [
    "flight_delay_df = df['Flight Delay'].reset_index()\n",
    "flight_delay_df.drop('index', axis=1, inplace=True)\n",
    "flight_delay_df.head()"
   ]
  },
  {
   "cell_type": "code",
   "execution_count": null,
   "id": "2214a61f",
   "metadata": {},
   "outputs": [],
   "source": [
    "print(departure_delay_df.min())\n",
    "print(departure_delay_df.max())\n",
    "print(departure_delay_df.mean())\n",
    "print(departure_delay_df.std())"
   ]
  },
  {
   "cell_type": "code",
   "execution_count": null,
   "id": "46b9ec08",
   "metadata": {},
   "outputs": [],
   "source": [
    "print(flight_delay_df.min())\n",
    "print(flight_delay_df.max())\n",
    "print(flight_delay_df.mean())\n",
    "print(flight_delay_df.std())"
   ]
  },
  {
   "cell_type": "code",
   "execution_count": null,
   "id": "a4e401f4",
   "metadata": {},
   "outputs": [],
   "source": [
    "fig = px.histogram(departure_delay_df, x='Departure Delay')\n",
    "fig.update_layout(\n",
    "    autosize=True\n",
    ")\n",
    "fig.show()"
   ]
  },
  {
   "cell_type": "code",
   "execution_count": null,
   "id": "528563eb",
   "metadata": {},
   "outputs": [],
   "source": [
    "fig = px.histogram(flight_delay_df, x='Flight Delay')\n",
    "fig.update_layout(\n",
    "    autosize=True\n",
    ")\n",
    "fig.show()"
   ]
  },
  {
   "cell_type": "code",
   "execution_count": null,
   "id": "5370d186",
   "metadata": {},
   "outputs": [],
   "source": [
    "def classify_dep_delay(row):\n",
    "    if row <= -60:\n",
    "        return 1\n",
    "    elif row <= -15:\n",
    "        return 2\n",
    "    elif row <= 15:\n",
    "        return 3\n",
    "    elif row <= 60:\n",
    "        return 4\n",
    "    else:\n",
    "        return 5\n",
    "    \n",
    "def classify_fl_delay(row):\n",
    "    if row <= -60:\n",
    "        return 1\n",
    "    elif row <= -15:\n",
    "        return 2\n",
    "    elif row <= 15:\n",
    "        return 3\n",
    "    elif row <= 60:\n",
    "        return 4\n",
    "    else:\n",
    "        return 5\n",
    "    \n",
    "departure_delay_df[\"Classified Departure Delay\"] = departure_delay_df[\"Departure Delay\"].apply(classify_dep_delay)\n",
    "flight_delay_df[\"Classified Flight Delay\"] = flight_delay_df[\"Flight Delay\"].apply(classify_fl_delay)"
   ]
  },
  {
   "cell_type": "code",
   "execution_count": null,
   "id": "9af6033a",
   "metadata": {},
   "outputs": [],
   "source": []
  },
  {
   "cell_type": "code",
   "execution_count": null,
   "id": "46b324a9",
   "metadata": {},
   "outputs": [],
   "source": []
  },
  {
   "cell_type": "code",
   "execution_count": null,
   "id": "0635e8b7",
   "metadata": {},
   "outputs": [],
   "source": []
  },
  {
   "cell_type": "code",
   "execution_count": null,
   "id": "9f3d0328",
   "metadata": {},
   "outputs": [],
   "source": []
  },
  {
   "cell_type": "markdown",
   "id": "4eb92e07",
   "metadata": {},
   "source": [
    "## Feature Selection & Engineering"
   ]
  },
  {
   "cell_type": "code",
   "execution_count": null,
   "id": "55902f59",
   "metadata": {},
   "outputs": [],
   "source": []
  },
  {
   "cell_type": "code",
   "execution_count": null,
   "id": "00702b07",
   "metadata": {},
   "outputs": [],
   "source": [
    "OUTCOMES = [\n",
    "    'Departure Delay', 'Flight Delay', 'Classified Departure Delay', 'Classified Flight Delay'\n",
    "]\n",
    "\n",
    "FEATURES_COLS = [\n",
    "    'Seats', 'Airplane Age', 'Month',\n",
    "    'Distance', 'Departure Time',\n",
    "    'Origin Total Operations',\n",
    "    'Origin Precipitation', 'Origin Rain', 'Origin Snowfall', \n",
    "    'Origin Windspeed', 'Origin Windgusts', 'Origin Evapotranspiration',\n",
    "    'Origin Shortwave Radiation',\n",
    "    'Destination Total Operations',\n",
    "    'Destination Precipitation', 'Destination Rain', 'Destination Snowfall', \n",
    "    'Destination Windspeed', 'Destination Windgusts', 'Destination Evapotranspiration',\n",
    "    'Destination Shortwave Radiation',\n",
    "]\n",
    "\n",
    "SCALED_FEATURES_COLS = [\n",
    "    'Monthly Median Flight Delay', 'Monthly Median Departure Delay',\n",
    "    'Seats', 'Airplane Age', 'Distance',\n",
    "    'Origin Total Operations', 'Destination Total Operations',\n",
    "    'Origin Precipitation', 'Origin Rain', 'Origin Snowfall', \n",
    "    'Origin Windspeed', 'Origin Windgusts', 'Origin Evapotranspiration',\n",
    "    'Origin Shortwave Radiation',\n",
    "    'Destination Precipitation', 'Destination Rain', 'Destination Snowfall', \n",
    "    'Destination Windspeed', 'Destination Windgusts', 'Destination Evapotranspiration',\n",
    "    'Destination Shortwave Radiation',\n",
    "]\n",
    "\n",
    "NON_WEATHER_FEATURES = [\n",
    "    'Seats', 'Airplane Age', 'Distance', 'Origin Total Operations', 'Destination Total Operations',\n",
    "]\n",
    "\n",
    "ORIGIN_WEATHER_FEATURES = [\n",
    "    'Origin Precipitation', 'Origin Rain',\n",
    "    'Origin Snowfall', 'Origin Windspeed', 'Origin Windgusts',\n",
    "    'Origin Evapotranspiration', 'Origin Shortwave Radiation',\n",
    "]\n",
    "\n",
    "DEST_WEATHER_FEATURES = [\n",
    "    'Destination Precipitation', 'Destination Rain',\n",
    "    'Destination Snowfall', 'Destination Windspeed', 'Destination Windgusts',\n",
    "    'Destination Evapotranspiration', 'Destination Shortwave Radiation'\n",
    "]"
   ]
  },
  {
   "cell_type": "code",
   "execution_count": null,
   "id": "4f89cfba",
   "metadata": {},
   "outputs": [],
   "source": [
    "df['Departure Delay'] = departure_delay_df['Departure Delay']\n",
    "df['Classified Departure Delay'] = departure_delay_df['Classified Departure Delay']\n",
    "df['Flight Delay'] = flight_delay_df['Flight Delay']\n",
    "df['Classified Flight Delay'] = flight_delay_df['Classified Flight Delay']\n",
    "\n",
    "airline_type_df = df['Carrier Code']\n",
    "features_df = df[FEATURES_COLS]"
   ]
  },
  {
   "cell_type": "code",
   "execution_count": null,
   "id": "4fdab6ff",
   "metadata": {},
   "outputs": [],
   "source": [
    "airline_type_df"
   ]
  },
  {
   "cell_type": "code",
   "execution_count": null,
   "id": "9203e1fd",
   "metadata": {},
   "outputs": [],
   "source": [
    "num_airline_flights = list(airline_type_df.sum())\n",
    "num_airline_flights\n",
    "\n",
    "fig = go.Figure()\n",
    "fig.add_trace(go.Bar(x=AIRLINE_COLS, y=num_airline_flights, name='Airlines'))\n",
    "\n",
    "fig.update_layout(\n",
    "    title='No. of Flights by Airline in 2018',\n",
    "    xaxis_title='Category',\n",
    "    yaxis_title='Count',\n",
    ")\n",
    "fig.show()"
   ]
  },
  {
   "cell_type": "code",
   "execution_count": null,
   "id": "4f956906",
   "metadata": {},
   "outputs": [],
   "source": [
    "# airline_type_df['Carrier'] = airline_type_df.idxmax(axis=1)\n",
    "# airline_type_df.drop(AIRLINE_COLS, axis=1, inplace=True)\n",
    "# airline_type_df.head()"
   ]
  },
  {
   "cell_type": "code",
   "execution_count": null,
   "id": "de81f865",
   "metadata": {},
   "outputs": [],
   "source": []
  },
  {
   "cell_type": "code",
   "execution_count": null,
   "id": "dba1e46f",
   "metadata": {},
   "outputs": [],
   "source": [
    "airline_type_df = pd.concat([airline_type_df, df['Month'], df[OUTCOMES]], axis=1)\n",
    "airline_type_df.head()"
   ]
  },
  {
   "cell_type": "code",
   "execution_count": null,
   "id": "aa9e4f33",
   "metadata": {},
   "outputs": [],
   "source": [
    "monthly_median_carrier_flight_delay = airline_type_df.groupby(['Carrier Code', 'Month'])['Flight Delay'].median().reset_index()\n",
    "monthly_median_carrier_dep_delay = airline_type_df.groupby(['Carrier Code', 'Month'])['Departure Delay'].median().reset_index()\n",
    "\n",
    "monthly_median_carrier_flight_delay.rename(columns={'Flight Delay': 'Monthly Median Flight Delay'}, inplace=True)\n",
    "monthly_median_carrier_dep_delay.rename(columns={'Departure Delay': 'Monthly Median Departure Delay'}, inplace=True)\n",
    "monthly_median_carrier_dep_delay.head()"
   ]
  },
  {
   "cell_type": "code",
   "execution_count": null,
   "id": "0fdb76cd",
   "metadata": {},
   "outputs": [],
   "source": [
    "monthly_mode_carrier_flight_delay_class = airline_type_df.groupby(['Carrier Code', 'Month'])['Classified Flight Delay'].agg(lambda x:x.value_counts().index[0]).reset_index()\n",
    "monthly_mode_carrier_dep_delay_class = airline_type_df.groupby(['Carrier Code', 'Month'])['Classified Departure Delay'].agg(lambda x:x.value_counts().index[0]).reset_index()\n",
    "\n",
    "monthly_mode_carrier_flight_delay_class.rename(columns={'Classified Flight Delay': 'Monthly Mode Flight Delay Class'}, inplace=True)\n",
    "monthly_mode_carrier_dep_delay_class.rename(columns={'Classified Departure Delay': 'Monthly Mode Departure Delay Class'}, inplace=True)\n",
    "monthly_mode_carrier_dep_delay_class.head()"
   ]
  },
  {
   "cell_type": "code",
   "execution_count": null,
   "id": "786ce8af",
   "metadata": {},
   "outputs": [],
   "source": []
  },
  {
   "cell_type": "code",
   "execution_count": null,
   "id": "024be0d0",
   "metadata": {},
   "outputs": [],
   "source": []
  },
  {
   "cell_type": "code",
   "execution_count": null,
   "id": "d7527156",
   "metadata": {},
   "outputs": [],
   "source": [
    "df['Carrier'] = airline_type_df['Carrier']"
   ]
  },
  {
   "cell_type": "code",
   "execution_count": null,
   "id": "9a8b39ac",
   "metadata": {},
   "outputs": [],
   "source": [
    "df = df.merge(monthly_median_carrier_flight_delay.set_index(['Carrier Code', 'Month']), on=['Carrier Code', 'Month'], how='left')\n",
    "df = df.merge(monthly_median_carrier_dep_delay.set_index(['Carrier Code', 'Month']), on=['Carrier Code', 'Month'], how='left')\n",
    "df = df.merge(monthly_mode_carrier_flight_delay_class.set_index(['Carrier Code', 'Month']), on=['Carrier Code', 'Month'], how='left')\n",
    "df = df.merge(monthly_mode_carrier_dep_delay_class.set_index(['Carrier Code', 'Month']), on=['Carrier Code', 'Month'], how='left')"
   ]
  },
  {
   "cell_type": "code",
   "execution_count": null,
   "id": "1b9d26ac",
   "metadata": {},
   "outputs": [],
   "source": [
    "df.head()"
   ]
  },
  {
   "cell_type": "code",
   "execution_count": null,
   "id": "2115c6b1",
   "metadata": {},
   "outputs": [],
   "source": []
  },
  {
   "cell_type": "code",
   "execution_count": null,
   "id": "a5ec079c",
   "metadata": {},
   "outputs": [],
   "source": []
  },
  {
   "cell_type": "markdown",
   "id": "de0d931e",
   "metadata": {},
   "source": [
    "## Sampling"
   ]
  },
  {
   "cell_type": "code",
   "execution_count": null,
   "id": "f9bbb8e5",
   "metadata": {},
   "outputs": [],
   "source": [
    "# rows = 3000000\n",
    "# sampled_df = df.sample(n=rows, random_state=42)\n",
    "# sampled_df = sampled_df.reset_index()\n",
    "# sampled_df.drop('index', axis=1, inplace=True)\n",
    "# print(sampled_df.shape)\n",
    "# sampled_df.head()\n",
    "\n",
    "sampled_df = df\n",
    "print(sampled_df.shape)\n",
    "sampled_df.head()"
   ]
  },
  {
   "cell_type": "code",
   "execution_count": null,
   "id": "e5a8297e",
   "metadata": {},
   "outputs": [],
   "source": []
  },
  {
   "cell_type": "code",
   "execution_count": null,
   "id": "173bd8d1",
   "metadata": {},
   "outputs": [],
   "source": [
    "col = \"Airplane Age\"\n",
    "\n",
    "fig = px.histogram(features_df, x=col)\n",
    "fig.update_layout(title=f\"{col} Histogram\")\n",
    "fig.show()"
   ]
  },
  {
   "cell_type": "code",
   "execution_count": null,
   "id": "08f1210f",
   "metadata": {},
   "outputs": [],
   "source": []
  },
  {
   "cell_type": "code",
   "execution_count": null,
   "id": "dd492bc9",
   "metadata": {},
   "outputs": [],
   "source": []
  },
  {
   "cell_type": "code",
   "execution_count": null,
   "id": "533bae77",
   "metadata": {},
   "outputs": [],
   "source": []
  },
  {
   "cell_type": "code",
   "execution_count": null,
   "id": "6b19faf2",
   "metadata": {},
   "outputs": [],
   "source": [
    "corr = features_df.corr()\n",
    "\n",
    "fig = px.imshow(\n",
    "    corr,\n",
    "    x=corr.columns,\n",
    "    y=corr.columns,\n",
    "    color_continuous_scale='RdBu',\n",
    "    zmin=-1,\n",
    "    zmax=1\n",
    ")\n",
    "\n",
    "fig.update_layout(title='Correlation Heatmap')\n",
    "\n",
    "fig.show()"
   ]
  },
  {
   "cell_type": "code",
   "execution_count": null,
   "id": "85099ecc",
   "metadata": {},
   "outputs": [],
   "source": [
    "col = \"Departure Time\"\n",
    "\n",
    "fig = px.histogram(features_df, x=col)\n",
    "fig.update_layout(title=f\"{col} Histogram\")\n",
    "fig.show()"
   ]
  },
  {
   "cell_type": "code",
   "execution_count": null,
   "id": "da000c67",
   "metadata": {},
   "outputs": [],
   "source": [
    "X = sampled_df[NON_WEATHER_FEATURES]\n",
    "kmeans = KMeans(n_clusters=5).fit(X)\n",
    "labels = kmeans.labels_"
   ]
  },
  {
   "cell_type": "code",
   "execution_count": null,
   "id": "28ab374f",
   "metadata": {},
   "outputs": [],
   "source": [
    "clustering_result_df = sampled_df[[\"Departure Time\", \"Flight Delay\"]]\n",
    "clustering_result_df['Cluster'] = labels\n",
    "\n",
    "fig = px.scatter(clustering_result_df, x='Flight Delay', y=\"Departure Time\", color='Cluster')\n",
    "fig.update_layout(title='Scatter Plot with Clustering')\n",
    "fig.show()"
   ]
  },
  {
   "cell_type": "code",
   "execution_count": null,
   "id": "7b7e7a7f",
   "metadata": {},
   "outputs": [],
   "source": [
    "clustering_result_df = sampled_df[[\"Month\", \"Flight Delay\"]]\n",
    "clustering_result_df['Cluster'] = labels\n",
    "\n",
    "fig = px.scatter(clustering_result_df, x='Flight Delay', y=\"Month\", color='Cluster')\n",
    "fig.update_layout(title='Scatter Plot with Clustering')\n",
    "fig.show()"
   ]
  },
  {
   "cell_type": "code",
   "execution_count": null,
   "id": "9cb86c0f",
   "metadata": {},
   "outputs": [],
   "source": []
  },
  {
   "cell_type": "code",
   "execution_count": null,
   "id": "85f59d43",
   "metadata": {},
   "outputs": [],
   "source": [
    "CLASSIFIED_DEP_TIME = {\n",
    "    1: 'Morning Dep Time',\n",
    "    2: 'Regular Dep Time',\n",
    "    3: 'Night Dep Time'\n",
    "}\n",
    "\n",
    "def classify_dep_time(row):\n",
    "    if row <= 600:\n",
    "        return 1\n",
    "    elif row <= 2000:\n",
    "        return 2\n",
    "    else:\n",
    "        return 3\n",
    "    \n",
    "col = \"Classified Departure Time\"\n",
    "\n",
    "sampled_df[col] = sampled_df[\"Departure Time\"].apply(classify_dep_time)\n",
    "sampled_df[col].replace(CLASSIFIED_DEP_TIME, inplace=True)\n",
    "encoded_dep_time_df = pd.get_dummies(sampled_df[col])\n",
    "sampled_df.drop(col, axis=1, inplace=True)\n",
    "sampled_df = pd.concat([sampled_df, encoded_dep_time_df], axis=1)\n",
    "sampled_df.head()"
   ]
  },
  {
   "cell_type": "code",
   "execution_count": null,
   "id": "9a05dd73",
   "metadata": {},
   "outputs": [],
   "source": [
    "# MONTHS = {\n",
    "#     1: 'January',\n",
    "#     2: 'Feburary',\n",
    "#     3: 'March',\n",
    "#     4: 'April',\n",
    "#     5: 'May',\n",
    "#     6: 'June',\n",
    "#     7: 'July',\n",
    "#     8: 'August',\n",
    "#     9: 'September',\n",
    "#     10: 'October',\n",
    "#     11: 'November', \n",
    "#     12: 'December'\n",
    "# }\n",
    "\n",
    "# col = \"Month\"\n",
    "\n",
    "# sampled_df[col].replace(MONTHS, inplace=True)\n",
    "# encoded_dep_time_df = pd.get_dummies(sampled_df[col])\n",
    "# sampled_df.drop(col, axis=1, inplace=True)\n",
    "# sampled_df = pd.concat([sampled_df, encoded_dep_time_df], axis=1)\n",
    "# sampled_df.head()"
   ]
  },
  {
   "cell_type": "code",
   "execution_count": null,
   "id": "e43519bf",
   "metadata": {},
   "outputs": [],
   "source": []
  },
  {
   "cell_type": "code",
   "execution_count": null,
   "id": "76bc70ed",
   "metadata": {},
   "outputs": [],
   "source": []
  },
  {
   "cell_type": "code",
   "execution_count": null,
   "id": "fc31d28f",
   "metadata": {},
   "outputs": [],
   "source": []
  },
  {
   "cell_type": "code",
   "execution_count": null,
   "id": "fd020f9b",
   "metadata": {},
   "outputs": [],
   "source": [
    "scaler = StandardScaler()\n",
    "scaled_sampled_np = scaler.fit_transform(sampled_df[SCALED_FEATURES_COLS])\n",
    "scaled_sampled_df = pd.DataFrame(scaled_sampled_np , columns=SCALED_FEATURES_COLS)\n",
    "\n",
    "print(scaled_sampled_df.shape)\n",
    "scaled_sampled_df.head()"
   ]
  },
  {
   "cell_type": "code",
   "execution_count": null,
   "id": "650d590c",
   "metadata": {},
   "outputs": [],
   "source": [
    "origin_weather_df = scaled_sampled_df[ORIGIN_WEATHER_FEATURES]\n",
    "\n",
    "pca = PCA(n_components=2)\n",
    "transformed_data = pca.fit_transform(origin_weather_df)\n",
    "print(f\"Variance explained by each component: {pca.explained_variance_ratio_}\")\n",
    "\n",
    "pca_origin_weather_df = pd.DataFrame(transformed_data, columns=[\"PCA Origin Weather 1\", \"PCA Origin Weather 2\"])\n",
    "pca_origin_weather_df.head()"
   ]
  },
  {
   "cell_type": "code",
   "execution_count": null,
   "id": "7be28d23",
   "metadata": {},
   "outputs": [],
   "source": [
    "dest_weather_df = scaled_sampled_df[DEST_WEATHER_FEATURES]\n",
    "\n",
    "pca = PCA(n_components=2)\n",
    "transformed_data = pca.fit_transform(dest_weather_df)\n",
    "print(f\"Variance explained by each component: {pca.explained_variance_ratio_}\")\n",
    "\n",
    "pca_dest_weather_df = pd.DataFrame(transformed_data, columns=[\"PCA Dest Weather 1\", \"PCA Dest Weather 2\"])\n",
    "pca_dest_weather_df.head()"
   ]
  },
  {
   "cell_type": "code",
   "execution_count": null,
   "id": "5fdd2cf2",
   "metadata": {},
   "outputs": [],
   "source": [
    "final_sampled_df = pd.concat([\n",
    "    scaled_sampled_df[NON_WEATHER_FEATURES], \n",
    "    pca_origin_weather_df, pca_dest_weather_df, \n",
    "    sampled_df[list(CLASSIFIED_DEP_TIME.values())],\n",
    "    scaled_sampled_df[[\n",
    "       'Monthly Median Flight Delay', 'Monthly Median Departure Delay', \n",
    "    ]],\n",
    "    sampled_df[[\n",
    "        'Monthly Mode Flight Delay Class', 'Monthly Mode Departure Delay Class',\n",
    "    ]],\n",
    "    sampled_df[OUTCOMES]\n",
    "], axis=1)\n",
    "\n",
    "print(final_sampled_df.shape)\n",
    "final_sampled_df.head()"
   ]
  },
  {
   "cell_type": "code",
   "execution_count": null,
   "id": "9e0f4625",
   "metadata": {},
   "outputs": [],
   "source": []
  },
  {
   "cell_type": "code",
   "execution_count": null,
   "id": "a49f3e57",
   "metadata": {},
   "outputs": [],
   "source": [
    "threshold = 3\n",
    "col = 'Departure Delay'\n",
    "\n",
    "z_scores = np.abs((final_sampled_df[col] - final_sampled_df[col].mean()) / final_sampled_df[col].std())\n",
    "final_sampled_df = final_sampled_df.loc[z_scores < threshold]\n",
    "print(final_sampled_df.shape)\n",
    "final_sampled_df.head()"
   ]
  },
  {
   "cell_type": "code",
   "execution_count": null,
   "id": "940f4bab",
   "metadata": {},
   "outputs": [],
   "source": [
    "threshold = 3\n",
    "col = 'Flight Delay'\n",
    "\n",
    "z_scores = np.abs((final_sampled_df[col] - final_sampled_df[col].mean()) / final_sampled_df[col].std())\n",
    "final_sampled_df = final_sampled_df.loc[z_scores < threshold]\n",
    "print(final_sampled_df.shape)\n",
    "final_sampled_df.head()"
   ]
  },
  {
   "cell_type": "code",
   "execution_count": null,
   "id": "0af2632e",
   "metadata": {},
   "outputs": [],
   "source": [
    "print(final_sampled_df[\"Departure Delay\"].max())\n",
    "print(final_sampled_df[\"Departure Delay\"].min())\n",
    "print(final_sampled_df[\"Departure Delay\"].mean())\n",
    "print(final_sampled_df[\"Departure Delay\"].std())\n",
    "print()\n",
    "print(final_sampled_df[\"Flight Delay\"].max())\n",
    "print(final_sampled_df[\"Flight Delay\"].min())\n",
    "print(final_sampled_df[\"Flight Delay\"].mean())\n",
    "print(final_sampled_df[\"Flight Delay\"].std())"
   ]
  },
  {
   "cell_type": "code",
   "execution_count": null,
   "id": "364d57c0",
   "metadata": {},
   "outputs": [],
   "source": [
    "print(final_sampled_df.shape)\n",
    "final_sampled_df.isnull().sum()"
   ]
  },
  {
   "cell_type": "code",
   "execution_count": null,
   "id": "27203ecb",
   "metadata": {},
   "outputs": [],
   "source": []
  },
  {
   "cell_type": "code",
   "execution_count": null,
   "id": "74947eaa",
   "metadata": {},
   "outputs": [],
   "source": []
  },
  {
   "cell_type": "code",
   "execution_count": null,
   "id": "03564141",
   "metadata": {},
   "outputs": [],
   "source": []
  },
  {
   "cell_type": "code",
   "execution_count": null,
   "id": "e49f1668",
   "metadata": {},
   "outputs": [],
   "source": []
  },
  {
   "cell_type": "code",
   "execution_count": null,
   "id": "4d9bca8f",
   "metadata": {},
   "outputs": [],
   "source": [
    "corr = final_sampled_df.corr()\n",
    "\n",
    "fig = px.imshow(\n",
    "    corr,\n",
    "    x=corr.columns,\n",
    "    y=corr.columns,\n",
    "    color_continuous_scale='RdBu',\n",
    "    zmin=-1,\n",
    "    zmax=1\n",
    ")\n",
    "\n",
    "fig.update_layout(title='Correlation Heatmap')\n",
    "\n",
    "fig.show()"
   ]
  },
  {
   "cell_type": "code",
   "execution_count": null,
   "id": "5ccff880",
   "metadata": {},
   "outputs": [],
   "source": []
  },
  {
   "cell_type": "code",
   "execution_count": null,
   "id": "854a343f",
   "metadata": {
    "scrolled": true
   },
   "outputs": [],
   "source": [
    "FINAL_COLS = [\n",
    "    'Airplane Age', 'Distance', \n",
    "    'Origin Total Operations','Destination Total Operations',\n",
    "    'PCA Origin Weather 1', 'PCA Origin Weather 2',\n",
    "    'PCA Dest Weather 1', 'PCA Dest Weather 2',\n",
    "    'Morning Dep Time', 'Regular Dep Time', 'Night Dep Time',\n",
    "    'Monthly Median Flight Delay', 'Monthly Median Departure Delay',\n",
    "    'Monthly Mode Flight Delay Class', 'Monthly Mode Departure Delay Class',\n",
    "    'Departure Delay', 'Flight Delay', 'Classified Departure Delay',\n",
    "    'Classified Flight Delay'\n",
    "]"
   ]
  },
  {
   "cell_type": "code",
   "execution_count": null,
   "id": "7f6ece5a",
   "metadata": {},
   "outputs": [],
   "source": [
    "final = final_sampled_df[FINAL_COLS]\n",
    "final"
   ]
  },
  {
   "cell_type": "code",
   "execution_count": null,
   "id": "888c665b",
   "metadata": {},
   "outputs": [],
   "source": []
  },
  {
   "cell_type": "code",
   "execution_count": null,
   "id": "d9dc3a3c",
   "metadata": {},
   "outputs": [],
   "source": []
  },
  {
   "cell_type": "code",
   "execution_count": null,
   "id": "124cf232",
   "metadata": {},
   "outputs": [],
   "source": []
  },
  {
   "cell_type": "code",
   "execution_count": null,
   "id": "00ef21ea",
   "metadata": {},
   "outputs": [],
   "source": []
  },
  {
   "cell_type": "code",
   "execution_count": null,
   "id": "53dc9b12",
   "metadata": {},
   "outputs": [],
   "source": []
  },
  {
   "cell_type": "code",
   "execution_count": null,
   "id": "66515906",
   "metadata": {},
   "outputs": [],
   "source": []
  },
  {
   "cell_type": "code",
   "execution_count": null,
   "id": "6de0b3e7",
   "metadata": {},
   "outputs": [],
   "source": []
  },
  {
   "cell_type": "code",
   "execution_count": null,
   "id": "e265aed3",
   "metadata": {
    "scrolled": true
   },
   "outputs": [],
   "source": []
  },
  {
   "cell_type": "code",
   "execution_count": null,
   "id": "aa8b7dc5",
   "metadata": {},
   "outputs": [],
   "source": []
  },
  {
   "cell_type": "code",
   "execution_count": null,
   "id": "a09f4ece",
   "metadata": {},
   "outputs": [],
   "source": []
  },
  {
   "cell_type": "code",
   "execution_count": null,
   "id": "4f684c54",
   "metadata": {},
   "outputs": [],
   "source": []
  },
  {
   "cell_type": "code",
   "execution_count": null,
   "id": "1c02241b",
   "metadata": {},
   "outputs": [],
   "source": []
  },
  {
   "cell_type": "code",
   "execution_count": null,
   "id": "894cee97",
   "metadata": {},
   "outputs": [],
   "source": []
  },
  {
   "cell_type": "code",
   "execution_count": null,
   "id": "e0379d64",
   "metadata": {},
   "outputs": [],
   "source": []
  },
  {
   "cell_type": "code",
   "execution_count": null,
   "id": "81f23741",
   "metadata": {},
   "outputs": [],
   "source": []
  },
  {
   "cell_type": "code",
   "execution_count": null,
   "id": "6f91ebed",
   "metadata": {},
   "outputs": [],
   "source": []
  },
  {
   "cell_type": "code",
   "execution_count": null,
   "id": "5e67fb7a",
   "metadata": {},
   "outputs": [],
   "source": []
  },
  {
   "cell_type": "code",
   "execution_count": null,
   "id": "e0363a15",
   "metadata": {},
   "outputs": [],
   "source": []
  },
  {
   "cell_type": "code",
   "execution_count": null,
   "id": "12f3067b",
   "metadata": {},
   "outputs": [],
   "source": []
  },
  {
   "cell_type": "code",
   "execution_count": null,
   "id": "7d5b5c2e",
   "metadata": {},
   "outputs": [],
   "source": []
  },
  {
   "cell_type": "code",
   "execution_count": null,
   "id": "cc932fe8",
   "metadata": {},
   "outputs": [],
   "source": []
  },
  {
   "cell_type": "code",
   "execution_count": null,
   "id": "9303756c",
   "metadata": {},
   "outputs": [],
   "source": []
  },
  {
   "cell_type": "code",
   "execution_count": null,
   "id": "6b5ade75",
   "metadata": {},
   "outputs": [],
   "source": []
  },
  {
   "cell_type": "code",
   "execution_count": null,
   "id": "ec0aba67",
   "metadata": {},
   "outputs": [],
   "source": []
  },
  {
   "cell_type": "code",
   "execution_count": null,
   "id": "bd000130",
   "metadata": {},
   "outputs": [],
   "source": []
  },
  {
   "cell_type": "code",
   "execution_count": null,
   "id": "4abdabd8",
   "metadata": {},
   "outputs": [],
   "source": [
    "final.to_csv(f\"model_2018.csv\", index=False)"
   ]
  },
  {
   "cell_type": "code",
   "execution_count": null,
   "id": "2fee8e5e",
   "metadata": {},
   "outputs": [],
   "source": []
  }
 ],
 "metadata": {
  "kernelspec": {
   "display_name": "Python 3 (ipykernel)",
   "language": "python",
   "name": "python3"
  },
  "language_info": {
   "codemirror_mode": {
    "name": "ipython",
    "version": 3
   },
   "file_extension": ".py",
   "mimetype": "text/x-python",
   "name": "python",
   "nbconvert_exporter": "python",
   "pygments_lexer": "ipython3",
   "version": "3.7.4"
  }
 },
 "nbformat": 4,
 "nbformat_minor": 5
}
