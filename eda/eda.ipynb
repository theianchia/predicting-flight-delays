{
 "cells": [
  {
   "cell_type": "code",
   "execution_count": 23,
   "id": "a6dc977d",
   "metadata": {},
   "outputs": [],
   "source": [
    "import pandas as pd\n",
    "import matplotlib.pyplot as plt\n",
    "import seaborn as sns\n",
    "import plotly.express as px"
   ]
  },
  {
   "cell_type": "code",
   "execution_count": 2,
   "id": "463dfcf2",
   "metadata": {},
   "outputs": [],
   "source": [
    "airline_df = pd.read_csv(\"cleaned_airline_2018.csv\")\n",
    "\n",
    "abe_weather_df = pd.read_csv(\"abe_cleaned_weather_2018.csv\")\n",
    "atl_weather_df = pd.read_csv(\"atl_cleaned_weather_2018.csv\")"
   ]
  },
  {
   "cell_type": "code",
   "execution_count": 3,
   "id": "8cd4fdda",
   "metadata": {},
   "outputs": [
    {
     "data": {
      "text/html": [
       "<div>\n",
       "<style scoped>\n",
       "    .dataframe tbody tr th:only-of-type {\n",
       "        vertical-align: middle;\n",
       "    }\n",
       "\n",
       "    .dataframe tbody tr th {\n",
       "        vertical-align: top;\n",
       "    }\n",
       "\n",
       "    .dataframe thead th {\n",
       "        text-align: right;\n",
       "    }\n",
       "</style>\n",
       "<table border=\"1\" class=\"dataframe\">\n",
       "  <thead>\n",
       "    <tr style=\"text-align: right;\">\n",
       "      <th></th>\n",
       "      <th>FL_DATE</th>\n",
       "      <th>ORIGIN</th>\n",
       "      <th>DEST</th>\n",
       "      <th>CRS_ELAPSED_TIME</th>\n",
       "      <th>ACTUAL_ELAPSED_TIME</th>\n",
       "      <th>DISTANCE</th>\n",
       "      <th>Alaska Airlines</th>\n",
       "      <th>Allegiant Air</th>\n",
       "      <th>American Airlines</th>\n",
       "      <th>Delta Airlines</th>\n",
       "      <th>...</th>\n",
       "      <th>Hawaiian Airlines</th>\n",
       "      <th>JetBlue Airways</th>\n",
       "      <th>Mesa Airline</th>\n",
       "      <th>PSA Airlines</th>\n",
       "      <th>Republic Airways</th>\n",
       "      <th>SkyWest Airlines</th>\n",
       "      <th>Southwest Airlines</th>\n",
       "      <th>Spirit Airlines</th>\n",
       "      <th>United Airlines</th>\n",
       "      <th>Virgin America</th>\n",
       "    </tr>\n",
       "  </thead>\n",
       "  <tbody>\n",
       "    <tr>\n",
       "      <th>0</th>\n",
       "      <td>2018-01-01</td>\n",
       "      <td>EWR</td>\n",
       "      <td>DEN</td>\n",
       "      <td>268.0</td>\n",
       "      <td>250.0</td>\n",
       "      <td>1605.0</td>\n",
       "      <td>0</td>\n",
       "      <td>0</td>\n",
       "      <td>0</td>\n",
       "      <td>0</td>\n",
       "      <td>...</td>\n",
       "      <td>0</td>\n",
       "      <td>0</td>\n",
       "      <td>0</td>\n",
       "      <td>0</td>\n",
       "      <td>0</td>\n",
       "      <td>0</td>\n",
       "      <td>0</td>\n",
       "      <td>0</td>\n",
       "      <td>1</td>\n",
       "      <td>0</td>\n",
       "    </tr>\n",
       "    <tr>\n",
       "      <th>1</th>\n",
       "      <td>2018-01-01</td>\n",
       "      <td>LAS</td>\n",
       "      <td>SFO</td>\n",
       "      <td>99.0</td>\n",
       "      <td>83.0</td>\n",
       "      <td>414.0</td>\n",
       "      <td>0</td>\n",
       "      <td>0</td>\n",
       "      <td>0</td>\n",
       "      <td>0</td>\n",
       "      <td>...</td>\n",
       "      <td>0</td>\n",
       "      <td>0</td>\n",
       "      <td>0</td>\n",
       "      <td>0</td>\n",
       "      <td>0</td>\n",
       "      <td>0</td>\n",
       "      <td>0</td>\n",
       "      <td>0</td>\n",
       "      <td>1</td>\n",
       "      <td>0</td>\n",
       "    </tr>\n",
       "    <tr>\n",
       "      <th>2</th>\n",
       "      <td>2018-01-01</td>\n",
       "      <td>SNA</td>\n",
       "      <td>DEN</td>\n",
       "      <td>134.0</td>\n",
       "      <td>126.0</td>\n",
       "      <td>846.0</td>\n",
       "      <td>0</td>\n",
       "      <td>0</td>\n",
       "      <td>0</td>\n",
       "      <td>0</td>\n",
       "      <td>...</td>\n",
       "      <td>0</td>\n",
       "      <td>0</td>\n",
       "      <td>0</td>\n",
       "      <td>0</td>\n",
       "      <td>0</td>\n",
       "      <td>0</td>\n",
       "      <td>0</td>\n",
       "      <td>0</td>\n",
       "      <td>1</td>\n",
       "      <td>0</td>\n",
       "    </tr>\n",
       "    <tr>\n",
       "      <th>3</th>\n",
       "      <td>2018-01-01</td>\n",
       "      <td>RSW</td>\n",
       "      <td>ORD</td>\n",
       "      <td>190.0</td>\n",
       "      <td>182.0</td>\n",
       "      <td>1120.0</td>\n",
       "      <td>0</td>\n",
       "      <td>0</td>\n",
       "      <td>0</td>\n",
       "      <td>0</td>\n",
       "      <td>...</td>\n",
       "      <td>0</td>\n",
       "      <td>0</td>\n",
       "      <td>0</td>\n",
       "      <td>0</td>\n",
       "      <td>0</td>\n",
       "      <td>0</td>\n",
       "      <td>0</td>\n",
       "      <td>0</td>\n",
       "      <td>1</td>\n",
       "      <td>0</td>\n",
       "    </tr>\n",
       "    <tr>\n",
       "      <th>4</th>\n",
       "      <td>2018-01-01</td>\n",
       "      <td>ORD</td>\n",
       "      <td>ALB</td>\n",
       "      <td>112.0</td>\n",
       "      <td>106.0</td>\n",
       "      <td>723.0</td>\n",
       "      <td>0</td>\n",
       "      <td>0</td>\n",
       "      <td>0</td>\n",
       "      <td>0</td>\n",
       "      <td>...</td>\n",
       "      <td>0</td>\n",
       "      <td>0</td>\n",
       "      <td>0</td>\n",
       "      <td>0</td>\n",
       "      <td>0</td>\n",
       "      <td>0</td>\n",
       "      <td>0</td>\n",
       "      <td>0</td>\n",
       "      <td>1</td>\n",
       "      <td>0</td>\n",
       "    </tr>\n",
       "  </tbody>\n",
       "</table>\n",
       "<p>5 rows × 24 columns</p>\n",
       "</div>"
      ],
      "text/plain": [
       "      FL_DATE ORIGIN DEST  CRS_ELAPSED_TIME  ACTUAL_ELAPSED_TIME  DISTANCE  \\\n",
       "0  2018-01-01    EWR  DEN             268.0                250.0    1605.0   \n",
       "1  2018-01-01    LAS  SFO              99.0                 83.0     414.0   \n",
       "2  2018-01-01    SNA  DEN             134.0                126.0     846.0   \n",
       "3  2018-01-01    RSW  ORD             190.0                182.0    1120.0   \n",
       "4  2018-01-01    ORD  ALB             112.0                106.0     723.0   \n",
       "\n",
       "   Alaska Airlines  Allegiant Air  American Airlines  Delta Airlines  ...  \\\n",
       "0                0              0                  0               0  ...   \n",
       "1                0              0                  0               0  ...   \n",
       "2                0              0                  0               0  ...   \n",
       "3                0              0                  0               0  ...   \n",
       "4                0              0                  0               0  ...   \n",
       "\n",
       "   Hawaiian Airlines  JetBlue Airways  Mesa Airline  PSA Airlines  \\\n",
       "0                  0                0             0             0   \n",
       "1                  0                0             0             0   \n",
       "2                  0                0             0             0   \n",
       "3                  0                0             0             0   \n",
       "4                  0                0             0             0   \n",
       "\n",
       "   Republic Airways  SkyWest Airlines  Southwest Airlines  Spirit Airlines  \\\n",
       "0                 0                 0                   0                0   \n",
       "1                 0                 0                   0                0   \n",
       "2                 0                 0                   0                0   \n",
       "3                 0                 0                   0                0   \n",
       "4                 0                 0                   0                0   \n",
       "\n",
       "   United Airlines  Virgin America  \n",
       "0                1               0  \n",
       "1                1               0  \n",
       "2                1               0  \n",
       "3                1               0  \n",
       "4                1               0  \n",
       "\n",
       "[5 rows x 24 columns]"
      ]
     },
     "execution_count": 3,
     "metadata": {},
     "output_type": "execute_result"
    }
   ],
   "source": [
    "airline_df.head()"
   ]
  },
  {
   "cell_type": "code",
   "execution_count": 4,
   "id": "87048b45",
   "metadata": {},
   "outputs": [
    {
     "data": {
      "text/html": [
       "<div>\n",
       "<style scoped>\n",
       "    .dataframe tbody tr th:only-of-type {\n",
       "        vertical-align: middle;\n",
       "    }\n",
       "\n",
       "    .dataframe tbody tr th {\n",
       "        vertical-align: top;\n",
       "    }\n",
       "\n",
       "    .dataframe thead th {\n",
       "        text-align: right;\n",
       "    }\n",
       "</style>\n",
       "<table border=\"1\" class=\"dataframe\">\n",
       "  <thead>\n",
       "    <tr style=\"text-align: right;\">\n",
       "      <th></th>\n",
       "      <th>time</th>\n",
       "      <th>precipitation_sum (mm)</th>\n",
       "      <th>rain_sum (mm)</th>\n",
       "      <th>snowfall_sum (cm)</th>\n",
       "      <th>windspeed_10m_max (km/h)</th>\n",
       "      <th>windgusts_10m_max (km/h)</th>\n",
       "      <th>et0_fao_evapotranspiration (mm)</th>\n",
       "    </tr>\n",
       "  </thead>\n",
       "  <tbody>\n",
       "    <tr>\n",
       "      <th>0</th>\n",
       "      <td>2018-01-01</td>\n",
       "      <td>0.0</td>\n",
       "      <td>0.0</td>\n",
       "      <td>0.00</td>\n",
       "      <td>17.9</td>\n",
       "      <td>43.2</td>\n",
       "      <td>0.81</td>\n",
       "    </tr>\n",
       "    <tr>\n",
       "      <th>1</th>\n",
       "      <td>2018-01-02</td>\n",
       "      <td>0.0</td>\n",
       "      <td>0.0</td>\n",
       "      <td>0.00</td>\n",
       "      <td>16.0</td>\n",
       "      <td>38.9</td>\n",
       "      <td>0.89</td>\n",
       "    </tr>\n",
       "    <tr>\n",
       "      <th>2</th>\n",
       "      <td>2018-01-03</td>\n",
       "      <td>0.0</td>\n",
       "      <td>0.0</td>\n",
       "      <td>0.00</td>\n",
       "      <td>9.3</td>\n",
       "      <td>22.7</td>\n",
       "      <td>0.85</td>\n",
       "    </tr>\n",
       "    <tr>\n",
       "      <th>3</th>\n",
       "      <td>2018-01-04</td>\n",
       "      <td>10.2</td>\n",
       "      <td>0.0</td>\n",
       "      <td>7.28</td>\n",
       "      <td>29.8</td>\n",
       "      <td>67.0</td>\n",
       "      <td>0.74</td>\n",
       "    </tr>\n",
       "    <tr>\n",
       "      <th>4</th>\n",
       "      <td>2018-01-05</td>\n",
       "      <td>0.0</td>\n",
       "      <td>0.0</td>\n",
       "      <td>0.00</td>\n",
       "      <td>30.9</td>\n",
       "      <td>67.3</td>\n",
       "      <td>0.92</td>\n",
       "    </tr>\n",
       "  </tbody>\n",
       "</table>\n",
       "</div>"
      ],
      "text/plain": [
       "         time  precipitation_sum (mm)  rain_sum (mm)  snowfall_sum (cm)  \\\n",
       "0  2018-01-01                     0.0            0.0               0.00   \n",
       "1  2018-01-02                     0.0            0.0               0.00   \n",
       "2  2018-01-03                     0.0            0.0               0.00   \n",
       "3  2018-01-04                    10.2            0.0               7.28   \n",
       "4  2018-01-05                     0.0            0.0               0.00   \n",
       "\n",
       "   windspeed_10m_max (km/h)  windgusts_10m_max (km/h)  \\\n",
       "0                      17.9                      43.2   \n",
       "1                      16.0                      38.9   \n",
       "2                       9.3                      22.7   \n",
       "3                      29.8                      67.0   \n",
       "4                      30.9                      67.3   \n",
       "\n",
       "   et0_fao_evapotranspiration (mm)  \n",
       "0                             0.81  \n",
       "1                             0.89  \n",
       "2                             0.85  \n",
       "3                             0.74  \n",
       "4                             0.92  "
      ]
     },
     "execution_count": 4,
     "metadata": {},
     "output_type": "execute_result"
    }
   ],
   "source": [
    "abe_weather_df.head()"
   ]
  },
  {
   "cell_type": "code",
   "execution_count": 5,
   "id": "9bb66b20",
   "metadata": {},
   "outputs": [
    {
     "data": {
      "text/plain": [
       "ATL    960\n",
       "DTW    912\n",
       "CLT    911\n",
       "SFB    441\n",
       "ORD    345\n",
       "PIE    157\n",
       "PGD    144\n",
       "MYR     84\n",
       "FLL     72\n",
       "PHL     40\n",
       "Name: DEST, dtype: int64"
      ]
     },
     "execution_count": 5,
     "metadata": {},
     "output_type": "execute_result"
    }
   ],
   "source": [
    "airline_df[airline_df['ORIGIN'] == 'ABE']['DEST'].value_counts()"
   ]
  },
  {
   "cell_type": "code",
   "execution_count": 9,
   "id": "81177379",
   "metadata": {},
   "outputs": [
    {
     "name": "stderr",
     "output_type": "stream",
     "text": [
      "/Users/ianchia/opt/anaconda3/lib/python3.7/site-packages/pandas/core/frame.py:5042: SettingWithCopyWarning: \n",
      "A value is trying to be set on a copy of a slice from a DataFrame\n",
      "\n",
      "See the caveats in the documentation: https://pandas.pydata.org/pandas-docs/stable/user_guide/indexing.html#returning-a-view-versus-a-copy\n",
      "  errors=errors,\n"
     ]
    },
    {
     "data": {
      "text/html": [
       "<div>\n",
       "<style scoped>\n",
       "    .dataframe tbody tr th:only-of-type {\n",
       "        vertical-align: middle;\n",
       "    }\n",
       "\n",
       "    .dataframe tbody tr th {\n",
       "        vertical-align: top;\n",
       "    }\n",
       "\n",
       "    .dataframe thead th {\n",
       "        text-align: right;\n",
       "    }\n",
       "</style>\n",
       "<table border=\"1\" class=\"dataframe\">\n",
       "  <thead>\n",
       "    <tr style=\"text-align: right;\">\n",
       "      <th></th>\n",
       "      <th>time</th>\n",
       "      <th>ORIGIN</th>\n",
       "      <th>DEST</th>\n",
       "      <th>CRS_ELAPSED_TIME</th>\n",
       "      <th>ACTUAL_ELAPSED_TIME</th>\n",
       "      <th>DISTANCE</th>\n",
       "      <th>Alaska Airlines</th>\n",
       "      <th>Allegiant Air</th>\n",
       "      <th>American Airlines</th>\n",
       "      <th>Delta Airlines</th>\n",
       "      <th>...</th>\n",
       "      <th>Hawaiian Airlines</th>\n",
       "      <th>JetBlue Airways</th>\n",
       "      <th>Mesa Airline</th>\n",
       "      <th>PSA Airlines</th>\n",
       "      <th>Republic Airways</th>\n",
       "      <th>SkyWest Airlines</th>\n",
       "      <th>Southwest Airlines</th>\n",
       "      <th>Spirit Airlines</th>\n",
       "      <th>United Airlines</th>\n",
       "      <th>Virgin America</th>\n",
       "    </tr>\n",
       "  </thead>\n",
       "  <tbody>\n",
       "    <tr>\n",
       "      <th>3936</th>\n",
       "      <td>2018-01-01</td>\n",
       "      <td>ABE</td>\n",
       "      <td>ATL</td>\n",
       "      <td>149.0</td>\n",
       "      <td>170.0</td>\n",
       "      <td>692.0</td>\n",
       "      <td>0</td>\n",
       "      <td>0</td>\n",
       "      <td>0</td>\n",
       "      <td>0</td>\n",
       "      <td>...</td>\n",
       "      <td>0</td>\n",
       "      <td>0</td>\n",
       "      <td>0</td>\n",
       "      <td>0</td>\n",
       "      <td>0</td>\n",
       "      <td>0</td>\n",
       "      <td>0</td>\n",
       "      <td>0</td>\n",
       "      <td>0</td>\n",
       "      <td>0</td>\n",
       "    </tr>\n",
       "    <tr>\n",
       "      <th>19725</th>\n",
       "      <td>2018-01-02</td>\n",
       "      <td>ABE</td>\n",
       "      <td>ATL</td>\n",
       "      <td>141.0</td>\n",
       "      <td>119.0</td>\n",
       "      <td>692.0</td>\n",
       "      <td>0</td>\n",
       "      <td>0</td>\n",
       "      <td>0</td>\n",
       "      <td>0</td>\n",
       "      <td>...</td>\n",
       "      <td>0</td>\n",
       "      <td>0</td>\n",
       "      <td>0</td>\n",
       "      <td>0</td>\n",
       "      <td>0</td>\n",
       "      <td>0</td>\n",
       "      <td>0</td>\n",
       "      <td>0</td>\n",
       "      <td>0</td>\n",
       "      <td>0</td>\n",
       "    </tr>\n",
       "    <tr>\n",
       "      <th>19733</th>\n",
       "      <td>2018-01-02</td>\n",
       "      <td>ABE</td>\n",
       "      <td>ATL</td>\n",
       "      <td>149.0</td>\n",
       "      <td>134.0</td>\n",
       "      <td>692.0</td>\n",
       "      <td>0</td>\n",
       "      <td>0</td>\n",
       "      <td>0</td>\n",
       "      <td>0</td>\n",
       "      <td>...</td>\n",
       "      <td>0</td>\n",
       "      <td>0</td>\n",
       "      <td>0</td>\n",
       "      <td>0</td>\n",
       "      <td>0</td>\n",
       "      <td>0</td>\n",
       "      <td>0</td>\n",
       "      <td>0</td>\n",
       "      <td>0</td>\n",
       "      <td>0</td>\n",
       "    </tr>\n",
       "    <tr>\n",
       "      <th>40933</th>\n",
       "      <td>2018-01-03</td>\n",
       "      <td>ABE</td>\n",
       "      <td>ATL</td>\n",
       "      <td>139.0</td>\n",
       "      <td>144.0</td>\n",
       "      <td>692.0</td>\n",
       "      <td>0</td>\n",
       "      <td>0</td>\n",
       "      <td>0</td>\n",
       "      <td>0</td>\n",
       "      <td>...</td>\n",
       "      <td>0</td>\n",
       "      <td>0</td>\n",
       "      <td>0</td>\n",
       "      <td>0</td>\n",
       "      <td>0</td>\n",
       "      <td>0</td>\n",
       "      <td>0</td>\n",
       "      <td>0</td>\n",
       "      <td>0</td>\n",
       "      <td>0</td>\n",
       "    </tr>\n",
       "    <tr>\n",
       "      <th>54149</th>\n",
       "      <td>2018-01-03</td>\n",
       "      <td>ABE</td>\n",
       "      <td>ATL</td>\n",
       "      <td>140.0</td>\n",
       "      <td>159.0</td>\n",
       "      <td>692.0</td>\n",
       "      <td>0</td>\n",
       "      <td>0</td>\n",
       "      <td>0</td>\n",
       "      <td>1</td>\n",
       "      <td>...</td>\n",
       "      <td>0</td>\n",
       "      <td>0</td>\n",
       "      <td>0</td>\n",
       "      <td>0</td>\n",
       "      <td>0</td>\n",
       "      <td>0</td>\n",
       "      <td>0</td>\n",
       "      <td>0</td>\n",
       "      <td>0</td>\n",
       "      <td>0</td>\n",
       "    </tr>\n",
       "  </tbody>\n",
       "</table>\n",
       "<p>5 rows × 24 columns</p>\n",
       "</div>"
      ],
      "text/plain": [
       "             time ORIGIN DEST  CRS_ELAPSED_TIME  ACTUAL_ELAPSED_TIME  \\\n",
       "3936   2018-01-01    ABE  ATL             149.0                170.0   \n",
       "19725  2018-01-02    ABE  ATL             141.0                119.0   \n",
       "19733  2018-01-02    ABE  ATL             149.0                134.0   \n",
       "40933  2018-01-03    ABE  ATL             139.0                144.0   \n",
       "54149  2018-01-03    ABE  ATL             140.0                159.0   \n",
       "\n",
       "       DISTANCE  Alaska Airlines  Allegiant Air  American Airlines  \\\n",
       "3936      692.0                0              0                  0   \n",
       "19725     692.0                0              0                  0   \n",
       "19733     692.0                0              0                  0   \n",
       "40933     692.0                0              0                  0   \n",
       "54149     692.0                0              0                  0   \n",
       "\n",
       "       Delta Airlines  ...  Hawaiian Airlines  JetBlue Airways  Mesa Airline  \\\n",
       "3936                0  ...                  0                0             0   \n",
       "19725               0  ...                  0                0             0   \n",
       "19733               0  ...                  0                0             0   \n",
       "40933               0  ...                  0                0             0   \n",
       "54149               1  ...                  0                0             0   \n",
       "\n",
       "       PSA Airlines  Republic Airways  SkyWest Airlines  Southwest Airlines  \\\n",
       "3936              0                 0                 0                   0   \n",
       "19725             0                 0                 0                   0   \n",
       "19733             0                 0                 0                   0   \n",
       "40933             0                 0                 0                   0   \n",
       "54149             0                 0                 0                   0   \n",
       "\n",
       "       Spirit Airlines  United Airlines  Virgin America  \n",
       "3936                 0                0               0  \n",
       "19725                0                0               0  \n",
       "19733                0                0               0  \n",
       "40933                0                0               0  \n",
       "54149                0                0               0  \n",
       "\n",
       "[5 rows x 24 columns]"
      ]
     },
     "execution_count": 9,
     "metadata": {},
     "output_type": "execute_result"
    }
   ],
   "source": [
    "abe_atl_airline_df = airline_df[(airline_df['ORIGIN'] == 'ABE') & (airline_df['DEST'] == 'ATL')]\n",
    "abe_atl_airline_df.rename(columns = {'FL_DATE':'time'}, inplace = True)\n",
    "abe_atl_airline_df.head()"
   ]
  },
  {
   "cell_type": "code",
   "execution_count": 17,
   "id": "d528893b",
   "metadata": {},
   "outputs": [
    {
     "data": {
      "text/html": [
       "<div>\n",
       "<style scoped>\n",
       "    .dataframe tbody tr th:only-of-type {\n",
       "        vertical-align: middle;\n",
       "    }\n",
       "\n",
       "    .dataframe tbody tr th {\n",
       "        vertical-align: top;\n",
       "    }\n",
       "\n",
       "    .dataframe thead th {\n",
       "        text-align: right;\n",
       "    }\n",
       "</style>\n",
       "<table border=\"1\" class=\"dataframe\">\n",
       "  <thead>\n",
       "    <tr style=\"text-align: right;\">\n",
       "      <th></th>\n",
       "      <th>time</th>\n",
       "      <th>ORIGIN</th>\n",
       "      <th>DEST</th>\n",
       "      <th>CRS_ELAPSED_TIME</th>\n",
       "      <th>ACTUAL_ELAPSED_TIME</th>\n",
       "      <th>DISTANCE</th>\n",
       "      <th>Alaska Airlines</th>\n",
       "      <th>Allegiant Air</th>\n",
       "      <th>American Airlines</th>\n",
       "      <th>Delta Airlines</th>\n",
       "      <th>...</th>\n",
       "      <th>origin snowfall_sum (cm)</th>\n",
       "      <th>origin windspeed_10m_max (km/h)</th>\n",
       "      <th>origin windgusts_10m_max (km/h)</th>\n",
       "      <th>origin et0_fao_evapotranspiration (mm)</th>\n",
       "      <th>dest precipitation_sum (mm)</th>\n",
       "      <th>dest rain_sum (mm)</th>\n",
       "      <th>dest snowfall_sum (cm)</th>\n",
       "      <th>dest windspeed_10m_max (km/h)</th>\n",
       "      <th>dest windgusts_10m_max (km/h)</th>\n",
       "      <th>dest et0_fao_evapotranspiration (mm)</th>\n",
       "    </tr>\n",
       "  </thead>\n",
       "  <tbody>\n",
       "    <tr>\n",
       "      <th>3936</th>\n",
       "      <td>2018-01-01</td>\n",
       "      <td>ABE</td>\n",
       "      <td>ATL</td>\n",
       "      <td>149.0</td>\n",
       "      <td>170.0</td>\n",
       "      <td>692.0</td>\n",
       "      <td>0</td>\n",
       "      <td>0</td>\n",
       "      <td>0</td>\n",
       "      <td>0</td>\n",
       "      <td>...</td>\n",
       "      <td>0.0</td>\n",
       "      <td>17.9</td>\n",
       "      <td>43.2</td>\n",
       "      <td>0.81</td>\n",
       "      <td>0.0</td>\n",
       "      <td>0.0</td>\n",
       "      <td>0.0</td>\n",
       "      <td>17.9</td>\n",
       "      <td>43.2</td>\n",
       "      <td>0.81</td>\n",
       "    </tr>\n",
       "    <tr>\n",
       "      <th>19725</th>\n",
       "      <td>2018-01-02</td>\n",
       "      <td>ABE</td>\n",
       "      <td>ATL</td>\n",
       "      <td>141.0</td>\n",
       "      <td>119.0</td>\n",
       "      <td>692.0</td>\n",
       "      <td>0</td>\n",
       "      <td>0</td>\n",
       "      <td>0</td>\n",
       "      <td>0</td>\n",
       "      <td>...</td>\n",
       "      <td>0.0</td>\n",
       "      <td>16.0</td>\n",
       "      <td>38.9</td>\n",
       "      <td>0.89</td>\n",
       "      <td>0.0</td>\n",
       "      <td>0.0</td>\n",
       "      <td>0.0</td>\n",
       "      <td>16.0</td>\n",
       "      <td>38.9</td>\n",
       "      <td>0.89</td>\n",
       "    </tr>\n",
       "    <tr>\n",
       "      <th>19733</th>\n",
       "      <td>2018-01-02</td>\n",
       "      <td>ABE</td>\n",
       "      <td>ATL</td>\n",
       "      <td>149.0</td>\n",
       "      <td>134.0</td>\n",
       "      <td>692.0</td>\n",
       "      <td>0</td>\n",
       "      <td>0</td>\n",
       "      <td>0</td>\n",
       "      <td>0</td>\n",
       "      <td>...</td>\n",
       "      <td>0.0</td>\n",
       "      <td>16.0</td>\n",
       "      <td>38.9</td>\n",
       "      <td>0.89</td>\n",
       "      <td>0.0</td>\n",
       "      <td>0.0</td>\n",
       "      <td>0.0</td>\n",
       "      <td>16.0</td>\n",
       "      <td>38.9</td>\n",
       "      <td>0.89</td>\n",
       "    </tr>\n",
       "    <tr>\n",
       "      <th>40933</th>\n",
       "      <td>2018-01-03</td>\n",
       "      <td>ABE</td>\n",
       "      <td>ATL</td>\n",
       "      <td>139.0</td>\n",
       "      <td>144.0</td>\n",
       "      <td>692.0</td>\n",
       "      <td>0</td>\n",
       "      <td>0</td>\n",
       "      <td>0</td>\n",
       "      <td>0</td>\n",
       "      <td>...</td>\n",
       "      <td>0.0</td>\n",
       "      <td>9.3</td>\n",
       "      <td>22.7</td>\n",
       "      <td>0.85</td>\n",
       "      <td>0.0</td>\n",
       "      <td>0.0</td>\n",
       "      <td>0.0</td>\n",
       "      <td>9.3</td>\n",
       "      <td>22.7</td>\n",
       "      <td>0.85</td>\n",
       "    </tr>\n",
       "    <tr>\n",
       "      <th>54149</th>\n",
       "      <td>2018-01-03</td>\n",
       "      <td>ABE</td>\n",
       "      <td>ATL</td>\n",
       "      <td>140.0</td>\n",
       "      <td>159.0</td>\n",
       "      <td>692.0</td>\n",
       "      <td>0</td>\n",
       "      <td>0</td>\n",
       "      <td>0</td>\n",
       "      <td>1</td>\n",
       "      <td>...</td>\n",
       "      <td>0.0</td>\n",
       "      <td>9.3</td>\n",
       "      <td>22.7</td>\n",
       "      <td>0.85</td>\n",
       "      <td>0.0</td>\n",
       "      <td>0.0</td>\n",
       "      <td>0.0</td>\n",
       "      <td>9.3</td>\n",
       "      <td>22.7</td>\n",
       "      <td>0.85</td>\n",
       "    </tr>\n",
       "  </tbody>\n",
       "</table>\n",
       "<p>5 rows × 36 columns</p>\n",
       "</div>"
      ],
      "text/plain": [
       "             time ORIGIN DEST  CRS_ELAPSED_TIME  ACTUAL_ELAPSED_TIME  \\\n",
       "3936   2018-01-01    ABE  ATL             149.0                170.0   \n",
       "19725  2018-01-02    ABE  ATL             141.0                119.0   \n",
       "19733  2018-01-02    ABE  ATL             149.0                134.0   \n",
       "40933  2018-01-03    ABE  ATL             139.0                144.0   \n",
       "54149  2018-01-03    ABE  ATL             140.0                159.0   \n",
       "\n",
       "       DISTANCE  Alaska Airlines  Allegiant Air  American Airlines  \\\n",
       "3936      692.0                0              0                  0   \n",
       "19725     692.0                0              0                  0   \n",
       "19733     692.0                0              0                  0   \n",
       "40933     692.0                0              0                  0   \n",
       "54149     692.0                0              0                  0   \n",
       "\n",
       "       Delta Airlines  ...  origin snowfall_sum (cm)  \\\n",
       "3936                0  ...                       0.0   \n",
       "19725               0  ...                       0.0   \n",
       "19733               0  ...                       0.0   \n",
       "40933               0  ...                       0.0   \n",
       "54149               1  ...                       0.0   \n",
       "\n",
       "       origin windspeed_10m_max (km/h)  origin windgusts_10m_max (km/h)  \\\n",
       "3936                              17.9                             43.2   \n",
       "19725                             16.0                             38.9   \n",
       "19733                             16.0                             38.9   \n",
       "40933                              9.3                             22.7   \n",
       "54149                              9.3                             22.7   \n",
       "\n",
       "       origin et0_fao_evapotranspiration (mm)  dest precipitation_sum (mm)  \\\n",
       "3936                                     0.81                          0.0   \n",
       "19725                                    0.89                          0.0   \n",
       "19733                                    0.89                          0.0   \n",
       "40933                                    0.85                          0.0   \n",
       "54149                                    0.85                          0.0   \n",
       "\n",
       "       dest rain_sum (mm)  dest snowfall_sum (cm)  \\\n",
       "3936                  0.0                     0.0   \n",
       "19725                 0.0                     0.0   \n",
       "19733                 0.0                     0.0   \n",
       "40933                 0.0                     0.0   \n",
       "54149                 0.0                     0.0   \n",
       "\n",
       "       dest windspeed_10m_max (km/h)  dest windgusts_10m_max (km/h)  \\\n",
       "3936                            17.9                           43.2   \n",
       "19725                           16.0                           38.9   \n",
       "19733                           16.0                           38.9   \n",
       "40933                            9.3                           22.7   \n",
       "54149                            9.3                           22.7   \n",
       "\n",
       "       dest et0_fao_evapotranspiration (mm)  \n",
       "3936                                   0.81  \n",
       "19725                                  0.89  \n",
       "19733                                  0.89  \n",
       "40933                                  0.85  \n",
       "54149                                  0.85  \n",
       "\n",
       "[5 rows x 36 columns]"
      ]
     },
     "execution_count": 17,
     "metadata": {},
     "output_type": "execute_result"
    }
   ],
   "source": [
    "origin_weather_cols = {\n",
    "    'precipitation_sum (mm)': 'origin precipitation_sum (mm)', \n",
    "    'rain_sum (mm)': 'origin rain_sum (mm)', \n",
    "    'snowfall_sum (cm)': 'origin snowfall_sum (cm)',\n",
    "    'windspeed_10m_max (km/h)': 'origin windspeed_10m_max (km/h)', \n",
    "    'windgusts_10m_max (km/h)': 'origin windgusts_10m_max (km/h)',\n",
    "    'et0_fao_evapotranspiration (mm)': 'origin et0_fao_evapotranspiration (mm)'\n",
    "}\n",
    "\n",
    "dest_weather_cols = {\n",
    "    'precipitation_sum (mm)': 'dest precipitation_sum (mm)', \n",
    "    'rain_sum (mm)': 'dest rain_sum (mm)', \n",
    "    'snowfall_sum (cm)': 'dest snowfall_sum (cm)',\n",
    "    'windspeed_10m_max (km/h)': 'dest windspeed_10m_max (km/h)', \n",
    "    'windgusts_10m_max (km/h)': 'dest windgusts_10m_max (km/h)',\n",
    "    'et0_fao_evapotranspiration (mm)': 'dest et0_fao_evapotranspiration (mm)'\n",
    "}\n",
    "\n",
    "abe_atl_airline_df = abe_atl_airline_df.join(abe_weather_df.set_index('time'), on='time')\n",
    "abe_atl_airline_df.rename(columns = origin_weather_cols, inplace = True)\n",
    "\n",
    "abe_atl_airline_df = abe_atl_airline_df.join(abe_weather_df.set_index('time'), on='time')\n",
    "abe_atl_airline_df.rename(columns = dest_weather_cols, inplace = True)\n",
    "\n",
    "abe_atl_airline_df.head()"
   ]
  },
  {
   "cell_type": "code",
   "execution_count": 18,
   "id": "76b0f0c1",
   "metadata": {},
   "outputs": [
    {
     "data": {
      "text/html": [
       "<div>\n",
       "<style scoped>\n",
       "    .dataframe tbody tr th:only-of-type {\n",
       "        vertical-align: middle;\n",
       "    }\n",
       "\n",
       "    .dataframe tbody tr th {\n",
       "        vertical-align: top;\n",
       "    }\n",
       "\n",
       "    .dataframe thead th {\n",
       "        text-align: right;\n",
       "    }\n",
       "</style>\n",
       "<table border=\"1\" class=\"dataframe\">\n",
       "  <thead>\n",
       "    <tr style=\"text-align: right;\">\n",
       "      <th></th>\n",
       "      <th>CRS_ELAPSED_TIME</th>\n",
       "      <th>ACTUAL_ELAPSED_TIME</th>\n",
       "      <th>DISTANCE</th>\n",
       "      <th>Alaska Airlines</th>\n",
       "      <th>Allegiant Air</th>\n",
       "      <th>American Airlines</th>\n",
       "      <th>Delta Airlines</th>\n",
       "      <th>Endeavor Air</th>\n",
       "      <th>Envoy Air</th>\n",
       "      <th>ExpressJet</th>\n",
       "      <th>...</th>\n",
       "      <th>origin snowfall_sum (cm)</th>\n",
       "      <th>origin windspeed_10m_max (km/h)</th>\n",
       "      <th>origin windgusts_10m_max (km/h)</th>\n",
       "      <th>origin et0_fao_evapotranspiration (mm)</th>\n",
       "      <th>dest precipitation_sum (mm)</th>\n",
       "      <th>dest rain_sum (mm)</th>\n",
       "      <th>dest snowfall_sum (cm)</th>\n",
       "      <th>dest windspeed_10m_max (km/h)</th>\n",
       "      <th>dest windgusts_10m_max (km/h)</th>\n",
       "      <th>dest et0_fao_evapotranspiration (mm)</th>\n",
       "    </tr>\n",
       "  </thead>\n",
       "  <tbody>\n",
       "    <tr>\n",
       "      <th>count</th>\n",
       "      <td>960.000000</td>\n",
       "      <td>960.000000</td>\n",
       "      <td>960.0</td>\n",
       "      <td>960.0</td>\n",
       "      <td>960.0</td>\n",
       "      <td>960.0</td>\n",
       "      <td>960.000000</td>\n",
       "      <td>960.000000</td>\n",
       "      <td>960.0</td>\n",
       "      <td>960.000000</td>\n",
       "      <td>...</td>\n",
       "      <td>960.000000</td>\n",
       "      <td>960.000000</td>\n",
       "      <td>960.000000</td>\n",
       "      <td>960.000000</td>\n",
       "      <td>960.000000</td>\n",
       "      <td>960.000000</td>\n",
       "      <td>960.000000</td>\n",
       "      <td>960.000000</td>\n",
       "      <td>960.000000</td>\n",
       "      <td>960.000000</td>\n",
       "    </tr>\n",
       "    <tr>\n",
       "      <th>mean</th>\n",
       "      <td>131.592708</td>\n",
       "      <td>128.290625</td>\n",
       "      <td>692.0</td>\n",
       "      <td>0.0</td>\n",
       "      <td>0.0</td>\n",
       "      <td>0.0</td>\n",
       "      <td>0.376042</td>\n",
       "      <td>0.365625</td>\n",
       "      <td>0.0</td>\n",
       "      <td>0.258333</td>\n",
       "      <td>...</td>\n",
       "      <td>0.226042</td>\n",
       "      <td>15.300625</td>\n",
       "      <td>37.238542</td>\n",
       "      <td>2.590219</td>\n",
       "      <td>4.338021</td>\n",
       "      <td>4.021042</td>\n",
       "      <td>0.226042</td>\n",
       "      <td>15.300625</td>\n",
       "      <td>37.238542</td>\n",
       "      <td>2.590219</td>\n",
       "    </tr>\n",
       "    <tr>\n",
       "      <th>std</th>\n",
       "      <td>7.018057</td>\n",
       "      <td>15.422378</td>\n",
       "      <td>0.0</td>\n",
       "      <td>0.0</td>\n",
       "      <td>0.0</td>\n",
       "      <td>0.0</td>\n",
       "      <td>0.484643</td>\n",
       "      <td>0.481856</td>\n",
       "      <td>0.0</td>\n",
       "      <td>0.437946</td>\n",
       "      <td>...</td>\n",
       "      <td>1.465332</td>\n",
       "      <td>5.359266</td>\n",
       "      <td>12.854702</td>\n",
       "      <td>1.743023</td>\n",
       "      <td>8.085590</td>\n",
       "      <td>7.841272</td>\n",
       "      <td>1.465332</td>\n",
       "      <td>5.359266</td>\n",
       "      <td>12.854702</td>\n",
       "      <td>1.743023</td>\n",
       "    </tr>\n",
       "    <tr>\n",
       "      <th>min</th>\n",
       "      <td>115.000000</td>\n",
       "      <td>103.000000</td>\n",
       "      <td>692.0</td>\n",
       "      <td>0.0</td>\n",
       "      <td>0.0</td>\n",
       "      <td>0.0</td>\n",
       "      <td>0.000000</td>\n",
       "      <td>0.000000</td>\n",
       "      <td>0.0</td>\n",
       "      <td>0.000000</td>\n",
       "      <td>...</td>\n",
       "      <td>0.000000</td>\n",
       "      <td>6.800000</td>\n",
       "      <td>13.000000</td>\n",
       "      <td>0.230000</td>\n",
       "      <td>0.000000</td>\n",
       "      <td>0.000000</td>\n",
       "      <td>0.000000</td>\n",
       "      <td>6.800000</td>\n",
       "      <td>13.000000</td>\n",
       "      <td>0.230000</td>\n",
       "    </tr>\n",
       "    <tr>\n",
       "      <th>25%</th>\n",
       "      <td>126.000000</td>\n",
       "      <td>118.000000</td>\n",
       "      <td>692.0</td>\n",
       "      <td>0.0</td>\n",
       "      <td>0.0</td>\n",
       "      <td>0.0</td>\n",
       "      <td>0.000000</td>\n",
       "      <td>0.000000</td>\n",
       "      <td>0.0</td>\n",
       "      <td>0.000000</td>\n",
       "      <td>...</td>\n",
       "      <td>0.000000</td>\n",
       "      <td>11.100000</td>\n",
       "      <td>27.400000</td>\n",
       "      <td>1.200000</td>\n",
       "      <td>0.000000</td>\n",
       "      <td>0.000000</td>\n",
       "      <td>0.000000</td>\n",
       "      <td>11.100000</td>\n",
       "      <td>27.400000</td>\n",
       "      <td>1.200000</td>\n",
       "    </tr>\n",
       "    <tr>\n",
       "      <th>50%</th>\n",
       "      <td>130.000000</td>\n",
       "      <td>125.500000</td>\n",
       "      <td>692.0</td>\n",
       "      <td>0.0</td>\n",
       "      <td>0.0</td>\n",
       "      <td>0.0</td>\n",
       "      <td>0.000000</td>\n",
       "      <td>0.000000</td>\n",
       "      <td>0.0</td>\n",
       "      <td>0.000000</td>\n",
       "      <td>...</td>\n",
       "      <td>0.000000</td>\n",
       "      <td>14.350000</td>\n",
       "      <td>35.300000</td>\n",
       "      <td>2.110000</td>\n",
       "      <td>0.400000</td>\n",
       "      <td>0.200000</td>\n",
       "      <td>0.000000</td>\n",
       "      <td>14.350000</td>\n",
       "      <td>35.300000</td>\n",
       "      <td>2.110000</td>\n",
       "    </tr>\n",
       "    <tr>\n",
       "      <th>75%</th>\n",
       "      <td>136.000000</td>\n",
       "      <td>134.000000</td>\n",
       "      <td>692.0</td>\n",
       "      <td>0.0</td>\n",
       "      <td>0.0</td>\n",
       "      <td>0.0</td>\n",
       "      <td>1.000000</td>\n",
       "      <td>1.000000</td>\n",
       "      <td>0.0</td>\n",
       "      <td>1.000000</td>\n",
       "      <td>...</td>\n",
       "      <td>0.000000</td>\n",
       "      <td>18.400000</td>\n",
       "      <td>43.900000</td>\n",
       "      <td>3.830000</td>\n",
       "      <td>4.600000</td>\n",
       "      <td>4.000000</td>\n",
       "      <td>0.000000</td>\n",
       "      <td>18.400000</td>\n",
       "      <td>43.900000</td>\n",
       "      <td>3.830000</td>\n",
       "    </tr>\n",
       "    <tr>\n",
       "      <th>max</th>\n",
       "      <td>151.000000</td>\n",
       "      <td>236.000000</td>\n",
       "      <td>692.0</td>\n",
       "      <td>0.0</td>\n",
       "      <td>0.0</td>\n",
       "      <td>0.0</td>\n",
       "      <td>1.000000</td>\n",
       "      <td>1.000000</td>\n",
       "      <td>0.0</td>\n",
       "      <td>1.000000</td>\n",
       "      <td>...</td>\n",
       "      <td>14.560000</td>\n",
       "      <td>37.800000</td>\n",
       "      <td>88.600000</td>\n",
       "      <td>7.190000</td>\n",
       "      <td>55.700000</td>\n",
       "      <td>55.700000</td>\n",
       "      <td>14.560000</td>\n",
       "      <td>37.800000</td>\n",
       "      <td>88.600000</td>\n",
       "      <td>7.190000</td>\n",
       "    </tr>\n",
       "  </tbody>\n",
       "</table>\n",
       "<p>8 rows × 33 columns</p>\n",
       "</div>"
      ],
      "text/plain": [
       "       CRS_ELAPSED_TIME  ACTUAL_ELAPSED_TIME  DISTANCE  Alaska Airlines  \\\n",
       "count        960.000000           960.000000     960.0            960.0   \n",
       "mean         131.592708           128.290625     692.0              0.0   \n",
       "std            7.018057            15.422378       0.0              0.0   \n",
       "min          115.000000           103.000000     692.0              0.0   \n",
       "25%          126.000000           118.000000     692.0              0.0   \n",
       "50%          130.000000           125.500000     692.0              0.0   \n",
       "75%          136.000000           134.000000     692.0              0.0   \n",
       "max          151.000000           236.000000     692.0              0.0   \n",
       "\n",
       "       Allegiant Air  American Airlines  Delta Airlines  Endeavor Air  \\\n",
       "count          960.0              960.0      960.000000    960.000000   \n",
       "mean             0.0                0.0        0.376042      0.365625   \n",
       "std              0.0                0.0        0.484643      0.481856   \n",
       "min              0.0                0.0        0.000000      0.000000   \n",
       "25%              0.0                0.0        0.000000      0.000000   \n",
       "50%              0.0                0.0        0.000000      0.000000   \n",
       "75%              0.0                0.0        1.000000      1.000000   \n",
       "max              0.0                0.0        1.000000      1.000000   \n",
       "\n",
       "       Envoy Air  ExpressJet  ...  origin snowfall_sum (cm)  \\\n",
       "count      960.0  960.000000  ...                960.000000   \n",
       "mean         0.0    0.258333  ...                  0.226042   \n",
       "std          0.0    0.437946  ...                  1.465332   \n",
       "min          0.0    0.000000  ...                  0.000000   \n",
       "25%          0.0    0.000000  ...                  0.000000   \n",
       "50%          0.0    0.000000  ...                  0.000000   \n",
       "75%          0.0    1.000000  ...                  0.000000   \n",
       "max          0.0    1.000000  ...                 14.560000   \n",
       "\n",
       "       origin windspeed_10m_max (km/h)  origin windgusts_10m_max (km/h)  \\\n",
       "count                       960.000000                       960.000000   \n",
       "mean                         15.300625                        37.238542   \n",
       "std                           5.359266                        12.854702   \n",
       "min                           6.800000                        13.000000   \n",
       "25%                          11.100000                        27.400000   \n",
       "50%                          14.350000                        35.300000   \n",
       "75%                          18.400000                        43.900000   \n",
       "max                          37.800000                        88.600000   \n",
       "\n",
       "       origin et0_fao_evapotranspiration (mm)  dest precipitation_sum (mm)  \\\n",
       "count                              960.000000                   960.000000   \n",
       "mean                                 2.590219                     4.338021   \n",
       "std                                  1.743023                     8.085590   \n",
       "min                                  0.230000                     0.000000   \n",
       "25%                                  1.200000                     0.000000   \n",
       "50%                                  2.110000                     0.400000   \n",
       "75%                                  3.830000                     4.600000   \n",
       "max                                  7.190000                    55.700000   \n",
       "\n",
       "       dest rain_sum (mm)  dest snowfall_sum (cm)  \\\n",
       "count          960.000000              960.000000   \n",
       "mean             4.021042                0.226042   \n",
       "std              7.841272                1.465332   \n",
       "min              0.000000                0.000000   \n",
       "25%              0.000000                0.000000   \n",
       "50%              0.200000                0.000000   \n",
       "75%              4.000000                0.000000   \n",
       "max             55.700000               14.560000   \n",
       "\n",
       "       dest windspeed_10m_max (km/h)  dest windgusts_10m_max (km/h)  \\\n",
       "count                     960.000000                     960.000000   \n",
       "mean                       15.300625                      37.238542   \n",
       "std                         5.359266                      12.854702   \n",
       "min                         6.800000                      13.000000   \n",
       "25%                        11.100000                      27.400000   \n",
       "50%                        14.350000                      35.300000   \n",
       "75%                        18.400000                      43.900000   \n",
       "max                        37.800000                      88.600000   \n",
       "\n",
       "       dest et0_fao_evapotranspiration (mm)  \n",
       "count                            960.000000  \n",
       "mean                               2.590219  \n",
       "std                                1.743023  \n",
       "min                                0.230000  \n",
       "25%                                1.200000  \n",
       "50%                                2.110000  \n",
       "75%                                3.830000  \n",
       "max                                7.190000  \n",
       "\n",
       "[8 rows x 33 columns]"
      ]
     },
     "execution_count": 18,
     "metadata": {},
     "output_type": "execute_result"
    }
   ],
   "source": [
    "abe_atl_airline_df.describe()"
   ]
  },
  {
   "cell_type": "code",
   "execution_count": 19,
   "id": "88c86fbe",
   "metadata": {},
   "outputs": [
    {
     "name": "stdout",
     "output_type": "stream",
     "text": [
      "<class 'pandas.core.frame.DataFrame'>\n",
      "Int64Index: 960 entries, 3936 to 7069364\n",
      "Data columns (total 36 columns):\n",
      " #   Column                                  Non-Null Count  Dtype  \n",
      "---  ------                                  --------------  -----  \n",
      " 0   time                                    960 non-null    object \n",
      " 1   ORIGIN                                  960 non-null    object \n",
      " 2   DEST                                    960 non-null    object \n",
      " 3   CRS_ELAPSED_TIME                        960 non-null    float64\n",
      " 4   ACTUAL_ELAPSED_TIME                     960 non-null    float64\n",
      " 5   DISTANCE                                960 non-null    float64\n",
      " 6   Alaska Airlines                         960 non-null    int64  \n",
      " 7   Allegiant Air                           960 non-null    int64  \n",
      " 8   American Airlines                       960 non-null    int64  \n",
      " 9   Delta Airlines                          960 non-null    int64  \n",
      " 10  Endeavor Air                            960 non-null    int64  \n",
      " 11  Envoy Air                               960 non-null    int64  \n",
      " 12  ExpressJet                              960 non-null    int64  \n",
      " 13  Frontier Airlines                       960 non-null    int64  \n",
      " 14  Hawaiian Airlines                       960 non-null    int64  \n",
      " 15  JetBlue Airways                         960 non-null    int64  \n",
      " 16  Mesa Airline                            960 non-null    int64  \n",
      " 17  PSA Airlines                            960 non-null    int64  \n",
      " 18  Republic Airways                        960 non-null    int64  \n",
      " 19  SkyWest Airlines                        960 non-null    int64  \n",
      " 20  Southwest Airlines                      960 non-null    int64  \n",
      " 21  Spirit Airlines                         960 non-null    int64  \n",
      " 22  United Airlines                         960 non-null    int64  \n",
      " 23  Virgin America                          960 non-null    int64  \n",
      " 24  origin precipitation_sum (mm)           960 non-null    float64\n",
      " 25  origin rain_sum (mm)                    960 non-null    float64\n",
      " 26  origin snowfall_sum (cm)                960 non-null    float64\n",
      " 27  origin windspeed_10m_max (km/h)         960 non-null    float64\n",
      " 28  origin windgusts_10m_max (km/h)         960 non-null    float64\n",
      " 29  origin et0_fao_evapotranspiration (mm)  960 non-null    float64\n",
      " 30  dest precipitation_sum (mm)             960 non-null    float64\n",
      " 31  dest rain_sum (mm)                      960 non-null    float64\n",
      " 32  dest snowfall_sum (cm)                  960 non-null    float64\n",
      " 33  dest windspeed_10m_max (km/h)           960 non-null    float64\n",
      " 34  dest windgusts_10m_max (km/h)           960 non-null    float64\n",
      " 35  dest et0_fao_evapotranspiration (mm)    960 non-null    float64\n",
      "dtypes: float64(15), int64(18), object(3)\n",
      "memory usage: 277.5+ KB\n"
     ]
    }
   ],
   "source": [
    "abe_atl_airline_df.info()"
   ]
  },
  {
   "cell_type": "code",
   "execution_count": 22,
   "id": "6719556d",
   "metadata": {},
   "outputs": [
    {
     "data": {
      "text/html": [
       "<div>\n",
       "<style scoped>\n",
       "    .dataframe tbody tr th:only-of-type {\n",
       "        vertical-align: middle;\n",
       "    }\n",
       "\n",
       "    .dataframe tbody tr th {\n",
       "        vertical-align: top;\n",
       "    }\n",
       "\n",
       "    .dataframe thead th {\n",
       "        text-align: right;\n",
       "    }\n",
       "</style>\n",
       "<table border=\"1\" class=\"dataframe\">\n",
       "  <thead>\n",
       "    <tr style=\"text-align: right;\">\n",
       "      <th></th>\n",
       "      <th>time</th>\n",
       "      <th>ORIGIN</th>\n",
       "      <th>DEST</th>\n",
       "      <th>CRS_ELAPSED_TIME</th>\n",
       "      <th>ACTUAL_ELAPSED_TIME</th>\n",
       "      <th>DISTANCE</th>\n",
       "      <th>origin precipitation_sum (mm)</th>\n",
       "      <th>origin rain_sum (mm)</th>\n",
       "      <th>origin snowfall_sum (cm)</th>\n",
       "      <th>origin windspeed_10m_max (km/h)</th>\n",
       "      <th>origin windgusts_10m_max (km/h)</th>\n",
       "      <th>origin et0_fao_evapotranspiration (mm)</th>\n",
       "      <th>dest precipitation_sum (mm)</th>\n",
       "      <th>dest rain_sum (mm)</th>\n",
       "      <th>dest snowfall_sum (cm)</th>\n",
       "      <th>dest windspeed_10m_max (km/h)</th>\n",
       "      <th>dest windgusts_10m_max (km/h)</th>\n",
       "      <th>dest et0_fao_evapotranspiration (mm)</th>\n",
       "    </tr>\n",
       "  </thead>\n",
       "  <tbody>\n",
       "    <tr>\n",
       "      <th>3936</th>\n",
       "      <td>2018-01-01</td>\n",
       "      <td>ABE</td>\n",
       "      <td>ATL</td>\n",
       "      <td>149.0</td>\n",
       "      <td>170.0</td>\n",
       "      <td>692.0</td>\n",
       "      <td>0.0</td>\n",
       "      <td>0.0</td>\n",
       "      <td>0.0</td>\n",
       "      <td>17.9</td>\n",
       "      <td>43.2</td>\n",
       "      <td>0.81</td>\n",
       "      <td>0.0</td>\n",
       "      <td>0.0</td>\n",
       "      <td>0.0</td>\n",
       "      <td>17.9</td>\n",
       "      <td>43.2</td>\n",
       "      <td>0.81</td>\n",
       "    </tr>\n",
       "    <tr>\n",
       "      <th>19725</th>\n",
       "      <td>2018-01-02</td>\n",
       "      <td>ABE</td>\n",
       "      <td>ATL</td>\n",
       "      <td>141.0</td>\n",
       "      <td>119.0</td>\n",
       "      <td>692.0</td>\n",
       "      <td>0.0</td>\n",
       "      <td>0.0</td>\n",
       "      <td>0.0</td>\n",
       "      <td>16.0</td>\n",
       "      <td>38.9</td>\n",
       "      <td>0.89</td>\n",
       "      <td>0.0</td>\n",
       "      <td>0.0</td>\n",
       "      <td>0.0</td>\n",
       "      <td>16.0</td>\n",
       "      <td>38.9</td>\n",
       "      <td>0.89</td>\n",
       "    </tr>\n",
       "    <tr>\n",
       "      <th>19733</th>\n",
       "      <td>2018-01-02</td>\n",
       "      <td>ABE</td>\n",
       "      <td>ATL</td>\n",
       "      <td>149.0</td>\n",
       "      <td>134.0</td>\n",
       "      <td>692.0</td>\n",
       "      <td>0.0</td>\n",
       "      <td>0.0</td>\n",
       "      <td>0.0</td>\n",
       "      <td>16.0</td>\n",
       "      <td>38.9</td>\n",
       "      <td>0.89</td>\n",
       "      <td>0.0</td>\n",
       "      <td>0.0</td>\n",
       "      <td>0.0</td>\n",
       "      <td>16.0</td>\n",
       "      <td>38.9</td>\n",
       "      <td>0.89</td>\n",
       "    </tr>\n",
       "    <tr>\n",
       "      <th>40933</th>\n",
       "      <td>2018-01-03</td>\n",
       "      <td>ABE</td>\n",
       "      <td>ATL</td>\n",
       "      <td>139.0</td>\n",
       "      <td>144.0</td>\n",
       "      <td>692.0</td>\n",
       "      <td>0.0</td>\n",
       "      <td>0.0</td>\n",
       "      <td>0.0</td>\n",
       "      <td>9.3</td>\n",
       "      <td>22.7</td>\n",
       "      <td>0.85</td>\n",
       "      <td>0.0</td>\n",
       "      <td>0.0</td>\n",
       "      <td>0.0</td>\n",
       "      <td>9.3</td>\n",
       "      <td>22.7</td>\n",
       "      <td>0.85</td>\n",
       "    </tr>\n",
       "    <tr>\n",
       "      <th>54149</th>\n",
       "      <td>2018-01-03</td>\n",
       "      <td>ABE</td>\n",
       "      <td>ATL</td>\n",
       "      <td>140.0</td>\n",
       "      <td>159.0</td>\n",
       "      <td>692.0</td>\n",
       "      <td>0.0</td>\n",
       "      <td>0.0</td>\n",
       "      <td>0.0</td>\n",
       "      <td>9.3</td>\n",
       "      <td>22.7</td>\n",
       "      <td>0.85</td>\n",
       "      <td>0.0</td>\n",
       "      <td>0.0</td>\n",
       "      <td>0.0</td>\n",
       "      <td>9.3</td>\n",
       "      <td>22.7</td>\n",
       "      <td>0.85</td>\n",
       "    </tr>\n",
       "  </tbody>\n",
       "</table>\n",
       "</div>"
      ],
      "text/plain": [
       "             time ORIGIN DEST  CRS_ELAPSED_TIME  ACTUAL_ELAPSED_TIME  \\\n",
       "3936   2018-01-01    ABE  ATL             149.0                170.0   \n",
       "19725  2018-01-02    ABE  ATL             141.0                119.0   \n",
       "19733  2018-01-02    ABE  ATL             149.0                134.0   \n",
       "40933  2018-01-03    ABE  ATL             139.0                144.0   \n",
       "54149  2018-01-03    ABE  ATL             140.0                159.0   \n",
       "\n",
       "       DISTANCE  origin precipitation_sum (mm)  origin rain_sum (mm)  \\\n",
       "3936      692.0                            0.0                   0.0   \n",
       "19725     692.0                            0.0                   0.0   \n",
       "19733     692.0                            0.0                   0.0   \n",
       "40933     692.0                            0.0                   0.0   \n",
       "54149     692.0                            0.0                   0.0   \n",
       "\n",
       "       origin snowfall_sum (cm)  origin windspeed_10m_max (km/h)  \\\n",
       "3936                        0.0                             17.9   \n",
       "19725                       0.0                             16.0   \n",
       "19733                       0.0                             16.0   \n",
       "40933                       0.0                              9.3   \n",
       "54149                       0.0                              9.3   \n",
       "\n",
       "       origin windgusts_10m_max (km/h)  \\\n",
       "3936                              43.2   \n",
       "19725                             38.9   \n",
       "19733                             38.9   \n",
       "40933                             22.7   \n",
       "54149                             22.7   \n",
       "\n",
       "       origin et0_fao_evapotranspiration (mm)  dest precipitation_sum (mm)  \\\n",
       "3936                                     0.81                          0.0   \n",
       "19725                                    0.89                          0.0   \n",
       "19733                                    0.89                          0.0   \n",
       "40933                                    0.85                          0.0   \n",
       "54149                                    0.85                          0.0   \n",
       "\n",
       "       dest rain_sum (mm)  dest snowfall_sum (cm)  \\\n",
       "3936                  0.0                     0.0   \n",
       "19725                 0.0                     0.0   \n",
       "19733                 0.0                     0.0   \n",
       "40933                 0.0                     0.0   \n",
       "54149                 0.0                     0.0   \n",
       "\n",
       "       dest windspeed_10m_max (km/h)  dest windgusts_10m_max (km/h)  \\\n",
       "3936                            17.9                           43.2   \n",
       "19725                           16.0                           38.9   \n",
       "19733                           16.0                           38.9   \n",
       "40933                            9.3                           22.7   \n",
       "54149                            9.3                           22.7   \n",
       "\n",
       "       dest et0_fao_evapotranspiration (mm)  \n",
       "3936                                   0.81  \n",
       "19725                                  0.89  \n",
       "19733                                  0.89  \n",
       "40933                                  0.85  \n",
       "54149                                  0.85  "
      ]
     },
     "execution_count": 22,
     "metadata": {},
     "output_type": "execute_result"
    }
   ],
   "source": [
    "without_airline_cols = [\n",
    "    'time', 'ORIGIN', 'DEST', 'CRS_ELAPSED_TIME', 'ACTUAL_ELAPSED_TIME',\n",
    "    'DISTANCE', 'origin precipitation_sum (mm)', 'origin rain_sum (mm)', \n",
    "    'origin snowfall_sum (cm)', 'origin windspeed_10m_max (km/h)', \n",
    "    'origin windgusts_10m_max (km/h)', 'origin et0_fao_evapotranspiration (mm)', \n",
    "    'dest precipitation_sum (mm)', 'dest rain_sum (mm)', 'dest snowfall_sum (cm)',\n",
    "    'dest windspeed_10m_max (km/h)', 'dest windgusts_10m_max (km/h)',\n",
    "    'dest et0_fao_evapotranspiration (mm)'\n",
    "]\n",
    "\n",
    "abe_atl_airline_df[without_airline_cols].head()"
   ]
  },
  {
   "cell_type": "code",
   "execution_count": 26,
   "id": "7249393a",
   "metadata": {},
   "outputs": [
    {
     "data": {
      "application/vnd.plotly.v1+json": {
       "config": {
        "plotlyServerURL": "https://plot.ly"
       },
       "data": [
        {
         "coloraxis": "coloraxis",
         "hovertemplate": "x: %{x}<br>y: %{y}<br>color: %{z}<extra></extra>",
         "name": "0",
         "type": "heatmap",
         "x": [
          "CRS_ELAPSED_TIME",
          "ACTUAL_ELAPSED_TIME",
          "DISTANCE",
          "origin precipitation_sum (mm)",
          "origin rain_sum (mm)",
          "origin snowfall_sum (cm)",
          "origin windspeed_10m_max (km/h)",
          "origin windgusts_10m_max (km/h)",
          "origin et0_fao_evapotranspiration (mm)",
          "dest precipitation_sum (mm)",
          "dest rain_sum (mm)",
          "dest snowfall_sum (cm)",
          "dest windspeed_10m_max (km/h)",
          "dest windgusts_10m_max (km/h)",
          "dest et0_fao_evapotranspiration (mm)"
         ],
         "xaxis": "x",
         "y": [
          "CRS_ELAPSED_TIME",
          "ACTUAL_ELAPSED_TIME",
          "DISTANCE",
          "origin precipitation_sum (mm)",
          "origin rain_sum (mm)",
          "origin snowfall_sum (cm)",
          "origin windspeed_10m_max (km/h)",
          "origin windgusts_10m_max (km/h)",
          "origin et0_fao_evapotranspiration (mm)",
          "dest precipitation_sum (mm)",
          "dest rain_sum (mm)",
          "dest snowfall_sum (cm)",
          "dest windspeed_10m_max (km/h)",
          "dest windgusts_10m_max (km/h)",
          "dest et0_fao_evapotranspiration (mm)"
         ],
         "yaxis": "y",
         "z": [
          [
           1,
           0.3081638414893796,
           null,
           -0.04795299023984335,
           -0.06548976331136619,
           0.062209778250562016,
           0.20795775996281834,
           0.17274414808949176,
           -0.4991856126543054,
           -0.04795299023984335,
           -0.06548976331136619,
           0.062209778250562016,
           0.20795775996281834,
           0.17274414808949176,
           -0.4991856126543054
          ],
          [
           0.3081638414893796,
           1,
           null,
           0.17758789562434552,
           0.10752883527737828,
           0.2857319308273646,
           0.09269072746377113,
           0.0673828337525108,
           -0.3305164693467884,
           0.17758789562434552,
           0.10752883527737828,
           0.2857319308273646,
           0.09269072746377113,
           0.0673828337525108,
           -0.3305164693467884
          ],
          [
           null,
           null,
           null,
           null,
           null,
           null,
           null,
           null,
           null,
           null,
           null,
           null,
           null,
           null,
           null
          ],
          [
           -0.04795299023984335,
           0.17758789562434552,
           null,
           1,
           0.9663368087659578,
           0.2435125619447989,
           0.24594721462078215,
           0.33420552940640896,
           -0.33975200174518394,
           1,
           0.9663368087659578,
           0.2435125619447989,
           0.24594721462078215,
           0.33420552940640896,
           -0.33975200174518394
          ],
          [
           -0.06548976331136619,
           0.10752883527737828,
           null,
           0.9663368087659578,
           1,
           -0.014193335370994278,
           0.20702814583339438,
           0.3112807141713258,
           -0.31118283560113913,
           0.966336808765958,
           1,
           -0.014193335370994278,
           0.20702814583339438,
           0.3112807141713258,
           -0.31118283560113913
          ],
          [
           0.062209778250562016,
           0.2857319308273646,
           null,
           0.2435125619447989,
           -0.014193335370994278,
           1,
           0.17631371902359574,
           0.12646736085492497,
           -0.14895019738410925,
           0.2435125619447989,
           -0.014193335370994284,
           1,
           0.17631371902359574,
           0.12646736085492497,
           -0.14895019738410925
          ],
          [
           0.20795775996281834,
           0.09269072746377113,
           null,
           0.24594721462078215,
           0.20702814583339438,
           0.17631371902359574,
           1,
           0.9160983992595672,
           -0.21189668162515615,
           0.24594721462078215,
           0.20702814583339438,
           0.1763137190235957,
           1,
           0.9160983992595672,
           -0.21189668162515615
          ],
          [
           0.17274414808949176,
           0.0673828337525108,
           null,
           0.33420552940640896,
           0.3112807141713258,
           0.12646736085492497,
           0.9160983992595672,
           1,
           -0.20313680968622705,
           0.3342055294064089,
           0.3112807141713258,
           0.12646736085492494,
           0.9160983992595672,
           1,
           -0.20313680968622705
          ],
          [
           -0.4991856126543054,
           -0.3305164693467884,
           null,
           -0.33975200174518394,
           -0.31118283560113913,
           -0.14895019738410925,
           -0.21189668162515615,
           -0.20313680968622705,
           1,
           -0.33975200174518394,
           -0.31118283560113913,
           -0.14895019738410928,
           -0.21189668162515618,
           -0.20313680968622705,
           1
          ],
          [
           -0.04795299023984335,
           0.17758789562434552,
           null,
           1,
           0.966336808765958,
           0.2435125619447989,
           0.24594721462078215,
           0.3342055294064089,
           -0.33975200174518394,
           1,
           0.9663368087659578,
           0.2435125619447989,
           0.24594721462078215,
           0.33420552940640896,
           -0.33975200174518394
          ],
          [
           -0.06548976331136619,
           0.10752883527737828,
           null,
           0.9663368087659578,
           1,
           -0.014193335370994284,
           0.20702814583339438,
           0.3112807141713258,
           -0.31118283560113913,
           0.9663368087659578,
           1,
           -0.014193335370994278,
           0.20702814583339438,
           0.3112807141713258,
           -0.31118283560113913
          ],
          [
           0.062209778250562016,
           0.2857319308273646,
           null,
           0.2435125619447989,
           -0.014193335370994278,
           1,
           0.1763137190235957,
           0.12646736085492494,
           -0.14895019738410928,
           0.2435125619447989,
           -0.014193335370994278,
           1,
           0.17631371902359574,
           0.12646736085492497,
           -0.14895019738410925
          ],
          [
           0.20795775996281834,
           0.09269072746377113,
           null,
           0.24594721462078215,
           0.20702814583339438,
           0.17631371902359574,
           1,
           0.9160983992595672,
           -0.21189668162515618,
           0.24594721462078215,
           0.20702814583339438,
           0.17631371902359574,
           1,
           0.9160983992595672,
           -0.21189668162515615
          ],
          [
           0.17274414808949176,
           0.0673828337525108,
           null,
           0.33420552940640896,
           0.3112807141713258,
           0.12646736085492497,
           0.9160983992595672,
           1,
           -0.20313680968622705,
           0.33420552940640896,
           0.3112807141713258,
           0.12646736085492497,
           0.9160983992595672,
           1,
           -0.20313680968622705
          ],
          [
           -0.4991856126543054,
           -0.3305164693467884,
           null,
           -0.33975200174518394,
           -0.31118283560113913,
           -0.14895019738410925,
           -0.21189668162515615,
           -0.20313680968622705,
           1,
           -0.33975200174518394,
           -0.31118283560113913,
           -0.14895019738410925,
           -0.21189668162515615,
           -0.20313680968622705,
           1
          ]
         ]
        }
       ],
       "layout": {
        "coloraxis": {
         "colorscale": [
          [
           0,
           "#0d0887"
          ],
          [
           0.1111111111111111,
           "#46039f"
          ],
          [
           0.2222222222222222,
           "#7201a8"
          ],
          [
           0.3333333333333333,
           "#9c179e"
          ],
          [
           0.4444444444444444,
           "#bd3786"
          ],
          [
           0.5555555555555556,
           "#d8576b"
          ],
          [
           0.6666666666666666,
           "#ed7953"
          ],
          [
           0.7777777777777778,
           "#fb9f3a"
          ],
          [
           0.8888888888888888,
           "#fdca26"
          ],
          [
           1,
           "#f0f921"
          ]
         ]
        },
        "margin": {
         "t": 60
        },
        "template": {
         "data": {
          "bar": [
           {
            "error_x": {
             "color": "#2a3f5f"
            },
            "error_y": {
             "color": "#2a3f5f"
            },
            "marker": {
             "line": {
              "color": "#E5ECF6",
              "width": 0.5
             }
            },
            "type": "bar"
           }
          ],
          "barpolar": [
           {
            "marker": {
             "line": {
              "color": "#E5ECF6",
              "width": 0.5
             }
            },
            "type": "barpolar"
           }
          ],
          "carpet": [
           {
            "aaxis": {
             "endlinecolor": "#2a3f5f",
             "gridcolor": "white",
             "linecolor": "white",
             "minorgridcolor": "white",
             "startlinecolor": "#2a3f5f"
            },
            "baxis": {
             "endlinecolor": "#2a3f5f",
             "gridcolor": "white",
             "linecolor": "white",
             "minorgridcolor": "white",
             "startlinecolor": "#2a3f5f"
            },
            "type": "carpet"
           }
          ],
          "choropleth": [
           {
            "colorbar": {
             "outlinewidth": 0,
             "ticks": ""
            },
            "type": "choropleth"
           }
          ],
          "contour": [
           {
            "colorbar": {
             "outlinewidth": 0,
             "ticks": ""
            },
            "colorscale": [
             [
              0,
              "#0d0887"
             ],
             [
              0.1111111111111111,
              "#46039f"
             ],
             [
              0.2222222222222222,
              "#7201a8"
             ],
             [
              0.3333333333333333,
              "#9c179e"
             ],
             [
              0.4444444444444444,
              "#bd3786"
             ],
             [
              0.5555555555555556,
              "#d8576b"
             ],
             [
              0.6666666666666666,
              "#ed7953"
             ],
             [
              0.7777777777777778,
              "#fb9f3a"
             ],
             [
              0.8888888888888888,
              "#fdca26"
             ],
             [
              1,
              "#f0f921"
             ]
            ],
            "type": "contour"
           }
          ],
          "contourcarpet": [
           {
            "colorbar": {
             "outlinewidth": 0,
             "ticks": ""
            },
            "type": "contourcarpet"
           }
          ],
          "heatmap": [
           {
            "colorbar": {
             "outlinewidth": 0,
             "ticks": ""
            },
            "colorscale": [
             [
              0,
              "#0d0887"
             ],
             [
              0.1111111111111111,
              "#46039f"
             ],
             [
              0.2222222222222222,
              "#7201a8"
             ],
             [
              0.3333333333333333,
              "#9c179e"
             ],
             [
              0.4444444444444444,
              "#bd3786"
             ],
             [
              0.5555555555555556,
              "#d8576b"
             ],
             [
              0.6666666666666666,
              "#ed7953"
             ],
             [
              0.7777777777777778,
              "#fb9f3a"
             ],
             [
              0.8888888888888888,
              "#fdca26"
             ],
             [
              1,
              "#f0f921"
             ]
            ],
            "type": "heatmap"
           }
          ],
          "heatmapgl": [
           {
            "colorbar": {
             "outlinewidth": 0,
             "ticks": ""
            },
            "colorscale": [
             [
              0,
              "#0d0887"
             ],
             [
              0.1111111111111111,
              "#46039f"
             ],
             [
              0.2222222222222222,
              "#7201a8"
             ],
             [
              0.3333333333333333,
              "#9c179e"
             ],
             [
              0.4444444444444444,
              "#bd3786"
             ],
             [
              0.5555555555555556,
              "#d8576b"
             ],
             [
              0.6666666666666666,
              "#ed7953"
             ],
             [
              0.7777777777777778,
              "#fb9f3a"
             ],
             [
              0.8888888888888888,
              "#fdca26"
             ],
             [
              1,
              "#f0f921"
             ]
            ],
            "type": "heatmapgl"
           }
          ],
          "histogram": [
           {
            "marker": {
             "colorbar": {
              "outlinewidth": 0,
              "ticks": ""
             }
            },
            "type": "histogram"
           }
          ],
          "histogram2d": [
           {
            "colorbar": {
             "outlinewidth": 0,
             "ticks": ""
            },
            "colorscale": [
             [
              0,
              "#0d0887"
             ],
             [
              0.1111111111111111,
              "#46039f"
             ],
             [
              0.2222222222222222,
              "#7201a8"
             ],
             [
              0.3333333333333333,
              "#9c179e"
             ],
             [
              0.4444444444444444,
              "#bd3786"
             ],
             [
              0.5555555555555556,
              "#d8576b"
             ],
             [
              0.6666666666666666,
              "#ed7953"
             ],
             [
              0.7777777777777778,
              "#fb9f3a"
             ],
             [
              0.8888888888888888,
              "#fdca26"
             ],
             [
              1,
              "#f0f921"
             ]
            ],
            "type": "histogram2d"
           }
          ],
          "histogram2dcontour": [
           {
            "colorbar": {
             "outlinewidth": 0,
             "ticks": ""
            },
            "colorscale": [
             [
              0,
              "#0d0887"
             ],
             [
              0.1111111111111111,
              "#46039f"
             ],
             [
              0.2222222222222222,
              "#7201a8"
             ],
             [
              0.3333333333333333,
              "#9c179e"
             ],
             [
              0.4444444444444444,
              "#bd3786"
             ],
             [
              0.5555555555555556,
              "#d8576b"
             ],
             [
              0.6666666666666666,
              "#ed7953"
             ],
             [
              0.7777777777777778,
              "#fb9f3a"
             ],
             [
              0.8888888888888888,
              "#fdca26"
             ],
             [
              1,
              "#f0f921"
             ]
            ],
            "type": "histogram2dcontour"
           }
          ],
          "mesh3d": [
           {
            "colorbar": {
             "outlinewidth": 0,
             "ticks": ""
            },
            "type": "mesh3d"
           }
          ],
          "parcoords": [
           {
            "line": {
             "colorbar": {
              "outlinewidth": 0,
              "ticks": ""
             }
            },
            "type": "parcoords"
           }
          ],
          "pie": [
           {
            "automargin": true,
            "type": "pie"
           }
          ],
          "scatter": [
           {
            "marker": {
             "colorbar": {
              "outlinewidth": 0,
              "ticks": ""
             }
            },
            "type": "scatter"
           }
          ],
          "scatter3d": [
           {
            "line": {
             "colorbar": {
              "outlinewidth": 0,
              "ticks": ""
             }
            },
            "marker": {
             "colorbar": {
              "outlinewidth": 0,
              "ticks": ""
             }
            },
            "type": "scatter3d"
           }
          ],
          "scattercarpet": [
           {
            "marker": {
             "colorbar": {
              "outlinewidth": 0,
              "ticks": ""
             }
            },
            "type": "scattercarpet"
           }
          ],
          "scattergeo": [
           {
            "marker": {
             "colorbar": {
              "outlinewidth": 0,
              "ticks": ""
             }
            },
            "type": "scattergeo"
           }
          ],
          "scattergl": [
           {
            "marker": {
             "colorbar": {
              "outlinewidth": 0,
              "ticks": ""
             }
            },
            "type": "scattergl"
           }
          ],
          "scattermapbox": [
           {
            "marker": {
             "colorbar": {
              "outlinewidth": 0,
              "ticks": ""
             }
            },
            "type": "scattermapbox"
           }
          ],
          "scatterpolar": [
           {
            "marker": {
             "colorbar": {
              "outlinewidth": 0,
              "ticks": ""
             }
            },
            "type": "scatterpolar"
           }
          ],
          "scatterpolargl": [
           {
            "marker": {
             "colorbar": {
              "outlinewidth": 0,
              "ticks": ""
             }
            },
            "type": "scatterpolargl"
           }
          ],
          "scatterternary": [
           {
            "marker": {
             "colorbar": {
              "outlinewidth": 0,
              "ticks": ""
             }
            },
            "type": "scatterternary"
           }
          ],
          "surface": [
           {
            "colorbar": {
             "outlinewidth": 0,
             "ticks": ""
            },
            "colorscale": [
             [
              0,
              "#0d0887"
             ],
             [
              0.1111111111111111,
              "#46039f"
             ],
             [
              0.2222222222222222,
              "#7201a8"
             ],
             [
              0.3333333333333333,
              "#9c179e"
             ],
             [
              0.4444444444444444,
              "#bd3786"
             ],
             [
              0.5555555555555556,
              "#d8576b"
             ],
             [
              0.6666666666666666,
              "#ed7953"
             ],
             [
              0.7777777777777778,
              "#fb9f3a"
             ],
             [
              0.8888888888888888,
              "#fdca26"
             ],
             [
              1,
              "#f0f921"
             ]
            ],
            "type": "surface"
           }
          ],
          "table": [
           {
            "cells": {
             "fill": {
              "color": "#EBF0F8"
             },
             "line": {
              "color": "white"
             }
            },
            "header": {
             "fill": {
              "color": "#C8D4E3"
             },
             "line": {
              "color": "white"
             }
            },
            "type": "table"
           }
          ]
         },
         "layout": {
          "annotationdefaults": {
           "arrowcolor": "#2a3f5f",
           "arrowhead": 0,
           "arrowwidth": 1
          },
          "autotypenumbers": "strict",
          "coloraxis": {
           "colorbar": {
            "outlinewidth": 0,
            "ticks": ""
           }
          },
          "colorscale": {
           "diverging": [
            [
             0,
             "#8e0152"
            ],
            [
             0.1,
             "#c51b7d"
            ],
            [
             0.2,
             "#de77ae"
            ],
            [
             0.3,
             "#f1b6da"
            ],
            [
             0.4,
             "#fde0ef"
            ],
            [
             0.5,
             "#f7f7f7"
            ],
            [
             0.6,
             "#e6f5d0"
            ],
            [
             0.7,
             "#b8e186"
            ],
            [
             0.8,
             "#7fbc41"
            ],
            [
             0.9,
             "#4d9221"
            ],
            [
             1,
             "#276419"
            ]
           ],
           "sequential": [
            [
             0,
             "#0d0887"
            ],
            [
             0.1111111111111111,
             "#46039f"
            ],
            [
             0.2222222222222222,
             "#7201a8"
            ],
            [
             0.3333333333333333,
             "#9c179e"
            ],
            [
             0.4444444444444444,
             "#bd3786"
            ],
            [
             0.5555555555555556,
             "#d8576b"
            ],
            [
             0.6666666666666666,
             "#ed7953"
            ],
            [
             0.7777777777777778,
             "#fb9f3a"
            ],
            [
             0.8888888888888888,
             "#fdca26"
            ],
            [
             1,
             "#f0f921"
            ]
           ],
           "sequentialminus": [
            [
             0,
             "#0d0887"
            ],
            [
             0.1111111111111111,
             "#46039f"
            ],
            [
             0.2222222222222222,
             "#7201a8"
            ],
            [
             0.3333333333333333,
             "#9c179e"
            ],
            [
             0.4444444444444444,
             "#bd3786"
            ],
            [
             0.5555555555555556,
             "#d8576b"
            ],
            [
             0.6666666666666666,
             "#ed7953"
            ],
            [
             0.7777777777777778,
             "#fb9f3a"
            ],
            [
             0.8888888888888888,
             "#fdca26"
            ],
            [
             1,
             "#f0f921"
            ]
           ]
          },
          "colorway": [
           "#636efa",
           "#EF553B",
           "#00cc96",
           "#ab63fa",
           "#FFA15A",
           "#19d3f3",
           "#FF6692",
           "#B6E880",
           "#FF97FF",
           "#FECB52"
          ],
          "font": {
           "color": "#2a3f5f"
          },
          "geo": {
           "bgcolor": "white",
           "lakecolor": "white",
           "landcolor": "#E5ECF6",
           "showlakes": true,
           "showland": true,
           "subunitcolor": "white"
          },
          "hoverlabel": {
           "align": "left"
          },
          "hovermode": "closest",
          "mapbox": {
           "style": "light"
          },
          "paper_bgcolor": "white",
          "plot_bgcolor": "#E5ECF6",
          "polar": {
           "angularaxis": {
            "gridcolor": "white",
            "linecolor": "white",
            "ticks": ""
           },
           "bgcolor": "#E5ECF6",
           "radialaxis": {
            "gridcolor": "white",
            "linecolor": "white",
            "ticks": ""
           }
          },
          "scene": {
           "xaxis": {
            "backgroundcolor": "#E5ECF6",
            "gridcolor": "white",
            "gridwidth": 2,
            "linecolor": "white",
            "showbackground": true,
            "ticks": "",
            "zerolinecolor": "white"
           },
           "yaxis": {
            "backgroundcolor": "#E5ECF6",
            "gridcolor": "white",
            "gridwidth": 2,
            "linecolor": "white",
            "showbackground": true,
            "ticks": "",
            "zerolinecolor": "white"
           },
           "zaxis": {
            "backgroundcolor": "#E5ECF6",
            "gridcolor": "white",
            "gridwidth": 2,
            "linecolor": "white",
            "showbackground": true,
            "ticks": "",
            "zerolinecolor": "white"
           }
          },
          "shapedefaults": {
           "line": {
            "color": "#2a3f5f"
           }
          },
          "ternary": {
           "aaxis": {
            "gridcolor": "white",
            "linecolor": "white",
            "ticks": ""
           },
           "baxis": {
            "gridcolor": "white",
            "linecolor": "white",
            "ticks": ""
           },
           "bgcolor": "#E5ECF6",
           "caxis": {
            "gridcolor": "white",
            "linecolor": "white",
            "ticks": ""
           }
          },
          "title": {
           "x": 0.05
          },
          "xaxis": {
           "automargin": true,
           "gridcolor": "white",
           "linecolor": "white",
           "ticks": "",
           "title": {
            "standoff": 15
           },
           "zerolinecolor": "white",
           "zerolinewidth": 2
          },
          "yaxis": {
           "automargin": true,
           "gridcolor": "white",
           "linecolor": "white",
           "ticks": "",
           "title": {
            "standoff": 15
           },
           "zerolinecolor": "white",
           "zerolinewidth": 2
          }
         }
        },
        "xaxis": {
         "anchor": "y",
         "constrain": "domain",
         "domain": [
          0,
          1
         ],
         "scaleanchor": "y"
        },
        "yaxis": {
         "anchor": "x",
         "autorange": "reversed",
         "constrain": "domain",
         "domain": [
          0,
          1
         ]
        }
       }
      },
      "text/html": [
       "<div>                            <div id=\"4e7ba516-3cc3-4104-b924-5877f0ebbb08\" class=\"plotly-graph-div\" style=\"height:525px; width:100%;\"></div>            <script type=\"text/javascript\">                require([\"plotly\"], function(Plotly) {                    window.PLOTLYENV=window.PLOTLYENV || {};                                    if (document.getElementById(\"4e7ba516-3cc3-4104-b924-5877f0ebbb08\")) {                    Plotly.newPlot(                        \"4e7ba516-3cc3-4104-b924-5877f0ebbb08\",                        [{\"coloraxis\": \"coloraxis\", \"hovertemplate\": \"x: %{x}<br>y: %{y}<br>color: %{z}<extra></extra>\", \"name\": \"0\", \"type\": \"heatmap\", \"x\": [\"CRS_ELAPSED_TIME\", \"ACTUAL_ELAPSED_TIME\", \"DISTANCE\", \"origin precipitation_sum (mm)\", \"origin rain_sum (mm)\", \"origin snowfall_sum (cm)\", \"origin windspeed_10m_max (km/h)\", \"origin windgusts_10m_max (km/h)\", \"origin et0_fao_evapotranspiration (mm)\", \"dest precipitation_sum (mm)\", \"dest rain_sum (mm)\", \"dest snowfall_sum (cm)\", \"dest windspeed_10m_max (km/h)\", \"dest windgusts_10m_max (km/h)\", \"dest et0_fao_evapotranspiration (mm)\"], \"xaxis\": \"x\", \"y\": [\"CRS_ELAPSED_TIME\", \"ACTUAL_ELAPSED_TIME\", \"DISTANCE\", \"origin precipitation_sum (mm)\", \"origin rain_sum (mm)\", \"origin snowfall_sum (cm)\", \"origin windspeed_10m_max (km/h)\", \"origin windgusts_10m_max (km/h)\", \"origin et0_fao_evapotranspiration (mm)\", \"dest precipitation_sum (mm)\", \"dest rain_sum (mm)\", \"dest snowfall_sum (cm)\", \"dest windspeed_10m_max (km/h)\", \"dest windgusts_10m_max (km/h)\", \"dest et0_fao_evapotranspiration (mm)\"], \"yaxis\": \"y\", \"z\": [[1.0, 0.3081638414893796, null, -0.04795299023984335, -0.06548976331136619, 0.062209778250562016, 0.20795775996281834, 0.17274414808949176, -0.4991856126543054, -0.04795299023984335, -0.06548976331136619, 0.062209778250562016, 0.20795775996281834, 0.17274414808949176, -0.4991856126543054], [0.3081638414893796, 1.0, null, 0.17758789562434552, 0.10752883527737828, 0.2857319308273646, 0.09269072746377113, 0.0673828337525108, -0.3305164693467884, 0.17758789562434552, 0.10752883527737828, 0.2857319308273646, 0.09269072746377113, 0.0673828337525108, -0.3305164693467884], [null, null, null, null, null, null, null, null, null, null, null, null, null, null, null], [-0.04795299023984335, 0.17758789562434552, null, 1.0, 0.9663368087659578, 0.2435125619447989, 0.24594721462078215, 0.33420552940640896, -0.33975200174518394, 1.0, 0.9663368087659578, 0.2435125619447989, 0.24594721462078215, 0.33420552940640896, -0.33975200174518394], [-0.06548976331136619, 0.10752883527737828, null, 0.9663368087659578, 1.0, -0.014193335370994278, 0.20702814583339438, 0.3112807141713258, -0.31118283560113913, 0.966336808765958, 1.0, -0.014193335370994278, 0.20702814583339438, 0.3112807141713258, -0.31118283560113913], [0.062209778250562016, 0.2857319308273646, null, 0.2435125619447989, -0.014193335370994278, 1.0, 0.17631371902359574, 0.12646736085492497, -0.14895019738410925, 0.2435125619447989, -0.014193335370994284, 1.0, 0.17631371902359574, 0.12646736085492497, -0.14895019738410925], [0.20795775996281834, 0.09269072746377113, null, 0.24594721462078215, 0.20702814583339438, 0.17631371902359574, 1.0, 0.9160983992595672, -0.21189668162515615, 0.24594721462078215, 0.20702814583339438, 0.1763137190235957, 1.0, 0.9160983992595672, -0.21189668162515615], [0.17274414808949176, 0.0673828337525108, null, 0.33420552940640896, 0.3112807141713258, 0.12646736085492497, 0.9160983992595672, 1.0, -0.20313680968622705, 0.3342055294064089, 0.3112807141713258, 0.12646736085492494, 0.9160983992595672, 1.0, -0.20313680968622705], [-0.4991856126543054, -0.3305164693467884, null, -0.33975200174518394, -0.31118283560113913, -0.14895019738410925, -0.21189668162515615, -0.20313680968622705, 1.0, -0.33975200174518394, -0.31118283560113913, -0.14895019738410928, -0.21189668162515618, -0.20313680968622705, 1.0], [-0.04795299023984335, 0.17758789562434552, null, 1.0, 0.966336808765958, 0.2435125619447989, 0.24594721462078215, 0.3342055294064089, -0.33975200174518394, 1.0, 0.9663368087659578, 0.2435125619447989, 0.24594721462078215, 0.33420552940640896, -0.33975200174518394], [-0.06548976331136619, 0.10752883527737828, null, 0.9663368087659578, 1.0, -0.014193335370994284, 0.20702814583339438, 0.3112807141713258, -0.31118283560113913, 0.9663368087659578, 1.0, -0.014193335370994278, 0.20702814583339438, 0.3112807141713258, -0.31118283560113913], [0.062209778250562016, 0.2857319308273646, null, 0.2435125619447989, -0.014193335370994278, 1.0, 0.1763137190235957, 0.12646736085492494, -0.14895019738410928, 0.2435125619447989, -0.014193335370994278, 1.0, 0.17631371902359574, 0.12646736085492497, -0.14895019738410925], [0.20795775996281834, 0.09269072746377113, null, 0.24594721462078215, 0.20702814583339438, 0.17631371902359574, 1.0, 0.9160983992595672, -0.21189668162515618, 0.24594721462078215, 0.20702814583339438, 0.17631371902359574, 1.0, 0.9160983992595672, -0.21189668162515615], [0.17274414808949176, 0.0673828337525108, null, 0.33420552940640896, 0.3112807141713258, 0.12646736085492497, 0.9160983992595672, 1.0, -0.20313680968622705, 0.33420552940640896, 0.3112807141713258, 0.12646736085492497, 0.9160983992595672, 1.0, -0.20313680968622705], [-0.4991856126543054, -0.3305164693467884, null, -0.33975200174518394, -0.31118283560113913, -0.14895019738410925, -0.21189668162515615, -0.20313680968622705, 1.0, -0.33975200174518394, -0.31118283560113913, -0.14895019738410925, -0.21189668162515615, -0.20313680968622705, 1.0]]}],                        {\"coloraxis\": {\"colorscale\": [[0.0, \"#0d0887\"], [0.1111111111111111, \"#46039f\"], [0.2222222222222222, \"#7201a8\"], [0.3333333333333333, \"#9c179e\"], [0.4444444444444444, \"#bd3786\"], [0.5555555555555556, \"#d8576b\"], [0.6666666666666666, \"#ed7953\"], [0.7777777777777778, \"#fb9f3a\"], [0.8888888888888888, \"#fdca26\"], [1.0, \"#f0f921\"]]}, \"margin\": {\"t\": 60}, \"template\": {\"data\": {\"bar\": [{\"error_x\": {\"color\": \"#2a3f5f\"}, \"error_y\": {\"color\": \"#2a3f5f\"}, \"marker\": {\"line\": {\"color\": \"#E5ECF6\", \"width\": 0.5}}, \"type\": \"bar\"}], \"barpolar\": [{\"marker\": {\"line\": {\"color\": \"#E5ECF6\", \"width\": 0.5}}, \"type\": \"barpolar\"}], \"carpet\": [{\"aaxis\": {\"endlinecolor\": \"#2a3f5f\", \"gridcolor\": \"white\", \"linecolor\": \"white\", \"minorgridcolor\": \"white\", \"startlinecolor\": \"#2a3f5f\"}, \"baxis\": {\"endlinecolor\": \"#2a3f5f\", \"gridcolor\": \"white\", \"linecolor\": \"white\", \"minorgridcolor\": \"white\", \"startlinecolor\": \"#2a3f5f\"}, \"type\": \"carpet\"}], \"choropleth\": [{\"colorbar\": {\"outlinewidth\": 0, \"ticks\": \"\"}, \"type\": \"choropleth\"}], \"contour\": [{\"colorbar\": {\"outlinewidth\": 0, \"ticks\": \"\"}, \"colorscale\": [[0.0, \"#0d0887\"], [0.1111111111111111, \"#46039f\"], [0.2222222222222222, \"#7201a8\"], [0.3333333333333333, \"#9c179e\"], [0.4444444444444444, \"#bd3786\"], [0.5555555555555556, \"#d8576b\"], [0.6666666666666666, \"#ed7953\"], [0.7777777777777778, \"#fb9f3a\"], [0.8888888888888888, \"#fdca26\"], [1.0, \"#f0f921\"]], \"type\": \"contour\"}], \"contourcarpet\": [{\"colorbar\": {\"outlinewidth\": 0, \"ticks\": \"\"}, \"type\": \"contourcarpet\"}], \"heatmap\": [{\"colorbar\": {\"outlinewidth\": 0, \"ticks\": \"\"}, \"colorscale\": [[0.0, \"#0d0887\"], [0.1111111111111111, \"#46039f\"], [0.2222222222222222, \"#7201a8\"], [0.3333333333333333, \"#9c179e\"], [0.4444444444444444, \"#bd3786\"], [0.5555555555555556, \"#d8576b\"], [0.6666666666666666, \"#ed7953\"], [0.7777777777777778, \"#fb9f3a\"], [0.8888888888888888, \"#fdca26\"], [1.0, \"#f0f921\"]], \"type\": \"heatmap\"}], \"heatmapgl\": [{\"colorbar\": {\"outlinewidth\": 0, \"ticks\": \"\"}, \"colorscale\": [[0.0, \"#0d0887\"], [0.1111111111111111, \"#46039f\"], [0.2222222222222222, \"#7201a8\"], [0.3333333333333333, \"#9c179e\"], [0.4444444444444444, \"#bd3786\"], [0.5555555555555556, \"#d8576b\"], [0.6666666666666666, \"#ed7953\"], [0.7777777777777778, \"#fb9f3a\"], [0.8888888888888888, \"#fdca26\"], [1.0, \"#f0f921\"]], \"type\": \"heatmapgl\"}], \"histogram\": [{\"marker\": {\"colorbar\": {\"outlinewidth\": 0, \"ticks\": \"\"}}, \"type\": \"histogram\"}], \"histogram2d\": [{\"colorbar\": {\"outlinewidth\": 0, \"ticks\": \"\"}, \"colorscale\": [[0.0, \"#0d0887\"], [0.1111111111111111, \"#46039f\"], [0.2222222222222222, \"#7201a8\"], [0.3333333333333333, \"#9c179e\"], [0.4444444444444444, \"#bd3786\"], [0.5555555555555556, \"#d8576b\"], [0.6666666666666666, \"#ed7953\"], [0.7777777777777778, \"#fb9f3a\"], [0.8888888888888888, \"#fdca26\"], [1.0, \"#f0f921\"]], \"type\": \"histogram2d\"}], \"histogram2dcontour\": [{\"colorbar\": {\"outlinewidth\": 0, \"ticks\": \"\"}, \"colorscale\": [[0.0, \"#0d0887\"], [0.1111111111111111, \"#46039f\"], [0.2222222222222222, \"#7201a8\"], [0.3333333333333333, \"#9c179e\"], [0.4444444444444444, \"#bd3786\"], [0.5555555555555556, \"#d8576b\"], [0.6666666666666666, \"#ed7953\"], [0.7777777777777778, \"#fb9f3a\"], [0.8888888888888888, \"#fdca26\"], [1.0, \"#f0f921\"]], \"type\": \"histogram2dcontour\"}], \"mesh3d\": [{\"colorbar\": {\"outlinewidth\": 0, \"ticks\": \"\"}, \"type\": \"mesh3d\"}], \"parcoords\": [{\"line\": {\"colorbar\": {\"outlinewidth\": 0, \"ticks\": \"\"}}, \"type\": \"parcoords\"}], \"pie\": [{\"automargin\": true, \"type\": \"pie\"}], \"scatter\": [{\"marker\": {\"colorbar\": {\"outlinewidth\": 0, \"ticks\": \"\"}}, \"type\": \"scatter\"}], \"scatter3d\": [{\"line\": {\"colorbar\": {\"outlinewidth\": 0, \"ticks\": \"\"}}, \"marker\": {\"colorbar\": {\"outlinewidth\": 0, \"ticks\": \"\"}}, \"type\": \"scatter3d\"}], \"scattercarpet\": [{\"marker\": {\"colorbar\": {\"outlinewidth\": 0, \"ticks\": \"\"}}, \"type\": \"scattercarpet\"}], \"scattergeo\": [{\"marker\": {\"colorbar\": {\"outlinewidth\": 0, \"ticks\": \"\"}}, \"type\": \"scattergeo\"}], \"scattergl\": [{\"marker\": {\"colorbar\": {\"outlinewidth\": 0, \"ticks\": \"\"}}, \"type\": \"scattergl\"}], \"scattermapbox\": [{\"marker\": {\"colorbar\": {\"outlinewidth\": 0, \"ticks\": \"\"}}, \"type\": \"scattermapbox\"}], \"scatterpolar\": [{\"marker\": {\"colorbar\": {\"outlinewidth\": 0, \"ticks\": \"\"}}, \"type\": \"scatterpolar\"}], \"scatterpolargl\": [{\"marker\": {\"colorbar\": {\"outlinewidth\": 0, \"ticks\": \"\"}}, \"type\": \"scatterpolargl\"}], \"scatterternary\": [{\"marker\": {\"colorbar\": {\"outlinewidth\": 0, \"ticks\": \"\"}}, \"type\": \"scatterternary\"}], \"surface\": [{\"colorbar\": {\"outlinewidth\": 0, \"ticks\": \"\"}, \"colorscale\": [[0.0, \"#0d0887\"], [0.1111111111111111, \"#46039f\"], [0.2222222222222222, \"#7201a8\"], [0.3333333333333333, \"#9c179e\"], [0.4444444444444444, \"#bd3786\"], [0.5555555555555556, \"#d8576b\"], [0.6666666666666666, \"#ed7953\"], [0.7777777777777778, \"#fb9f3a\"], [0.8888888888888888, \"#fdca26\"], [1.0, \"#f0f921\"]], \"type\": \"surface\"}], \"table\": [{\"cells\": {\"fill\": {\"color\": \"#EBF0F8\"}, \"line\": {\"color\": \"white\"}}, \"header\": {\"fill\": {\"color\": \"#C8D4E3\"}, \"line\": {\"color\": \"white\"}}, \"type\": \"table\"}]}, \"layout\": {\"annotationdefaults\": {\"arrowcolor\": \"#2a3f5f\", \"arrowhead\": 0, \"arrowwidth\": 1}, \"autotypenumbers\": \"strict\", \"coloraxis\": {\"colorbar\": {\"outlinewidth\": 0, \"ticks\": \"\"}}, \"colorscale\": {\"diverging\": [[0, \"#8e0152\"], [0.1, \"#c51b7d\"], [0.2, \"#de77ae\"], [0.3, \"#f1b6da\"], [0.4, \"#fde0ef\"], [0.5, \"#f7f7f7\"], [0.6, \"#e6f5d0\"], [0.7, \"#b8e186\"], [0.8, \"#7fbc41\"], [0.9, \"#4d9221\"], [1, \"#276419\"]], \"sequential\": [[0.0, \"#0d0887\"], [0.1111111111111111, \"#46039f\"], [0.2222222222222222, \"#7201a8\"], [0.3333333333333333, \"#9c179e\"], [0.4444444444444444, \"#bd3786\"], [0.5555555555555556, \"#d8576b\"], [0.6666666666666666, \"#ed7953\"], [0.7777777777777778, \"#fb9f3a\"], [0.8888888888888888, \"#fdca26\"], [1.0, \"#f0f921\"]], \"sequentialminus\": [[0.0, \"#0d0887\"], [0.1111111111111111, \"#46039f\"], [0.2222222222222222, \"#7201a8\"], [0.3333333333333333, \"#9c179e\"], [0.4444444444444444, \"#bd3786\"], [0.5555555555555556, \"#d8576b\"], [0.6666666666666666, \"#ed7953\"], [0.7777777777777778, \"#fb9f3a\"], [0.8888888888888888, \"#fdca26\"], [1.0, \"#f0f921\"]]}, \"colorway\": [\"#636efa\", \"#EF553B\", \"#00cc96\", \"#ab63fa\", \"#FFA15A\", \"#19d3f3\", \"#FF6692\", \"#B6E880\", \"#FF97FF\", \"#FECB52\"], \"font\": {\"color\": \"#2a3f5f\"}, \"geo\": {\"bgcolor\": \"white\", \"lakecolor\": \"white\", \"landcolor\": \"#E5ECF6\", \"showlakes\": true, \"showland\": true, \"subunitcolor\": \"white\"}, \"hoverlabel\": {\"align\": \"left\"}, \"hovermode\": \"closest\", \"mapbox\": {\"style\": \"light\"}, \"paper_bgcolor\": \"white\", \"plot_bgcolor\": \"#E5ECF6\", \"polar\": {\"angularaxis\": {\"gridcolor\": \"white\", \"linecolor\": \"white\", \"ticks\": \"\"}, \"bgcolor\": \"#E5ECF6\", \"radialaxis\": {\"gridcolor\": \"white\", \"linecolor\": \"white\", \"ticks\": \"\"}}, \"scene\": {\"xaxis\": {\"backgroundcolor\": \"#E5ECF6\", \"gridcolor\": \"white\", \"gridwidth\": 2, \"linecolor\": \"white\", \"showbackground\": true, \"ticks\": \"\", \"zerolinecolor\": \"white\"}, \"yaxis\": {\"backgroundcolor\": \"#E5ECF6\", \"gridcolor\": \"white\", \"gridwidth\": 2, \"linecolor\": \"white\", \"showbackground\": true, \"ticks\": \"\", \"zerolinecolor\": \"white\"}, \"zaxis\": {\"backgroundcolor\": \"#E5ECF6\", \"gridcolor\": \"white\", \"gridwidth\": 2, \"linecolor\": \"white\", \"showbackground\": true, \"ticks\": \"\", \"zerolinecolor\": \"white\"}}, \"shapedefaults\": {\"line\": {\"color\": \"#2a3f5f\"}}, \"ternary\": {\"aaxis\": {\"gridcolor\": \"white\", \"linecolor\": \"white\", \"ticks\": \"\"}, \"baxis\": {\"gridcolor\": \"white\", \"linecolor\": \"white\", \"ticks\": \"\"}, \"bgcolor\": \"#E5ECF6\", \"caxis\": {\"gridcolor\": \"white\", \"linecolor\": \"white\", \"ticks\": \"\"}}, \"title\": {\"x\": 0.05}, \"xaxis\": {\"automargin\": true, \"gridcolor\": \"white\", \"linecolor\": \"white\", \"ticks\": \"\", \"title\": {\"standoff\": 15}, \"zerolinecolor\": \"white\", \"zerolinewidth\": 2}, \"yaxis\": {\"automargin\": true, \"gridcolor\": \"white\", \"linecolor\": \"white\", \"ticks\": \"\", \"title\": {\"standoff\": 15}, \"zerolinecolor\": \"white\", \"zerolinewidth\": 2}}}, \"xaxis\": {\"anchor\": \"y\", \"constrain\": \"domain\", \"domain\": [0.0, 1.0], \"scaleanchor\": \"y\"}, \"yaxis\": {\"anchor\": \"x\", \"autorange\": \"reversed\", \"constrain\": \"domain\", \"domain\": [0.0, 1.0]}},                        {\"responsive\": true}                    ).then(function(){\n",
       "                            \n",
       "var gd = document.getElementById('4e7ba516-3cc3-4104-b924-5877f0ebbb08');\n",
       "var x = new MutationObserver(function (mutations, observer) {{\n",
       "        var display = window.getComputedStyle(gd).display;\n",
       "        if (!display || display === 'none') {{\n",
       "            console.log([gd, 'removed!']);\n",
       "            Plotly.purge(gd);\n",
       "            observer.disconnect();\n",
       "        }}\n",
       "}});\n",
       "\n",
       "// Listen for the removal of the full notebook cells\n",
       "var notebookContainer = gd.closest('#notebook-container');\n",
       "if (notebookContainer) {{\n",
       "    x.observe(notebookContainer, {childList: true});\n",
       "}}\n",
       "\n",
       "// Listen for the clearing of the current output cell\n",
       "var outputEl = gd.closest('.output');\n",
       "if (outputEl) {{\n",
       "    x.observe(outputEl, {childList: true});\n",
       "}}\n",
       "\n",
       "                        })                };                });            </script>        </div>"
      ]
     },
     "metadata": {},
     "output_type": "display_data"
    }
   ],
   "source": [
    "fig = px.imshow(\n",
    "    abe_atl_airline_df[without_airline_cols].corr(),\n",
    ")\n",
    "fig.show()"
   ]
  },
  {
   "cell_type": "code",
   "execution_count": null,
   "id": "de589710",
   "metadata": {},
   "outputs": [],
   "source": []
  }
 ],
 "metadata": {
  "kernelspec": {
   "display_name": "Python 3 (ipykernel)",
   "language": "python",
   "name": "python3"
  },
  "language_info": {
   "codemirror_mode": {
    "name": "ipython",
    "version": 3
   },
   "file_extension": ".py",
   "mimetype": "text/x-python",
   "name": "python",
   "nbconvert_exporter": "python",
   "pygments_lexer": "ipython3",
   "version": "3.7.4"
  }
 },
 "nbformat": 4,
 "nbformat_minor": 5
}
