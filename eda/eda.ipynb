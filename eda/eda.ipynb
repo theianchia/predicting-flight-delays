{
 "cells": [
  {
   "cell_type": "code",
   "execution_count": 54,
   "id": "b99e98ad",
   "metadata": {},
   "outputs": [],
   "source": [
    "import pandas as pd\n",
    "import plotly.express as px\n",
    "\n",
    "from sklearn.preprocessing import StandardScaler"
   ]
  },
  {
   "cell_type": "code",
   "execution_count": 55,
   "id": "33aa9b31",
   "metadata": {},
   "outputs": [],
   "source": [
    "airline_df = pd.read_csv(\"cleaned_airline_2018.csv\")\n",
    "\n",
    "abe_weather_df = pd.read_csv(\"abe_cleaned_weather_2018.csv\")\n",
    "atl_weather_df = pd.read_csv(\"atl_cleaned_weather_2018.csv\")"
   ]
  },
  {
   "cell_type": "code",
   "execution_count": 56,
   "id": "d4ad891f",
   "metadata": {},
   "outputs": [
    {
     "data": {
      "text/html": [
       "<div>\n",
       "<style scoped>\n",
       "    .dataframe tbody tr th:only-of-type {\n",
       "        vertical-align: middle;\n",
       "    }\n",
       "\n",
       "    .dataframe tbody tr th {\n",
       "        vertical-align: top;\n",
       "    }\n",
       "\n",
       "    .dataframe thead th {\n",
       "        text-align: right;\n",
       "    }\n",
       "</style>\n",
       "<table border=\"1\" class=\"dataframe\">\n",
       "  <thead>\n",
       "    <tr style=\"text-align: right;\">\n",
       "      <th></th>\n",
       "      <th>Date</th>\n",
       "      <th>Origin</th>\n",
       "      <th>Destination</th>\n",
       "      <th>Delay</th>\n",
       "      <th>Alaska Airlines</th>\n",
       "      <th>Allegiant Air</th>\n",
       "      <th>American Airlines</th>\n",
       "      <th>Delta Airlines</th>\n",
       "      <th>Endeavor Air</th>\n",
       "      <th>Envoy Air</th>\n",
       "      <th>...</th>\n",
       "      <th>Hawaiian Airlines</th>\n",
       "      <th>JetBlue Airways</th>\n",
       "      <th>Mesa Airline</th>\n",
       "      <th>PSA Airlines</th>\n",
       "      <th>Republic Airways</th>\n",
       "      <th>SkyWest Airlines</th>\n",
       "      <th>Southwest Airlines</th>\n",
       "      <th>Spirit Airlines</th>\n",
       "      <th>United Airlines</th>\n",
       "      <th>Virgin America</th>\n",
       "    </tr>\n",
       "  </thead>\n",
       "  <tbody>\n",
       "    <tr>\n",
       "      <th>0</th>\n",
       "      <td>2018-01-01</td>\n",
       "      <td>EWR</td>\n",
       "      <td>DEN</td>\n",
       "      <td>-18.0</td>\n",
       "      <td>0</td>\n",
       "      <td>0</td>\n",
       "      <td>0</td>\n",
       "      <td>0</td>\n",
       "      <td>0</td>\n",
       "      <td>0</td>\n",
       "      <td>...</td>\n",
       "      <td>0</td>\n",
       "      <td>0</td>\n",
       "      <td>0</td>\n",
       "      <td>0</td>\n",
       "      <td>0</td>\n",
       "      <td>0</td>\n",
       "      <td>0</td>\n",
       "      <td>0</td>\n",
       "      <td>1</td>\n",
       "      <td>0</td>\n",
       "    </tr>\n",
       "    <tr>\n",
       "      <th>1</th>\n",
       "      <td>2018-01-01</td>\n",
       "      <td>LAS</td>\n",
       "      <td>SFO</td>\n",
       "      <td>-16.0</td>\n",
       "      <td>0</td>\n",
       "      <td>0</td>\n",
       "      <td>0</td>\n",
       "      <td>0</td>\n",
       "      <td>0</td>\n",
       "      <td>0</td>\n",
       "      <td>...</td>\n",
       "      <td>0</td>\n",
       "      <td>0</td>\n",
       "      <td>0</td>\n",
       "      <td>0</td>\n",
       "      <td>0</td>\n",
       "      <td>0</td>\n",
       "      <td>0</td>\n",
       "      <td>0</td>\n",
       "      <td>1</td>\n",
       "      <td>0</td>\n",
       "    </tr>\n",
       "    <tr>\n",
       "      <th>2</th>\n",
       "      <td>2018-01-01</td>\n",
       "      <td>SNA</td>\n",
       "      <td>DEN</td>\n",
       "      <td>-8.0</td>\n",
       "      <td>0</td>\n",
       "      <td>0</td>\n",
       "      <td>0</td>\n",
       "      <td>0</td>\n",
       "      <td>0</td>\n",
       "      <td>0</td>\n",
       "      <td>...</td>\n",
       "      <td>0</td>\n",
       "      <td>0</td>\n",
       "      <td>0</td>\n",
       "      <td>0</td>\n",
       "      <td>0</td>\n",
       "      <td>0</td>\n",
       "      <td>0</td>\n",
       "      <td>0</td>\n",
       "      <td>1</td>\n",
       "      <td>0</td>\n",
       "    </tr>\n",
       "    <tr>\n",
       "      <th>3</th>\n",
       "      <td>2018-01-01</td>\n",
       "      <td>RSW</td>\n",
       "      <td>ORD</td>\n",
       "      <td>-8.0</td>\n",
       "      <td>0</td>\n",
       "      <td>0</td>\n",
       "      <td>0</td>\n",
       "      <td>0</td>\n",
       "      <td>0</td>\n",
       "      <td>0</td>\n",
       "      <td>...</td>\n",
       "      <td>0</td>\n",
       "      <td>0</td>\n",
       "      <td>0</td>\n",
       "      <td>0</td>\n",
       "      <td>0</td>\n",
       "      <td>0</td>\n",
       "      <td>0</td>\n",
       "      <td>0</td>\n",
       "      <td>1</td>\n",
       "      <td>0</td>\n",
       "    </tr>\n",
       "    <tr>\n",
       "      <th>4</th>\n",
       "      <td>2018-01-01</td>\n",
       "      <td>ORD</td>\n",
       "      <td>ALB</td>\n",
       "      <td>-6.0</td>\n",
       "      <td>0</td>\n",
       "      <td>0</td>\n",
       "      <td>0</td>\n",
       "      <td>0</td>\n",
       "      <td>0</td>\n",
       "      <td>0</td>\n",
       "      <td>...</td>\n",
       "      <td>0</td>\n",
       "      <td>0</td>\n",
       "      <td>0</td>\n",
       "      <td>0</td>\n",
       "      <td>0</td>\n",
       "      <td>0</td>\n",
       "      <td>0</td>\n",
       "      <td>0</td>\n",
       "      <td>1</td>\n",
       "      <td>0</td>\n",
       "    </tr>\n",
       "  </tbody>\n",
       "</table>\n",
       "<p>5 rows × 22 columns</p>\n",
       "</div>"
      ],
      "text/plain": [
       "         Date Origin Destination  Delay  Alaska Airlines  Allegiant Air  \\\n",
       "0  2018-01-01    EWR         DEN  -18.0                0              0   \n",
       "1  2018-01-01    LAS         SFO  -16.0                0              0   \n",
       "2  2018-01-01    SNA         DEN   -8.0                0              0   \n",
       "3  2018-01-01    RSW         ORD   -8.0                0              0   \n",
       "4  2018-01-01    ORD         ALB   -6.0                0              0   \n",
       "\n",
       "   American Airlines  Delta Airlines  Endeavor Air  Envoy Air  ...  \\\n",
       "0                  0               0             0          0  ...   \n",
       "1                  0               0             0          0  ...   \n",
       "2                  0               0             0          0  ...   \n",
       "3                  0               0             0          0  ...   \n",
       "4                  0               0             0          0  ...   \n",
       "\n",
       "   Hawaiian Airlines  JetBlue Airways  Mesa Airline  PSA Airlines  \\\n",
       "0                  0                0             0             0   \n",
       "1                  0                0             0             0   \n",
       "2                  0                0             0             0   \n",
       "3                  0                0             0             0   \n",
       "4                  0                0             0             0   \n",
       "\n",
       "   Republic Airways  SkyWest Airlines  Southwest Airlines  Spirit Airlines  \\\n",
       "0                 0                 0                   0                0   \n",
       "1                 0                 0                   0                0   \n",
       "2                 0                 0                   0                0   \n",
       "3                 0                 0                   0                0   \n",
       "4                 0                 0                   0                0   \n",
       "\n",
       "   United Airlines  Virgin America  \n",
       "0                1               0  \n",
       "1                1               0  \n",
       "2                1               0  \n",
       "3                1               0  \n",
       "4                1               0  \n",
       "\n",
       "[5 rows x 22 columns]"
      ]
     },
     "execution_count": 56,
     "metadata": {},
     "output_type": "execute_result"
    }
   ],
   "source": [
    "airline_df.head()"
   ]
  },
  {
   "cell_type": "code",
   "execution_count": 58,
   "id": "b2e1d494",
   "metadata": {},
   "outputs": [
    {
     "data": {
      "text/html": [
       "<div>\n",
       "<style scoped>\n",
       "    .dataframe tbody tr th:only-of-type {\n",
       "        vertical-align: middle;\n",
       "    }\n",
       "\n",
       "    .dataframe tbody tr th {\n",
       "        vertical-align: top;\n",
       "    }\n",
       "\n",
       "    .dataframe thead th {\n",
       "        text-align: right;\n",
       "    }\n",
       "</style>\n",
       "<table border=\"1\" class=\"dataframe\">\n",
       "  <thead>\n",
       "    <tr style=\"text-align: right;\">\n",
       "      <th></th>\n",
       "      <th>Date</th>\n",
       "      <th>Precipitation</th>\n",
       "      <th>Rain</th>\n",
       "      <th>Snowfall</th>\n",
       "      <th>Windspeed</th>\n",
       "      <th>Windgusts</th>\n",
       "      <th>Evapotranspiration</th>\n",
       "    </tr>\n",
       "  </thead>\n",
       "  <tbody>\n",
       "    <tr>\n",
       "      <th>0</th>\n",
       "      <td>2018-01-01</td>\n",
       "      <td>0.0</td>\n",
       "      <td>0.0</td>\n",
       "      <td>0.00</td>\n",
       "      <td>17.9</td>\n",
       "      <td>43.2</td>\n",
       "      <td>0.81</td>\n",
       "    </tr>\n",
       "    <tr>\n",
       "      <th>1</th>\n",
       "      <td>2018-01-02</td>\n",
       "      <td>0.0</td>\n",
       "      <td>0.0</td>\n",
       "      <td>0.00</td>\n",
       "      <td>16.0</td>\n",
       "      <td>38.9</td>\n",
       "      <td>0.89</td>\n",
       "    </tr>\n",
       "    <tr>\n",
       "      <th>2</th>\n",
       "      <td>2018-01-03</td>\n",
       "      <td>0.0</td>\n",
       "      <td>0.0</td>\n",
       "      <td>0.00</td>\n",
       "      <td>9.3</td>\n",
       "      <td>22.7</td>\n",
       "      <td>0.85</td>\n",
       "    </tr>\n",
       "    <tr>\n",
       "      <th>3</th>\n",
       "      <td>2018-01-04</td>\n",
       "      <td>10.2</td>\n",
       "      <td>0.0</td>\n",
       "      <td>7.28</td>\n",
       "      <td>29.8</td>\n",
       "      <td>67.0</td>\n",
       "      <td>0.74</td>\n",
       "    </tr>\n",
       "    <tr>\n",
       "      <th>4</th>\n",
       "      <td>2018-01-05</td>\n",
       "      <td>0.0</td>\n",
       "      <td>0.0</td>\n",
       "      <td>0.00</td>\n",
       "      <td>30.9</td>\n",
       "      <td>67.3</td>\n",
       "      <td>0.92</td>\n",
       "    </tr>\n",
       "  </tbody>\n",
       "</table>\n",
       "</div>"
      ],
      "text/plain": [
       "         Date  Precipitation  Rain  Snowfall  Windspeed  Windgusts  \\\n",
       "0  2018-01-01            0.0   0.0      0.00       17.9       43.2   \n",
       "1  2018-01-02            0.0   0.0      0.00       16.0       38.9   \n",
       "2  2018-01-03            0.0   0.0      0.00        9.3       22.7   \n",
       "3  2018-01-04           10.2   0.0      7.28       29.8       67.0   \n",
       "4  2018-01-05            0.0   0.0      0.00       30.9       67.3   \n",
       "\n",
       "   Evapotranspiration  \n",
       "0                0.81  \n",
       "1                0.89  \n",
       "2                0.85  \n",
       "3                0.74  \n",
       "4                0.92  "
      ]
     },
     "execution_count": 58,
     "metadata": {},
     "output_type": "execute_result"
    }
   ],
   "source": [
    "abe_weather_df.head()"
   ]
  },
  {
   "cell_type": "code",
   "execution_count": 59,
   "id": "d29fa680",
   "metadata": {},
   "outputs": [
    {
     "data": {
      "text/plain": [
       "ATL    386586\n",
       "ORD    324908\n",
       "DFW    273243\n",
       "DEN    233741\n",
       "CLT    226795\n",
       "        ...  \n",
       "AKN        63\n",
       "CYS        57\n",
       "IFP        45\n",
       "ART        24\n",
       "YNG         2\n",
       "Name: Origin, Length: 358, dtype: int64"
      ]
     },
     "execution_count": 59,
     "metadata": {},
     "output_type": "execute_result"
    }
   ],
   "source": [
    "airline_df['Origin'].value_counts()"
   ]
  },
  {
   "cell_type": "code",
   "execution_count": 61,
   "id": "172caf52",
   "metadata": {},
   "outputs": [
    {
     "data": {
      "text/plain": [
       "ATL    960\n",
       "DTW    912\n",
       "CLT    911\n",
       "SFB    441\n",
       "ORD    345\n",
       "PIE    157\n",
       "PGD    144\n",
       "MYR     84\n",
       "FLL     72\n",
       "PHL     40\n",
       "Name: Destination, dtype: int64"
      ]
     },
     "execution_count": 61,
     "metadata": {},
     "output_type": "execute_result"
    }
   ],
   "source": [
    "airline_df[airline_df['Origin'] == 'ABE']['Destination'].value_counts()"
   ]
  },
  {
   "cell_type": "code",
   "execution_count": 62,
   "id": "261acf4c",
   "metadata": {},
   "outputs": [
    {
     "data": {
      "text/html": [
       "<div>\n",
       "<style scoped>\n",
       "    .dataframe tbody tr th:only-of-type {\n",
       "        vertical-align: middle;\n",
       "    }\n",
       "\n",
       "    .dataframe tbody tr th {\n",
       "        vertical-align: top;\n",
       "    }\n",
       "\n",
       "    .dataframe thead th {\n",
       "        text-align: right;\n",
       "    }\n",
       "</style>\n",
       "<table border=\"1\" class=\"dataframe\">\n",
       "  <thead>\n",
       "    <tr style=\"text-align: right;\">\n",
       "      <th></th>\n",
       "      <th>Date</th>\n",
       "      <th>Origin</th>\n",
       "      <th>Destination</th>\n",
       "      <th>Delay</th>\n",
       "      <th>Alaska Airlines</th>\n",
       "      <th>Allegiant Air</th>\n",
       "      <th>American Airlines</th>\n",
       "      <th>Delta Airlines</th>\n",
       "      <th>Endeavor Air</th>\n",
       "      <th>Envoy Air</th>\n",
       "      <th>...</th>\n",
       "      <th>Hawaiian Airlines</th>\n",
       "      <th>JetBlue Airways</th>\n",
       "      <th>Mesa Airline</th>\n",
       "      <th>PSA Airlines</th>\n",
       "      <th>Republic Airways</th>\n",
       "      <th>SkyWest Airlines</th>\n",
       "      <th>Southwest Airlines</th>\n",
       "      <th>Spirit Airlines</th>\n",
       "      <th>United Airlines</th>\n",
       "      <th>Virgin America</th>\n",
       "    </tr>\n",
       "  </thead>\n",
       "  <tbody>\n",
       "    <tr>\n",
       "      <th>3936</th>\n",
       "      <td>2018-01-01</td>\n",
       "      <td>ABE</td>\n",
       "      <td>ATL</td>\n",
       "      <td>21.0</td>\n",
       "      <td>0</td>\n",
       "      <td>0</td>\n",
       "      <td>0</td>\n",
       "      <td>0</td>\n",
       "      <td>0</td>\n",
       "      <td>0</td>\n",
       "      <td>...</td>\n",
       "      <td>0</td>\n",
       "      <td>0</td>\n",
       "      <td>0</td>\n",
       "      <td>0</td>\n",
       "      <td>0</td>\n",
       "      <td>0</td>\n",
       "      <td>0</td>\n",
       "      <td>0</td>\n",
       "      <td>0</td>\n",
       "      <td>0</td>\n",
       "    </tr>\n",
       "    <tr>\n",
       "      <th>19725</th>\n",
       "      <td>2018-01-02</td>\n",
       "      <td>ABE</td>\n",
       "      <td>ATL</td>\n",
       "      <td>-22.0</td>\n",
       "      <td>0</td>\n",
       "      <td>0</td>\n",
       "      <td>0</td>\n",
       "      <td>0</td>\n",
       "      <td>0</td>\n",
       "      <td>0</td>\n",
       "      <td>...</td>\n",
       "      <td>0</td>\n",
       "      <td>0</td>\n",
       "      <td>0</td>\n",
       "      <td>0</td>\n",
       "      <td>0</td>\n",
       "      <td>0</td>\n",
       "      <td>0</td>\n",
       "      <td>0</td>\n",
       "      <td>0</td>\n",
       "      <td>0</td>\n",
       "    </tr>\n",
       "    <tr>\n",
       "      <th>19733</th>\n",
       "      <td>2018-01-02</td>\n",
       "      <td>ABE</td>\n",
       "      <td>ATL</td>\n",
       "      <td>-15.0</td>\n",
       "      <td>0</td>\n",
       "      <td>0</td>\n",
       "      <td>0</td>\n",
       "      <td>0</td>\n",
       "      <td>0</td>\n",
       "      <td>0</td>\n",
       "      <td>...</td>\n",
       "      <td>0</td>\n",
       "      <td>0</td>\n",
       "      <td>0</td>\n",
       "      <td>0</td>\n",
       "      <td>0</td>\n",
       "      <td>0</td>\n",
       "      <td>0</td>\n",
       "      <td>0</td>\n",
       "      <td>0</td>\n",
       "      <td>0</td>\n",
       "    </tr>\n",
       "    <tr>\n",
       "      <th>40933</th>\n",
       "      <td>2018-01-03</td>\n",
       "      <td>ABE</td>\n",
       "      <td>ATL</td>\n",
       "      <td>5.0</td>\n",
       "      <td>0</td>\n",
       "      <td>0</td>\n",
       "      <td>0</td>\n",
       "      <td>0</td>\n",
       "      <td>0</td>\n",
       "      <td>0</td>\n",
       "      <td>...</td>\n",
       "      <td>0</td>\n",
       "      <td>0</td>\n",
       "      <td>0</td>\n",
       "      <td>0</td>\n",
       "      <td>0</td>\n",
       "      <td>0</td>\n",
       "      <td>0</td>\n",
       "      <td>0</td>\n",
       "      <td>0</td>\n",
       "      <td>0</td>\n",
       "    </tr>\n",
       "    <tr>\n",
       "      <th>54149</th>\n",
       "      <td>2018-01-03</td>\n",
       "      <td>ABE</td>\n",
       "      <td>ATL</td>\n",
       "      <td>19.0</td>\n",
       "      <td>0</td>\n",
       "      <td>0</td>\n",
       "      <td>0</td>\n",
       "      <td>1</td>\n",
       "      <td>0</td>\n",
       "      <td>0</td>\n",
       "      <td>...</td>\n",
       "      <td>0</td>\n",
       "      <td>0</td>\n",
       "      <td>0</td>\n",
       "      <td>0</td>\n",
       "      <td>0</td>\n",
       "      <td>0</td>\n",
       "      <td>0</td>\n",
       "      <td>0</td>\n",
       "      <td>0</td>\n",
       "      <td>0</td>\n",
       "    </tr>\n",
       "  </tbody>\n",
       "</table>\n",
       "<p>5 rows × 22 columns</p>\n",
       "</div>"
      ],
      "text/plain": [
       "             Date Origin Destination  Delay  Alaska Airlines  Allegiant Air  \\\n",
       "3936   2018-01-01    ABE         ATL   21.0                0              0   \n",
       "19725  2018-01-02    ABE         ATL  -22.0                0              0   \n",
       "19733  2018-01-02    ABE         ATL  -15.0                0              0   \n",
       "40933  2018-01-03    ABE         ATL    5.0                0              0   \n",
       "54149  2018-01-03    ABE         ATL   19.0                0              0   \n",
       "\n",
       "       American Airlines  Delta Airlines  Endeavor Air  Envoy Air  ...  \\\n",
       "3936                   0               0             0          0  ...   \n",
       "19725                  0               0             0          0  ...   \n",
       "19733                  0               0             0          0  ...   \n",
       "40933                  0               0             0          0  ...   \n",
       "54149                  0               1             0          0  ...   \n",
       "\n",
       "       Hawaiian Airlines  JetBlue Airways  Mesa Airline  PSA Airlines  \\\n",
       "3936                   0                0             0             0   \n",
       "19725                  0                0             0             0   \n",
       "19733                  0                0             0             0   \n",
       "40933                  0                0             0             0   \n",
       "54149                  0                0             0             0   \n",
       "\n",
       "       Republic Airways  SkyWest Airlines  Southwest Airlines  \\\n",
       "3936                  0                 0                   0   \n",
       "19725                 0                 0                   0   \n",
       "19733                 0                 0                   0   \n",
       "40933                 0                 0                   0   \n",
       "54149                 0                 0                   0   \n",
       "\n",
       "       Spirit Airlines  United Airlines  Virgin America  \n",
       "3936                 0                0               0  \n",
       "19725                0                0               0  \n",
       "19733                0                0               0  \n",
       "40933                0                0               0  \n",
       "54149                0                0               0  \n",
       "\n",
       "[5 rows x 22 columns]"
      ]
     },
     "execution_count": 62,
     "metadata": {},
     "output_type": "execute_result"
    }
   ],
   "source": [
    "abe_atl_airline_df = airline_df[(airline_df['Origin'] == 'ABE') & (airline_df['Destination'] == 'ATL')]\n",
    "abe_atl_airline_df.head()"
   ]
  },
  {
   "cell_type": "code",
   "execution_count": 63,
   "id": "003046b4",
   "metadata": {},
   "outputs": [
    {
     "data": {
      "text/html": [
       "<div>\n",
       "<style scoped>\n",
       "    .dataframe tbody tr th:only-of-type {\n",
       "        vertical-align: middle;\n",
       "    }\n",
       "\n",
       "    .dataframe tbody tr th {\n",
       "        vertical-align: top;\n",
       "    }\n",
       "\n",
       "    .dataframe thead th {\n",
       "        text-align: right;\n",
       "    }\n",
       "</style>\n",
       "<table border=\"1\" class=\"dataframe\">\n",
       "  <thead>\n",
       "    <tr style=\"text-align: right;\">\n",
       "      <th></th>\n",
       "      <th>Date</th>\n",
       "      <th>Origin</th>\n",
       "      <th>Destination</th>\n",
       "      <th>Delay</th>\n",
       "      <th>Alaska Airlines</th>\n",
       "      <th>Allegiant Air</th>\n",
       "      <th>American Airlines</th>\n",
       "      <th>Delta Airlines</th>\n",
       "      <th>Endeavor Air</th>\n",
       "      <th>Envoy Air</th>\n",
       "      <th>...</th>\n",
       "      <th>Origin Snowfall</th>\n",
       "      <th>Origin Windspeed</th>\n",
       "      <th>Origin Windgusts</th>\n",
       "      <th>Origin Evapotranspiration</th>\n",
       "      <th>Dest Precipitation</th>\n",
       "      <th>Dest Rain</th>\n",
       "      <th>Dest Snowfall</th>\n",
       "      <th>Dest Windspeed</th>\n",
       "      <th>Dest Windgusts</th>\n",
       "      <th>Dest Evapotranspiration</th>\n",
       "    </tr>\n",
       "  </thead>\n",
       "  <tbody>\n",
       "    <tr>\n",
       "      <th>3936</th>\n",
       "      <td>2018-01-01</td>\n",
       "      <td>ABE</td>\n",
       "      <td>ATL</td>\n",
       "      <td>21.0</td>\n",
       "      <td>0</td>\n",
       "      <td>0</td>\n",
       "      <td>0</td>\n",
       "      <td>0</td>\n",
       "      <td>0</td>\n",
       "      <td>0</td>\n",
       "      <td>...</td>\n",
       "      <td>0.0</td>\n",
       "      <td>17.9</td>\n",
       "      <td>43.2</td>\n",
       "      <td>0.81</td>\n",
       "      <td>0.0</td>\n",
       "      <td>0.0</td>\n",
       "      <td>0.0</td>\n",
       "      <td>17.9</td>\n",
       "      <td>43.2</td>\n",
       "      <td>0.81</td>\n",
       "    </tr>\n",
       "    <tr>\n",
       "      <th>19725</th>\n",
       "      <td>2018-01-02</td>\n",
       "      <td>ABE</td>\n",
       "      <td>ATL</td>\n",
       "      <td>-22.0</td>\n",
       "      <td>0</td>\n",
       "      <td>0</td>\n",
       "      <td>0</td>\n",
       "      <td>0</td>\n",
       "      <td>0</td>\n",
       "      <td>0</td>\n",
       "      <td>...</td>\n",
       "      <td>0.0</td>\n",
       "      <td>16.0</td>\n",
       "      <td>38.9</td>\n",
       "      <td>0.89</td>\n",
       "      <td>0.0</td>\n",
       "      <td>0.0</td>\n",
       "      <td>0.0</td>\n",
       "      <td>16.0</td>\n",
       "      <td>38.9</td>\n",
       "      <td>0.89</td>\n",
       "    </tr>\n",
       "    <tr>\n",
       "      <th>19733</th>\n",
       "      <td>2018-01-02</td>\n",
       "      <td>ABE</td>\n",
       "      <td>ATL</td>\n",
       "      <td>-15.0</td>\n",
       "      <td>0</td>\n",
       "      <td>0</td>\n",
       "      <td>0</td>\n",
       "      <td>0</td>\n",
       "      <td>0</td>\n",
       "      <td>0</td>\n",
       "      <td>...</td>\n",
       "      <td>0.0</td>\n",
       "      <td>16.0</td>\n",
       "      <td>38.9</td>\n",
       "      <td>0.89</td>\n",
       "      <td>0.0</td>\n",
       "      <td>0.0</td>\n",
       "      <td>0.0</td>\n",
       "      <td>16.0</td>\n",
       "      <td>38.9</td>\n",
       "      <td>0.89</td>\n",
       "    </tr>\n",
       "    <tr>\n",
       "      <th>40933</th>\n",
       "      <td>2018-01-03</td>\n",
       "      <td>ABE</td>\n",
       "      <td>ATL</td>\n",
       "      <td>5.0</td>\n",
       "      <td>0</td>\n",
       "      <td>0</td>\n",
       "      <td>0</td>\n",
       "      <td>0</td>\n",
       "      <td>0</td>\n",
       "      <td>0</td>\n",
       "      <td>...</td>\n",
       "      <td>0.0</td>\n",
       "      <td>9.3</td>\n",
       "      <td>22.7</td>\n",
       "      <td>0.85</td>\n",
       "      <td>0.0</td>\n",
       "      <td>0.0</td>\n",
       "      <td>0.0</td>\n",
       "      <td>9.3</td>\n",
       "      <td>22.7</td>\n",
       "      <td>0.85</td>\n",
       "    </tr>\n",
       "    <tr>\n",
       "      <th>54149</th>\n",
       "      <td>2018-01-03</td>\n",
       "      <td>ABE</td>\n",
       "      <td>ATL</td>\n",
       "      <td>19.0</td>\n",
       "      <td>0</td>\n",
       "      <td>0</td>\n",
       "      <td>0</td>\n",
       "      <td>1</td>\n",
       "      <td>0</td>\n",
       "      <td>0</td>\n",
       "      <td>...</td>\n",
       "      <td>0.0</td>\n",
       "      <td>9.3</td>\n",
       "      <td>22.7</td>\n",
       "      <td>0.85</td>\n",
       "      <td>0.0</td>\n",
       "      <td>0.0</td>\n",
       "      <td>0.0</td>\n",
       "      <td>9.3</td>\n",
       "      <td>22.7</td>\n",
       "      <td>0.85</td>\n",
       "    </tr>\n",
       "  </tbody>\n",
       "</table>\n",
       "<p>5 rows × 34 columns</p>\n",
       "</div>"
      ],
      "text/plain": [
       "             Date Origin Destination  Delay  Alaska Airlines  Allegiant Air  \\\n",
       "3936   2018-01-01    ABE         ATL   21.0                0              0   \n",
       "19725  2018-01-02    ABE         ATL  -22.0                0              0   \n",
       "19733  2018-01-02    ABE         ATL  -15.0                0              0   \n",
       "40933  2018-01-03    ABE         ATL    5.0                0              0   \n",
       "54149  2018-01-03    ABE         ATL   19.0                0              0   \n",
       "\n",
       "       American Airlines  Delta Airlines  Endeavor Air  Envoy Air  ...  \\\n",
       "3936                   0               0             0          0  ...   \n",
       "19725                  0               0             0          0  ...   \n",
       "19733                  0               0             0          0  ...   \n",
       "40933                  0               0             0          0  ...   \n",
       "54149                  0               1             0          0  ...   \n",
       "\n",
       "       Origin Snowfall  Origin Windspeed  Origin Windgusts  \\\n",
       "3936               0.0              17.9              43.2   \n",
       "19725              0.0              16.0              38.9   \n",
       "19733              0.0              16.0              38.9   \n",
       "40933              0.0               9.3              22.7   \n",
       "54149              0.0               9.3              22.7   \n",
       "\n",
       "       Origin Evapotranspiration  Dest Precipitation  Dest Rain  \\\n",
       "3936                        0.81                 0.0        0.0   \n",
       "19725                       0.89                 0.0        0.0   \n",
       "19733                       0.89                 0.0        0.0   \n",
       "40933                       0.85                 0.0        0.0   \n",
       "54149                       0.85                 0.0        0.0   \n",
       "\n",
       "       Dest Snowfall  Dest Windspeed  Dest Windgusts  Dest Evapotranspiration  \n",
       "3936             0.0            17.9            43.2                     0.81  \n",
       "19725            0.0            16.0            38.9                     0.89  \n",
       "19733            0.0            16.0            38.9                     0.89  \n",
       "40933            0.0             9.3            22.7                     0.85  \n",
       "54149            0.0             9.3            22.7                     0.85  \n",
       "\n",
       "[5 rows x 34 columns]"
      ]
     },
     "execution_count": 63,
     "metadata": {},
     "output_type": "execute_result"
    }
   ],
   "source": [
    "origin_weather_cols = {\n",
    "    'Precipitation': 'Origin Precipitation', \n",
    "    'Rain': 'Origin Rain', \n",
    "    'Snowfall': 'Origin Snowfall',\n",
    "    'Windspeed': 'Origin Windspeed', \n",
    "    'Windgusts': 'Origin Windgusts',\n",
    "    'Evapotranspiration': 'Origin Evapotranspiration'\n",
    "}\n",
    "\n",
    "dest_weather_cols = {\n",
    "    'Precipitation': 'Dest Precipitation', \n",
    "    'Rain': 'Dest Rain', \n",
    "    'Snowfall': 'Dest Snowfall',\n",
    "    'Windspeed': 'Dest Windspeed', \n",
    "    'Windgusts': 'Dest Windgusts',\n",
    "    'Evapotranspiration': 'Dest Evapotranspiration'\n",
    "}\n",
    "\n",
    "abe_atl_airline_df = abe_atl_airline_df.join(abe_weather_df.set_index('Date'), on='Date')\n",
    "abe_atl_airline_df.rename(columns = origin_weather_cols, inplace = True)\n",
    "\n",
    "abe_atl_airline_df = abe_atl_airline_df.join(abe_weather_df.set_index('Date'), on='Date')\n",
    "abe_atl_airline_df.rename(columns = dest_weather_cols, inplace = True)\n",
    "\n",
    "abe_atl_airline_df.head()"
   ]
  },
  {
   "cell_type": "code",
   "execution_count": 64,
   "id": "a4e401f4",
   "metadata": {},
   "outputs": [
    {
     "data": {
      "text/html": [
       "<div>\n",
       "<style scoped>\n",
       "    .dataframe tbody tr th:only-of-type {\n",
       "        vertical-align: middle;\n",
       "    }\n",
       "\n",
       "    .dataframe tbody tr th {\n",
       "        vertical-align: top;\n",
       "    }\n",
       "\n",
       "    .dataframe thead th {\n",
       "        text-align: right;\n",
       "    }\n",
       "</style>\n",
       "<table border=\"1\" class=\"dataframe\">\n",
       "  <thead>\n",
       "    <tr style=\"text-align: right;\">\n",
       "      <th></th>\n",
       "      <th>Delay</th>\n",
       "      <th>Alaska Airlines</th>\n",
       "      <th>Allegiant Air</th>\n",
       "      <th>American Airlines</th>\n",
       "      <th>Delta Airlines</th>\n",
       "      <th>Endeavor Air</th>\n",
       "      <th>Envoy Air</th>\n",
       "      <th>ExpressJet</th>\n",
       "      <th>Frontier Airlines</th>\n",
       "      <th>Hawaiian Airlines</th>\n",
       "      <th>...</th>\n",
       "      <th>Origin Snowfall</th>\n",
       "      <th>Origin Windspeed</th>\n",
       "      <th>Origin Windgusts</th>\n",
       "      <th>Origin Evapotranspiration</th>\n",
       "      <th>Dest Precipitation</th>\n",
       "      <th>Dest Rain</th>\n",
       "      <th>Dest Snowfall</th>\n",
       "      <th>Dest Windspeed</th>\n",
       "      <th>Dest Windgusts</th>\n",
       "      <th>Dest Evapotranspiration</th>\n",
       "    </tr>\n",
       "  </thead>\n",
       "  <tbody>\n",
       "    <tr>\n",
       "      <th>count</th>\n",
       "      <td>960.000000</td>\n",
       "      <td>960.0</td>\n",
       "      <td>960.0</td>\n",
       "      <td>960.0</td>\n",
       "      <td>960.000000</td>\n",
       "      <td>960.000000</td>\n",
       "      <td>960.0</td>\n",
       "      <td>960.000000</td>\n",
       "      <td>960.0</td>\n",
       "      <td>960.0</td>\n",
       "      <td>...</td>\n",
       "      <td>960.000000</td>\n",
       "      <td>960.000000</td>\n",
       "      <td>960.000000</td>\n",
       "      <td>960.000000</td>\n",
       "      <td>960.000000</td>\n",
       "      <td>960.000000</td>\n",
       "      <td>960.000000</td>\n",
       "      <td>960.000000</td>\n",
       "      <td>960.000000</td>\n",
       "      <td>960.000000</td>\n",
       "    </tr>\n",
       "    <tr>\n",
       "      <th>mean</th>\n",
       "      <td>-3.302083</td>\n",
       "      <td>0.0</td>\n",
       "      <td>0.0</td>\n",
       "      <td>0.0</td>\n",
       "      <td>0.376042</td>\n",
       "      <td>0.365625</td>\n",
       "      <td>0.0</td>\n",
       "      <td>0.258333</td>\n",
       "      <td>0.0</td>\n",
       "      <td>0.0</td>\n",
       "      <td>...</td>\n",
       "      <td>0.226042</td>\n",
       "      <td>15.300625</td>\n",
       "      <td>37.238542</td>\n",
       "      <td>2.590219</td>\n",
       "      <td>4.338021</td>\n",
       "      <td>4.021042</td>\n",
       "      <td>0.226042</td>\n",
       "      <td>15.300625</td>\n",
       "      <td>37.238542</td>\n",
       "      <td>2.590219</td>\n",
       "    </tr>\n",
       "    <tr>\n",
       "      <th>std</th>\n",
       "      <td>14.845692</td>\n",
       "      <td>0.0</td>\n",
       "      <td>0.0</td>\n",
       "      <td>0.0</td>\n",
       "      <td>0.484643</td>\n",
       "      <td>0.481856</td>\n",
       "      <td>0.0</td>\n",
       "      <td>0.437946</td>\n",
       "      <td>0.0</td>\n",
       "      <td>0.0</td>\n",
       "      <td>...</td>\n",
       "      <td>1.465332</td>\n",
       "      <td>5.359266</td>\n",
       "      <td>12.854702</td>\n",
       "      <td>1.743023</td>\n",
       "      <td>8.085590</td>\n",
       "      <td>7.841272</td>\n",
       "      <td>1.465332</td>\n",
       "      <td>5.359266</td>\n",
       "      <td>12.854702</td>\n",
       "      <td>1.743023</td>\n",
       "    </tr>\n",
       "    <tr>\n",
       "      <th>min</th>\n",
       "      <td>-37.000000</td>\n",
       "      <td>0.0</td>\n",
       "      <td>0.0</td>\n",
       "      <td>0.0</td>\n",
       "      <td>0.000000</td>\n",
       "      <td>0.000000</td>\n",
       "      <td>0.0</td>\n",
       "      <td>0.000000</td>\n",
       "      <td>0.0</td>\n",
       "      <td>0.0</td>\n",
       "      <td>...</td>\n",
       "      <td>0.000000</td>\n",
       "      <td>6.800000</td>\n",
       "      <td>13.000000</td>\n",
       "      <td>0.230000</td>\n",
       "      <td>0.000000</td>\n",
       "      <td>0.000000</td>\n",
       "      <td>0.000000</td>\n",
       "      <td>6.800000</td>\n",
       "      <td>13.000000</td>\n",
       "      <td>0.230000</td>\n",
       "    </tr>\n",
       "    <tr>\n",
       "      <th>25%</th>\n",
       "      <td>-12.000000</td>\n",
       "      <td>0.0</td>\n",
       "      <td>0.0</td>\n",
       "      <td>0.0</td>\n",
       "      <td>0.000000</td>\n",
       "      <td>0.000000</td>\n",
       "      <td>0.0</td>\n",
       "      <td>0.000000</td>\n",
       "      <td>0.0</td>\n",
       "      <td>0.0</td>\n",
       "      <td>...</td>\n",
       "      <td>0.000000</td>\n",
       "      <td>11.100000</td>\n",
       "      <td>27.400000</td>\n",
       "      <td>1.200000</td>\n",
       "      <td>0.000000</td>\n",
       "      <td>0.000000</td>\n",
       "      <td>0.000000</td>\n",
       "      <td>11.100000</td>\n",
       "      <td>27.400000</td>\n",
       "      <td>1.200000</td>\n",
       "    </tr>\n",
       "    <tr>\n",
       "      <th>50%</th>\n",
       "      <td>-6.000000</td>\n",
       "      <td>0.0</td>\n",
       "      <td>0.0</td>\n",
       "      <td>0.0</td>\n",
       "      <td>0.000000</td>\n",
       "      <td>0.000000</td>\n",
       "      <td>0.0</td>\n",
       "      <td>0.000000</td>\n",
       "      <td>0.0</td>\n",
       "      <td>0.0</td>\n",
       "      <td>...</td>\n",
       "      <td>0.000000</td>\n",
       "      <td>14.350000</td>\n",
       "      <td>35.300000</td>\n",
       "      <td>2.110000</td>\n",
       "      <td>0.400000</td>\n",
       "      <td>0.200000</td>\n",
       "      <td>0.000000</td>\n",
       "      <td>14.350000</td>\n",
       "      <td>35.300000</td>\n",
       "      <td>2.110000</td>\n",
       "    </tr>\n",
       "    <tr>\n",
       "      <th>75%</th>\n",
       "      <td>3.000000</td>\n",
       "      <td>0.0</td>\n",
       "      <td>0.0</td>\n",
       "      <td>0.0</td>\n",
       "      <td>1.000000</td>\n",
       "      <td>1.000000</td>\n",
       "      <td>0.0</td>\n",
       "      <td>1.000000</td>\n",
       "      <td>0.0</td>\n",
       "      <td>0.0</td>\n",
       "      <td>...</td>\n",
       "      <td>0.000000</td>\n",
       "      <td>18.400000</td>\n",
       "      <td>43.900000</td>\n",
       "      <td>3.830000</td>\n",
       "      <td>4.600000</td>\n",
       "      <td>4.000000</td>\n",
       "      <td>0.000000</td>\n",
       "      <td>18.400000</td>\n",
       "      <td>43.900000</td>\n",
       "      <td>3.830000</td>\n",
       "    </tr>\n",
       "    <tr>\n",
       "      <th>max</th>\n",
       "      <td>106.000000</td>\n",
       "      <td>0.0</td>\n",
       "      <td>0.0</td>\n",
       "      <td>0.0</td>\n",
       "      <td>1.000000</td>\n",
       "      <td>1.000000</td>\n",
       "      <td>0.0</td>\n",
       "      <td>1.000000</td>\n",
       "      <td>0.0</td>\n",
       "      <td>0.0</td>\n",
       "      <td>...</td>\n",
       "      <td>14.560000</td>\n",
       "      <td>37.800000</td>\n",
       "      <td>88.600000</td>\n",
       "      <td>7.190000</td>\n",
       "      <td>55.700000</td>\n",
       "      <td>55.700000</td>\n",
       "      <td>14.560000</td>\n",
       "      <td>37.800000</td>\n",
       "      <td>88.600000</td>\n",
       "      <td>7.190000</td>\n",
       "    </tr>\n",
       "  </tbody>\n",
       "</table>\n",
       "<p>8 rows × 31 columns</p>\n",
       "</div>"
      ],
      "text/plain": [
       "            Delay  Alaska Airlines  Allegiant Air  American Airlines  \\\n",
       "count  960.000000            960.0          960.0              960.0   \n",
       "mean    -3.302083              0.0            0.0                0.0   \n",
       "std     14.845692              0.0            0.0                0.0   \n",
       "min    -37.000000              0.0            0.0                0.0   \n",
       "25%    -12.000000              0.0            0.0                0.0   \n",
       "50%     -6.000000              0.0            0.0                0.0   \n",
       "75%      3.000000              0.0            0.0                0.0   \n",
       "max    106.000000              0.0            0.0                0.0   \n",
       "\n",
       "       Delta Airlines  Endeavor Air  Envoy Air  ExpressJet  Frontier Airlines  \\\n",
       "count      960.000000    960.000000      960.0  960.000000              960.0   \n",
       "mean         0.376042      0.365625        0.0    0.258333                0.0   \n",
       "std          0.484643      0.481856        0.0    0.437946                0.0   \n",
       "min          0.000000      0.000000        0.0    0.000000                0.0   \n",
       "25%          0.000000      0.000000        0.0    0.000000                0.0   \n",
       "50%          0.000000      0.000000        0.0    0.000000                0.0   \n",
       "75%          1.000000      1.000000        0.0    1.000000                0.0   \n",
       "max          1.000000      1.000000        0.0    1.000000                0.0   \n",
       "\n",
       "       Hawaiian Airlines  ...  Origin Snowfall  Origin Windspeed  \\\n",
       "count              960.0  ...       960.000000        960.000000   \n",
       "mean                 0.0  ...         0.226042         15.300625   \n",
       "std                  0.0  ...         1.465332          5.359266   \n",
       "min                  0.0  ...         0.000000          6.800000   \n",
       "25%                  0.0  ...         0.000000         11.100000   \n",
       "50%                  0.0  ...         0.000000         14.350000   \n",
       "75%                  0.0  ...         0.000000         18.400000   \n",
       "max                  0.0  ...        14.560000         37.800000   \n",
       "\n",
       "       Origin Windgusts  Origin Evapotranspiration  Dest Precipitation  \\\n",
       "count        960.000000                 960.000000          960.000000   \n",
       "mean          37.238542                   2.590219            4.338021   \n",
       "std           12.854702                   1.743023            8.085590   \n",
       "min           13.000000                   0.230000            0.000000   \n",
       "25%           27.400000                   1.200000            0.000000   \n",
       "50%           35.300000                   2.110000            0.400000   \n",
       "75%           43.900000                   3.830000            4.600000   \n",
       "max           88.600000                   7.190000           55.700000   \n",
       "\n",
       "        Dest Rain  Dest Snowfall  Dest Windspeed  Dest Windgusts  \\\n",
       "count  960.000000     960.000000      960.000000      960.000000   \n",
       "mean     4.021042       0.226042       15.300625       37.238542   \n",
       "std      7.841272       1.465332        5.359266       12.854702   \n",
       "min      0.000000       0.000000        6.800000       13.000000   \n",
       "25%      0.000000       0.000000       11.100000       27.400000   \n",
       "50%      0.200000       0.000000       14.350000       35.300000   \n",
       "75%      4.000000       0.000000       18.400000       43.900000   \n",
       "max     55.700000      14.560000       37.800000       88.600000   \n",
       "\n",
       "       Dest Evapotranspiration  \n",
       "count               960.000000  \n",
       "mean                  2.590219  \n",
       "std                   1.743023  \n",
       "min                   0.230000  \n",
       "25%                   1.200000  \n",
       "50%                   2.110000  \n",
       "75%                   3.830000  \n",
       "max                   7.190000  \n",
       "\n",
       "[8 rows x 31 columns]"
      ]
     },
     "execution_count": 64,
     "metadata": {},
     "output_type": "execute_result"
    }
   ],
   "source": [
    "abe_atl_airline_df.describe()"
   ]
  },
  {
   "cell_type": "code",
   "execution_count": 65,
   "id": "528563eb",
   "metadata": {},
   "outputs": [
    {
     "name": "stdout",
     "output_type": "stream",
     "text": [
      "<class 'pandas.core.frame.DataFrame'>\n",
      "Int64Index: 960 entries, 3936 to 7069364\n",
      "Data columns (total 34 columns):\n",
      " #   Column                     Non-Null Count  Dtype  \n",
      "---  ------                     --------------  -----  \n",
      " 0   Date                       960 non-null    object \n",
      " 1   Origin                     960 non-null    object \n",
      " 2   Destination                960 non-null    object \n",
      " 3   Delay                      960 non-null    float64\n",
      " 4   Alaska Airlines            960 non-null    int64  \n",
      " 5   Allegiant Air              960 non-null    int64  \n",
      " 6   American Airlines          960 non-null    int64  \n",
      " 7   Delta Airlines             960 non-null    int64  \n",
      " 8   Endeavor Air               960 non-null    int64  \n",
      " 9   Envoy Air                  960 non-null    int64  \n",
      " 10  ExpressJet                 960 non-null    int64  \n",
      " 11  Frontier Airlines          960 non-null    int64  \n",
      " 12  Hawaiian Airlines          960 non-null    int64  \n",
      " 13  JetBlue Airways            960 non-null    int64  \n",
      " 14  Mesa Airline               960 non-null    int64  \n",
      " 15  PSA Airlines               960 non-null    int64  \n",
      " 16  Republic Airways           960 non-null    int64  \n",
      " 17  SkyWest Airlines           960 non-null    int64  \n",
      " 18  Southwest Airlines         960 non-null    int64  \n",
      " 19  Spirit Airlines            960 non-null    int64  \n",
      " 20  United Airlines            960 non-null    int64  \n",
      " 21  Virgin America             960 non-null    int64  \n",
      " 22  Origin Precipitation       960 non-null    float64\n",
      " 23  Origin Rain                960 non-null    float64\n",
      " 24  Origin Snowfall            960 non-null    float64\n",
      " 25  Origin Windspeed           960 non-null    float64\n",
      " 26  Origin Windgusts           960 non-null    float64\n",
      " 27  Origin Evapotranspiration  960 non-null    float64\n",
      " 28  Dest Precipitation         960 non-null    float64\n",
      " 29  Dest Rain                  960 non-null    float64\n",
      " 30  Dest Snowfall              960 non-null    float64\n",
      " 31  Dest Windspeed             960 non-null    float64\n",
      " 32  Dest Windgusts             960 non-null    float64\n",
      " 33  Dest Evapotranspiration    960 non-null    float64\n",
      "dtypes: float64(13), int64(18), object(3)\n",
      "memory usage: 262.5+ KB\n"
     ]
    }
   ],
   "source": [
    "abe_atl_airline_df.info()"
   ]
  },
  {
   "cell_type": "code",
   "execution_count": 67,
   "id": "5370d186",
   "metadata": {},
   "outputs": [
    {
     "data": {
      "text/html": [
       "<div>\n",
       "<style scoped>\n",
       "    .dataframe tbody tr th:only-of-type {\n",
       "        vertical-align: middle;\n",
       "    }\n",
       "\n",
       "    .dataframe tbody tr th {\n",
       "        vertical-align: top;\n",
       "    }\n",
       "\n",
       "    .dataframe thead th {\n",
       "        text-align: right;\n",
       "    }\n",
       "</style>\n",
       "<table border=\"1\" class=\"dataframe\">\n",
       "  <thead>\n",
       "    <tr style=\"text-align: right;\">\n",
       "      <th></th>\n",
       "      <th>Delay</th>\n",
       "      <th>Origin Precipitation</th>\n",
       "      <th>Origin Rain</th>\n",
       "      <th>Origin Snowfall</th>\n",
       "      <th>Origin Windspeed</th>\n",
       "      <th>Origin Windgusts</th>\n",
       "      <th>Origin Evapotranspiration</th>\n",
       "      <th>Dest Precipitation</th>\n",
       "      <th>Dest Rain</th>\n",
       "      <th>Dest Snowfall</th>\n",
       "      <th>Dest Windspeed</th>\n",
       "      <th>Dest Windgusts</th>\n",
       "      <th>Dest Evapotranspiration</th>\n",
       "    </tr>\n",
       "  </thead>\n",
       "  <tbody>\n",
       "    <tr>\n",
       "      <th>3936</th>\n",
       "      <td>21.0</td>\n",
       "      <td>0.0</td>\n",
       "      <td>0.0</td>\n",
       "      <td>0.0</td>\n",
       "      <td>17.9</td>\n",
       "      <td>43.2</td>\n",
       "      <td>0.81</td>\n",
       "      <td>0.0</td>\n",
       "      <td>0.0</td>\n",
       "      <td>0.0</td>\n",
       "      <td>17.9</td>\n",
       "      <td>43.2</td>\n",
       "      <td>0.81</td>\n",
       "    </tr>\n",
       "    <tr>\n",
       "      <th>19725</th>\n",
       "      <td>-22.0</td>\n",
       "      <td>0.0</td>\n",
       "      <td>0.0</td>\n",
       "      <td>0.0</td>\n",
       "      <td>16.0</td>\n",
       "      <td>38.9</td>\n",
       "      <td>0.89</td>\n",
       "      <td>0.0</td>\n",
       "      <td>0.0</td>\n",
       "      <td>0.0</td>\n",
       "      <td>16.0</td>\n",
       "      <td>38.9</td>\n",
       "      <td>0.89</td>\n",
       "    </tr>\n",
       "    <tr>\n",
       "      <th>19733</th>\n",
       "      <td>-15.0</td>\n",
       "      <td>0.0</td>\n",
       "      <td>0.0</td>\n",
       "      <td>0.0</td>\n",
       "      <td>16.0</td>\n",
       "      <td>38.9</td>\n",
       "      <td>0.89</td>\n",
       "      <td>0.0</td>\n",
       "      <td>0.0</td>\n",
       "      <td>0.0</td>\n",
       "      <td>16.0</td>\n",
       "      <td>38.9</td>\n",
       "      <td>0.89</td>\n",
       "    </tr>\n",
       "    <tr>\n",
       "      <th>40933</th>\n",
       "      <td>5.0</td>\n",
       "      <td>0.0</td>\n",
       "      <td>0.0</td>\n",
       "      <td>0.0</td>\n",
       "      <td>9.3</td>\n",
       "      <td>22.7</td>\n",
       "      <td>0.85</td>\n",
       "      <td>0.0</td>\n",
       "      <td>0.0</td>\n",
       "      <td>0.0</td>\n",
       "      <td>9.3</td>\n",
       "      <td>22.7</td>\n",
       "      <td>0.85</td>\n",
       "    </tr>\n",
       "    <tr>\n",
       "      <th>54149</th>\n",
       "      <td>19.0</td>\n",
       "      <td>0.0</td>\n",
       "      <td>0.0</td>\n",
       "      <td>0.0</td>\n",
       "      <td>9.3</td>\n",
       "      <td>22.7</td>\n",
       "      <td>0.85</td>\n",
       "      <td>0.0</td>\n",
       "      <td>0.0</td>\n",
       "      <td>0.0</td>\n",
       "      <td>9.3</td>\n",
       "      <td>22.7</td>\n",
       "      <td>0.85</td>\n",
       "    </tr>\n",
       "  </tbody>\n",
       "</table>\n",
       "</div>"
      ],
      "text/plain": [
       "       Delay  Origin Precipitation  Origin Rain  Origin Snowfall  \\\n",
       "3936    21.0                   0.0          0.0              0.0   \n",
       "19725  -22.0                   0.0          0.0              0.0   \n",
       "19733  -15.0                   0.0          0.0              0.0   \n",
       "40933    5.0                   0.0          0.0              0.0   \n",
       "54149   19.0                   0.0          0.0              0.0   \n",
       "\n",
       "       Origin Windspeed  Origin Windgusts  Origin Evapotranspiration  \\\n",
       "3936               17.9              43.2                       0.81   \n",
       "19725              16.0              38.9                       0.89   \n",
       "19733              16.0              38.9                       0.89   \n",
       "40933               9.3              22.7                       0.85   \n",
       "54149               9.3              22.7                       0.85   \n",
       "\n",
       "       Dest Precipitation  Dest Rain  Dest Snowfall  Dest Windspeed  \\\n",
       "3936                  0.0        0.0            0.0            17.9   \n",
       "19725                 0.0        0.0            0.0            16.0   \n",
       "19733                 0.0        0.0            0.0            16.0   \n",
       "40933                 0.0        0.0            0.0             9.3   \n",
       "54149                 0.0        0.0            0.0             9.3   \n",
       "\n",
       "       Dest Windgusts  Dest Evapotranspiration  \n",
       "3936             43.2                     0.81  \n",
       "19725            38.9                     0.89  \n",
       "19733            38.9                     0.89  \n",
       "40933            22.7                     0.85  \n",
       "54149            22.7                     0.85  "
      ]
     },
     "execution_count": 67,
     "metadata": {},
     "output_type": "execute_result"
    }
   ],
   "source": [
    "without_airline_cols = [ \n",
    "    'Delay', 'Origin Precipitation', 'Origin Rain', 'Origin Snowfall', \n",
    "    'Origin Windspeed', 'Origin Windgusts', 'Origin Evapotranspiration', \n",
    "    'Dest Precipitation', 'Dest Rain', 'Dest Snowfall', 'Dest Windspeed', \n",
    "    'Dest Windgusts', 'Dest Evapotranspiration'\n",
    "]\n",
    "\n",
    "features_df = abe_atl_airline_df[without_airline_cols]\n",
    "features_df.head()"
   ]
  },
  {
   "cell_type": "code",
   "execution_count": 68,
   "id": "b99c402a",
   "metadata": {},
   "outputs": [
    {
     "data": {
      "text/html": [
       "<div>\n",
       "<style scoped>\n",
       "    .dataframe tbody tr th:only-of-type {\n",
       "        vertical-align: middle;\n",
       "    }\n",
       "\n",
       "    .dataframe tbody tr th {\n",
       "        vertical-align: top;\n",
       "    }\n",
       "\n",
       "    .dataframe thead th {\n",
       "        text-align: right;\n",
       "    }\n",
       "</style>\n",
       "<table border=\"1\" class=\"dataframe\">\n",
       "  <thead>\n",
       "    <tr style=\"text-align: right;\">\n",
       "      <th></th>\n",
       "      <th>Delay</th>\n",
       "      <th>Origin Precipitation</th>\n",
       "      <th>Origin Rain</th>\n",
       "      <th>Origin Snowfall</th>\n",
       "      <th>Origin Windspeed</th>\n",
       "      <th>Origin Windgusts</th>\n",
       "      <th>Origin Evapotranspiration</th>\n",
       "      <th>Dest Precipitation</th>\n",
       "      <th>Dest Rain</th>\n",
       "      <th>Dest Snowfall</th>\n",
       "      <th>Dest Windspeed</th>\n",
       "      <th>Dest Windgusts</th>\n",
       "      <th>Dest Evapotranspiration</th>\n",
       "    </tr>\n",
       "  </thead>\n",
       "  <tbody>\n",
       "    <tr>\n",
       "      <th>0</th>\n",
       "      <td>1.637832</td>\n",
       "      <td>-0.536792</td>\n",
       "      <td>-0.513072</td>\n",
       "      <td>-0.15434</td>\n",
       "      <td>0.485277</td>\n",
       "      <td>0.463999</td>\n",
       "      <td>-1.021872</td>\n",
       "      <td>-0.536792</td>\n",
       "      <td>-0.513072</td>\n",
       "      <td>-0.15434</td>\n",
       "      <td>0.485277</td>\n",
       "      <td>0.463999</td>\n",
       "      <td>-1.021872</td>\n",
       "    </tr>\n",
       "    <tr>\n",
       "      <th>1</th>\n",
       "      <td>-1.260141</td>\n",
       "      <td>-0.536792</td>\n",
       "      <td>-0.513072</td>\n",
       "      <td>-0.15434</td>\n",
       "      <td>0.130566</td>\n",
       "      <td>0.129316</td>\n",
       "      <td>-0.975951</td>\n",
       "      <td>-0.536792</td>\n",
       "      <td>-0.513072</td>\n",
       "      <td>-0.15434</td>\n",
       "      <td>0.130566</td>\n",
       "      <td>0.129316</td>\n",
       "      <td>-0.975951</td>\n",
       "    </tr>\n",
       "    <tr>\n",
       "      <th>2</th>\n",
       "      <td>-0.788378</td>\n",
       "      <td>-0.536792</td>\n",
       "      <td>-0.513072</td>\n",
       "      <td>-0.15434</td>\n",
       "      <td>0.130566</td>\n",
       "      <td>0.129316</td>\n",
       "      <td>-0.975951</td>\n",
       "      <td>-0.536792</td>\n",
       "      <td>-0.513072</td>\n",
       "      <td>-0.15434</td>\n",
       "      <td>0.130566</td>\n",
       "      <td>0.129316</td>\n",
       "      <td>-0.975951</td>\n",
       "    </tr>\n",
       "    <tr>\n",
       "      <th>3</th>\n",
       "      <td>0.559517</td>\n",
       "      <td>-0.536792</td>\n",
       "      <td>-0.513072</td>\n",
       "      <td>-0.15434</td>\n",
       "      <td>-1.120257</td>\n",
       "      <td>-1.131580</td>\n",
       "      <td>-0.998912</td>\n",
       "      <td>-0.536792</td>\n",
       "      <td>-0.513072</td>\n",
       "      <td>-0.15434</td>\n",
       "      <td>-1.120257</td>\n",
       "      <td>-1.131580</td>\n",
       "      <td>-0.998912</td>\n",
       "    </tr>\n",
       "    <tr>\n",
       "      <th>4</th>\n",
       "      <td>1.503043</td>\n",
       "      <td>-0.536792</td>\n",
       "      <td>-0.513072</td>\n",
       "      <td>-0.15434</td>\n",
       "      <td>-1.120257</td>\n",
       "      <td>-1.131580</td>\n",
       "      <td>-0.998912</td>\n",
       "      <td>-0.536792</td>\n",
       "      <td>-0.513072</td>\n",
       "      <td>-0.15434</td>\n",
       "      <td>-1.120257</td>\n",
       "      <td>-1.131580</td>\n",
       "      <td>-0.998912</td>\n",
       "    </tr>\n",
       "  </tbody>\n",
       "</table>\n",
       "</div>"
      ],
      "text/plain": [
       "      Delay  Origin Precipitation  Origin Rain  Origin Snowfall  \\\n",
       "0  1.637832             -0.536792    -0.513072         -0.15434   \n",
       "1 -1.260141             -0.536792    -0.513072         -0.15434   \n",
       "2 -0.788378             -0.536792    -0.513072         -0.15434   \n",
       "3  0.559517             -0.536792    -0.513072         -0.15434   \n",
       "4  1.503043             -0.536792    -0.513072         -0.15434   \n",
       "\n",
       "   Origin Windspeed  Origin Windgusts  Origin Evapotranspiration  \\\n",
       "0          0.485277          0.463999                  -1.021872   \n",
       "1          0.130566          0.129316                  -0.975951   \n",
       "2          0.130566          0.129316                  -0.975951   \n",
       "3         -1.120257         -1.131580                  -0.998912   \n",
       "4         -1.120257         -1.131580                  -0.998912   \n",
       "\n",
       "   Dest Precipitation  Dest Rain  Dest Snowfall  Dest Windspeed  \\\n",
       "0           -0.536792  -0.513072       -0.15434        0.485277   \n",
       "1           -0.536792  -0.513072       -0.15434        0.130566   \n",
       "2           -0.536792  -0.513072       -0.15434        0.130566   \n",
       "3           -0.536792  -0.513072       -0.15434       -1.120257   \n",
       "4           -0.536792  -0.513072       -0.15434       -1.120257   \n",
       "\n",
       "   Dest Windgusts  Dest Evapotranspiration  \n",
       "0        0.463999                -1.021872  \n",
       "1        0.129316                -0.975951  \n",
       "2        0.129316                -0.975951  \n",
       "3       -1.131580                -0.998912  \n",
       "4       -1.131580                -0.998912  "
      ]
     },
     "execution_count": 68,
     "metadata": {},
     "output_type": "execute_result"
    }
   ],
   "source": [
    "scaler = StandardScaler()\n",
    "scaled_features_np = scaler.fit_transform(features_df)\n",
    "scaled_features_df = pd.DataFrame(scaled_features_np , columns=without_airline_cols)\n",
    "\n",
    "scaled_features_df.head()"
   ]
  },
  {
   "cell_type": "code",
   "execution_count": 69,
   "id": "4f89cfba",
   "metadata": {},
   "outputs": [
    {
     "data": {
      "application/vnd.plotly.v1+json": {
       "config": {
        "plotlyServerURL": "https://plot.ly"
       },
       "data": [
        {
         "coloraxis": "coloraxis",
         "hovertemplate": "x: %{x}<br>y: %{y}<br>color: %{z}<extra></extra>",
         "name": "0",
         "type": "heatmap",
         "x": [
          "Delay",
          "Origin Precipitation",
          "Origin Rain",
          "Origin Snowfall",
          "Origin Windspeed",
          "Origin Windgusts",
          "Origin Evapotranspiration",
          "Dest Precipitation",
          "Dest Rain",
          "Dest Snowfall",
          "Dest Windspeed",
          "Dest Windgusts",
          "Dest Evapotranspiration"
         ],
         "xaxis": "x",
         "y": [
          "Delay",
          "Origin Precipitation",
          "Origin Rain",
          "Origin Snowfall",
          "Origin Windspeed",
          "Origin Windgusts",
          "Origin Evapotranspiration",
          "Dest Precipitation",
          "Dest Rain",
          "Dest Snowfall",
          "Dest Windspeed",
          "Dest Windgusts",
          "Dest Evapotranspiration"
         ],
         "yaxis": "y",
         "z": [
          [
           1,
           0.20715535112584596,
           0.1426650426141744,
           0.26742264045692976,
           -0.002017284585924492,
           -0.011661615715847003,
           -0.10737369844562926,
           0.20715535112584596,
           0.1426650426141744,
           0.26742264045692976,
           -0.002017284585924492,
           -0.011661615715847003,
           -0.10737369844562926
          ],
          [
           0.20715535112584596,
           1,
           0.9663368087659597,
           0.24351256194479912,
           0.24594721462078178,
           0.3342055294064095,
           -0.3397520017451839,
           1,
           0.9663368087659597,
           0.24351256194479912,
           0.24594721462078178,
           0.3342055294064095,
           -0.3397520017451839
          ],
          [
           0.1426650426141744,
           0.9663368087659597,
           1,
           -0.014193335370994294,
           0.2070281458333942,
           0.31128071417132536,
           -0.3111828356011392,
           0.9663368087659597,
           1,
           -0.014193335370994294,
           0.2070281458333942,
           0.31128071417132536,
           -0.3111828356011392
          ],
          [
           0.26742264045692976,
           0.24351256194479912,
           -0.014193335370994294,
           1,
           0.17631371902359588,
           0.12646736085492474,
           -0.1489501973841096,
           0.24351256194479914,
           -0.014193335370994301,
           1,
           0.17631371902359588,
           0.12646736085492474,
           -0.1489501973841096
          ],
          [
           -0.002017284585924492,
           0.24594721462078178,
           0.2070281458333942,
           0.17631371902359588,
           1,
           0.9160983992595679,
           -0.21189668162515674,
           0.24594721462078178,
           0.20702814583339416,
           0.17631371902359588,
           1,
           0.9160983992595679,
           -0.21189668162515674
          ],
          [
           -0.011661615715847003,
           0.3342055294064095,
           0.31128071417132536,
           0.12646736085492474,
           0.9160983992595679,
           1,
           -0.20313680968622724,
           0.33420552940640963,
           0.3112807141713255,
           0.12646736085492474,
           0.9160983992595679,
           1,
           -0.20313680968622724
          ],
          [
           -0.10737369844562926,
           -0.3397520017451839,
           -0.3111828356011392,
           -0.1489501973841096,
           -0.21189668162515674,
           -0.20313680968622724,
           1,
           -0.3397520017451839,
           -0.3111828356011392,
           -0.14895019738410958,
           -0.21189668162515676,
           -0.20313680968622724,
           1
          ],
          [
           0.20715535112584596,
           1,
           0.9663368087659597,
           0.24351256194479914,
           0.24594721462078178,
           0.33420552940640963,
           -0.3397520017451839,
           1,
           0.9663368087659597,
           0.24351256194479912,
           0.24594721462078178,
           0.3342055294064095,
           -0.3397520017451839
          ],
          [
           0.1426650426141744,
           0.9663368087659597,
           1,
           -0.014193335370994301,
           0.20702814583339416,
           0.3112807141713255,
           -0.3111828356011392,
           0.9663368087659597,
           1,
           -0.014193335370994294,
           0.2070281458333942,
           0.31128071417132536,
           -0.3111828356011392
          ],
          [
           0.26742264045692976,
           0.24351256194479912,
           -0.014193335370994294,
           1,
           0.17631371902359588,
           0.12646736085492474,
           -0.14895019738410958,
           0.24351256194479912,
           -0.014193335370994294,
           1,
           0.17631371902359588,
           0.12646736085492474,
           -0.1489501973841096
          ],
          [
           -0.002017284585924492,
           0.24594721462078178,
           0.2070281458333942,
           0.17631371902359588,
           1,
           0.9160983992595679,
           -0.21189668162515676,
           0.24594721462078178,
           0.2070281458333942,
           0.17631371902359588,
           1,
           0.9160983992595679,
           -0.21189668162515674
          ],
          [
           -0.011661615715847003,
           0.3342055294064095,
           0.31128071417132536,
           0.12646736085492474,
           0.9160983992595679,
           1,
           -0.20313680968622724,
           0.3342055294064095,
           0.31128071417132536,
           0.12646736085492474,
           0.9160983992595679,
           1,
           -0.20313680968622724
          ],
          [
           -0.10737369844562926,
           -0.3397520017451839,
           -0.3111828356011392,
           -0.1489501973841096,
           -0.21189668162515674,
           -0.20313680968622724,
           1,
           -0.3397520017451839,
           -0.3111828356011392,
           -0.1489501973841096,
           -0.21189668162515674,
           -0.20313680968622724,
           1
          ]
         ]
        }
       ],
       "layout": {
        "coloraxis": {
         "colorscale": [
          [
           0,
           "#0d0887"
          ],
          [
           0.1111111111111111,
           "#46039f"
          ],
          [
           0.2222222222222222,
           "#7201a8"
          ],
          [
           0.3333333333333333,
           "#9c179e"
          ],
          [
           0.4444444444444444,
           "#bd3786"
          ],
          [
           0.5555555555555556,
           "#d8576b"
          ],
          [
           0.6666666666666666,
           "#ed7953"
          ],
          [
           0.7777777777777778,
           "#fb9f3a"
          ],
          [
           0.8888888888888888,
           "#fdca26"
          ],
          [
           1,
           "#f0f921"
          ]
         ]
        },
        "margin": {
         "t": 60
        },
        "template": {
         "data": {
          "bar": [
           {
            "error_x": {
             "color": "#2a3f5f"
            },
            "error_y": {
             "color": "#2a3f5f"
            },
            "marker": {
             "line": {
              "color": "#E5ECF6",
              "width": 0.5
             }
            },
            "type": "bar"
           }
          ],
          "barpolar": [
           {
            "marker": {
             "line": {
              "color": "#E5ECF6",
              "width": 0.5
             }
            },
            "type": "barpolar"
           }
          ],
          "carpet": [
           {
            "aaxis": {
             "endlinecolor": "#2a3f5f",
             "gridcolor": "white",
             "linecolor": "white",
             "minorgridcolor": "white",
             "startlinecolor": "#2a3f5f"
            },
            "baxis": {
             "endlinecolor": "#2a3f5f",
             "gridcolor": "white",
             "linecolor": "white",
             "minorgridcolor": "white",
             "startlinecolor": "#2a3f5f"
            },
            "type": "carpet"
           }
          ],
          "choropleth": [
           {
            "colorbar": {
             "outlinewidth": 0,
             "ticks": ""
            },
            "type": "choropleth"
           }
          ],
          "contour": [
           {
            "colorbar": {
             "outlinewidth": 0,
             "ticks": ""
            },
            "colorscale": [
             [
              0,
              "#0d0887"
             ],
             [
              0.1111111111111111,
              "#46039f"
             ],
             [
              0.2222222222222222,
              "#7201a8"
             ],
             [
              0.3333333333333333,
              "#9c179e"
             ],
             [
              0.4444444444444444,
              "#bd3786"
             ],
             [
              0.5555555555555556,
              "#d8576b"
             ],
             [
              0.6666666666666666,
              "#ed7953"
             ],
             [
              0.7777777777777778,
              "#fb9f3a"
             ],
             [
              0.8888888888888888,
              "#fdca26"
             ],
             [
              1,
              "#f0f921"
             ]
            ],
            "type": "contour"
           }
          ],
          "contourcarpet": [
           {
            "colorbar": {
             "outlinewidth": 0,
             "ticks": ""
            },
            "type": "contourcarpet"
           }
          ],
          "heatmap": [
           {
            "colorbar": {
             "outlinewidth": 0,
             "ticks": ""
            },
            "colorscale": [
             [
              0,
              "#0d0887"
             ],
             [
              0.1111111111111111,
              "#46039f"
             ],
             [
              0.2222222222222222,
              "#7201a8"
             ],
             [
              0.3333333333333333,
              "#9c179e"
             ],
             [
              0.4444444444444444,
              "#bd3786"
             ],
             [
              0.5555555555555556,
              "#d8576b"
             ],
             [
              0.6666666666666666,
              "#ed7953"
             ],
             [
              0.7777777777777778,
              "#fb9f3a"
             ],
             [
              0.8888888888888888,
              "#fdca26"
             ],
             [
              1,
              "#f0f921"
             ]
            ],
            "type": "heatmap"
           }
          ],
          "heatmapgl": [
           {
            "colorbar": {
             "outlinewidth": 0,
             "ticks": ""
            },
            "colorscale": [
             [
              0,
              "#0d0887"
             ],
             [
              0.1111111111111111,
              "#46039f"
             ],
             [
              0.2222222222222222,
              "#7201a8"
             ],
             [
              0.3333333333333333,
              "#9c179e"
             ],
             [
              0.4444444444444444,
              "#bd3786"
             ],
             [
              0.5555555555555556,
              "#d8576b"
             ],
             [
              0.6666666666666666,
              "#ed7953"
             ],
             [
              0.7777777777777778,
              "#fb9f3a"
             ],
             [
              0.8888888888888888,
              "#fdca26"
             ],
             [
              1,
              "#f0f921"
             ]
            ],
            "type": "heatmapgl"
           }
          ],
          "histogram": [
           {
            "marker": {
             "colorbar": {
              "outlinewidth": 0,
              "ticks": ""
             }
            },
            "type": "histogram"
           }
          ],
          "histogram2d": [
           {
            "colorbar": {
             "outlinewidth": 0,
             "ticks": ""
            },
            "colorscale": [
             [
              0,
              "#0d0887"
             ],
             [
              0.1111111111111111,
              "#46039f"
             ],
             [
              0.2222222222222222,
              "#7201a8"
             ],
             [
              0.3333333333333333,
              "#9c179e"
             ],
             [
              0.4444444444444444,
              "#bd3786"
             ],
             [
              0.5555555555555556,
              "#d8576b"
             ],
             [
              0.6666666666666666,
              "#ed7953"
             ],
             [
              0.7777777777777778,
              "#fb9f3a"
             ],
             [
              0.8888888888888888,
              "#fdca26"
             ],
             [
              1,
              "#f0f921"
             ]
            ],
            "type": "histogram2d"
           }
          ],
          "histogram2dcontour": [
           {
            "colorbar": {
             "outlinewidth": 0,
             "ticks": ""
            },
            "colorscale": [
             [
              0,
              "#0d0887"
             ],
             [
              0.1111111111111111,
              "#46039f"
             ],
             [
              0.2222222222222222,
              "#7201a8"
             ],
             [
              0.3333333333333333,
              "#9c179e"
             ],
             [
              0.4444444444444444,
              "#bd3786"
             ],
             [
              0.5555555555555556,
              "#d8576b"
             ],
             [
              0.6666666666666666,
              "#ed7953"
             ],
             [
              0.7777777777777778,
              "#fb9f3a"
             ],
             [
              0.8888888888888888,
              "#fdca26"
             ],
             [
              1,
              "#f0f921"
             ]
            ],
            "type": "histogram2dcontour"
           }
          ],
          "mesh3d": [
           {
            "colorbar": {
             "outlinewidth": 0,
             "ticks": ""
            },
            "type": "mesh3d"
           }
          ],
          "parcoords": [
           {
            "line": {
             "colorbar": {
              "outlinewidth": 0,
              "ticks": ""
             }
            },
            "type": "parcoords"
           }
          ],
          "pie": [
           {
            "automargin": true,
            "type": "pie"
           }
          ],
          "scatter": [
           {
            "marker": {
             "colorbar": {
              "outlinewidth": 0,
              "ticks": ""
             }
            },
            "type": "scatter"
           }
          ],
          "scatter3d": [
           {
            "line": {
             "colorbar": {
              "outlinewidth": 0,
              "ticks": ""
             }
            },
            "marker": {
             "colorbar": {
              "outlinewidth": 0,
              "ticks": ""
             }
            },
            "type": "scatter3d"
           }
          ],
          "scattercarpet": [
           {
            "marker": {
             "colorbar": {
              "outlinewidth": 0,
              "ticks": ""
             }
            },
            "type": "scattercarpet"
           }
          ],
          "scattergeo": [
           {
            "marker": {
             "colorbar": {
              "outlinewidth": 0,
              "ticks": ""
             }
            },
            "type": "scattergeo"
           }
          ],
          "scattergl": [
           {
            "marker": {
             "colorbar": {
              "outlinewidth": 0,
              "ticks": ""
             }
            },
            "type": "scattergl"
           }
          ],
          "scattermapbox": [
           {
            "marker": {
             "colorbar": {
              "outlinewidth": 0,
              "ticks": ""
             }
            },
            "type": "scattermapbox"
           }
          ],
          "scatterpolar": [
           {
            "marker": {
             "colorbar": {
              "outlinewidth": 0,
              "ticks": ""
             }
            },
            "type": "scatterpolar"
           }
          ],
          "scatterpolargl": [
           {
            "marker": {
             "colorbar": {
              "outlinewidth": 0,
              "ticks": ""
             }
            },
            "type": "scatterpolargl"
           }
          ],
          "scatterternary": [
           {
            "marker": {
             "colorbar": {
              "outlinewidth": 0,
              "ticks": ""
             }
            },
            "type": "scatterternary"
           }
          ],
          "surface": [
           {
            "colorbar": {
             "outlinewidth": 0,
             "ticks": ""
            },
            "colorscale": [
             [
              0,
              "#0d0887"
             ],
             [
              0.1111111111111111,
              "#46039f"
             ],
             [
              0.2222222222222222,
              "#7201a8"
             ],
             [
              0.3333333333333333,
              "#9c179e"
             ],
             [
              0.4444444444444444,
              "#bd3786"
             ],
             [
              0.5555555555555556,
              "#d8576b"
             ],
             [
              0.6666666666666666,
              "#ed7953"
             ],
             [
              0.7777777777777778,
              "#fb9f3a"
             ],
             [
              0.8888888888888888,
              "#fdca26"
             ],
             [
              1,
              "#f0f921"
             ]
            ],
            "type": "surface"
           }
          ],
          "table": [
           {
            "cells": {
             "fill": {
              "color": "#EBF0F8"
             },
             "line": {
              "color": "white"
             }
            },
            "header": {
             "fill": {
              "color": "#C8D4E3"
             },
             "line": {
              "color": "white"
             }
            },
            "type": "table"
           }
          ]
         },
         "layout": {
          "annotationdefaults": {
           "arrowcolor": "#2a3f5f",
           "arrowhead": 0,
           "arrowwidth": 1
          },
          "autotypenumbers": "strict",
          "coloraxis": {
           "colorbar": {
            "outlinewidth": 0,
            "ticks": ""
           }
          },
          "colorscale": {
           "diverging": [
            [
             0,
             "#8e0152"
            ],
            [
             0.1,
             "#c51b7d"
            ],
            [
             0.2,
             "#de77ae"
            ],
            [
             0.3,
             "#f1b6da"
            ],
            [
             0.4,
             "#fde0ef"
            ],
            [
             0.5,
             "#f7f7f7"
            ],
            [
             0.6,
             "#e6f5d0"
            ],
            [
             0.7,
             "#b8e186"
            ],
            [
             0.8,
             "#7fbc41"
            ],
            [
             0.9,
             "#4d9221"
            ],
            [
             1,
             "#276419"
            ]
           ],
           "sequential": [
            [
             0,
             "#0d0887"
            ],
            [
             0.1111111111111111,
             "#46039f"
            ],
            [
             0.2222222222222222,
             "#7201a8"
            ],
            [
             0.3333333333333333,
             "#9c179e"
            ],
            [
             0.4444444444444444,
             "#bd3786"
            ],
            [
             0.5555555555555556,
             "#d8576b"
            ],
            [
             0.6666666666666666,
             "#ed7953"
            ],
            [
             0.7777777777777778,
             "#fb9f3a"
            ],
            [
             0.8888888888888888,
             "#fdca26"
            ],
            [
             1,
             "#f0f921"
            ]
           ],
           "sequentialminus": [
            [
             0,
             "#0d0887"
            ],
            [
             0.1111111111111111,
             "#46039f"
            ],
            [
             0.2222222222222222,
             "#7201a8"
            ],
            [
             0.3333333333333333,
             "#9c179e"
            ],
            [
             0.4444444444444444,
             "#bd3786"
            ],
            [
             0.5555555555555556,
             "#d8576b"
            ],
            [
             0.6666666666666666,
             "#ed7953"
            ],
            [
             0.7777777777777778,
             "#fb9f3a"
            ],
            [
             0.8888888888888888,
             "#fdca26"
            ],
            [
             1,
             "#f0f921"
            ]
           ]
          },
          "colorway": [
           "#636efa",
           "#EF553B",
           "#00cc96",
           "#ab63fa",
           "#FFA15A",
           "#19d3f3",
           "#FF6692",
           "#B6E880",
           "#FF97FF",
           "#FECB52"
          ],
          "font": {
           "color": "#2a3f5f"
          },
          "geo": {
           "bgcolor": "white",
           "lakecolor": "white",
           "landcolor": "#E5ECF6",
           "showlakes": true,
           "showland": true,
           "subunitcolor": "white"
          },
          "hoverlabel": {
           "align": "left"
          },
          "hovermode": "closest",
          "mapbox": {
           "style": "light"
          },
          "paper_bgcolor": "white",
          "plot_bgcolor": "#E5ECF6",
          "polar": {
           "angularaxis": {
            "gridcolor": "white",
            "linecolor": "white",
            "ticks": ""
           },
           "bgcolor": "#E5ECF6",
           "radialaxis": {
            "gridcolor": "white",
            "linecolor": "white",
            "ticks": ""
           }
          },
          "scene": {
           "xaxis": {
            "backgroundcolor": "#E5ECF6",
            "gridcolor": "white",
            "gridwidth": 2,
            "linecolor": "white",
            "showbackground": true,
            "ticks": "",
            "zerolinecolor": "white"
           },
           "yaxis": {
            "backgroundcolor": "#E5ECF6",
            "gridcolor": "white",
            "gridwidth": 2,
            "linecolor": "white",
            "showbackground": true,
            "ticks": "",
            "zerolinecolor": "white"
           },
           "zaxis": {
            "backgroundcolor": "#E5ECF6",
            "gridcolor": "white",
            "gridwidth": 2,
            "linecolor": "white",
            "showbackground": true,
            "ticks": "",
            "zerolinecolor": "white"
           }
          },
          "shapedefaults": {
           "line": {
            "color": "#2a3f5f"
           }
          },
          "ternary": {
           "aaxis": {
            "gridcolor": "white",
            "linecolor": "white",
            "ticks": ""
           },
           "baxis": {
            "gridcolor": "white",
            "linecolor": "white",
            "ticks": ""
           },
           "bgcolor": "#E5ECF6",
           "caxis": {
            "gridcolor": "white",
            "linecolor": "white",
            "ticks": ""
           }
          },
          "title": {
           "x": 0.05
          },
          "xaxis": {
           "automargin": true,
           "gridcolor": "white",
           "linecolor": "white",
           "ticks": "",
           "title": {
            "standoff": 15
           },
           "zerolinecolor": "white",
           "zerolinewidth": 2
          },
          "yaxis": {
           "automargin": true,
           "gridcolor": "white",
           "linecolor": "white",
           "ticks": "",
           "title": {
            "standoff": 15
           },
           "zerolinecolor": "white",
           "zerolinewidth": 2
          }
         }
        },
        "xaxis": {
         "anchor": "y",
         "domain": [
          0,
          1
         ]
        },
        "yaxis": {
         "anchor": "x",
         "autorange": "reversed",
         "domain": [
          0,
          1
         ]
        }
       }
      },
      "text/html": [
       "<div>                            <div id=\"ab9a68dc-c373-4fae-b727-523d6d5b4a71\" class=\"plotly-graph-div\" style=\"height:525px; width:100%;\"></div>            <script type=\"text/javascript\">                require([\"plotly\"], function(Plotly) {                    window.PLOTLYENV=window.PLOTLYENV || {};                                    if (document.getElementById(\"ab9a68dc-c373-4fae-b727-523d6d5b4a71\")) {                    Plotly.newPlot(                        \"ab9a68dc-c373-4fae-b727-523d6d5b4a71\",                        [{\"coloraxis\": \"coloraxis\", \"hovertemplate\": \"x: %{x}<br>y: %{y}<br>color: %{z}<extra></extra>\", \"name\": \"0\", \"type\": \"heatmap\", \"x\": [\"Delay\", \"Origin Precipitation\", \"Origin Rain\", \"Origin Snowfall\", \"Origin Windspeed\", \"Origin Windgusts\", \"Origin Evapotranspiration\", \"Dest Precipitation\", \"Dest Rain\", \"Dest Snowfall\", \"Dest Windspeed\", \"Dest Windgusts\", \"Dest Evapotranspiration\"], \"xaxis\": \"x\", \"y\": [\"Delay\", \"Origin Precipitation\", \"Origin Rain\", \"Origin Snowfall\", \"Origin Windspeed\", \"Origin Windgusts\", \"Origin Evapotranspiration\", \"Dest Precipitation\", \"Dest Rain\", \"Dest Snowfall\", \"Dest Windspeed\", \"Dest Windgusts\", \"Dest Evapotranspiration\"], \"yaxis\": \"y\", \"z\": [[1.0, 0.20715535112584596, 0.1426650426141744, 0.26742264045692976, -0.002017284585924492, -0.011661615715847003, -0.10737369844562926, 0.20715535112584596, 0.1426650426141744, 0.26742264045692976, -0.002017284585924492, -0.011661615715847003, -0.10737369844562926], [0.20715535112584596, 1.0, 0.9663368087659597, 0.24351256194479912, 0.24594721462078178, 0.3342055294064095, -0.3397520017451839, 1.0, 0.9663368087659597, 0.24351256194479912, 0.24594721462078178, 0.3342055294064095, -0.3397520017451839], [0.1426650426141744, 0.9663368087659597, 1.0, -0.014193335370994294, 0.2070281458333942, 0.31128071417132536, -0.3111828356011392, 0.9663368087659597, 1.0, -0.014193335370994294, 0.2070281458333942, 0.31128071417132536, -0.3111828356011392], [0.26742264045692976, 0.24351256194479912, -0.014193335370994294, 1.0, 0.17631371902359588, 0.12646736085492474, -0.1489501973841096, 0.24351256194479914, -0.014193335370994301, 1.0, 0.17631371902359588, 0.12646736085492474, -0.1489501973841096], [-0.002017284585924492, 0.24594721462078178, 0.2070281458333942, 0.17631371902359588, 1.0, 0.9160983992595679, -0.21189668162515674, 0.24594721462078178, 0.20702814583339416, 0.17631371902359588, 1.0, 0.9160983992595679, -0.21189668162515674], [-0.011661615715847003, 0.3342055294064095, 0.31128071417132536, 0.12646736085492474, 0.9160983992595679, 1.0, -0.20313680968622724, 0.33420552940640963, 0.3112807141713255, 0.12646736085492474, 0.9160983992595679, 1.0, -0.20313680968622724], [-0.10737369844562926, -0.3397520017451839, -0.3111828356011392, -0.1489501973841096, -0.21189668162515674, -0.20313680968622724, 1.0, -0.3397520017451839, -0.3111828356011392, -0.14895019738410958, -0.21189668162515676, -0.20313680968622724, 1.0], [0.20715535112584596, 1.0, 0.9663368087659597, 0.24351256194479914, 0.24594721462078178, 0.33420552940640963, -0.3397520017451839, 1.0, 0.9663368087659597, 0.24351256194479912, 0.24594721462078178, 0.3342055294064095, -0.3397520017451839], [0.1426650426141744, 0.9663368087659597, 1.0, -0.014193335370994301, 0.20702814583339416, 0.3112807141713255, -0.3111828356011392, 0.9663368087659597, 1.0, -0.014193335370994294, 0.2070281458333942, 0.31128071417132536, -0.3111828356011392], [0.26742264045692976, 0.24351256194479912, -0.014193335370994294, 1.0, 0.17631371902359588, 0.12646736085492474, -0.14895019738410958, 0.24351256194479912, -0.014193335370994294, 1.0, 0.17631371902359588, 0.12646736085492474, -0.1489501973841096], [-0.002017284585924492, 0.24594721462078178, 0.2070281458333942, 0.17631371902359588, 1.0, 0.9160983992595679, -0.21189668162515676, 0.24594721462078178, 0.2070281458333942, 0.17631371902359588, 1.0, 0.9160983992595679, -0.21189668162515674], [-0.011661615715847003, 0.3342055294064095, 0.31128071417132536, 0.12646736085492474, 0.9160983992595679, 1.0, -0.20313680968622724, 0.3342055294064095, 0.31128071417132536, 0.12646736085492474, 0.9160983992595679, 1.0, -0.20313680968622724], [-0.10737369844562926, -0.3397520017451839, -0.3111828356011392, -0.1489501973841096, -0.21189668162515674, -0.20313680968622724, 1.0, -0.3397520017451839, -0.3111828356011392, -0.1489501973841096, -0.21189668162515674, -0.20313680968622724, 1.0]]}],                        {\"coloraxis\": {\"colorscale\": [[0.0, \"#0d0887\"], [0.1111111111111111, \"#46039f\"], [0.2222222222222222, \"#7201a8\"], [0.3333333333333333, \"#9c179e\"], [0.4444444444444444, \"#bd3786\"], [0.5555555555555556, \"#d8576b\"], [0.6666666666666666, \"#ed7953\"], [0.7777777777777778, \"#fb9f3a\"], [0.8888888888888888, \"#fdca26\"], [1.0, \"#f0f921\"]]}, \"margin\": {\"t\": 60}, \"template\": {\"data\": {\"bar\": [{\"error_x\": {\"color\": \"#2a3f5f\"}, \"error_y\": {\"color\": \"#2a3f5f\"}, \"marker\": {\"line\": {\"color\": \"#E5ECF6\", \"width\": 0.5}}, \"type\": \"bar\"}], \"barpolar\": [{\"marker\": {\"line\": {\"color\": \"#E5ECF6\", \"width\": 0.5}}, \"type\": \"barpolar\"}], \"carpet\": [{\"aaxis\": {\"endlinecolor\": \"#2a3f5f\", \"gridcolor\": \"white\", \"linecolor\": \"white\", \"minorgridcolor\": \"white\", \"startlinecolor\": \"#2a3f5f\"}, \"baxis\": {\"endlinecolor\": \"#2a3f5f\", \"gridcolor\": \"white\", \"linecolor\": \"white\", \"minorgridcolor\": \"white\", \"startlinecolor\": \"#2a3f5f\"}, \"type\": \"carpet\"}], \"choropleth\": [{\"colorbar\": {\"outlinewidth\": 0, \"ticks\": \"\"}, \"type\": \"choropleth\"}], \"contour\": [{\"colorbar\": {\"outlinewidth\": 0, \"ticks\": \"\"}, \"colorscale\": [[0.0, \"#0d0887\"], [0.1111111111111111, \"#46039f\"], [0.2222222222222222, \"#7201a8\"], [0.3333333333333333, \"#9c179e\"], [0.4444444444444444, \"#bd3786\"], [0.5555555555555556, \"#d8576b\"], [0.6666666666666666, \"#ed7953\"], [0.7777777777777778, \"#fb9f3a\"], [0.8888888888888888, \"#fdca26\"], [1.0, \"#f0f921\"]], \"type\": \"contour\"}], \"contourcarpet\": [{\"colorbar\": {\"outlinewidth\": 0, \"ticks\": \"\"}, \"type\": \"contourcarpet\"}], \"heatmap\": [{\"colorbar\": {\"outlinewidth\": 0, \"ticks\": \"\"}, \"colorscale\": [[0.0, \"#0d0887\"], [0.1111111111111111, \"#46039f\"], [0.2222222222222222, \"#7201a8\"], [0.3333333333333333, \"#9c179e\"], [0.4444444444444444, \"#bd3786\"], [0.5555555555555556, \"#d8576b\"], [0.6666666666666666, \"#ed7953\"], [0.7777777777777778, \"#fb9f3a\"], [0.8888888888888888, \"#fdca26\"], [1.0, \"#f0f921\"]], \"type\": \"heatmap\"}], \"heatmapgl\": [{\"colorbar\": {\"outlinewidth\": 0, \"ticks\": \"\"}, \"colorscale\": [[0.0, \"#0d0887\"], [0.1111111111111111, \"#46039f\"], [0.2222222222222222, \"#7201a8\"], [0.3333333333333333, \"#9c179e\"], [0.4444444444444444, \"#bd3786\"], [0.5555555555555556, \"#d8576b\"], [0.6666666666666666, \"#ed7953\"], [0.7777777777777778, \"#fb9f3a\"], [0.8888888888888888, \"#fdca26\"], [1.0, \"#f0f921\"]], \"type\": \"heatmapgl\"}], \"histogram\": [{\"marker\": {\"colorbar\": {\"outlinewidth\": 0, \"ticks\": \"\"}}, \"type\": \"histogram\"}], \"histogram2d\": [{\"colorbar\": {\"outlinewidth\": 0, \"ticks\": \"\"}, \"colorscale\": [[0.0, \"#0d0887\"], [0.1111111111111111, \"#46039f\"], [0.2222222222222222, \"#7201a8\"], [0.3333333333333333, \"#9c179e\"], [0.4444444444444444, \"#bd3786\"], [0.5555555555555556, \"#d8576b\"], [0.6666666666666666, \"#ed7953\"], [0.7777777777777778, \"#fb9f3a\"], [0.8888888888888888, \"#fdca26\"], [1.0, \"#f0f921\"]], \"type\": \"histogram2d\"}], \"histogram2dcontour\": [{\"colorbar\": {\"outlinewidth\": 0, \"ticks\": \"\"}, \"colorscale\": [[0.0, \"#0d0887\"], [0.1111111111111111, \"#46039f\"], [0.2222222222222222, \"#7201a8\"], [0.3333333333333333, \"#9c179e\"], [0.4444444444444444, \"#bd3786\"], [0.5555555555555556, \"#d8576b\"], [0.6666666666666666, \"#ed7953\"], [0.7777777777777778, \"#fb9f3a\"], [0.8888888888888888, \"#fdca26\"], [1.0, \"#f0f921\"]], \"type\": \"histogram2dcontour\"}], \"mesh3d\": [{\"colorbar\": {\"outlinewidth\": 0, \"ticks\": \"\"}, \"type\": \"mesh3d\"}], \"parcoords\": [{\"line\": {\"colorbar\": {\"outlinewidth\": 0, \"ticks\": \"\"}}, \"type\": \"parcoords\"}], \"pie\": [{\"automargin\": true, \"type\": \"pie\"}], \"scatter\": [{\"marker\": {\"colorbar\": {\"outlinewidth\": 0, \"ticks\": \"\"}}, \"type\": \"scatter\"}], \"scatter3d\": [{\"line\": {\"colorbar\": {\"outlinewidth\": 0, \"ticks\": \"\"}}, \"marker\": {\"colorbar\": {\"outlinewidth\": 0, \"ticks\": \"\"}}, \"type\": \"scatter3d\"}], \"scattercarpet\": [{\"marker\": {\"colorbar\": {\"outlinewidth\": 0, \"ticks\": \"\"}}, \"type\": \"scattercarpet\"}], \"scattergeo\": [{\"marker\": {\"colorbar\": {\"outlinewidth\": 0, \"ticks\": \"\"}}, \"type\": \"scattergeo\"}], \"scattergl\": [{\"marker\": {\"colorbar\": {\"outlinewidth\": 0, \"ticks\": \"\"}}, \"type\": \"scattergl\"}], \"scattermapbox\": [{\"marker\": {\"colorbar\": {\"outlinewidth\": 0, \"ticks\": \"\"}}, \"type\": \"scattermapbox\"}], \"scatterpolar\": [{\"marker\": {\"colorbar\": {\"outlinewidth\": 0, \"ticks\": \"\"}}, \"type\": \"scatterpolar\"}], \"scatterpolargl\": [{\"marker\": {\"colorbar\": {\"outlinewidth\": 0, \"ticks\": \"\"}}, \"type\": \"scatterpolargl\"}], \"scatterternary\": [{\"marker\": {\"colorbar\": {\"outlinewidth\": 0, \"ticks\": \"\"}}, \"type\": \"scatterternary\"}], \"surface\": [{\"colorbar\": {\"outlinewidth\": 0, \"ticks\": \"\"}, \"colorscale\": [[0.0, \"#0d0887\"], [0.1111111111111111, \"#46039f\"], [0.2222222222222222, \"#7201a8\"], [0.3333333333333333, \"#9c179e\"], [0.4444444444444444, \"#bd3786\"], [0.5555555555555556, \"#d8576b\"], [0.6666666666666666, \"#ed7953\"], [0.7777777777777778, \"#fb9f3a\"], [0.8888888888888888, \"#fdca26\"], [1.0, \"#f0f921\"]], \"type\": \"surface\"}], \"table\": [{\"cells\": {\"fill\": {\"color\": \"#EBF0F8\"}, \"line\": {\"color\": \"white\"}}, \"header\": {\"fill\": {\"color\": \"#C8D4E3\"}, \"line\": {\"color\": \"white\"}}, \"type\": \"table\"}]}, \"layout\": {\"annotationdefaults\": {\"arrowcolor\": \"#2a3f5f\", \"arrowhead\": 0, \"arrowwidth\": 1}, \"autotypenumbers\": \"strict\", \"coloraxis\": {\"colorbar\": {\"outlinewidth\": 0, \"ticks\": \"\"}}, \"colorscale\": {\"diverging\": [[0, \"#8e0152\"], [0.1, \"#c51b7d\"], [0.2, \"#de77ae\"], [0.3, \"#f1b6da\"], [0.4, \"#fde0ef\"], [0.5, \"#f7f7f7\"], [0.6, \"#e6f5d0\"], [0.7, \"#b8e186\"], [0.8, \"#7fbc41\"], [0.9, \"#4d9221\"], [1, \"#276419\"]], \"sequential\": [[0.0, \"#0d0887\"], [0.1111111111111111, \"#46039f\"], [0.2222222222222222, \"#7201a8\"], [0.3333333333333333, \"#9c179e\"], [0.4444444444444444, \"#bd3786\"], [0.5555555555555556, \"#d8576b\"], [0.6666666666666666, \"#ed7953\"], [0.7777777777777778, \"#fb9f3a\"], [0.8888888888888888, \"#fdca26\"], [1.0, \"#f0f921\"]], \"sequentialminus\": [[0.0, \"#0d0887\"], [0.1111111111111111, \"#46039f\"], [0.2222222222222222, \"#7201a8\"], [0.3333333333333333, \"#9c179e\"], [0.4444444444444444, \"#bd3786\"], [0.5555555555555556, \"#d8576b\"], [0.6666666666666666, \"#ed7953\"], [0.7777777777777778, \"#fb9f3a\"], [0.8888888888888888, \"#fdca26\"], [1.0, \"#f0f921\"]]}, \"colorway\": [\"#636efa\", \"#EF553B\", \"#00cc96\", \"#ab63fa\", \"#FFA15A\", \"#19d3f3\", \"#FF6692\", \"#B6E880\", \"#FF97FF\", \"#FECB52\"], \"font\": {\"color\": \"#2a3f5f\"}, \"geo\": {\"bgcolor\": \"white\", \"lakecolor\": \"white\", \"landcolor\": \"#E5ECF6\", \"showlakes\": true, \"showland\": true, \"subunitcolor\": \"white\"}, \"hoverlabel\": {\"align\": \"left\"}, \"hovermode\": \"closest\", \"mapbox\": {\"style\": \"light\"}, \"paper_bgcolor\": \"white\", \"plot_bgcolor\": \"#E5ECF6\", \"polar\": {\"angularaxis\": {\"gridcolor\": \"white\", \"linecolor\": \"white\", \"ticks\": \"\"}, \"bgcolor\": \"#E5ECF6\", \"radialaxis\": {\"gridcolor\": \"white\", \"linecolor\": \"white\", \"ticks\": \"\"}}, \"scene\": {\"xaxis\": {\"backgroundcolor\": \"#E5ECF6\", \"gridcolor\": \"white\", \"gridwidth\": 2, \"linecolor\": \"white\", \"showbackground\": true, \"ticks\": \"\", \"zerolinecolor\": \"white\"}, \"yaxis\": {\"backgroundcolor\": \"#E5ECF6\", \"gridcolor\": \"white\", \"gridwidth\": 2, \"linecolor\": \"white\", \"showbackground\": true, \"ticks\": \"\", \"zerolinecolor\": \"white\"}, \"zaxis\": {\"backgroundcolor\": \"#E5ECF6\", \"gridcolor\": \"white\", \"gridwidth\": 2, \"linecolor\": \"white\", \"showbackground\": true, \"ticks\": \"\", \"zerolinecolor\": \"white\"}}, \"shapedefaults\": {\"line\": {\"color\": \"#2a3f5f\"}}, \"ternary\": {\"aaxis\": {\"gridcolor\": \"white\", \"linecolor\": \"white\", \"ticks\": \"\"}, \"baxis\": {\"gridcolor\": \"white\", \"linecolor\": \"white\", \"ticks\": \"\"}, \"bgcolor\": \"#E5ECF6\", \"caxis\": {\"gridcolor\": \"white\", \"linecolor\": \"white\", \"ticks\": \"\"}}, \"title\": {\"x\": 0.05}, \"xaxis\": {\"automargin\": true, \"gridcolor\": \"white\", \"linecolor\": \"white\", \"ticks\": \"\", \"title\": {\"standoff\": 15}, \"zerolinecolor\": \"white\", \"zerolinewidth\": 2}, \"yaxis\": {\"automargin\": true, \"gridcolor\": \"white\", \"linecolor\": \"white\", \"ticks\": \"\", \"title\": {\"standoff\": 15}, \"zerolinecolor\": \"white\", \"zerolinewidth\": 2}}}, \"xaxis\": {\"anchor\": \"y\", \"domain\": [0.0, 1.0]}, \"yaxis\": {\"anchor\": \"x\", \"autorange\": \"reversed\", \"domain\": [0.0, 1.0]}},                        {\"responsive\": true}                    ).then(function(){\n",
       "                            \n",
       "var gd = document.getElementById('ab9a68dc-c373-4fae-b727-523d6d5b4a71');\n",
       "var x = new MutationObserver(function (mutations, observer) {{\n",
       "        var display = window.getComputedStyle(gd).display;\n",
       "        if (!display || display === 'none') {{\n",
       "            console.log([gd, 'removed!']);\n",
       "            Plotly.purge(gd);\n",
       "            observer.disconnect();\n",
       "        }}\n",
       "}});\n",
       "\n",
       "// Listen for the removal of the full notebook cells\n",
       "var notebookContainer = gd.closest('#notebook-container');\n",
       "if (notebookContainer) {{\n",
       "    x.observe(notebookContainer, {childList: true});\n",
       "}}\n",
       "\n",
       "// Listen for the clearing of the current output cell\n",
       "var outputEl = gd.closest('.output');\n",
       "if (outputEl) {{\n",
       "    x.observe(outputEl, {childList: true});\n",
       "}}\n",
       "\n",
       "                        })                };                });            </script>        </div>"
      ]
     },
     "metadata": {},
     "output_type": "display_data"
    }
   ],
   "source": [
    "fig = px.imshow(\n",
    "    scaled_features_df.corr(),\n",
    "    aspect=\"auto\"\n",
    ")\n",
    "fig.show()"
   ]
  },
  {
   "cell_type": "code",
   "execution_count": 72,
   "id": "4f956906",
   "metadata": {},
   "outputs": [
    {
     "data": {
      "application/vnd.plotly.v1+json": {
       "config": {
        "plotlyServerURL": "https://plot.ly"
       },
       "data": [
        {
         "alignmentgroup": "True",
         "bingroup": "x",
         "hovertemplate": "Delay=%{x}<br>count=%{y}<extra></extra>",
         "legendgroup": "",
         "marker": {
          "color": "#636efa"
         },
         "name": "",
         "offsetgroup": "",
         "orientation": "v",
         "showlegend": false,
         "type": "histogram",
         "x": [
          1.6378320683315952,
          -1.2601408326854753,
          -0.7883778022873474,
          0.5595165702787319,
          1.5030426310749874,
          0.8290954447919479,
          -0.18182533463261175,
          -0.5187989277741315,
          -0.9905619581722593,
          -0.7883778022873474,
          0.6943060075353399,
          -1.2601408326854753,
          4.333620813463754,
          0.2899376957655161,
          -0.5187989277741315,
          -1.3275355513137792,
          1.5704373497032913,
          -1.1253513954288674,
          2.783542285012763,
          -0.7209830836590434,
          -0.2492200532609157,
          -0.7209830836590434,
          -0.31661477188921966,
          0.492121851650428,
          -0.7209830836590434,
          -0.4514042091458276,
          -0.7883778022873474,
          -0.3840094905175236,
          0.08775353988060414,
          -0.31661477188921966,
          1.0986743193051636,
          1.7726215055882033,
          3.5922789085524105,
          -1.7992985817119072,
          -0.11443061600430776,
          -0.9231672395439553,
          -2.2710616121100347,
          -1.5297197071986912,
          -1.7992985817119072,
          -1.866693300340211,
          -0.5861936464024355,
          -1.3949302699420831,
          -0.8557725209156514,
          0.08775353988060414,
          -0.6535883650307395,
          -0.18182533463261175,
          -0.0470358973760038,
          -0.11443061600430776,
          -0.18182533463261175,
          -1.4623249885703873,
          -0.5861936464024355,
          -0.7883778022873474,
          -0.7209830836590434,
          -0.3840094905175236,
          -0.9905619581722593,
          -0.4514042091458276,
          0.9638848820485557,
          0.08775353988060414,
          -0.0470358973760038,
          0.8290954447919479,
          0.020358821252300166,
          -0.5861936464024355,
          -1.3275355513137792,
          -0.5187989277741315,
          -0.9231672395439553,
          0.5595165702787319,
          -1.1927461140571713,
          -0.3840094905175236,
          -0.8557725209156514,
          -0.9905619581722593,
          3.322700034039195,
          -0.4514042091458276,
          1.1660690379334675,
          -0.0470358973760038,
          -1.0579566768005633,
          -0.9231672395439553,
          0.22254297713721208,
          0.626911288907036,
          0.35733241439382,
          -0.4514042091458276,
          -1.1927461140571713,
          2.9183317222693708,
          -0.5187989277741315,
          0.1551482585089081,
          0.2899376957655161,
          -1.1927461140571713,
          -0.31661477188921966,
          1.7726215055882033,
          -0.6535883650307395,
          -0.31661477188921966,
          0.020358821252300166,
          -0.6535883650307395,
          1.8400162242165072,
          0.1551482585089081,
          -0.31661477188921966,
          -0.7209830836590434,
          -0.8557725209156514,
          -1.3949302699420831,
          -0.9905619581722593,
          -0.3840094905175236,
          -0.2492200532609157,
          -0.31661477188921966,
          -0.4514042091458276,
          -0.4514042091458276,
          0.35733241439382,
          -0.8557725209156514,
          0.5595165702787319,
          -1.2601408326854753,
          -1.1253513954288674,
          -1.664509144455299,
          -0.7883778022873474,
          -0.9231672395439553,
          -0.2492200532609157,
          0.020358821252300166,
          -0.3840094905175236,
          -1.2601408326854753,
          -0.5187989277741315,
          -1.5297197071986912,
          0.020358821252300166,
          -0.3840094905175236,
          -0.4514042091458276,
          -0.2492200532609157,
          1.5704373497032913,
          -0.4514042091458276,
          0.22254297713721208,
          -0.8557725209156514,
          -1.3275355513137792,
          -0.2492200532609157,
          -0.8557725209156514,
          3.2553053154108906,
          0.7617007261636438,
          -1.1253513954288674,
          -1.5297197071986912,
          -1.3275355513137792,
          -0.11443061600430776,
          -1.4623249885703873,
          -0.5861936464024355,
          0.1551482585089081,
          -0.8557725209156514,
          0.9638848820485557,
          0.22254297713721208,
          3.053121159525979,
          -0.2492200532609157,
          5.883699341914745,
          -0.5861936464024355,
          -0.3840094905175236,
          -0.5861936464024355,
          -0.5861936464024355,
          -0.5861936464024355,
          1.1660690379334675,
          -0.7883778022873474,
          -0.11443061600430776,
          0.9638848820485557,
          0.9638848820485557,
          0.020358821252300166,
          0.6943060075353399,
          -0.31661477188921966,
          1.0312796006768596,
          -0.8557725209156514,
          -0.3840094905175236,
          2.716147566384459,
          -1.1253513954288674,
          -1.4623249885703873,
          -1.0579566768005633,
          -0.11443061600430776,
          -0.9231672395439553,
          -1.3275355513137792,
          -0.0470358973760038,
          -0.8557725209156514,
          -0.6535883650307395,
          -0.7209830836590434,
          -0.4514042091458276,
          -0.2492200532609157,
          -0.8557725209156514,
          -1.0579566768005633,
          0.424727133022124,
          0.8290954447919479,
          0.7617007261636438,
          -0.18182533463261175,
          0.08775353988060414,
          0.08775353988060414,
          5.142357437003401,
          3.3900947526674985,
          -0.8557725209156514,
          -1.3949302699420831,
          -1.5297197071986912,
          -0.9231672395439553,
          -1.3275355513137792,
          -1.3949302699420831,
          -1.0579566768005633,
          -0.7883778022873474,
          -0.31661477188921966,
          -0.31661477188921966,
          -0.31661477188921966,
          0.22254297713721208,
          -0.31661477188921966,
          -0.31661477188921966,
          0.626911288907036,
          -0.7209830836590434,
          -0.9905619581722593,
          0.08775353988060414,
          1.5704373497032913,
          -0.6535883650307395,
          -0.11443061600430776,
          1.974805661473115,
          -0.2492200532609157,
          1.5704373497032913,
          0.626911288907036,
          0.626911288907036,
          -0.5861936464024355,
          -0.4514042091458276,
          -0.6535883650307395,
          -1.0579566768005633,
          1.1660690379334675,
          -0.2492200532609157,
          -0.2492200532609157,
          2.9183317222693708,
          -0.18182533463261175,
          0.8290954447919479,
          0.626911288907036,
          1.3008584751900754,
          1.2334637565617714,
          0.020358821252300166,
          -0.4514042091458276,
          0.8964901634202518,
          2.783542285012763,
          0.424727133022124,
          0.020358821252300166,
          0.08775353988060414,
          0.08775353988060414,
          0.020358821252300166,
          0.7617007261636438,
          -0.2492200532609157,
          0.424727133022124,
          1.7726215055882033,
          0.8290954447919479,
          0.1551482585089081,
          0.8964901634202518,
          0.8964901634202518,
          -0.0470358973760038,
          -0.7883778022873474,
          -0.7209830836590434,
          -1.2601408326854753,
          -0.31661477188921966,
          -0.5187989277741315,
          -0.7209830836590434,
          -0.5861936464024355,
          -0.31661477188921966,
          -0.9231672395439553,
          -0.7883778022873474,
          -0.2492200532609157,
          0.2899376957655161,
          0.8964901634202518,
          0.8964901634202518,
          1.3008584751900754,
          -0.8557725209156514,
          0.020358821252300166,
          -0.9231672395439553,
          -0.9231672395439553,
          -0.9905619581722593,
          -0.0470358973760038,
          -0.7209830836590434,
          -0.3840094905175236,
          0.020358821252300166,
          1.3682531938183795,
          -0.0470358973760038,
          -0.8557725209156514,
          -0.5187989277741315,
          -0.5861936464024355,
          -0.9905619581722593,
          -0.11443061600430776,
          0.22254297713721208,
          -0.31661477188921966,
          0.22254297713721208,
          0.8964901634202518,
          0.492121851650428,
          -0.18182533463261175,
          -0.8557725209156514,
          -0.18182533463261175,
          -1.1927461140571713,
          -0.5861936464024355,
          -0.5187989277741315,
          -1.1253513954288674,
          -0.7883778022873474,
          1.0986743193051636,
          0.5595165702787319,
          0.020358821252300166,
          -0.31661477188921966,
          -0.31661477188921966,
          0.08775353988060414,
          -0.9905619581722593,
          -0.5861936464024355,
          -0.0470358973760038,
          -0.5187989277741315,
          -1.2601408326854753,
          -1.2601408326854753,
          -1.2601408326854753,
          -0.9905619581722593,
          -1.3949302699420831,
          -0.9231672395439553,
          -0.2492200532609157,
          -0.5187989277741315,
          -1.1927461140571713,
          -0.5861936464024355,
          -0.6535883650307395,
          0.7617007261636438,
          -0.9905619581722593,
          0.1551482585089081,
          0.08775353988060414,
          0.020358821252300166,
          0.8964901634202518,
          -0.3840094905175236,
          -0.2492200532609157,
          -0.11443061600430776,
          -0.4514042091458276,
          -0.9905619581722593,
          -0.7209830836590434,
          -1.3949302699420831,
          -0.0470358973760038,
          -0.5187989277741315,
          -0.5187989277741315,
          -0.9905619581722593,
          -0.5187989277741315,
          -0.5861936464024355,
          0.8964901634202518,
          -0.0470358973760038,
          -0.0470358973760038,
          -0.7209830836590434,
          -0.7883778022873474,
          -0.18182533463261175,
          -0.7209830836590434,
          -0.9905619581722593,
          -1.2601408326854753,
          0.5595165702787319,
          -0.5861936464024355,
          -0.6535883650307395,
          -0.31661477188921966,
          0.626911288907036,
          0.492121851650428,
          0.22254297713721208,
          0.492121851650428,
          -0.3840094905175236,
          0.08775353988060414,
          -0.0470358973760038,
          -0.3840094905175236,
          0.424727133022124,
          -0.8557725209156514,
          0.6943060075353399,
          0.626911288907036,
          0.020358821252300166,
          2.850937003641067,
          0.424727133022124,
          0.2899376957655161,
          -0.31661477188921966,
          -0.31661477188921966,
          0.492121851650428,
          -0.18182533463261175,
          -0.0470358973760038,
          1.5704373497032913,
          1.7726215055882033,
          0.22254297713721208,
          0.424727133022124,
          -0.5861936464024355,
          -0.5187989277741315,
          -0.31661477188921966,
          -0.4514042091458276,
          0.2899376957655161,
          1.3008584751900754,
          -0.6535883650307395,
          0.08775353988060414,
          -0.0470358973760038,
          0.020358821252300166,
          0.424727133022124,
          0.626911288907036,
          0.35733241439382,
          -0.3840094905175236,
          0.22254297713721208,
          -0.2492200532609157,
          0.1551482585089081,
          1.3008584751900754,
          0.08775353988060414,
          -0.11443061600430776,
          -0.3840094905175236,
          -0.18182533463261175,
          1.5030426310749874,
          -0.11443061600430776,
          -1.1253513954288674,
          -0.7209830836590434,
          -0.0470358973760038,
          -0.0470358973760038,
          0.424727133022124,
          -0.3840094905175236,
          -0.31661477188921966,
          -0.7883778022873474,
          -0.7209830836590434,
          -0.4514042091458276,
          -0.4514042091458276,
          0.9638848820485557,
          -1.1253513954288674,
          -1.1253513954288674,
          -0.9231672395439553,
          -0.7209830836590434,
          -0.3840094905175236,
          -0.5861936464024355,
          -0.4514042091458276,
          -0.11443061600430776,
          0.492121851650428,
          -0.5187989277741315,
          -1.5297197071986912,
          -0.7883778022873474,
          3.053121159525979,
          1.0312796006768596,
          0.020358821252300166,
          0.22254297713721208,
          -0.11443061600430776,
          0.22254297713721208,
          -0.3840094905175236,
          -0.3840094905175236,
          -0.31661477188921966,
          0.2899376957655161,
          -0.5187989277741315,
          -0.4514042091458276,
          -0.9231672395439553,
          -0.2492200532609157,
          -0.7209830836590434,
          -0.11443061600430776,
          -0.4514042091458276,
          0.9638848820485557,
          -1.1927461140571713,
          -0.7883778022873474,
          0.08775353988060414,
          -0.7883778022873474,
          0.22254297713721208,
          0.35733241439382,
          -0.4514042091458276,
          -0.5187989277741315,
          -0.5187989277741315,
          -0.6535883650307395,
          -0.31661477188921966,
          -0.7883778022873474,
          0.8290954447919479,
          0.492121851650428,
          -0.0470358973760038,
          -0.31661477188921966,
          0.35733241439382,
          -0.3840094905175236,
          0.35733241439382,
          -1.3275355513137792,
          0.22254297713721208,
          -0.7209830836590434,
          -0.31661477188921966,
          -0.2492200532609157,
          0.424727133022124,
          0.22254297713721208,
          0.1551482585089081,
          0.8290954447919479,
          -0.2492200532609157,
          -0.5187989277741315,
          0.5595165702787319,
          -0.3840094905175236,
          -0.3840094905175236,
          2.985726440897675,
          -0.4514042091458276,
          0.424727133022124,
          0.2899376957655161,
          -0.3840094905175236,
          -0.8557725209156514,
          -0.3840094905175236,
          -0.18182533463261175,
          -0.3840094905175236,
          0.1551482585089081,
          0.5595165702787319,
          0.626911288907036,
          -0.6535883650307395,
          0.6943060075353399,
          -0.2492200532609157,
          0.5595165702787319,
          -0.8557725209156514,
          -0.4514042091458276,
          -0.8557725209156514,
          -0.6535883650307395,
          0.2899376957655161,
          -0.0470358973760038,
          -0.2492200532609157,
          -0.5187989277741315,
          -1.3275355513137792,
          -0.7883778022873474,
          -0.5187989277741315,
          -0.4514042091458276,
          -0.4514042091458276,
          0.1551482585089081,
          0.2899376957655161,
          -1.0579566768005633,
          0.6943060075353399,
          -0.7209830836590434,
          -0.6535883650307395,
          -0.7209830836590434,
          0.424727133022124,
          -0.7883778022873474,
          0.492121851650428,
          1.6378320683315952,
          -0.2492200532609157,
          0.35733241439382,
          -0.18182533463261175,
          0.2899376957655161,
          -0.3840094905175236,
          0.424727133022124,
          -0.18182533463261175,
          1.2334637565617714,
          -0.3840094905175236,
          -0.3840094905175236,
          0.22254297713721208,
          0.6943060075353399,
          -0.5861936464024355,
          0.020358821252300166,
          0.2899376957655161,
          0.1551482585089081,
          0.1551482585089081,
          -0.11443061600430776,
          0.5595165702787319,
          -0.5861936464024355,
          0.6943060075353399,
          0.7617007261636438,
          7.366383151737432,
          -0.2492200532609157,
          -0.3840094905175236,
          1.7052267869598992,
          -0.7883778022873474,
          1.1660690379334675,
          0.2899376957655161,
          -0.9231672395439553,
          0.35733241439382,
          0.424727133022124,
          0.424727133022124,
          0.020358821252300166,
          -0.0470358973760038,
          -1.1253513954288674,
          -0.4514042091458276,
          0.22254297713721208,
          1.3008584751900754,
          -0.5861936464024355,
          0.2899376957655161,
          0.020358821252300166,
          -0.0470358973760038,
          -0.5187989277741315,
          0.22254297713721208,
          0.8964901634202518,
          1.3682531938183795,
          2.850937003641067,
          1.7726215055882033,
          0.2899376957655161,
          0.5595165702787319,
          1.974805661473115,
          1.3682531938183795,
          1.0312796006768596,
          0.626911288907036,
          1.5704373497032913,
          -0.4514042091458276,
          -0.0470358973760038,
          -0.31661477188921966,
          0.8964901634202518,
          -0.5861936464024355,
          -0.7209830836590434,
          -0.5187989277741315,
          -0.6535883650307395,
          -0.11443061600430776,
          -0.31661477188921966,
          -0.2492200532609157,
          0.08775353988060414,
          -0.31661477188921966,
          0.7617007261636438,
          -0.5861936464024355,
          -0.18182533463261175,
          1.9074109428448112,
          0.020358821252300166,
          -0.4514042091458276,
          -0.18182533463261175,
          0.08775353988060414,
          1.4356479124466834,
          -0.31661477188921966,
          -0.2492200532609157,
          0.626911288907036,
          0.5595165702787319,
          0.22254297713721208,
          -0.5187989277741315,
          -0.18182533463261175,
          2.3791739732429393,
          0.020358821252300166,
          -0.9905619581722593,
          0.08775353988060414,
          0.1551482585089081,
          -0.6535883650307395,
          -0.9231672395439553,
          0.492121851650428,
          0.35733241439382,
          0.020358821252300166,
          0.08775353988060414,
          0.1551482585089081,
          0.020358821252300166,
          0.8290954447919479,
          -1.3275355513137792,
          -0.2492200532609157,
          -0.7883778022873474,
          -0.0470358973760038,
          0.1551482585089081,
          -0.18182533463261175,
          0.22254297713721208,
          0.35733241439382,
          -0.2492200532609157,
          0.424727133022124,
          -0.6535883650307395,
          -0.5187989277741315,
          0.35733241439382,
          -0.4514042091458276,
          0.492121851650428,
          0.35733241439382,
          -0.7883778022873474,
          -0.5187989277741315,
          -0.7209830836590434,
          0.020358821252300166,
          -0.7883778022873474,
          -0.31661477188921966,
          -0.9905619581722593,
          0.22254297713721208,
          -0.5187989277741315,
          -0.31661477188921966,
          -0.5187989277741315,
          -0.3840094905175236,
          -0.5187989277741315,
          -0.7883778022873474,
          -0.31661477188921966,
          -0.3840094905175236,
          -0.4514042091458276,
          -0.7209830836590434,
          -0.5861936464024355,
          -0.11443061600430776,
          -0.5861936464024355,
          -0.5861936464024355,
          -0.0470358973760038,
          -0.6535883650307395,
          -0.9231672395439553,
          -0.4514042091458276,
          0.2899376957655161,
          0.492121851650428,
          -0.0470358973760038,
          -0.11443061600430776,
          -0.11443061600430776,
          -0.6535883650307395,
          0.7617007261636438,
          0.08775353988060414,
          -0.6535883650307395,
          -0.2492200532609157,
          -0.9231672395439553,
          -0.11443061600430776,
          -0.31661477188921966,
          0.424727133022124,
          -0.18182533463261175,
          1.974805661473115,
          -0.2492200532609157,
          0.5595165702787319,
          0.35733241439382,
          0.22254297713721208,
          0.424727133022124,
          1.7052267869598992,
          -0.0470358973760038,
          0.8290954447919479,
          -0.2492200532609157,
          -0.3840094905175236,
          0.020358821252300166,
          0.7617007261636438,
          -0.6535883650307395,
          -0.5187989277741315,
          -0.0470358973760038,
          -0.5861936464024355,
          -1.1927461140571713,
          -0.5187989277741315,
          -0.31661477188921966,
          0.2899376957655161,
          -0.7883778022873474,
          0.020358821252300166,
          -0.31661477188921966,
          -0.7883778022873474,
          -0.5861936464024355,
          -0.9905619581722593,
          -0.6535883650307395,
          0.22254297713721208,
          -0.31661477188921966,
          -0.5187989277741315,
          -0.5861936464024355,
          -0.4514042091458276,
          -0.3840094905175236,
          0.492121851650428,
          -0.18182533463261175,
          0.5595165702787319,
          -0.5187989277741315,
          -0.11443061600430776,
          0.626911288907036,
          0.626911288907036,
          0.1551482585089081,
          -0.11443061600430776,
          1.0986743193051636,
          0.7617007261636438,
          2.3791739732429393,
          2.513963410499547,
          -0.18182533463261175,
          1.0312796006768596,
          -0.0470358973760038,
          0.492121851650428,
          0.6943060075353399,
          0.626911288907036,
          1.3682531938183795,
          0.08775353988060414,
          0.424727133022124,
          0.5595165702787319,
          -0.7209830836590434,
          -0.2492200532609157,
          1.6378320683315952,
          0.424727133022124,
          1.6378320683315952,
          -0.5187989277741315,
          -0.0470358973760038,
          -0.11443061600430776,
          -0.7209830836590434,
          -0.3840094905175236,
          -0.5187989277741315,
          -0.3840094905175236,
          -0.7883778022873474,
          -1.0579566768005633,
          -1.3275355513137792,
          -0.31661477188921966,
          -0.7883778022873474,
          0.492121851650428,
          -0.5187989277741315,
          -0.8557725209156514,
          -0.6535883650307395,
          -0.7209830836590434,
          0.8290954447919479,
          -0.5187989277741315,
          0.1551482585089081,
          0.08775353988060414,
          -0.2492200532609157,
          -0.11443061600430776,
          0.020358821252300166,
          2.3791739732429393,
          2.1769898173580273,
          0.8290954447919479,
          0.08775353988060414,
          1.4356479124466834,
          1.0986743193051636,
          -0.11443061600430776,
          -0.4514042091458276,
          -0.11443061600430776,
          -0.0470358973760038,
          -0.9905619581722593,
          1.7052267869598992,
          -0.31661477188921966,
          0.1551482585089081,
          0.08775353988060414,
          0.1551482585089081,
          -0.18182533463261175,
          -0.31661477188921966,
          0.22254297713721208,
          0.22254297713721208,
          0.08775353988060414,
          0.2899376957655161,
          0.9638848820485557,
          0.2899376957655161,
          0.2899376957655161,
          0.9638848820485557,
          0.2899376957655161,
          0.22254297713721208,
          1.5704373497032913,
          -0.11443061600430776,
          -0.18182533463261175,
          0.2899376957655161,
          -0.7209830836590434,
          0.08775353988060414,
          -0.5187989277741315,
          0.35733241439382,
          0.020358821252300166,
          0.020358821252300166,
          0.1551482585089081,
          0.492121851650428,
          0.020358821252300166,
          -0.3840094905175236,
          1.2334637565617714,
          -0.0470358973760038,
          0.8290954447919479,
          0.8290954447919479,
          0.22254297713721208,
          0.2899376957655161,
          1.974805661473115,
          4.401015532092058,
          -0.3840094905175236,
          0.8290954447919479,
          0.5595165702787319,
          -0.2492200532609157,
          -0.5187989277741315,
          -0.0470358973760038,
          -0.0470358973760038,
          -0.3840094905175236,
          -0.4514042091458276,
          -0.7209830836590434,
          0.2899376957655161,
          0.6943060075353399,
          1.5704373497032913,
          0.626911288907036,
          0.8290954447919479,
          1.0986743193051636,
          0.424727133022124,
          -0.6535883650307395,
          0.22254297713721208,
          0.35733241439382,
          0.492121851650428,
          -0.18182533463261175,
          1.7052267869598992,
          0.424727133022124,
          0.492121851650428,
          0.1551482585089081,
          0.424727133022124,
          -0.11443061600430776,
          2.716147566384459,
          0.9638848820485557,
          0.35733241439382,
          -0.2492200532609157,
          2.716147566384459,
          1.2334637565617714,
          0.7617007261636438,
          0.35733241439382,
          3.9292525016939304,
          1.6378320683315952,
          -0.9231672395439553,
          1.3682531938183795,
          0.020358821252300166,
          1.8400162242165072,
          0.492121851650428,
          4.064041938950538,
          1.3008584751900754,
          1.0986743193051636,
          0.5595165702787319,
          0.424727133022124,
          0.626911288907036,
          1.5030426310749874,
          1.5704373497032913,
          5.748909904658137,
          3.5922789085524105,
          -0.18182533463261175,
          0.5595165702787319,
          0.6943060075353399,
          3.187910596782587,
          -0.18182533463261175,
          -1.3949302699420831,
          0.5595165702787319,
          0.2899376957655161,
          -0.11443061600430776,
          -0.18182533463261175,
          1.0986743193051636,
          0.08775353988060414,
          -0.5187989277741315,
          0.424727133022124,
          -0.5861936464024355,
          -0.3840094905175236,
          -0.31661477188921966,
          -0.11443061600430776,
          -0.31661477188921966,
          0.08775353988060414,
          0.492121851650428,
          1.0312796006768596,
          1.7052267869598992,
          -0.31661477188921966,
          3.1205158781542828,
          1.0986743193051636,
          0.35733241439382,
          0.8290954447919479,
          -0.0470358973760038,
          -0.7883778022873474,
          -0.4514042091458276,
          -0.9905619581722593,
          -1.5971144258269951,
          -1.664509144455299,
          -0.11443061600430776,
          -0.5187989277741315,
          -1.1927461140571713,
          -0.8557725209156514,
          -0.6535883650307395,
          -1.1927461140571713,
          0.626911288907036,
          -0.9231672395439553,
          0.020358821252300166,
          -0.4514042091458276,
          1.0312796006768596,
          -0.7883778022873474,
          0.8964901634202518,
          -0.11443061600430776,
          -0.2492200532609157,
          -0.7883778022873474,
          -0.31661477188921966,
          -0.5187989277741315,
          -0.4514042091458276,
          -0.7209830836590434,
          -0.7209830836590434,
          0.35733241439382,
          -0.3840094905175236,
          -0.5187989277741315,
          -0.4514042091458276,
          2.513963410499547,
          2.042200380101419,
          -0.0470358973760038,
          0.8290954447919479,
          -0.5187989277741315,
          -1.1927461140571713,
          0.020358821252300166,
          -0.11443061600430776,
          -1.3275355513137792,
          -2.001482737596819,
          -0.11443061600430776,
          0.492121851650428,
          -1.3275355513137792,
          -0.0470358973760038,
          0.424727133022124,
          0.424727133022124,
          0.7617007261636438,
          1.5704373497032913,
          1.0986743193051636,
          1.5704373497032913,
          0.22254297713721208,
          -1.2601408326854753,
          -1.664509144455299,
          -1.3275355513137792,
          -1.934088018968515,
          -1.1253513954288674,
          -1.3949302699420831,
          -0.4514042091458276,
          -2.001482737596819,
          1.4356479124466834,
          -1.5971144258269951,
          -0.7883778022873474,
          -0.6535883650307395,
          0.22254297713721208,
          -0.3840094905175236,
          -0.0470358973760038,
          -0.5187989277741315,
          -0.7209830836590434,
          -1.3949302699420831,
          -1.664509144455299,
          -1.1927461140571713,
          -0.11443061600430776,
          -0.7883778022873474,
          -1.5971144258269951,
          0.492121851650428,
          -1.3275355513137792,
          -0.18182533463261175,
          -0.6535883650307395,
          -0.0470358973760038,
          -0.8557725209156514,
          -0.9905619581722593,
          -0.2492200532609157,
          0.2899376957655161,
          0.2899376957655161,
          -0.6535883650307395
         ],
         "xaxis": "x",
         "yaxis": "y"
        }
       ],
       "layout": {
        "barmode": "relative",
        "legend": {
         "tracegroupgap": 0
        },
        "margin": {
         "t": 60
        },
        "template": {
         "data": {
          "bar": [
           {
            "error_x": {
             "color": "#2a3f5f"
            },
            "error_y": {
             "color": "#2a3f5f"
            },
            "marker": {
             "line": {
              "color": "#E5ECF6",
              "width": 0.5
             }
            },
            "type": "bar"
           }
          ],
          "barpolar": [
           {
            "marker": {
             "line": {
              "color": "#E5ECF6",
              "width": 0.5
             }
            },
            "type": "barpolar"
           }
          ],
          "carpet": [
           {
            "aaxis": {
             "endlinecolor": "#2a3f5f",
             "gridcolor": "white",
             "linecolor": "white",
             "minorgridcolor": "white",
             "startlinecolor": "#2a3f5f"
            },
            "baxis": {
             "endlinecolor": "#2a3f5f",
             "gridcolor": "white",
             "linecolor": "white",
             "minorgridcolor": "white",
             "startlinecolor": "#2a3f5f"
            },
            "type": "carpet"
           }
          ],
          "choropleth": [
           {
            "colorbar": {
             "outlinewidth": 0,
             "ticks": ""
            },
            "type": "choropleth"
           }
          ],
          "contour": [
           {
            "colorbar": {
             "outlinewidth": 0,
             "ticks": ""
            },
            "colorscale": [
             [
              0,
              "#0d0887"
             ],
             [
              0.1111111111111111,
              "#46039f"
             ],
             [
              0.2222222222222222,
              "#7201a8"
             ],
             [
              0.3333333333333333,
              "#9c179e"
             ],
             [
              0.4444444444444444,
              "#bd3786"
             ],
             [
              0.5555555555555556,
              "#d8576b"
             ],
             [
              0.6666666666666666,
              "#ed7953"
             ],
             [
              0.7777777777777778,
              "#fb9f3a"
             ],
             [
              0.8888888888888888,
              "#fdca26"
             ],
             [
              1,
              "#f0f921"
             ]
            ],
            "type": "contour"
           }
          ],
          "contourcarpet": [
           {
            "colorbar": {
             "outlinewidth": 0,
             "ticks": ""
            },
            "type": "contourcarpet"
           }
          ],
          "heatmap": [
           {
            "colorbar": {
             "outlinewidth": 0,
             "ticks": ""
            },
            "colorscale": [
             [
              0,
              "#0d0887"
             ],
             [
              0.1111111111111111,
              "#46039f"
             ],
             [
              0.2222222222222222,
              "#7201a8"
             ],
             [
              0.3333333333333333,
              "#9c179e"
             ],
             [
              0.4444444444444444,
              "#bd3786"
             ],
             [
              0.5555555555555556,
              "#d8576b"
             ],
             [
              0.6666666666666666,
              "#ed7953"
             ],
             [
              0.7777777777777778,
              "#fb9f3a"
             ],
             [
              0.8888888888888888,
              "#fdca26"
             ],
             [
              1,
              "#f0f921"
             ]
            ],
            "type": "heatmap"
           }
          ],
          "heatmapgl": [
           {
            "colorbar": {
             "outlinewidth": 0,
             "ticks": ""
            },
            "colorscale": [
             [
              0,
              "#0d0887"
             ],
             [
              0.1111111111111111,
              "#46039f"
             ],
             [
              0.2222222222222222,
              "#7201a8"
             ],
             [
              0.3333333333333333,
              "#9c179e"
             ],
             [
              0.4444444444444444,
              "#bd3786"
             ],
             [
              0.5555555555555556,
              "#d8576b"
             ],
             [
              0.6666666666666666,
              "#ed7953"
             ],
             [
              0.7777777777777778,
              "#fb9f3a"
             ],
             [
              0.8888888888888888,
              "#fdca26"
             ],
             [
              1,
              "#f0f921"
             ]
            ],
            "type": "heatmapgl"
           }
          ],
          "histogram": [
           {
            "marker": {
             "colorbar": {
              "outlinewidth": 0,
              "ticks": ""
             }
            },
            "type": "histogram"
           }
          ],
          "histogram2d": [
           {
            "colorbar": {
             "outlinewidth": 0,
             "ticks": ""
            },
            "colorscale": [
             [
              0,
              "#0d0887"
             ],
             [
              0.1111111111111111,
              "#46039f"
             ],
             [
              0.2222222222222222,
              "#7201a8"
             ],
             [
              0.3333333333333333,
              "#9c179e"
             ],
             [
              0.4444444444444444,
              "#bd3786"
             ],
             [
              0.5555555555555556,
              "#d8576b"
             ],
             [
              0.6666666666666666,
              "#ed7953"
             ],
             [
              0.7777777777777778,
              "#fb9f3a"
             ],
             [
              0.8888888888888888,
              "#fdca26"
             ],
             [
              1,
              "#f0f921"
             ]
            ],
            "type": "histogram2d"
           }
          ],
          "histogram2dcontour": [
           {
            "colorbar": {
             "outlinewidth": 0,
             "ticks": ""
            },
            "colorscale": [
             [
              0,
              "#0d0887"
             ],
             [
              0.1111111111111111,
              "#46039f"
             ],
             [
              0.2222222222222222,
              "#7201a8"
             ],
             [
              0.3333333333333333,
              "#9c179e"
             ],
             [
              0.4444444444444444,
              "#bd3786"
             ],
             [
              0.5555555555555556,
              "#d8576b"
             ],
             [
              0.6666666666666666,
              "#ed7953"
             ],
             [
              0.7777777777777778,
              "#fb9f3a"
             ],
             [
              0.8888888888888888,
              "#fdca26"
             ],
             [
              1,
              "#f0f921"
             ]
            ],
            "type": "histogram2dcontour"
           }
          ],
          "mesh3d": [
           {
            "colorbar": {
             "outlinewidth": 0,
             "ticks": ""
            },
            "type": "mesh3d"
           }
          ],
          "parcoords": [
           {
            "line": {
             "colorbar": {
              "outlinewidth": 0,
              "ticks": ""
             }
            },
            "type": "parcoords"
           }
          ],
          "pie": [
           {
            "automargin": true,
            "type": "pie"
           }
          ],
          "scatter": [
           {
            "marker": {
             "colorbar": {
              "outlinewidth": 0,
              "ticks": ""
             }
            },
            "type": "scatter"
           }
          ],
          "scatter3d": [
           {
            "line": {
             "colorbar": {
              "outlinewidth": 0,
              "ticks": ""
             }
            },
            "marker": {
             "colorbar": {
              "outlinewidth": 0,
              "ticks": ""
             }
            },
            "type": "scatter3d"
           }
          ],
          "scattercarpet": [
           {
            "marker": {
             "colorbar": {
              "outlinewidth": 0,
              "ticks": ""
             }
            },
            "type": "scattercarpet"
           }
          ],
          "scattergeo": [
           {
            "marker": {
             "colorbar": {
              "outlinewidth": 0,
              "ticks": ""
             }
            },
            "type": "scattergeo"
           }
          ],
          "scattergl": [
           {
            "marker": {
             "colorbar": {
              "outlinewidth": 0,
              "ticks": ""
             }
            },
            "type": "scattergl"
           }
          ],
          "scattermapbox": [
           {
            "marker": {
             "colorbar": {
              "outlinewidth": 0,
              "ticks": ""
             }
            },
            "type": "scattermapbox"
           }
          ],
          "scatterpolar": [
           {
            "marker": {
             "colorbar": {
              "outlinewidth": 0,
              "ticks": ""
             }
            },
            "type": "scatterpolar"
           }
          ],
          "scatterpolargl": [
           {
            "marker": {
             "colorbar": {
              "outlinewidth": 0,
              "ticks": ""
             }
            },
            "type": "scatterpolargl"
           }
          ],
          "scatterternary": [
           {
            "marker": {
             "colorbar": {
              "outlinewidth": 0,
              "ticks": ""
             }
            },
            "type": "scatterternary"
           }
          ],
          "surface": [
           {
            "colorbar": {
             "outlinewidth": 0,
             "ticks": ""
            },
            "colorscale": [
             [
              0,
              "#0d0887"
             ],
             [
              0.1111111111111111,
              "#46039f"
             ],
             [
              0.2222222222222222,
              "#7201a8"
             ],
             [
              0.3333333333333333,
              "#9c179e"
             ],
             [
              0.4444444444444444,
              "#bd3786"
             ],
             [
              0.5555555555555556,
              "#d8576b"
             ],
             [
              0.6666666666666666,
              "#ed7953"
             ],
             [
              0.7777777777777778,
              "#fb9f3a"
             ],
             [
              0.8888888888888888,
              "#fdca26"
             ],
             [
              1,
              "#f0f921"
             ]
            ],
            "type": "surface"
           }
          ],
          "table": [
           {
            "cells": {
             "fill": {
              "color": "#EBF0F8"
             },
             "line": {
              "color": "white"
             }
            },
            "header": {
             "fill": {
              "color": "#C8D4E3"
             },
             "line": {
              "color": "white"
             }
            },
            "type": "table"
           }
          ]
         },
         "layout": {
          "annotationdefaults": {
           "arrowcolor": "#2a3f5f",
           "arrowhead": 0,
           "arrowwidth": 1
          },
          "autotypenumbers": "strict",
          "coloraxis": {
           "colorbar": {
            "outlinewidth": 0,
            "ticks": ""
           }
          },
          "colorscale": {
           "diverging": [
            [
             0,
             "#8e0152"
            ],
            [
             0.1,
             "#c51b7d"
            ],
            [
             0.2,
             "#de77ae"
            ],
            [
             0.3,
             "#f1b6da"
            ],
            [
             0.4,
             "#fde0ef"
            ],
            [
             0.5,
             "#f7f7f7"
            ],
            [
             0.6,
             "#e6f5d0"
            ],
            [
             0.7,
             "#b8e186"
            ],
            [
             0.8,
             "#7fbc41"
            ],
            [
             0.9,
             "#4d9221"
            ],
            [
             1,
             "#276419"
            ]
           ],
           "sequential": [
            [
             0,
             "#0d0887"
            ],
            [
             0.1111111111111111,
             "#46039f"
            ],
            [
             0.2222222222222222,
             "#7201a8"
            ],
            [
             0.3333333333333333,
             "#9c179e"
            ],
            [
             0.4444444444444444,
             "#bd3786"
            ],
            [
             0.5555555555555556,
             "#d8576b"
            ],
            [
             0.6666666666666666,
             "#ed7953"
            ],
            [
             0.7777777777777778,
             "#fb9f3a"
            ],
            [
             0.8888888888888888,
             "#fdca26"
            ],
            [
             1,
             "#f0f921"
            ]
           ],
           "sequentialminus": [
            [
             0,
             "#0d0887"
            ],
            [
             0.1111111111111111,
             "#46039f"
            ],
            [
             0.2222222222222222,
             "#7201a8"
            ],
            [
             0.3333333333333333,
             "#9c179e"
            ],
            [
             0.4444444444444444,
             "#bd3786"
            ],
            [
             0.5555555555555556,
             "#d8576b"
            ],
            [
             0.6666666666666666,
             "#ed7953"
            ],
            [
             0.7777777777777778,
             "#fb9f3a"
            ],
            [
             0.8888888888888888,
             "#fdca26"
            ],
            [
             1,
             "#f0f921"
            ]
           ]
          },
          "colorway": [
           "#636efa",
           "#EF553B",
           "#00cc96",
           "#ab63fa",
           "#FFA15A",
           "#19d3f3",
           "#FF6692",
           "#B6E880",
           "#FF97FF",
           "#FECB52"
          ],
          "font": {
           "color": "#2a3f5f"
          },
          "geo": {
           "bgcolor": "white",
           "lakecolor": "white",
           "landcolor": "#E5ECF6",
           "showlakes": true,
           "showland": true,
           "subunitcolor": "white"
          },
          "hoverlabel": {
           "align": "left"
          },
          "hovermode": "closest",
          "mapbox": {
           "style": "light"
          },
          "paper_bgcolor": "white",
          "plot_bgcolor": "#E5ECF6",
          "polar": {
           "angularaxis": {
            "gridcolor": "white",
            "linecolor": "white",
            "ticks": ""
           },
           "bgcolor": "#E5ECF6",
           "radialaxis": {
            "gridcolor": "white",
            "linecolor": "white",
            "ticks": ""
           }
          },
          "scene": {
           "xaxis": {
            "backgroundcolor": "#E5ECF6",
            "gridcolor": "white",
            "gridwidth": 2,
            "linecolor": "white",
            "showbackground": true,
            "ticks": "",
            "zerolinecolor": "white"
           },
           "yaxis": {
            "backgroundcolor": "#E5ECF6",
            "gridcolor": "white",
            "gridwidth": 2,
            "linecolor": "white",
            "showbackground": true,
            "ticks": "",
            "zerolinecolor": "white"
           },
           "zaxis": {
            "backgroundcolor": "#E5ECF6",
            "gridcolor": "white",
            "gridwidth": 2,
            "linecolor": "white",
            "showbackground": true,
            "ticks": "",
            "zerolinecolor": "white"
           }
          },
          "shapedefaults": {
           "line": {
            "color": "#2a3f5f"
           }
          },
          "ternary": {
           "aaxis": {
            "gridcolor": "white",
            "linecolor": "white",
            "ticks": ""
           },
           "baxis": {
            "gridcolor": "white",
            "linecolor": "white",
            "ticks": ""
           },
           "bgcolor": "#E5ECF6",
           "caxis": {
            "gridcolor": "white",
            "linecolor": "white",
            "ticks": ""
           }
          },
          "title": {
           "x": 0.05
          },
          "xaxis": {
           "automargin": true,
           "gridcolor": "white",
           "linecolor": "white",
           "ticks": "",
           "title": {
            "standoff": 15
           },
           "zerolinecolor": "white",
           "zerolinewidth": 2
          },
          "yaxis": {
           "automargin": true,
           "gridcolor": "white",
           "linecolor": "white",
           "ticks": "",
           "title": {
            "standoff": 15
           },
           "zerolinecolor": "white",
           "zerolinewidth": 2
          }
         }
        },
        "xaxis": {
         "anchor": "y",
         "domain": [
          0,
          1
         ],
         "title": {
          "text": "Delay"
         }
        },
        "yaxis": {
         "anchor": "x",
         "domain": [
          0,
          1
         ],
         "title": {
          "text": "count"
         }
        }
       }
      },
      "text/html": [
       "<div>                            <div id=\"56e3ca7b-4493-42b3-9307-853ab25a98b5\" class=\"plotly-graph-div\" style=\"height:525px; width:100%;\"></div>            <script type=\"text/javascript\">                require([\"plotly\"], function(Plotly) {                    window.PLOTLYENV=window.PLOTLYENV || {};                                    if (document.getElementById(\"56e3ca7b-4493-42b3-9307-853ab25a98b5\")) {                    Plotly.newPlot(                        \"56e3ca7b-4493-42b3-9307-853ab25a98b5\",                        [{\"alignmentgroup\": \"True\", \"bingroup\": \"x\", \"hovertemplate\": \"Delay=%{x}<br>count=%{y}<extra></extra>\", \"legendgroup\": \"\", \"marker\": {\"color\": \"#636efa\"}, \"name\": \"\", \"offsetgroup\": \"\", \"orientation\": \"v\", \"showlegend\": false, \"type\": \"histogram\", \"x\": [1.6378320683315952, -1.2601408326854753, -0.7883778022873474, 0.5595165702787319, 1.5030426310749874, 0.8290954447919479, -0.18182533463261175, -0.5187989277741315, -0.9905619581722593, -0.7883778022873474, 0.6943060075353399, -1.2601408326854753, 4.333620813463754, 0.2899376957655161, -0.5187989277741315, -1.3275355513137792, 1.5704373497032913, -1.1253513954288674, 2.783542285012763, -0.7209830836590434, -0.2492200532609157, -0.7209830836590434, -0.31661477188921966, 0.492121851650428, -0.7209830836590434, -0.4514042091458276, -0.7883778022873474, -0.3840094905175236, 0.08775353988060414, -0.31661477188921966, 1.0986743193051636, 1.7726215055882033, 3.5922789085524105, -1.7992985817119072, -0.11443061600430776, -0.9231672395439553, -2.2710616121100347, -1.5297197071986912, -1.7992985817119072, -1.866693300340211, -0.5861936464024355, -1.3949302699420831, -0.8557725209156514, 0.08775353988060414, -0.6535883650307395, -0.18182533463261175, -0.0470358973760038, -0.11443061600430776, -0.18182533463261175, -1.4623249885703873, -0.5861936464024355, -0.7883778022873474, -0.7209830836590434, -0.3840094905175236, -0.9905619581722593, -0.4514042091458276, 0.9638848820485557, 0.08775353988060414, -0.0470358973760038, 0.8290954447919479, 0.020358821252300166, -0.5861936464024355, -1.3275355513137792, -0.5187989277741315, -0.9231672395439553, 0.5595165702787319, -1.1927461140571713, -0.3840094905175236, -0.8557725209156514, -0.9905619581722593, 3.322700034039195, -0.4514042091458276, 1.1660690379334675, -0.0470358973760038, -1.0579566768005633, -0.9231672395439553, 0.22254297713721208, 0.626911288907036, 0.35733241439382, -0.4514042091458276, -1.1927461140571713, 2.9183317222693708, -0.5187989277741315, 0.1551482585089081, 0.2899376957655161, -1.1927461140571713, -0.31661477188921966, 1.7726215055882033, -0.6535883650307395, -0.31661477188921966, 0.020358821252300166, -0.6535883650307395, 1.8400162242165072, 0.1551482585089081, -0.31661477188921966, -0.7209830836590434, -0.8557725209156514, -1.3949302699420831, -0.9905619581722593, -0.3840094905175236, -0.2492200532609157, -0.31661477188921966, -0.4514042091458276, -0.4514042091458276, 0.35733241439382, -0.8557725209156514, 0.5595165702787319, -1.2601408326854753, -1.1253513954288674, -1.664509144455299, -0.7883778022873474, -0.9231672395439553, -0.2492200532609157, 0.020358821252300166, -0.3840094905175236, -1.2601408326854753, -0.5187989277741315, -1.5297197071986912, 0.020358821252300166, -0.3840094905175236, -0.4514042091458276, -0.2492200532609157, 1.5704373497032913, -0.4514042091458276, 0.22254297713721208, -0.8557725209156514, -1.3275355513137792, -0.2492200532609157, -0.8557725209156514, 3.2553053154108906, 0.7617007261636438, -1.1253513954288674, -1.5297197071986912, -1.3275355513137792, -0.11443061600430776, -1.4623249885703873, -0.5861936464024355, 0.1551482585089081, -0.8557725209156514, 0.9638848820485557, 0.22254297713721208, 3.053121159525979, -0.2492200532609157, 5.883699341914745, -0.5861936464024355, -0.3840094905175236, -0.5861936464024355, -0.5861936464024355, -0.5861936464024355, 1.1660690379334675, -0.7883778022873474, -0.11443061600430776, 0.9638848820485557, 0.9638848820485557, 0.020358821252300166, 0.6943060075353399, -0.31661477188921966, 1.0312796006768596, -0.8557725209156514, -0.3840094905175236, 2.716147566384459, -1.1253513954288674, -1.4623249885703873, -1.0579566768005633, -0.11443061600430776, -0.9231672395439553, -1.3275355513137792, -0.0470358973760038, -0.8557725209156514, -0.6535883650307395, -0.7209830836590434, -0.4514042091458276, -0.2492200532609157, -0.8557725209156514, -1.0579566768005633, 0.424727133022124, 0.8290954447919479, 0.7617007261636438, -0.18182533463261175, 0.08775353988060414, 0.08775353988060414, 5.142357437003401, 3.3900947526674985, -0.8557725209156514, -1.3949302699420831, -1.5297197071986912, -0.9231672395439553, -1.3275355513137792, -1.3949302699420831, -1.0579566768005633, -0.7883778022873474, -0.31661477188921966, -0.31661477188921966, -0.31661477188921966, 0.22254297713721208, -0.31661477188921966, -0.31661477188921966, 0.626911288907036, -0.7209830836590434, -0.9905619581722593, 0.08775353988060414, 1.5704373497032913, -0.6535883650307395, -0.11443061600430776, 1.974805661473115, -0.2492200532609157, 1.5704373497032913, 0.626911288907036, 0.626911288907036, -0.5861936464024355, -0.4514042091458276, -0.6535883650307395, -1.0579566768005633, 1.1660690379334675, -0.2492200532609157, -0.2492200532609157, 2.9183317222693708, -0.18182533463261175, 0.8290954447919479, 0.626911288907036, 1.3008584751900754, 1.2334637565617714, 0.020358821252300166, -0.4514042091458276, 0.8964901634202518, 2.783542285012763, 0.424727133022124, 0.020358821252300166, 0.08775353988060414, 0.08775353988060414, 0.020358821252300166, 0.7617007261636438, -0.2492200532609157, 0.424727133022124, 1.7726215055882033, 0.8290954447919479, 0.1551482585089081, 0.8964901634202518, 0.8964901634202518, -0.0470358973760038, -0.7883778022873474, -0.7209830836590434, -1.2601408326854753, -0.31661477188921966, -0.5187989277741315, -0.7209830836590434, -0.5861936464024355, -0.31661477188921966, -0.9231672395439553, -0.7883778022873474, -0.2492200532609157, 0.2899376957655161, 0.8964901634202518, 0.8964901634202518, 1.3008584751900754, -0.8557725209156514, 0.020358821252300166, -0.9231672395439553, -0.9231672395439553, -0.9905619581722593, -0.0470358973760038, -0.7209830836590434, -0.3840094905175236, 0.020358821252300166, 1.3682531938183795, -0.0470358973760038, -0.8557725209156514, -0.5187989277741315, -0.5861936464024355, -0.9905619581722593, -0.11443061600430776, 0.22254297713721208, -0.31661477188921966, 0.22254297713721208, 0.8964901634202518, 0.492121851650428, -0.18182533463261175, -0.8557725209156514, -0.18182533463261175, -1.1927461140571713, -0.5861936464024355, -0.5187989277741315, -1.1253513954288674, -0.7883778022873474, 1.0986743193051636, 0.5595165702787319, 0.020358821252300166, -0.31661477188921966, -0.31661477188921966, 0.08775353988060414, -0.9905619581722593, -0.5861936464024355, -0.0470358973760038, -0.5187989277741315, -1.2601408326854753, -1.2601408326854753, -1.2601408326854753, -0.9905619581722593, -1.3949302699420831, -0.9231672395439553, -0.2492200532609157, -0.5187989277741315, -1.1927461140571713, -0.5861936464024355, -0.6535883650307395, 0.7617007261636438, -0.9905619581722593, 0.1551482585089081, 0.08775353988060414, 0.020358821252300166, 0.8964901634202518, -0.3840094905175236, -0.2492200532609157, -0.11443061600430776, -0.4514042091458276, -0.9905619581722593, -0.7209830836590434, -1.3949302699420831, -0.0470358973760038, -0.5187989277741315, -0.5187989277741315, -0.9905619581722593, -0.5187989277741315, -0.5861936464024355, 0.8964901634202518, -0.0470358973760038, -0.0470358973760038, -0.7209830836590434, -0.7883778022873474, -0.18182533463261175, -0.7209830836590434, -0.9905619581722593, -1.2601408326854753, 0.5595165702787319, -0.5861936464024355, -0.6535883650307395, -0.31661477188921966, 0.626911288907036, 0.492121851650428, 0.22254297713721208, 0.492121851650428, -0.3840094905175236, 0.08775353988060414, -0.0470358973760038, -0.3840094905175236, 0.424727133022124, -0.8557725209156514, 0.6943060075353399, 0.626911288907036, 0.020358821252300166, 2.850937003641067, 0.424727133022124, 0.2899376957655161, -0.31661477188921966, -0.31661477188921966, 0.492121851650428, -0.18182533463261175, -0.0470358973760038, 1.5704373497032913, 1.7726215055882033, 0.22254297713721208, 0.424727133022124, -0.5861936464024355, -0.5187989277741315, -0.31661477188921966, -0.4514042091458276, 0.2899376957655161, 1.3008584751900754, -0.6535883650307395, 0.08775353988060414, -0.0470358973760038, 0.020358821252300166, 0.424727133022124, 0.626911288907036, 0.35733241439382, -0.3840094905175236, 0.22254297713721208, -0.2492200532609157, 0.1551482585089081, 1.3008584751900754, 0.08775353988060414, -0.11443061600430776, -0.3840094905175236, -0.18182533463261175, 1.5030426310749874, -0.11443061600430776, -1.1253513954288674, -0.7209830836590434, -0.0470358973760038, -0.0470358973760038, 0.424727133022124, -0.3840094905175236, -0.31661477188921966, -0.7883778022873474, -0.7209830836590434, -0.4514042091458276, -0.4514042091458276, 0.9638848820485557, -1.1253513954288674, -1.1253513954288674, -0.9231672395439553, -0.7209830836590434, -0.3840094905175236, -0.5861936464024355, -0.4514042091458276, -0.11443061600430776, 0.492121851650428, -0.5187989277741315, -1.5297197071986912, -0.7883778022873474, 3.053121159525979, 1.0312796006768596, 0.020358821252300166, 0.22254297713721208, -0.11443061600430776, 0.22254297713721208, -0.3840094905175236, -0.3840094905175236, -0.31661477188921966, 0.2899376957655161, -0.5187989277741315, -0.4514042091458276, -0.9231672395439553, -0.2492200532609157, -0.7209830836590434, -0.11443061600430776, -0.4514042091458276, 0.9638848820485557, -1.1927461140571713, -0.7883778022873474, 0.08775353988060414, -0.7883778022873474, 0.22254297713721208, 0.35733241439382, -0.4514042091458276, -0.5187989277741315, -0.5187989277741315, -0.6535883650307395, -0.31661477188921966, -0.7883778022873474, 0.8290954447919479, 0.492121851650428, -0.0470358973760038, -0.31661477188921966, 0.35733241439382, -0.3840094905175236, 0.35733241439382, -1.3275355513137792, 0.22254297713721208, -0.7209830836590434, -0.31661477188921966, -0.2492200532609157, 0.424727133022124, 0.22254297713721208, 0.1551482585089081, 0.8290954447919479, -0.2492200532609157, -0.5187989277741315, 0.5595165702787319, -0.3840094905175236, -0.3840094905175236, 2.985726440897675, -0.4514042091458276, 0.424727133022124, 0.2899376957655161, -0.3840094905175236, -0.8557725209156514, -0.3840094905175236, -0.18182533463261175, -0.3840094905175236, 0.1551482585089081, 0.5595165702787319, 0.626911288907036, -0.6535883650307395, 0.6943060075353399, -0.2492200532609157, 0.5595165702787319, -0.8557725209156514, -0.4514042091458276, -0.8557725209156514, -0.6535883650307395, 0.2899376957655161, -0.0470358973760038, -0.2492200532609157, -0.5187989277741315, -1.3275355513137792, -0.7883778022873474, -0.5187989277741315, -0.4514042091458276, -0.4514042091458276, 0.1551482585089081, 0.2899376957655161, -1.0579566768005633, 0.6943060075353399, -0.7209830836590434, -0.6535883650307395, -0.7209830836590434, 0.424727133022124, -0.7883778022873474, 0.492121851650428, 1.6378320683315952, -0.2492200532609157, 0.35733241439382, -0.18182533463261175, 0.2899376957655161, -0.3840094905175236, 0.424727133022124, -0.18182533463261175, 1.2334637565617714, -0.3840094905175236, -0.3840094905175236, 0.22254297713721208, 0.6943060075353399, -0.5861936464024355, 0.020358821252300166, 0.2899376957655161, 0.1551482585089081, 0.1551482585089081, -0.11443061600430776, 0.5595165702787319, -0.5861936464024355, 0.6943060075353399, 0.7617007261636438, 7.366383151737432, -0.2492200532609157, -0.3840094905175236, 1.7052267869598992, -0.7883778022873474, 1.1660690379334675, 0.2899376957655161, -0.9231672395439553, 0.35733241439382, 0.424727133022124, 0.424727133022124, 0.020358821252300166, -0.0470358973760038, -1.1253513954288674, -0.4514042091458276, 0.22254297713721208, 1.3008584751900754, -0.5861936464024355, 0.2899376957655161, 0.020358821252300166, -0.0470358973760038, -0.5187989277741315, 0.22254297713721208, 0.8964901634202518, 1.3682531938183795, 2.850937003641067, 1.7726215055882033, 0.2899376957655161, 0.5595165702787319, 1.974805661473115, 1.3682531938183795, 1.0312796006768596, 0.626911288907036, 1.5704373497032913, -0.4514042091458276, -0.0470358973760038, -0.31661477188921966, 0.8964901634202518, -0.5861936464024355, -0.7209830836590434, -0.5187989277741315, -0.6535883650307395, -0.11443061600430776, -0.31661477188921966, -0.2492200532609157, 0.08775353988060414, -0.31661477188921966, 0.7617007261636438, -0.5861936464024355, -0.18182533463261175, 1.9074109428448112, 0.020358821252300166, -0.4514042091458276, -0.18182533463261175, 0.08775353988060414, 1.4356479124466834, -0.31661477188921966, -0.2492200532609157, 0.626911288907036, 0.5595165702787319, 0.22254297713721208, -0.5187989277741315, -0.18182533463261175, 2.3791739732429393, 0.020358821252300166, -0.9905619581722593, 0.08775353988060414, 0.1551482585089081, -0.6535883650307395, -0.9231672395439553, 0.492121851650428, 0.35733241439382, 0.020358821252300166, 0.08775353988060414, 0.1551482585089081, 0.020358821252300166, 0.8290954447919479, -1.3275355513137792, -0.2492200532609157, -0.7883778022873474, -0.0470358973760038, 0.1551482585089081, -0.18182533463261175, 0.22254297713721208, 0.35733241439382, -0.2492200532609157, 0.424727133022124, -0.6535883650307395, -0.5187989277741315, 0.35733241439382, -0.4514042091458276, 0.492121851650428, 0.35733241439382, -0.7883778022873474, -0.5187989277741315, -0.7209830836590434, 0.020358821252300166, -0.7883778022873474, -0.31661477188921966, -0.9905619581722593, 0.22254297713721208, -0.5187989277741315, -0.31661477188921966, -0.5187989277741315, -0.3840094905175236, -0.5187989277741315, -0.7883778022873474, -0.31661477188921966, -0.3840094905175236, -0.4514042091458276, -0.7209830836590434, -0.5861936464024355, -0.11443061600430776, -0.5861936464024355, -0.5861936464024355, -0.0470358973760038, -0.6535883650307395, -0.9231672395439553, -0.4514042091458276, 0.2899376957655161, 0.492121851650428, -0.0470358973760038, -0.11443061600430776, -0.11443061600430776, -0.6535883650307395, 0.7617007261636438, 0.08775353988060414, -0.6535883650307395, -0.2492200532609157, -0.9231672395439553, -0.11443061600430776, -0.31661477188921966, 0.424727133022124, -0.18182533463261175, 1.974805661473115, -0.2492200532609157, 0.5595165702787319, 0.35733241439382, 0.22254297713721208, 0.424727133022124, 1.7052267869598992, -0.0470358973760038, 0.8290954447919479, -0.2492200532609157, -0.3840094905175236, 0.020358821252300166, 0.7617007261636438, -0.6535883650307395, -0.5187989277741315, -0.0470358973760038, -0.5861936464024355, -1.1927461140571713, -0.5187989277741315, -0.31661477188921966, 0.2899376957655161, -0.7883778022873474, 0.020358821252300166, -0.31661477188921966, -0.7883778022873474, -0.5861936464024355, -0.9905619581722593, -0.6535883650307395, 0.22254297713721208, -0.31661477188921966, -0.5187989277741315, -0.5861936464024355, -0.4514042091458276, -0.3840094905175236, 0.492121851650428, -0.18182533463261175, 0.5595165702787319, -0.5187989277741315, -0.11443061600430776, 0.626911288907036, 0.626911288907036, 0.1551482585089081, -0.11443061600430776, 1.0986743193051636, 0.7617007261636438, 2.3791739732429393, 2.513963410499547, -0.18182533463261175, 1.0312796006768596, -0.0470358973760038, 0.492121851650428, 0.6943060075353399, 0.626911288907036, 1.3682531938183795, 0.08775353988060414, 0.424727133022124, 0.5595165702787319, -0.7209830836590434, -0.2492200532609157, 1.6378320683315952, 0.424727133022124, 1.6378320683315952, -0.5187989277741315, -0.0470358973760038, -0.11443061600430776, -0.7209830836590434, -0.3840094905175236, -0.5187989277741315, -0.3840094905175236, -0.7883778022873474, -1.0579566768005633, -1.3275355513137792, -0.31661477188921966, -0.7883778022873474, 0.492121851650428, -0.5187989277741315, -0.8557725209156514, -0.6535883650307395, -0.7209830836590434, 0.8290954447919479, -0.5187989277741315, 0.1551482585089081, 0.08775353988060414, -0.2492200532609157, -0.11443061600430776, 0.020358821252300166, 2.3791739732429393, 2.1769898173580273, 0.8290954447919479, 0.08775353988060414, 1.4356479124466834, 1.0986743193051636, -0.11443061600430776, -0.4514042091458276, -0.11443061600430776, -0.0470358973760038, -0.9905619581722593, 1.7052267869598992, -0.31661477188921966, 0.1551482585089081, 0.08775353988060414, 0.1551482585089081, -0.18182533463261175, -0.31661477188921966, 0.22254297713721208, 0.22254297713721208, 0.08775353988060414, 0.2899376957655161, 0.9638848820485557, 0.2899376957655161, 0.2899376957655161, 0.9638848820485557, 0.2899376957655161, 0.22254297713721208, 1.5704373497032913, -0.11443061600430776, -0.18182533463261175, 0.2899376957655161, -0.7209830836590434, 0.08775353988060414, -0.5187989277741315, 0.35733241439382, 0.020358821252300166, 0.020358821252300166, 0.1551482585089081, 0.492121851650428, 0.020358821252300166, -0.3840094905175236, 1.2334637565617714, -0.0470358973760038, 0.8290954447919479, 0.8290954447919479, 0.22254297713721208, 0.2899376957655161, 1.974805661473115, 4.401015532092058, -0.3840094905175236, 0.8290954447919479, 0.5595165702787319, -0.2492200532609157, -0.5187989277741315, -0.0470358973760038, -0.0470358973760038, -0.3840094905175236, -0.4514042091458276, -0.7209830836590434, 0.2899376957655161, 0.6943060075353399, 1.5704373497032913, 0.626911288907036, 0.8290954447919479, 1.0986743193051636, 0.424727133022124, -0.6535883650307395, 0.22254297713721208, 0.35733241439382, 0.492121851650428, -0.18182533463261175, 1.7052267869598992, 0.424727133022124, 0.492121851650428, 0.1551482585089081, 0.424727133022124, -0.11443061600430776, 2.716147566384459, 0.9638848820485557, 0.35733241439382, -0.2492200532609157, 2.716147566384459, 1.2334637565617714, 0.7617007261636438, 0.35733241439382, 3.9292525016939304, 1.6378320683315952, -0.9231672395439553, 1.3682531938183795, 0.020358821252300166, 1.8400162242165072, 0.492121851650428, 4.064041938950538, 1.3008584751900754, 1.0986743193051636, 0.5595165702787319, 0.424727133022124, 0.626911288907036, 1.5030426310749874, 1.5704373497032913, 5.748909904658137, 3.5922789085524105, -0.18182533463261175, 0.5595165702787319, 0.6943060075353399, 3.187910596782587, -0.18182533463261175, -1.3949302699420831, 0.5595165702787319, 0.2899376957655161, -0.11443061600430776, -0.18182533463261175, 1.0986743193051636, 0.08775353988060414, -0.5187989277741315, 0.424727133022124, -0.5861936464024355, -0.3840094905175236, -0.31661477188921966, -0.11443061600430776, -0.31661477188921966, 0.08775353988060414, 0.492121851650428, 1.0312796006768596, 1.7052267869598992, -0.31661477188921966, 3.1205158781542828, 1.0986743193051636, 0.35733241439382, 0.8290954447919479, -0.0470358973760038, -0.7883778022873474, -0.4514042091458276, -0.9905619581722593, -1.5971144258269951, -1.664509144455299, -0.11443061600430776, -0.5187989277741315, -1.1927461140571713, -0.8557725209156514, -0.6535883650307395, -1.1927461140571713, 0.626911288907036, -0.9231672395439553, 0.020358821252300166, -0.4514042091458276, 1.0312796006768596, -0.7883778022873474, 0.8964901634202518, -0.11443061600430776, -0.2492200532609157, -0.7883778022873474, -0.31661477188921966, -0.5187989277741315, -0.4514042091458276, -0.7209830836590434, -0.7209830836590434, 0.35733241439382, -0.3840094905175236, -0.5187989277741315, -0.4514042091458276, 2.513963410499547, 2.042200380101419, -0.0470358973760038, 0.8290954447919479, -0.5187989277741315, -1.1927461140571713, 0.020358821252300166, -0.11443061600430776, -1.3275355513137792, -2.001482737596819, -0.11443061600430776, 0.492121851650428, -1.3275355513137792, -0.0470358973760038, 0.424727133022124, 0.424727133022124, 0.7617007261636438, 1.5704373497032913, 1.0986743193051636, 1.5704373497032913, 0.22254297713721208, -1.2601408326854753, -1.664509144455299, -1.3275355513137792, -1.934088018968515, -1.1253513954288674, -1.3949302699420831, -0.4514042091458276, -2.001482737596819, 1.4356479124466834, -1.5971144258269951, -0.7883778022873474, -0.6535883650307395, 0.22254297713721208, -0.3840094905175236, -0.0470358973760038, -0.5187989277741315, -0.7209830836590434, -1.3949302699420831, -1.664509144455299, -1.1927461140571713, -0.11443061600430776, -0.7883778022873474, -1.5971144258269951, 0.492121851650428, -1.3275355513137792, -0.18182533463261175, -0.6535883650307395, -0.0470358973760038, -0.8557725209156514, -0.9905619581722593, -0.2492200532609157, 0.2899376957655161, 0.2899376957655161, -0.6535883650307395], \"xaxis\": \"x\", \"yaxis\": \"y\"}],                        {\"barmode\": \"relative\", \"legend\": {\"tracegroupgap\": 0}, \"margin\": {\"t\": 60}, \"template\": {\"data\": {\"bar\": [{\"error_x\": {\"color\": \"#2a3f5f\"}, \"error_y\": {\"color\": \"#2a3f5f\"}, \"marker\": {\"line\": {\"color\": \"#E5ECF6\", \"width\": 0.5}}, \"type\": \"bar\"}], \"barpolar\": [{\"marker\": {\"line\": {\"color\": \"#E5ECF6\", \"width\": 0.5}}, \"type\": \"barpolar\"}], \"carpet\": [{\"aaxis\": {\"endlinecolor\": \"#2a3f5f\", \"gridcolor\": \"white\", \"linecolor\": \"white\", \"minorgridcolor\": \"white\", \"startlinecolor\": \"#2a3f5f\"}, \"baxis\": {\"endlinecolor\": \"#2a3f5f\", \"gridcolor\": \"white\", \"linecolor\": \"white\", \"minorgridcolor\": \"white\", \"startlinecolor\": \"#2a3f5f\"}, \"type\": \"carpet\"}], \"choropleth\": [{\"colorbar\": {\"outlinewidth\": 0, \"ticks\": \"\"}, \"type\": \"choropleth\"}], \"contour\": [{\"colorbar\": {\"outlinewidth\": 0, \"ticks\": \"\"}, \"colorscale\": [[0.0, \"#0d0887\"], [0.1111111111111111, \"#46039f\"], [0.2222222222222222, \"#7201a8\"], [0.3333333333333333, \"#9c179e\"], [0.4444444444444444, \"#bd3786\"], [0.5555555555555556, \"#d8576b\"], [0.6666666666666666, \"#ed7953\"], [0.7777777777777778, \"#fb9f3a\"], [0.8888888888888888, \"#fdca26\"], [1.0, \"#f0f921\"]], \"type\": \"contour\"}], \"contourcarpet\": [{\"colorbar\": {\"outlinewidth\": 0, \"ticks\": \"\"}, \"type\": \"contourcarpet\"}], \"heatmap\": [{\"colorbar\": {\"outlinewidth\": 0, \"ticks\": \"\"}, \"colorscale\": [[0.0, \"#0d0887\"], [0.1111111111111111, \"#46039f\"], [0.2222222222222222, \"#7201a8\"], [0.3333333333333333, \"#9c179e\"], [0.4444444444444444, \"#bd3786\"], [0.5555555555555556, \"#d8576b\"], [0.6666666666666666, \"#ed7953\"], [0.7777777777777778, \"#fb9f3a\"], [0.8888888888888888, \"#fdca26\"], [1.0, \"#f0f921\"]], \"type\": \"heatmap\"}], \"heatmapgl\": [{\"colorbar\": {\"outlinewidth\": 0, \"ticks\": \"\"}, \"colorscale\": [[0.0, \"#0d0887\"], [0.1111111111111111, \"#46039f\"], [0.2222222222222222, \"#7201a8\"], [0.3333333333333333, \"#9c179e\"], [0.4444444444444444, \"#bd3786\"], [0.5555555555555556, \"#d8576b\"], [0.6666666666666666, \"#ed7953\"], [0.7777777777777778, \"#fb9f3a\"], [0.8888888888888888, \"#fdca26\"], [1.0, \"#f0f921\"]], \"type\": \"heatmapgl\"}], \"histogram\": [{\"marker\": {\"colorbar\": {\"outlinewidth\": 0, \"ticks\": \"\"}}, \"type\": \"histogram\"}], \"histogram2d\": [{\"colorbar\": {\"outlinewidth\": 0, \"ticks\": \"\"}, \"colorscale\": [[0.0, \"#0d0887\"], [0.1111111111111111, \"#46039f\"], [0.2222222222222222, \"#7201a8\"], [0.3333333333333333, \"#9c179e\"], [0.4444444444444444, \"#bd3786\"], [0.5555555555555556, \"#d8576b\"], [0.6666666666666666, \"#ed7953\"], [0.7777777777777778, \"#fb9f3a\"], [0.8888888888888888, \"#fdca26\"], [1.0, \"#f0f921\"]], \"type\": \"histogram2d\"}], \"histogram2dcontour\": [{\"colorbar\": {\"outlinewidth\": 0, \"ticks\": \"\"}, \"colorscale\": [[0.0, \"#0d0887\"], [0.1111111111111111, \"#46039f\"], [0.2222222222222222, \"#7201a8\"], [0.3333333333333333, \"#9c179e\"], [0.4444444444444444, \"#bd3786\"], [0.5555555555555556, \"#d8576b\"], [0.6666666666666666, \"#ed7953\"], [0.7777777777777778, \"#fb9f3a\"], [0.8888888888888888, \"#fdca26\"], [1.0, \"#f0f921\"]], \"type\": \"histogram2dcontour\"}], \"mesh3d\": [{\"colorbar\": {\"outlinewidth\": 0, \"ticks\": \"\"}, \"type\": \"mesh3d\"}], \"parcoords\": [{\"line\": {\"colorbar\": {\"outlinewidth\": 0, \"ticks\": \"\"}}, \"type\": \"parcoords\"}], \"pie\": [{\"automargin\": true, \"type\": \"pie\"}], \"scatter\": [{\"marker\": {\"colorbar\": {\"outlinewidth\": 0, \"ticks\": \"\"}}, \"type\": \"scatter\"}], \"scatter3d\": [{\"line\": {\"colorbar\": {\"outlinewidth\": 0, \"ticks\": \"\"}}, \"marker\": {\"colorbar\": {\"outlinewidth\": 0, \"ticks\": \"\"}}, \"type\": \"scatter3d\"}], \"scattercarpet\": [{\"marker\": {\"colorbar\": {\"outlinewidth\": 0, \"ticks\": \"\"}}, \"type\": \"scattercarpet\"}], \"scattergeo\": [{\"marker\": {\"colorbar\": {\"outlinewidth\": 0, \"ticks\": \"\"}}, \"type\": \"scattergeo\"}], \"scattergl\": [{\"marker\": {\"colorbar\": {\"outlinewidth\": 0, \"ticks\": \"\"}}, \"type\": \"scattergl\"}], \"scattermapbox\": [{\"marker\": {\"colorbar\": {\"outlinewidth\": 0, \"ticks\": \"\"}}, \"type\": \"scattermapbox\"}], \"scatterpolar\": [{\"marker\": {\"colorbar\": {\"outlinewidth\": 0, \"ticks\": \"\"}}, \"type\": \"scatterpolar\"}], \"scatterpolargl\": [{\"marker\": {\"colorbar\": {\"outlinewidth\": 0, \"ticks\": \"\"}}, \"type\": \"scatterpolargl\"}], \"scatterternary\": [{\"marker\": {\"colorbar\": {\"outlinewidth\": 0, \"ticks\": \"\"}}, \"type\": \"scatterternary\"}], \"surface\": [{\"colorbar\": {\"outlinewidth\": 0, \"ticks\": \"\"}, \"colorscale\": [[0.0, \"#0d0887\"], [0.1111111111111111, \"#46039f\"], [0.2222222222222222, \"#7201a8\"], [0.3333333333333333, \"#9c179e\"], [0.4444444444444444, \"#bd3786\"], [0.5555555555555556, \"#d8576b\"], [0.6666666666666666, \"#ed7953\"], [0.7777777777777778, \"#fb9f3a\"], [0.8888888888888888, \"#fdca26\"], [1.0, \"#f0f921\"]], \"type\": \"surface\"}], \"table\": [{\"cells\": {\"fill\": {\"color\": \"#EBF0F8\"}, \"line\": {\"color\": \"white\"}}, \"header\": {\"fill\": {\"color\": \"#C8D4E3\"}, \"line\": {\"color\": \"white\"}}, \"type\": \"table\"}]}, \"layout\": {\"annotationdefaults\": {\"arrowcolor\": \"#2a3f5f\", \"arrowhead\": 0, \"arrowwidth\": 1}, \"autotypenumbers\": \"strict\", \"coloraxis\": {\"colorbar\": {\"outlinewidth\": 0, \"ticks\": \"\"}}, \"colorscale\": {\"diverging\": [[0, \"#8e0152\"], [0.1, \"#c51b7d\"], [0.2, \"#de77ae\"], [0.3, \"#f1b6da\"], [0.4, \"#fde0ef\"], [0.5, \"#f7f7f7\"], [0.6, \"#e6f5d0\"], [0.7, \"#b8e186\"], [0.8, \"#7fbc41\"], [0.9, \"#4d9221\"], [1, \"#276419\"]], \"sequential\": [[0.0, \"#0d0887\"], [0.1111111111111111, \"#46039f\"], [0.2222222222222222, \"#7201a8\"], [0.3333333333333333, \"#9c179e\"], [0.4444444444444444, \"#bd3786\"], [0.5555555555555556, \"#d8576b\"], [0.6666666666666666, \"#ed7953\"], [0.7777777777777778, \"#fb9f3a\"], [0.8888888888888888, \"#fdca26\"], [1.0, \"#f0f921\"]], \"sequentialminus\": [[0.0, \"#0d0887\"], [0.1111111111111111, \"#46039f\"], [0.2222222222222222, \"#7201a8\"], [0.3333333333333333, \"#9c179e\"], [0.4444444444444444, \"#bd3786\"], [0.5555555555555556, \"#d8576b\"], [0.6666666666666666, \"#ed7953\"], [0.7777777777777778, \"#fb9f3a\"], [0.8888888888888888, \"#fdca26\"], [1.0, \"#f0f921\"]]}, \"colorway\": [\"#636efa\", \"#EF553B\", \"#00cc96\", \"#ab63fa\", \"#FFA15A\", \"#19d3f3\", \"#FF6692\", \"#B6E880\", \"#FF97FF\", \"#FECB52\"], \"font\": {\"color\": \"#2a3f5f\"}, \"geo\": {\"bgcolor\": \"white\", \"lakecolor\": \"white\", \"landcolor\": \"#E5ECF6\", \"showlakes\": true, \"showland\": true, \"subunitcolor\": \"white\"}, \"hoverlabel\": {\"align\": \"left\"}, \"hovermode\": \"closest\", \"mapbox\": {\"style\": \"light\"}, \"paper_bgcolor\": \"white\", \"plot_bgcolor\": \"#E5ECF6\", \"polar\": {\"angularaxis\": {\"gridcolor\": \"white\", \"linecolor\": \"white\", \"ticks\": \"\"}, \"bgcolor\": \"#E5ECF6\", \"radialaxis\": {\"gridcolor\": \"white\", \"linecolor\": \"white\", \"ticks\": \"\"}}, \"scene\": {\"xaxis\": {\"backgroundcolor\": \"#E5ECF6\", \"gridcolor\": \"white\", \"gridwidth\": 2, \"linecolor\": \"white\", \"showbackground\": true, \"ticks\": \"\", \"zerolinecolor\": \"white\"}, \"yaxis\": {\"backgroundcolor\": \"#E5ECF6\", \"gridcolor\": \"white\", \"gridwidth\": 2, \"linecolor\": \"white\", \"showbackground\": true, \"ticks\": \"\", \"zerolinecolor\": \"white\"}, \"zaxis\": {\"backgroundcolor\": \"#E5ECF6\", \"gridcolor\": \"white\", \"gridwidth\": 2, \"linecolor\": \"white\", \"showbackground\": true, \"ticks\": \"\", \"zerolinecolor\": \"white\"}}, \"shapedefaults\": {\"line\": {\"color\": \"#2a3f5f\"}}, \"ternary\": {\"aaxis\": {\"gridcolor\": \"white\", \"linecolor\": \"white\", \"ticks\": \"\"}, \"baxis\": {\"gridcolor\": \"white\", \"linecolor\": \"white\", \"ticks\": \"\"}, \"bgcolor\": \"#E5ECF6\", \"caxis\": {\"gridcolor\": \"white\", \"linecolor\": \"white\", \"ticks\": \"\"}}, \"title\": {\"x\": 0.05}, \"xaxis\": {\"automargin\": true, \"gridcolor\": \"white\", \"linecolor\": \"white\", \"ticks\": \"\", \"title\": {\"standoff\": 15}, \"zerolinecolor\": \"white\", \"zerolinewidth\": 2}, \"yaxis\": {\"automargin\": true, \"gridcolor\": \"white\", \"linecolor\": \"white\", \"ticks\": \"\", \"title\": {\"standoff\": 15}, \"zerolinecolor\": \"white\", \"zerolinewidth\": 2}}}, \"xaxis\": {\"anchor\": \"y\", \"domain\": [0.0, 1.0], \"title\": {\"text\": \"Delay\"}}, \"yaxis\": {\"anchor\": \"x\", \"domain\": [0.0, 1.0], \"title\": {\"text\": \"count\"}}},                        {\"responsive\": true}                    ).then(function(){\n",
       "                            \n",
       "var gd = document.getElementById('56e3ca7b-4493-42b3-9307-853ab25a98b5');\n",
       "var x = new MutationObserver(function (mutations, observer) {{\n",
       "        var display = window.getComputedStyle(gd).display;\n",
       "        if (!display || display === 'none') {{\n",
       "            console.log([gd, 'removed!']);\n",
       "            Plotly.purge(gd);\n",
       "            observer.disconnect();\n",
       "        }}\n",
       "}});\n",
       "\n",
       "// Listen for the removal of the full notebook cells\n",
       "var notebookContainer = gd.closest('#notebook-container');\n",
       "if (notebookContainer) {{\n",
       "    x.observe(notebookContainer, {childList: true});\n",
       "}}\n",
       "\n",
       "// Listen for the clearing of the current output cell\n",
       "var outputEl = gd.closest('.output');\n",
       "if (outputEl) {{\n",
       "    x.observe(outputEl, {childList: true});\n",
       "}}\n",
       "\n",
       "                        })                };                });            </script>        </div>"
      ]
     },
     "metadata": {},
     "output_type": "display_data"
    }
   ],
   "source": [
    "fig = px.histogram(scaled_features_df, x='Delay')\n",
    "fig.show()"
   ]
  },
  {
   "cell_type": "code",
   "execution_count": 73,
   "id": "dba1e46f",
   "metadata": {},
   "outputs": [],
   "source": [
    "scaled_features_df.to_csv('abe_atl_eda_2018.csv', index=False)"
   ]
  },
  {
   "cell_type": "code",
   "execution_count": null,
   "id": "08f1210f",
   "metadata": {},
   "outputs": [],
   "source": []
  }
 ],
 "metadata": {
  "kernelspec": {
   "display_name": "Python 3 (ipykernel)",
   "language": "python",
   "name": "python3"
  },
  "language_info": {
   "codemirror_mode": {
    "name": "ipython",
    "version": 3
   },
   "file_extension": ".py",
   "mimetype": "text/x-python",
   "name": "python",
   "nbconvert_exporter": "python",
   "pygments_lexer": "ipython3",
   "version": "3.7.4"
  }
 },
 "nbformat": 4,
 "nbformat_minor": 5
}
