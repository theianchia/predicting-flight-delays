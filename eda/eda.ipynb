{
 "cells": [
  {
   "cell_type": "code",
   "execution_count": null,
   "id": "b99e98ad",
   "metadata": {},
   "outputs": [],
   "source": [
    "import pandas as pd\n",
    "import numpy as np\n",
    "import plotly.express as px\n",
    "import plotly.graph_objects as go\n",
    "\n",
    "from sklearn.preprocessing import StandardScaler\n",
    "\n",
    "from sklearn.decomposition import PCA"
   ]
  },
  {
   "cell_type": "code",
   "execution_count": null,
   "id": "a8354a3f",
   "metadata": {},
   "outputs": [],
   "source": [
    "# !pip3 install --upgrade plotly"
   ]
  },
  {
   "cell_type": "code",
   "execution_count": null,
   "id": "c446dcda",
   "metadata": {},
   "outputs": [],
   "source": []
  },
  {
   "cell_type": "code",
   "execution_count": null,
   "id": "d3959991",
   "metadata": {},
   "outputs": [],
   "source": []
  },
  {
   "cell_type": "code",
   "execution_count": null,
   "id": "b2e1d494",
   "metadata": {},
   "outputs": [],
   "source": []
  },
  {
   "cell_type": "code",
   "execution_count": null,
   "id": "d29fa680",
   "metadata": {},
   "outputs": [],
   "source": []
  },
  {
   "cell_type": "code",
   "execution_count": null,
   "id": "172caf52",
   "metadata": {},
   "outputs": [],
   "source": []
  },
  {
   "cell_type": "markdown",
   "id": "237c48a6",
   "metadata": {},
   "source": [
    "# Post-merge EDA"
   ]
  },
  {
   "cell_type": "code",
   "execution_count": null,
   "id": "003046b4",
   "metadata": {},
   "outputs": [],
   "source": [
    "df = pd.read_csv(\"../scripts/eda_2018.csv\")\n",
    "df.head()"
   ]
  },
  {
   "cell_type": "code",
   "execution_count": null,
   "id": "4fa656ad",
   "metadata": {},
   "outputs": [],
   "source": [
    "print(df.shape)\n",
    "df.isnull().sum()"
   ]
  },
  {
   "cell_type": "code",
   "execution_count": null,
   "id": "d882e1be",
   "metadata": {},
   "outputs": [],
   "source": [
    "df.dropna(inplace=True)\n",
    "print(df.shape)\n",
    "df.head()"
   ]
  },
  {
   "cell_type": "markdown",
   "id": "86166649",
   "metadata": {},
   "source": [
    "## Creating Outcome Column"
   ]
  },
  {
   "cell_type": "code",
   "execution_count": null,
   "id": "bd7cc9cf",
   "metadata": {},
   "outputs": [],
   "source": [
    "departure_delay_df = df['Departure Delay'].reset_index()\n",
    "departure_delay_df.drop('index', axis=1, inplace=True)\n",
    "departure_delay_df.head()"
   ]
  },
  {
   "cell_type": "code",
   "execution_count": null,
   "id": "da96a8cd",
   "metadata": {},
   "outputs": [],
   "source": [
    "flight_delay_df = df['Flight Delay'].reset_index()\n",
    "flight_delay_df.drop('index', axis=1, inplace=True)\n",
    "flight_delay_df.head()"
   ]
  },
  {
   "cell_type": "code",
   "execution_count": null,
   "id": "2214a61f",
   "metadata": {},
   "outputs": [],
   "source": [
    "print(departure_delay_df.min())\n",
    "print(departure_delay_df.max())\n",
    "print(departure_delay_df.mean())\n",
    "print(departure_delay_df.std())"
   ]
  },
  {
   "cell_type": "code",
   "execution_count": null,
   "id": "46b9ec08",
   "metadata": {},
   "outputs": [],
   "source": [
    "print(flight_delay_df.min())\n",
    "print(flight_delay_df.max())\n",
    "print(flight_delay_df.mean())\n",
    "print(flight_delay_df.std())"
   ]
  },
  {
   "cell_type": "code",
   "execution_count": null,
   "id": "a4e401f4",
   "metadata": {},
   "outputs": [],
   "source": [
    "fig = px.histogram(departure_delay_df, x='Departure Delay')\n",
    "fig.update_layout(\n",
    "    autosize=True\n",
    ")\n",
    "fig.show()"
   ]
  },
  {
   "cell_type": "code",
   "execution_count": null,
   "id": "528563eb",
   "metadata": {},
   "outputs": [],
   "source": [
    "fig = px.histogram(flight_delay_df, x='Flight Delay')\n",
    "fig.update_layout(\n",
    "    autosize=True\n",
    ")\n",
    "fig.show()"
   ]
  },
  {
   "cell_type": "code",
   "execution_count": null,
   "id": "5370d186",
   "metadata": {},
   "outputs": [],
   "source": []
  },
  {
   "cell_type": "code",
   "execution_count": null,
   "id": "0635e8b7",
   "metadata": {},
   "outputs": [],
   "source": []
  },
  {
   "cell_type": "code",
   "execution_count": null,
   "id": "9f3d0328",
   "metadata": {},
   "outputs": [],
   "source": []
  },
  {
   "cell_type": "markdown",
   "id": "4eb92e07",
   "metadata": {},
   "source": [
    "## Feature Selection & Engineering"
   ]
  },
  {
   "cell_type": "code",
   "execution_count": null,
   "id": "4f89cfba",
   "metadata": {},
   "outputs": [],
   "source": [
    "AIRLINE_COLS = [\n",
    "    'Alaska Airlines', 'Allegiant Air', 'American Airlines', 'Delta Airlines', 'Endeavor Air',\n",
    "    'Envoy Air', 'ExpressJet', 'Frontier Airlines', 'Hawaiian Airlines', 'JetBlue Airways',\n",
    "    'Mesa Airline', 'PSA Airlines', 'Republic Airways','SkyWest Airlines', 'Southwest Airlines',\n",
    "    'Spirit Airlines', 'United Airlines', 'Virgin America'\n",
    "]\n",
    "\n",
    "FEATURES_COLS = [\n",
    "    'Origin Total Operations',\n",
    "    'Origin Precipitation', 'Origin Rain', 'Origin Snowfall', \n",
    "    'Origin Windspeed', 'Origin Windgusts', 'Origin Evapotranspiration',\n",
    "    'Origin Shortwave Radiation',\n",
    "]\n",
    "\n",
    "airline_type_df = df[AIRLINE_COLS].reset_index()\n",
    "airline_type_df.drop('index', axis=1, inplace=True)\n",
    "features_df = df[FEATURES_COLS].reset_index()\n",
    "features_df.drop('index', axis=1, inplace=True)\n",
    "\n",
    "airline_type_df.head()"
   ]
  },
  {
   "cell_type": "code",
   "execution_count": null,
   "id": "4f956906",
   "metadata": {},
   "outputs": [],
   "source": [
    "num_airline_flights = list(airline_type_df.sum())\n",
    "num_airline_flights\n",
    "\n",
    "fig = go.Figure()\n",
    "fig.add_trace(go.Bar(x=AIRLINE_COLS, y=num_airline_flights, name='Airlines'))\n",
    "\n",
    "fig.update_layout(\n",
    "    title='No. of Flights by Airline in 2018',\n",
    "    xaxis_title='Category',\n",
    "    yaxis_title='Count',\n",
    ")\n",
    "fig.show()"
   ]
  },
  {
   "cell_type": "code",
   "execution_count": null,
   "id": "dba1e46f",
   "metadata": {},
   "outputs": [],
   "source": []
  },
  {
   "cell_type": "code",
   "execution_count": null,
   "id": "d7527156",
   "metadata": {},
   "outputs": [],
   "source": []
  },
  {
   "cell_type": "code",
   "execution_count": null,
   "id": "173bd8d1",
   "metadata": {},
   "outputs": [],
   "source": []
  },
  {
   "cell_type": "code",
   "execution_count": null,
   "id": "08f1210f",
   "metadata": {},
   "outputs": [],
   "source": []
  },
  {
   "cell_type": "code",
   "execution_count": null,
   "id": "fd020f9b",
   "metadata": {},
   "outputs": [],
   "source": [
    "scaler = StandardScaler()\n",
    "scaled_features_np = scaler.fit_transform(features_df)\n",
    "scaled_features_df = pd.DataFrame(scaled_features_np , columns=FEATURES_COLS)\n",
    "\n",
    "scaled_features_df['Departure Delay'] = departure_delay_df['Departure Delay']\n",
    "scaled_features_df['Flight Delay'] = flight_delay_df['Flight Delay']\n",
    "\n",
    "print(scaled_features_df.shape)\n",
    "scaled_features_df.head()"
   ]
  },
  {
   "cell_type": "code",
   "execution_count": null,
   "id": "a49f3e57",
   "metadata": {},
   "outputs": [],
   "source": [
    "threshold = 3\n",
    "col = 'Departure Delay'\n",
    "\n",
    "z_scores = np.abs((scaled_features_df[col] - scaled_features_df[col].mean()) / scaled_features_df[col].std())\n",
    "scaled_df = scaled_features_df.loc[z_scores < threshold]\n",
    "print(scaled_df.shape)\n",
    "scaled_df.head()"
   ]
  },
  {
   "cell_type": "code",
   "execution_count": null,
   "id": "940f4bab",
   "metadata": {},
   "outputs": [],
   "source": [
    "threshold = 3\n",
    "col = 'Flight Delay'\n",
    "\n",
    "z_scores = np.abs((scaled_df[col] - scaled_df[col].mean()) / scaled_df[col].std())\n",
    "scaled_df = scaled_df.loc[z_scores < threshold]\n",
    "print(scaled_df.shape)\n",
    "scaled_df.head()"
   ]
  },
  {
   "cell_type": "code",
   "execution_count": null,
   "id": "0af2632e",
   "metadata": {},
   "outputs": [],
   "source": [
    "print(scaled_df[\"Departure Delay\"].max())\n",
    "print(scaled_df[\"Departure Delay\"].min())\n",
    "print(scaled_df[\"Departure Delay\"].mean())\n",
    "print(scaled_df[\"Departure Delay\"].std())\n",
    "\n",
    "print(scaled_df[\"Flight Delay\"].max())\n",
    "print(scaled_df[\"Flight Delay\"].min())\n",
    "print(scaled_df[\"Flight Delay\"].mean())\n",
    "print(scaled_df[\"Flight Delay\"].std())"
   ]
  },
  {
   "cell_type": "code",
   "execution_count": null,
   "id": "364d57c0",
   "metadata": {},
   "outputs": [],
   "source": [
    "def classify_dep_delay(row):\n",
    "    if row <= -120:\n",
    "        return 1\n",
    "    elif row <= -60:\n",
    "        return 2\n",
    "    elif row <= -30:\n",
    "        return 3\n",
    "    elif row <= -15:\n",
    "        return 4\n",
    "    elif row <= 0:\n",
    "        return 5\n",
    "    elif row <= 15:\n",
    "        return 6\n",
    "    elif row <= 30:\n",
    "        return 7\n",
    "    elif row <= 60:\n",
    "        return 8\n",
    "    elif row <= 120:\n",
    "        return 9\n",
    "    else:\n",
    "        return 10\n",
    "    \n",
    "def classify_fl_delay(row):\n",
    "    if row <= -30:\n",
    "        return 1\n",
    "    elif row <= -15:\n",
    "        return 2\n",
    "    elif row <= 0:\n",
    "        return 3\n",
    "    elif row <= 15:\n",
    "        return 4\n",
    "    else:\n",
    "        return 5\n",
    "    \n",
    "scaled_df[\"Classified Departure Delay\"] = scaled_df[\"Departure Delay\"].apply(classify_dep_delay)\n",
    "scaled_df[\"Classified Flight Delay\"] = scaled_df[\"Flight Delay\"].apply(classify_fl_delay)\n",
    "\n",
    "scaled_df.head()"
   ]
  },
  {
   "cell_type": "code",
   "execution_count": null,
   "id": "4d9bca8f",
   "metadata": {},
   "outputs": [],
   "source": []
  },
  {
   "cell_type": "code",
   "execution_count": null,
   "id": "5ccff880",
   "metadata": {},
   "outputs": [],
   "source": []
  },
  {
   "cell_type": "code",
   "execution_count": null,
   "id": "124cf232",
   "metadata": {},
   "outputs": [],
   "source": []
  },
  {
   "cell_type": "code",
   "execution_count": null,
   "id": "00ef21ea",
   "metadata": {},
   "outputs": [],
   "source": []
  },
  {
   "cell_type": "code",
   "execution_count": null,
   "id": "cc932fe8",
   "metadata": {},
   "outputs": [],
   "source": []
  },
  {
   "cell_type": "code",
   "execution_count": null,
   "id": "4abdabd8",
   "metadata": {},
   "outputs": [],
   "source": [
    "scaled_df.to_csv(f\"model_2018.csv\", index=False)"
   ]
  },
  {
   "cell_type": "code",
   "execution_count": null,
   "id": "2fee8e5e",
   "metadata": {},
   "outputs": [],
   "source": []
  }
 ],
 "metadata": {
  "kernelspec": {
   "display_name": "Python 3 (ipykernel)",
   "language": "python",
   "name": "python3"
  },
  "language_info": {
   "codemirror_mode": {
    "name": "ipython",
    "version": 3
   },
   "file_extension": ".py",
   "mimetype": "text/x-python",
   "name": "python",
   "nbconvert_exporter": "python",
   "pygments_lexer": "ipython3",
   "version": "3.7.4"
  }
 },
 "nbformat": 4,
 "nbformat_minor": 5
}
