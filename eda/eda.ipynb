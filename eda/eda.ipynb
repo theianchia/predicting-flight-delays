{
 "cells": [
  {
   "cell_type": "code",
   "execution_count": null,
   "id": "b99e98ad",
   "metadata": {},
   "outputs": [],
   "source": [
    "import pandas as pd\n",
    "import numpy as np\n",
    "import seaborn as sns\n",
    "import plotly.express as px\n",
    "import plotly.graph_objects as go\n",
    "from plotly.subplots import make_subplots\n",
    "from sklearn.feature_selection import VarianceThreshold\n",
    "from datetime import datetime, timedelta\n",
    "\n",
    "from sklearn.preprocessing import StandardScaler\n",
    "\n",
    "from sklearn.decomposition import PCA\n",
    "\n",
    "from sklearn.cluster import KMeans"
   ]
  },
  {
   "cell_type": "code",
   "execution_count": null,
   "id": "a8354a3f",
   "metadata": {},
   "outputs": [],
   "source": [
    "# !pip3 install --upgrade plotly"
   ]
  },
  {
   "cell_type": "code",
   "execution_count": null,
   "id": "c446dcda",
   "metadata": {},
   "outputs": [],
   "source": [
    "# df_length = len(df)\n",
    "\n",
    "# df1 = df.iloc[:df_length//2]\n",
    "# df2 = df.iloc[df_length//2:]\n",
    "\n",
    "# df1.to_csv('eda_2018_part1.csv', index=False)\n",
    "# df2.to_csv('eda_2018_part2.csv', index=False)"
   ]
  },
  {
   "cell_type": "code",
   "execution_count": null,
   "id": "d3959991",
   "metadata": {},
   "outputs": [],
   "source": []
  },
  {
   "cell_type": "code",
   "execution_count": null,
   "id": "b2e1d494",
   "metadata": {},
   "outputs": [],
   "source": []
  },
  {
   "cell_type": "code",
   "execution_count": null,
   "id": "15210059",
   "metadata": {},
   "outputs": [],
   "source": []
  },
  {
   "cell_type": "code",
   "execution_count": null,
   "id": "e5dcb787",
   "metadata": {},
   "outputs": [],
   "source": []
  },
  {
   "cell_type": "code",
   "execution_count": null,
   "id": "9e7195f0",
   "metadata": {},
   "outputs": [],
   "source": []
  },
  {
   "cell_type": "code",
   "execution_count": null,
   "id": "de6aee5a",
   "metadata": {},
   "outputs": [],
   "source": []
  },
  {
   "cell_type": "code",
   "execution_count": null,
   "id": "41ed9619",
   "metadata": {},
   "outputs": [],
   "source": []
  },
  {
   "cell_type": "code",
   "execution_count": null,
   "id": "ed33885c",
   "metadata": {},
   "outputs": [],
   "source": []
  },
  {
   "cell_type": "code",
   "execution_count": null,
   "id": "16ff22e6",
   "metadata": {},
   "outputs": [],
   "source": []
  },
  {
   "cell_type": "code",
   "execution_count": null,
   "id": "39f4bd13",
   "metadata": {},
   "outputs": [],
   "source": []
  },
  {
   "cell_type": "code",
   "execution_count": null,
   "id": "d29fa680",
   "metadata": {},
   "outputs": [],
   "source": []
  },
  {
   "cell_type": "code",
   "execution_count": null,
   "id": "172caf52",
   "metadata": {},
   "outputs": [],
   "source": []
  },
  {
   "cell_type": "markdown",
   "id": "237c48a6",
   "metadata": {},
   "source": [
    "# Post-merge EDA"
   ]
  },
  {
   "cell_type": "code",
   "execution_count": null,
   "id": "003046b4",
   "metadata": {},
   "outputs": [],
   "source": [
    "df = pd.read_csv(\"eda_2018.csv\")\n",
    "print(df.shape)\n",
    "df.head()"
   ]
  },
  {
   "cell_type": "code",
   "execution_count": null,
   "id": "6de95d6c",
   "metadata": {},
   "outputs": [],
   "source": [
    "df.columns"
   ]
  },
  {
   "cell_type": "code",
   "execution_count": null,
   "id": "4fa656ad",
   "metadata": {},
   "outputs": [],
   "source": [
    "df.isnull().sum()"
   ]
  },
  {
   "cell_type": "code",
   "execution_count": null,
   "id": "d882e1be",
   "metadata": {},
   "outputs": [],
   "source": [
    "df.fillna('', inplace=True)\n",
    "print(df.shape)\n",
    "df.head()"
   ]
  },
  {
   "cell_type": "code",
   "execution_count": null,
   "id": "46597dac",
   "metadata": {},
   "outputs": [],
   "source": []
  },
  {
   "cell_type": "code",
   "execution_count": null,
   "id": "560de694",
   "metadata": {},
   "outputs": [],
   "source": []
  },
  {
   "cell_type": "code",
   "execution_count": null,
   "id": "3bb46415",
   "metadata": {},
   "outputs": [],
   "source": []
  },
  {
   "cell_type": "code",
   "execution_count": null,
   "id": "a44273b5",
   "metadata": {},
   "outputs": [],
   "source": []
  },
  {
   "cell_type": "code",
   "execution_count": null,
   "id": "c7cea12e",
   "metadata": {},
   "outputs": [],
   "source": []
  },
  {
   "cell_type": "code",
   "execution_count": null,
   "id": "95cfd19a",
   "metadata": {},
   "outputs": [],
   "source": []
  },
  {
   "cell_type": "markdown",
   "id": "86166649",
   "metadata": {},
   "source": [
    "## Creating Outcome Column"
   ]
  },
  {
   "cell_type": "code",
   "execution_count": null,
   "id": "5a079bc1",
   "metadata": {},
   "outputs": [],
   "source": [
    "df['Departure Delay'] = df['Departure Delay'] - df['Security Delay']"
   ]
  },
  {
   "cell_type": "code",
   "execution_count": null,
   "id": "bd7cc9cf",
   "metadata": {},
   "outputs": [],
   "source": [
    "col = 'Departure Delay'"
   ]
  },
  {
   "cell_type": "code",
   "execution_count": null,
   "id": "da96a8cd",
   "metadata": {},
   "outputs": [],
   "source": [
    "print(df[col].max())\n",
    "print(df[col].mean())\n",
    "print(df[col].median())\n",
    "print(df[col].min())"
   ]
  },
  {
   "cell_type": "code",
   "execution_count": null,
   "id": "2214a61f",
   "metadata": {},
   "outputs": [],
   "source": [
    "threshold = 3\n",
    "\n",
    "z_scores = np.abs((df[col] - df[col].mean()) / df[col].std())\n",
    "df = df.loc[z_scores < threshold]\n",
    "df.shape"
   ]
  },
  {
   "cell_type": "code",
   "execution_count": null,
   "id": "46b9ec08",
   "metadata": {},
   "outputs": [],
   "source": [
    "print(df[col].max())\n",
    "print(df[col].mean())\n",
    "print(df[col].median())\n",
    "print(df[col].min())"
   ]
  },
  {
   "cell_type": "markdown",
   "id": "a2a9a0db",
   "metadata": {},
   "source": [
    "## Initial Correlation Matrix"
   ]
  },
  {
   "cell_type": "code",
   "execution_count": null,
   "id": "528563eb",
   "metadata": {},
   "outputs": [],
   "source": [
    "cor=new_df.corr()\n",
    "fig, ax = plt.subplots(figsize=(20,15))\n",
    "sns.heatmap(cor,xticklabels=cor.columns,yticklabels=cor.columns,annot=True,cmap=\"YlGnBu\", ax=ax)"
   ]
  },
  {
   "cell_type": "code",
   "execution_count": null,
   "id": "5370d186",
   "metadata": {},
   "outputs": [],
   "source": []
  },
  {
   "cell_type": "code",
   "execution_count": null,
   "id": "f268b03b",
   "metadata": {},
   "outputs": [],
   "source": []
  },
  {
   "cell_type": "code",
   "execution_count": null,
   "id": "91ebc5e3",
   "metadata": {},
   "outputs": [],
   "source": []
  },
  {
   "cell_type": "code",
   "execution_count": null,
   "id": "0635e8b7",
   "metadata": {},
   "outputs": [],
   "source": []
  },
  {
   "cell_type": "code",
   "execution_count": null,
   "id": "9f3d0328",
   "metadata": {},
   "outputs": [],
   "source": []
  },
  {
   "cell_type": "markdown",
   "id": "4eb92e07",
   "metadata": {},
   "source": [
    "## Feature Selection & Engineering"
   ]
  },
  {
   "cell_type": "code",
   "execution_count": null,
   "id": "ab5dc52b",
   "metadata": {},
   "outputs": [],
   "source": [
    "ALL_COLS = [\n",
    "    'Date', 'Carrier Code', 'Departure Time', 'Distance',\n",
    "    'Month', 'Airplane Age',\n",
    "    'Origin Total Operations',\n",
    "    'Origin Weather Code', 'Origin Temperature Max',\n",
    "    'Origin Temperature Min', 'Origin Temperature Mean',\n",
    "    'Origin Apparent Temperature Max', 'Origin Apparent Temperature Min',\n",
    "    'Origin Apparent Temperature Mean', 'Origin Sunrise', 'Origin Sunset',\n",
    "    'Origin Shortwave Radiation', 'Origin Precipitation', 'Origin Rain',\n",
    "    'Origin Snowfall', 'Origin Precipitation Hours', 'Origin Windspeed',\n",
    "    'Origin Windgusts', 'Origin Wind Direction', 'Origin Evapotranspiration', \n",
    "    'Holiday', 'Day of Holiday',\n",
    "    'Departure Delay'\n",
    "]\n",
    "\n",
    "WEATHER_FEATURES = [\n",
    "    'Date',\n",
    "    'Origin Weather Code', 'Origin Temperature Max',\n",
    "    'Origin Temperature Min', 'Origin Temperature Mean',\n",
    "    'Origin Apparent Temperature Max', 'Origin Apparent Temperature Min',\n",
    "    'Origin Apparent Temperature Mean', 'Origin Sunrise', 'Origin Sunset',\n",
    "    'Origin Shortwave Radiation', 'Origin Precipitation', 'Origin Rain',\n",
    "    'Origin Snowfall', 'Origin Precipitation Hours', 'Origin Windspeed',\n",
    "    'Origin Windgusts', 'Origin Wind Direction', 'Origin Evapotranspiration', \n",
    "]\n",
    "\n",
    "NON_WEATHER_FEATURES = [\n",
    "    'Date', 'Carrier Code', 'Departure Time', 'Distance',\n",
    "    'Month', 'Airplane Age',\n",
    "    'Origin Total Operations',\n",
    "    'Holiday', 'Day of Holiday',\n",
    "    'Departure Delay'\n",
    "]"
   ]
  },
  {
   "cell_type": "code",
   "execution_count": null,
   "id": "e2d44fec",
   "metadata": {},
   "outputs": [],
   "source": [
    "airline_type_df = df['Carrier Code']\n",
    "features_df = df[ALL_COLS]\n",
    "weather_df = df[WEATHER_FEATURES]\n",
    "non_weather_df = df[NON_WEATHER_FEATURES]"
   ]
  },
  {
   "cell_type": "markdown",
   "id": "9b06d61c",
   "metadata": {},
   "source": [
    "## Monthly Median Departure Delay for each Carrier"
   ]
  },
  {
   "cell_type": "code",
   "execution_count": null,
   "id": "4f89cfba",
   "metadata": {},
   "outputs": [],
   "source": [
    "airline_type_df = pd.concat([airline_type_df, df['Month'], df['Departure Delay']], axis=1)\n",
    "airline_type_df.head()"
   ]
  },
  {
   "cell_type": "code",
   "execution_count": null,
   "id": "9c8a9717",
   "metadata": {},
   "outputs": [],
   "source": [
    "monthly_median_carrier_dep_delay = airline_type_df.groupby(['Carrier Code', 'Month'])['Departure Delay'].median().reset_index()\n",
    "monthly_median_carrier_dep_delay.rename(columns={'Departure Delay': 'Monthly Median Departure Delay'}, inplace=True)\n",
    "monthly_median_carrier_dep_delay.head()\n"
   ]
  },
  {
   "cell_type": "code",
   "execution_count": null,
   "id": "37afbfe2",
   "metadata": {},
   "outputs": [],
   "source": [
    "monthly_median_carrier_dep_delay.isnull().sum()"
   ]
  },
  {
   "cell_type": "code",
   "execution_count": null,
   "id": "4f956906",
   "metadata": {},
   "outputs": [],
   "source": []
  },
  {
   "cell_type": "code",
   "execution_count": null,
   "id": "88c1cddc",
   "metadata": {},
   "outputs": [],
   "source": []
  },
  {
   "cell_type": "code",
   "execution_count": null,
   "id": "dba1e46f",
   "metadata": {},
   "outputs": [],
   "source": []
  },
  {
   "cell_type": "code",
   "execution_count": null,
   "id": "9db0b71d",
   "metadata": {},
   "outputs": [],
   "source": []
  },
  {
   "cell_type": "code",
   "execution_count": null,
   "id": "22779cd8",
   "metadata": {},
   "outputs": [],
   "source": []
  },
  {
   "cell_type": "code",
   "execution_count": null,
   "id": "73994f45",
   "metadata": {},
   "outputs": [],
   "source": []
  },
  {
   "cell_type": "code",
   "execution_count": null,
   "id": "f91fd409",
   "metadata": {},
   "outputs": [],
   "source": []
  },
  {
   "cell_type": "code",
   "execution_count": null,
   "id": "d7527156",
   "metadata": {},
   "outputs": [],
   "source": []
  },
  {
   "cell_type": "code",
   "execution_count": null,
   "id": "013b272d",
   "metadata": {},
   "outputs": [],
   "source": [
    "\n"
   ]
  },
  {
   "cell_type": "code",
   "execution_count": null,
   "id": "10b619a5",
   "metadata": {},
   "outputs": [],
   "source": []
  },
  {
   "cell_type": "code",
   "execution_count": null,
   "id": "9495a4c7",
   "metadata": {},
   "outputs": [],
   "source": []
  },
  {
   "cell_type": "code",
   "execution_count": null,
   "id": "e033701c",
   "metadata": {},
   "outputs": [],
   "source": []
  },
  {
   "cell_type": "markdown",
   "id": "b135beb7",
   "metadata": {},
   "source": [
    "## Weather EDA"
   ]
  },
  {
   "cell_type": "code",
   "execution_count": null,
   "id": "567ff31a",
   "metadata": {},
   "outputs": [],
   "source": [
    "weather_df['Origin Weather Code'].value_counts()"
   ]
  },
  {
   "cell_type": "code",
   "execution_count": null,
   "id": "4ec3d4c1",
   "metadata": {},
   "outputs": [],
   "source": [
    "def interpret_wmo(row):\n",
    "    if row in [53.0, 63.0, 73.0]:\n",
    "        return 1\n",
    "    elif row in [55.0, 65.0, 75.0]:\n",
    "        return 2\n",
    "    else:\n",
    "        return 0\n",
    "\n",
    "weather_df['Weather Code Intensity'] = weather_df['Origin Weather Code'].apply(interpret_wmo)\n",
    "weather_df.head()"
   ]
  },
  {
   "cell_type": "code",
   "execution_count": null,
   "id": "776306cc",
   "metadata": {},
   "outputs": [],
   "source": [
    "num_bins = 5\n",
    "\n",
    "bin_edges = pd.qcut(weather_df['Origin Precipitation Hours'], q=num_bins, labels=False, duplicates='drop')\n",
    "\n",
    "weather_df['Origin Precipitation Hours (Equal)'] = bin_edges\n",
    "weather_df['Origin Precipitation Hours (Equal)'].value_counts()"
   ]
  },
  {
   "cell_type": "code",
   "execution_count": null,
   "id": "0f292049",
   "metadata": {},
   "outputs": [],
   "source": [
    "weather_df.head()"
   ]
  },
  {
   "cell_type": "code",
   "execution_count": null,
   "id": "910ccb16",
   "metadata": {},
   "outputs": [],
   "source": []
  },
  {
   "cell_type": "code",
   "execution_count": null,
   "id": "173bd8d1",
   "metadata": {},
   "outputs": [],
   "source": [
    "weather_df['Origin Daylight'] = pd.to_datetime(weather_df['Origin Sunset']) - pd.to_datetime(weather_df['Origin Sunrise'])\n",
    "weather_df['Origin Daylight'] = weather_df['Origin Daylight'].apply(lambda x:x.total_seconds())\n",
    "\n",
    "num_bins = 4\n",
    "\n",
    "bin_edges = pd.qcut(weather_df['Origin Daylight'], q=num_bins, labels=False, duplicates='drop')\n",
    "\n",
    "weather_df['Origin Daylight (Equal)'] = bin_edges\n",
    "weather_df['Origin Daylight (Equal)'].value_counts()"
   ]
  },
  {
   "cell_type": "code",
   "execution_count": null,
   "id": "08f1210f",
   "metadata": {},
   "outputs": [],
   "source": [
    "weather_df.columns"
   ]
  },
  {
   "cell_type": "code",
   "execution_count": null,
   "id": "dd492bc9",
   "metadata": {},
   "outputs": [],
   "source": [
    "SELECTED_WEATHER_COLS = [\n",
    "    'Date', 'Origin Temperature Mean',\n",
    "    'Origin Shortwave Radiation', 'Origin Precipitation', 'Origin Rain', 'Origin Snowfall',\n",
    "    'Origin Windspeed', 'Origin Windgusts', 'Origin Wind Direction', 'Origin Evapotranspiration',\n",
    "]\n",
    "\n",
    "selected_weather_df = weather_df[SELECTED_WEATHER_COLS]\n"
   ]
  },
  {
   "cell_type": "code",
   "execution_count": null,
   "id": "1477e525",
   "metadata": {},
   "outputs": [],
   "source": []
  },
  {
   "cell_type": "code",
   "execution_count": null,
   "id": "533bae77",
   "metadata": {},
   "outputs": [],
   "source": [
    "selected_weather_df['Date'] = pd.to_datetime(selected_weather_df['Date'])\n",
    "\n",
    "selected_weather_df.set_index('Date', inplace=True)\n",
    "\n",
    "weekly_means = selected_weather_df.resample('W').mean()"
   ]
  },
  {
   "cell_type": "code",
   "execution_count": null,
   "id": "aaeb45f3",
   "metadata": {},
   "outputs": [],
   "source": [
    "RENAMED_WEEKLY_WEATHER_COLS = {\n",
    "    'Origin Temperature Mean': 'Origin Weekly Mean Temperature',\n",
    "    'Origin Shortwave Radiation':'Origin Weekly Mean Shortwave Radiation', \n",
    "    'Origin Precipitation': 'Origin Weekly Mean Precipitation', \n",
    "    'Origin Rain': 'Origin Weekly Mean Rain',\n",
    "    'Origin Snowfall': 'Origin Weekly Mean Snowfall', \n",
    "    'Origin Windspeed': 'Origin Weekly Mean Windspeed', \n",
    "    'Origin Windgusts': 'Origin Weekly Mean Windgusts', \n",
    "    'Origin Wind Direction': 'Origin Weekly Mean Wind Direction',\n",
    "    'Origin Evapotranspiration': 'Origin Weekly Mean Evapotranspiration', \n",
    "}\n",
    "\n",
    "\n",
    "weekly_df = weekly_means.rename(columns=RENAMED_WEEKLY_WEATHER_COLS)\n",
    "weekly_df.reset_index(inplace=True)\n",
    "weekly_df.head()"
   ]
  },
  {
   "cell_type": "code",
   "execution_count": null,
   "id": "67a77398",
   "metadata": {},
   "outputs": [],
   "source": [
    "count = 0\n",
    "daily_df = pd.DataFrame([])\n",
    "for week in weekly_df['Date']:\n",
    "    start_date = week + pd.DateOffset(days=-6)\n",
    "    end_date = week\n",
    "    \n",
    "    for date in pd.date_range(start_date, end_date, freq='D'):\n",
    "        row = weekly_df.loc[count:count]\n",
    "        row = row.assign(Day=str(date))\n",
    "        daily_df = pd.concat([daily_df, row])\n",
    "    count += 1\n",
    "\n",
    "daily_df.drop(['Date'], axis=1, inplace=True)\n",
    "daily_df['Day'] = pd.to_datetime(daily_df['Day'])\n",
    "daily_df.rename(columns={'Day':'Date'}, inplace=True)\n",
    "daily_df.reset_index(inplace=True, drop=True)\n",
    "print(daily_df.shape)\n",
    "daily_df.head()"
   ]
  },
  {
   "cell_type": "code",
   "execution_count": null,
   "id": "8d31c176",
   "metadata": {},
   "outputs": [],
   "source": [
    "weather_df['Date'] = pd.to_datetime(weather_df['Date'])\n",
    "\n",
    "final_weather_df = weather_df.merge(daily_df, on='Date', how='left')\n",
    "print(final_weather_df.shape)\n",
    "final_weather_df.head()"
   ]
  },
  {
   "cell_type": "code",
   "execution_count": null,
   "id": "2617cbd4",
   "metadata": {},
   "outputs": [],
   "source": [
    "final_weather_df.shape"
   ]
  },
  {
   "cell_type": "code",
   "execution_count": null,
   "id": "f5cacadc",
   "metadata": {},
   "outputs": [],
   "source": [
    "final_weather_df.columns"
   ]
  },
  {
   "cell_type": "code",
   "execution_count": null,
   "id": "28c728e5",
   "metadata": {},
   "outputs": [],
   "source": [
    "final_weather_df.isnull().sum()"
   ]
  },
  {
   "cell_type": "code",
   "execution_count": null,
   "id": "a7fa140d",
   "metadata": {},
   "outputs": [],
   "source": []
  },
  {
   "cell_type": "markdown",
   "id": "b1ef26b8",
   "metadata": {},
   "source": [
    "# Non-Weather features"
   ]
  },
  {
   "cell_type": "markdown",
   "id": "ba14880c",
   "metadata": {},
   "source": [
    "## Binning Continuous value features"
   ]
  },
  {
   "cell_type": "code",
   "execution_count": null,
   "id": "85099ecc",
   "metadata": {},
   "outputs": [],
   "source": [
    "def classify_dep_time(row):\n",
    "    if row <= 600 or row > 2200:\n",
    "        return 1\n",
    "    else:\n",
    "        return 0\n",
    "    \n",
    "col = \"Irregular Departure Time\"\n",
    "\n",
    "non_weather_df[col] = non_weather_df[\"Departure Time\"].apply(classify_dep_time)\n",
    "non_weather_df.head()"
   ]
  },
  {
   "cell_type": "code",
   "execution_count": null,
   "id": "8721800d",
   "metadata": {},
   "outputs": [],
   "source": [
    "def add_cluster_number_to_dataframe(model, df):\n",
    "    df = df.copy()\n",
    "    df['Cluster'] = model.labels_ + 1\n",
    "    df['Cluster'] = 'Cluster ' + df['Cluster'].astype(str)\n",
    "    df = df.sort_values(['Cluster'])\n",
    "    return df\n",
    "\n",
    "sample_df = non_weather_df.groupby('Irregular Departure Time', group_keys=False).apply(lambda x: x.sample(10000))\n",
    "X = sample_df[['Departure Delay', 'Departure Time']]\n",
    "\n",
    "kmeans = KMeans(n_clusters=3, random_state=424)\n",
    "kmeans.fit(X)\n",
    "sample_df = add_cluster_number_to_dataframe(kmeans, sample_df)\n",
    "\n",
    "sample_df.head()"
   ]
  },
  {
   "cell_type": "code",
   "execution_count": null,
   "id": "28ab374f",
   "metadata": {},
   "outputs": [],
   "source": [
    "fig = px.scatter(sample_df, x='Departure Time', y='Departure Delay', color=sample_df['Cluster'], title=\"Clustering of Departure Delay vs Departure Time\")\n",
    "fig.show()"
   ]
  },
  {
   "cell_type": "code",
   "execution_count": null,
   "id": "8353f253",
   "metadata": {},
   "outputs": [],
   "source": []
  },
  {
   "cell_type": "code",
   "execution_count": null,
   "id": "50394f1c",
   "metadata": {},
   "outputs": [],
   "source": []
  },
  {
   "cell_type": "markdown",
   "id": "b53156c1",
   "metadata": {},
   "source": [
    "## Holiday features"
   ]
  },
  {
   "cell_type": "code",
   "execution_count": null,
   "id": "416721f2",
   "metadata": {},
   "outputs": [],
   "source": [
    "non_weather_df['Holiday'].fillna('', inplace=True)\n",
    "holidays = non_weather_df[non_weather_df['Holiday'] != ''][['Date','Departure Delay', 'Holiday']]\n",
    "overall_mean = non_weather_df['Departure Delay'].mean()\n",
    "\n",
    "holidays_mean_df = pd.DataFrame(columns=['Date','Mean Delay', 'Frequency', 'Holiday'])\n",
    "overall = {'Date': 'Overall Mean', 'Mean Delay': overall_mean, 'Frequency': 0, 'Holiday': 'Annual Mean'}\n",
    "holidays_mean_df = holidays_mean_df.append(overall, ignore_index=True)\n",
    "\n",
    "for day in holidays.groupby('Date'):\n",
    "    mean_delay = day[1]['Departure Delay'].mean()\n",
    "    tmp = {\n",
    "        'Date': day[0], \n",
    "        'Mean Delay': mean_delay, \n",
    "        'Frequency': day[1]['Departure Delay'].count(), \n",
    "        'Holiday': day[1]['Holiday'].reset_index(drop=True)[0]\n",
    "    }\n",
    "    holidays_mean_df = holidays_mean_df.append(tmp, ignore_index=True)\n",
    "    \n",
    "holidays_mean_df.head()"
   ]
  },
  {
   "cell_type": "code",
   "execution_count": null,
   "id": "c8ac616f",
   "metadata": {},
   "outputs": [],
   "source": [
    "fig = make_subplots(specs=[[{\"secondary_y\": True}]])\n",
    "\n",
    "fig.add_trace(go.Scatter(x=holidays_mean_df[\"Holiday\"], y=holidays_mean_df[\"Mean Delay\"], name=\"Mean Delay\", mode=\"lines\"),secondary_y=True)\n",
    "fig.add_trace(go.Bar(x=holidays_mean_df[\"Holiday\"], y=holidays_mean_df[\"Frequency\"], name=\"Total flight\", marker_color='orange'),secondary_y=False)\n",
    "\n",
    "fig.update_xaxes(title_text=\"Mean Delay of Holidays vs Annual\")\n",
    "\n",
    "fig.update_yaxes(title_text=\"Mean Delay\", secondary_y=True)\n",
    "fig.update_yaxes(title_text=\"Total Flight\", secondary_y=False)\n",
    "\n",
    "fig.show()"
   ]
  },
  {
   "cell_type": "markdown",
   "id": "18b2f95a",
   "metadata": {},
   "source": [
    "### Labour Day"
   ]
  },
  {
   "cell_type": "code",
   "execution_count": null,
   "id": "b5b239d6",
   "metadata": {},
   "outputs": [],
   "source": [
    "date = datetime.strptime('2018-09-03', \"%Y-%m-%d\")\n",
    "non_weather_df['Date'] = pd.to_datetime(non_weather_df['Date'])\n",
    "days = 10\n",
    "\n",
    "labour_day = non_weather_df[(non_weather_df['Date'] >= (date - timedelta(days=days))) & (non_weather_df['Date'] <= (date + timedelta(days=days))) | (non_weather_df['Date'] == date)]\n",
    "labour_day = labour_day[['Date', 'Departure Delay']]\n",
    "hol_stat = labour_day.groupby('Date').mean()\n",
    "hol_stat['Frequency'] = labour_day.groupby('Date').count()['Departure Delay']\n",
    "hol_stat.head()"
   ]
  },
  {
   "cell_type": "code",
   "execution_count": null,
   "id": "62a9cdbb",
   "metadata": {},
   "outputs": [],
   "source": [
    "fig = make_subplots(specs=[[{\"secondary_y\": True}]])\n",
    "fig.add_trace(go.Scatter(x=hol_stat.index, y=hol_stat[\"Departure Delay\"], name=\"Mean Departure Delay\", mode=\"lines\"),secondary_y=True)\n",
    "fig.add_trace(go.Bar(x=hol_stat.index, y=hol_stat[\"Frequency\"], name=\"Total flight\", marker_color='orange'),secondary_y=False)\n",
    "\n",
    "fig.update_xaxes(title_text=\"Total Flight and Mean Delay of Labour Day\")\n",
    "\n",
    "# Set y-axes titles\n",
    "fig.update_yaxes(title_text=\"Mean Departure Delay\", secondary_y=True)\n",
    "fig.update_yaxes(title_text=\"Total Flights\", secondary_y=False)\n",
    "\n",
    "fig.show()"
   ]
  },
  {
   "cell_type": "markdown",
   "id": "7d8f772d",
   "metadata": {},
   "source": [
    "### Christmas"
   ]
  },
  {
   "cell_type": "code",
   "execution_count": null,
   "id": "b92a2617",
   "metadata": {},
   "outputs": [],
   "source": [
    "date = datetime.strptime('2018-12-25', \"%Y-%m-%d\")\n",
    "non_weather_df['Date'] = pd.to_datetime(non_weather_df['Date'])\n",
    "days = 10\n",
    "\n",
    "xmas = non_weather_df[(non_weather_df['Date'] >= (date - timedelta(days=days))) & (non_weather_df['Date'] <= (date + timedelta(days=days))) | (non_weather_df['Date'] == date)]\n",
    "xmas = xmas[['Date', 'Departure Delay']]\n",
    "hol_stat = xmas.groupby('Date').mean()\n",
    "hol_stat['Frequency'] = xmas.groupby('Date').count()['Departure Delay']\n",
    "hol_stat.head()"
   ]
  },
  {
   "cell_type": "code",
   "execution_count": null,
   "id": "a78b634a",
   "metadata": {},
   "outputs": [],
   "source": [
    "fig = make_subplots(specs=[[{\"secondary_y\": True}]])\n",
    "fig.add_trace(go.Scatter(x=hol_stat.index, y=hol_stat[\"Departure Delay\"], name=\"Mean Departure Delay\", mode=\"lines\"),secondary_y=True)\n",
    "fig.add_trace(go.Bar(x=hol_stat.index, y=hol_stat[\"Frequency\"], name=\"Total flight\", marker_color='orange'),secondary_y=False)\n",
    "\n",
    "fig.update_xaxes(title_text=\"Total Flight and Mean Delay of Labour Day\")\n",
    "\n",
    "fig.update_yaxes(title_text=\"Mean Departure Delay\", secondary_y=True)\n",
    "fig.update_yaxes(title_text=\"Total Flights\", secondary_y=False)\n",
    "\n",
    "fig.show()"
   ]
  },
  {
   "cell_type": "code",
   "execution_count": null,
   "id": "b0a92f48",
   "metadata": {},
   "outputs": [],
   "source": []
  },
  {
   "cell_type": "code",
   "execution_count": null,
   "id": "70455554",
   "metadata": {},
   "outputs": [],
   "source": [
    "def is_holiday(row):\n",
    "    return 0 if row == '' else 1\n",
    "\n",
    "def is_labour_day(row):\n",
    "    return 1 if row == 'Labor Day' else 0\n",
    "\n",
    "def is_juneteenth(row):\n",
    "    return 1 if row == 'Juneteenth' else 0\n",
    "\n",
    "def is_xmas(row):\n",
    "    return 1 if (row == 'Christmas Day' or row == 'Christmas Eve') else 0\n",
    "\n",
    "non_weather_df['Is Holiday'] = non_weather_df['Holiday'].apply(is_holiday)\n",
    "non_weather_df['Is Labour Day'] = non_weather_df['Holiday'].apply(is_labour_day)\n",
    "non_weather_df['Is Juneteenth'] = non_weather_df['Holiday'].apply(is_juneteenth)\n",
    "non_weather_df['Is Xmas'] = non_weather_df['Holiday'].apply(is_xmas)\n",
    "non_weather_df.head()"
   ]
  },
  {
   "cell_type": "code",
   "execution_count": null,
   "id": "97253271",
   "metadata": {},
   "outputs": [],
   "source": []
  },
  {
   "cell_type": "markdown",
   "id": "9c20b64b",
   "metadata": {},
   "source": [
    "## Airplane"
   ]
  },
  {
   "cell_type": "code",
   "execution_count": null,
   "id": "8234a102",
   "metadata": {},
   "outputs": [],
   "source": [
    "airplane_df = non_weather_df[['Airplane Age', 'Departure Delay']]\n",
    "\n",
    "airplane_df['Age Bin'] = pd.cut(airplane_df['Airplane Age'], bins=[0,20,40,100], labels=['new', 'standard', 'old'])\n",
    "airplane_df.head()"
   ]
  },
  {
   "cell_type": "code",
   "execution_count": null,
   "id": "a035b172",
   "metadata": {},
   "outputs": [],
   "source": [
    "fig = px.bar(airplane_df['Age Bin'].value_counts(), x=airplane_df['Age Bin'].value_counts().index, y=airplane_df['Age Bin'].value_counts().values)\n",
    "fig.update_yaxes(title_text=\"Count\")\n",
    "fig.update_xaxes(title_text=\"Predefined Age Bins\")\n",
    "\n",
    "fig.show()"
   ]
  },
  {
   "cell_type": "code",
   "execution_count": null,
   "id": "22a9f376",
   "metadata": {},
   "outputs": [],
   "source": []
  },
  {
   "cell_type": "code",
   "execution_count": null,
   "id": "586afdfb",
   "metadata": {},
   "outputs": [],
   "source": []
  },
  {
   "cell_type": "code",
   "execution_count": null,
   "id": "819acb75",
   "metadata": {},
   "outputs": [],
   "source": []
  },
  {
   "cell_type": "code",
   "execution_count": null,
   "id": "9d8e9d5c",
   "metadata": {},
   "outputs": [],
   "source": [
    "non_weather_df.isnull().sum()"
   ]
  },
  {
   "cell_type": "code",
   "execution_count": null,
   "id": "1a55f735",
   "metadata": {},
   "outputs": [],
   "source": [
    "non_weather_df.shape"
   ]
  },
  {
   "cell_type": "code",
   "execution_count": null,
   "id": "796d5585",
   "metadata": {},
   "outputs": [],
   "source": []
  },
  {
   "cell_type": "markdown",
   "id": "0b10a3ba",
   "metadata": {},
   "source": [
    "## Merging EDA-ed columns"
   ]
  },
  {
   "cell_type": "code",
   "execution_count": null,
   "id": "b9aae38a",
   "metadata": {},
   "outputs": [],
   "source": [
    "SELECTED_WEATHER = [\n",
    "    'Origin Precipitation', \n",
    "    'Origin Windspeed',\n",
    "    'Weather Code Intensity'\n",
    "]\n",
    "\n",
    "SELECTED_NON_WEATHER = [\n",
    "    'Carrier Code', 'Month',\n",
    "    'Airplane Age', 'Origin Total Operations',\n",
    "    'Irregular Departure Time',\n",
    "    'Is Holiday', 'Is Labour Day',\n",
    "    'Is Xmas', 'Departure Delay'\n",
    "]\n",
    "\n",
    "df1 = weather_df[SELECTED_WEATHER]\n",
    "df1.reset_index(inplace=True, drop=True)\n",
    "df2 = non_weather_df[SELECTED_NON_WEATHER]\n",
    "df2.reset_index(inplace=True, drop=True)\n",
    "\n",
    "final_df = pd.concat([df1, df2], axis=1)\n",
    "final_df = final_df.merge(monthly_median_carrier_dep_delay.set_index(['Carrier Code', 'Month']), on=['Carrier Code', 'Month'], how='left')\n",
    "final_df.isnull().sum()\n"
   ]
  },
  {
   "cell_type": "code",
   "execution_count": null,
   "id": "910da9b8",
   "metadata": {},
   "outputs": [],
   "source": [
    "final_df.shape"
   ]
  },
  {
   "cell_type": "code",
   "execution_count": null,
   "id": "5f03f6a0",
   "metadata": {},
   "outputs": [],
   "source": [
    "FINAL_SELECTED = [\n",
    "    'Origin Precipitation', \n",
    "    'Origin Windspeed',\n",
    "    'Weather Code Intensity',\n",
    "    'Monthly Median Departure Delay', 'Month',\n",
    "    'Airplane Age', 'Origin Total Operations',\n",
    "    'Irregular Departure Time',\n",
    "    'Is Holiday', 'Is Labour Day',\n",
    "    'Is Xmas', 'Departure Delay'\n",
    "]\n",
    "\n",
    "final_df = final_df[FINAL_SELECTED]\n",
    "print(final_df.shape)\n",
    "final_df.head()"
   ]
  },
  {
   "cell_type": "code",
   "execution_count": null,
   "id": "972f89e7",
   "metadata": {},
   "outputs": [],
   "source": []
  },
  {
   "cell_type": "code",
   "execution_count": null,
   "id": "a1011dd8",
   "metadata": {},
   "outputs": [],
   "source": []
  },
  {
   "cell_type": "code",
   "execution_count": null,
   "id": "c59128f2",
   "metadata": {},
   "outputs": [],
   "source": []
  },
  {
   "cell_type": "markdown",
   "id": "b9960304",
   "metadata": {},
   "source": [
    "## Standardising Features"
   ]
  },
  {
   "cell_type": "code",
   "execution_count": null,
   "id": "fc31d28f",
   "metadata": {},
   "outputs": [],
   "source": [
    "SCALED_FEATURES_COLS = [\n",
    "    'Origin Precipitation', \n",
    "    'Origin Windspeed',\n",
    "    'Monthly Median Departure Delay',\n",
    "    'Airplane Age', 'Origin Total Operations',\n",
    "]\n",
    "\n",
    "scaler = StandardScaler()\n",
    "scaled_final_np = scaler.fit_transform(final_df[SCALED_FEATURES_COLS])\n",
    "scaled_final_df = pd.DataFrame(scaled_final_np, columns=SCALED_FEATURES_COLS)\n",
    "\n",
    "print(scaled_final_df.shape)\n",
    "scaled_final_df.head()"
   ]
  },
  {
   "cell_type": "code",
   "execution_count": null,
   "id": "a889b472",
   "metadata": {},
   "outputs": [],
   "source": [
    "final_df.drop(columns=SCALED_FEATURES_COLS, inplace=True)\n",
    "final_df = pd.concat([final_df, scaled_final_df[SCALED_FEATURES_COLS]], axis=1)\n",
    "final_df.head()"
   ]
  },
  {
   "cell_type": "code",
   "execution_count": null,
   "id": "032f7bff",
   "metadata": {},
   "outputs": [],
   "source": [
    "final_df.isnull().sum()"
   ]
  },
  {
   "cell_type": "markdown",
   "id": "9452a668",
   "metadata": {},
   "source": [
    "## PCA Analysis"
   ]
  },
  {
   "cell_type": "code",
   "execution_count": null,
   "id": "ff804f2f",
   "metadata": {},
   "outputs": [],
   "source": []
  },
  {
   "cell_type": "code",
   "execution_count": null,
   "id": "bbd531d3",
   "metadata": {},
   "outputs": [],
   "source": [
    "# origin_weather_df = scaled_sampled_df[ORIGIN_WEATHER_FEATURES]\n",
    "\n",
    "# pca = PCA(n_components=2)\n",
    "# transformed_data = pca.fit_transform(origin_weather_df)\n",
    "# print(f\"Variance explained by each component: {pca.explained_variance_ratio_}\")\n",
    "\n",
    "# pca_origin_weather_df = pd.DataFrame(transformed_data, columns=[\"PCA Origin Weather 1\", \"PCA Origin Weather 2\"])\n",
    "# pca_origin_weather_df.head()"
   ]
  },
  {
   "cell_type": "code",
   "execution_count": null,
   "id": "5ecc59a1",
   "metadata": {},
   "outputs": [],
   "source": [
    "# dest_weather_df = scaled_sampled_df[DEST_WEATHER_FEATURES]\n",
    "\n",
    "# pca = PCA(n_components=2)\n",
    "# transformed_data = pca.fit_transform(dest_weather_df)\n",
    "# print(f\"Variance explained by each component: {pca.explained_variance_ratio_}\")\n",
    "\n",
    "# pca_dest_weather_df = pd.DataFrame(transformed_data, columns=[\"PCA Dest Weather 1\", \"PCA Dest Weather 2\"])\n",
    "# pca_dest_weather_df.head()"
   ]
  },
  {
   "cell_type": "code",
   "execution_count": null,
   "id": "c970c6f9",
   "metadata": {},
   "outputs": [],
   "source": [
    "# final_sampled_df = pd.concat([\n",
    "#     scaled_sampled_df[NON_WEATHER_FEATURES], \n",
    "#     pca_origin_weather_df, pca_dest_weather_df, \n",
    "#     sampled_df[list(CLASSIFIED_DEP_TIME.values())],\n",
    "#     scaled_sampled_df[[\n",
    "#        'Monthly Median Flight Delay', 'Monthly Median Departure Delay', \n",
    "#     ]],\n",
    "#     sampled_df[OUTCOMES]\n",
    "# ], axis=1)\n",
    "\n",
    "# print(final_sampled_df.shape)\n",
    "# final_sampled_df.head()"
   ]
  },
  {
   "cell_type": "code",
   "execution_count": null,
   "id": "ff8c793a",
   "metadata": {},
   "outputs": [],
   "source": []
  },
  {
   "cell_type": "code",
   "execution_count": null,
   "id": "a49f3e57",
   "metadata": {},
   "outputs": [],
   "source": []
  },
  {
   "cell_type": "code",
   "execution_count": null,
   "id": "940f4bab",
   "metadata": {},
   "outputs": [],
   "source": []
  },
  {
   "cell_type": "code",
   "execution_count": null,
   "id": "0af2632e",
   "metadata": {},
   "outputs": [],
   "source": []
  },
  {
   "cell_type": "code",
   "execution_count": null,
   "id": "364d57c0",
   "metadata": {},
   "outputs": [],
   "source": []
  },
  {
   "cell_type": "markdown",
   "id": "222039af",
   "metadata": {},
   "source": [
    "## Binning Departure Delay"
   ]
  },
  {
   "cell_type": "code",
   "execution_count": null,
   "id": "e2c4e259",
   "metadata": {},
   "outputs": [],
   "source": [
    "def classify_dep_delay5(row):\n",
    "    if row < -60:\n",
    "        return 0\n",
    "    elif row <= -15:\n",
    "        return 1\n",
    "    elif row <= 15:\n",
    "        return 2\n",
    "    elif row <= 60:\n",
    "        return 3\n",
    "    else:\n",
    "        return 4\n",
    "    \n",
    "final_df[\"Classified Departure Delay (5)\"] = \n",
    "    final_df[\"Departure Delay\"].apply(classify_dep_delay5)"
   ]
  },
  {
   "cell_type": "code",
   "execution_count": null,
   "id": "518eff7f",
   "metadata": {},
   "outputs": [],
   "source": [
    "def classify_dep_delay3(row):\n",
    "    if row <= -15:\n",
    "        return 0\n",
    "    elif row <= 15:\n",
    "        return 1\n",
    "    else:\n",
    "        return 2\n",
    "\n",
    "# final_df[\"Classified Departure Delay (3)\"] = final_df[\"Departure Delay\"].apply(classify_dep_delay3)"
   ]
  },
  {
   "cell_type": "code",
   "execution_count": null,
   "id": "f7baa882",
   "metadata": {},
   "outputs": [],
   "source": [
    "num_bins = 3\n",
    "\n",
    "bin_edges = pd.qcut(final_df[\"Departure Delay\"], q=num_bins, labels=False, duplicates='drop')\n",
    "\n",
    "final_df['Classified Departure Delay (3 Equal)'] = bin_edges\n",
    "final_df['Classified Departure Delay (3 Equal)'].value_counts()"
   ]
  },
  {
   "cell_type": "code",
   "execution_count": null,
   "id": "62e93f9b",
   "metadata": {},
   "outputs": [],
   "source": [
    "# final_df[\"Classified Departure Delay (3)\"].value_counts()"
   ]
  },
  {
   "cell_type": "code",
   "execution_count": null,
   "id": "472c3f92",
   "metadata": {},
   "outputs": [],
   "source": [
    "print(final_df[final_df['Classified Departure Delay (3 Equal)'] == 0]['Departure Delay'].min())\n",
    "print(final_df[final_df['Classified Departure Delay (3 Equal)'] == 0]['Departure Delay'].max())\n",
    "print()\n",
    "print(final_df[final_df['Classified Departure Delay (3 Equal)'] == 1]['Departure Delay'].min())\n",
    "print(final_df[final_df['Classified Departure Delay (3 Equal)'] == 1]['Departure Delay'].max())\n",
    "print()\n",
    "print(final_df[final_df['Classified Departure Delay (3 Equal)'] == 2]['Departure Delay'].min())\n",
    "print(final_df[final_df['Classified Departure Delay (3 Equal)'] == 2]['Departure Delay'].max())"
   ]
  },
  {
   "cell_type": "code",
   "execution_count": null,
   "id": "53962fd4",
   "metadata": {},
   "outputs": [],
   "source": [
    "num_bins = 5\n",
    "\n",
    "bin_edges = pd.qcut(\n",
    "    final_df[\"Departure Delay\"], \n",
    "    q=num_bins, \n",
    "    labels=False, \n",
    "    duplicates='drop'\n",
    ")\n",
    "\n",
    "final_df['Classified Departure Delay (5 Equal)'] = bin_edges"
   ]
  },
  {
   "cell_type": "code",
   "execution_count": null,
   "id": "41af89c4",
   "metadata": {},
   "outputs": [],
   "source": [
    "print(final_df[final_df['Classified Departure Delay (5 Equal)'] == 0]['Departure Delay'].min())\n",
    "print(final_df[final_df['Classified Departure Delay (5 Equal)'] == 0]['Departure Delay'].max())\n",
    "print()\n",
    "print(final_df[final_df['Classified Departure Delay (5 Equal)'] == 1]['Departure Delay'].min())\n",
    "print(final_df[final_df['Classified Departure Delay (5 Equal)'] == 1]['Departure Delay'].max())\n",
    "print()\n",
    "print(final_df[final_df['Classified Departure Delay (5 Equal)'] == 2]['Departure Delay'].min())\n",
    "print(final_df[final_df['Classified Departure Delay (5 Equal)'] == 2]['Departure Delay'].max())\n",
    "print()\n",
    "print(final_df[final_df['Classified Departure Delay (5 Equal)'] == 3]['Departure Delay'].min())\n",
    "print(final_df[final_df['Classified Departure Delay (5 Equal)'] == 3]['Departure Delay'].max())\n",
    "print()\n",
    "print(final_df[final_df['Classified Departure Delay (5 Equal)'] == 4]['Departure Delay'].min())\n",
    "print(final_df[final_df['Classified Departure Delay (5 Equal)'] == 4]['Departure Delay'].max())"
   ]
  },
  {
   "cell_type": "code",
   "execution_count": null,
   "id": "51d7f978",
   "metadata": {},
   "outputs": [],
   "source": [
    "final_df[\"Classified Departure Delay (5)\"].value_counts()"
   ]
  },
  {
   "cell_type": "code",
   "execution_count": null,
   "id": "1ab19453",
   "metadata": {},
   "outputs": [],
   "source": []
  },
  {
   "cell_type": "code",
   "execution_count": null,
   "id": "034069ac",
   "metadata": {},
   "outputs": [],
   "source": []
  },
  {
   "cell_type": "code",
   "execution_count": null,
   "id": "e7231b49",
   "metadata": {},
   "outputs": [],
   "source": [
    "corr = final_df.corr()\n",
    "\n",
    "fig = px.imshow(\n",
    "    corr,\n",
    "    x=corr.columns,\n",
    "    y=corr.columns,\n",
    "    color_continuous_scale='tealrose', \n",
    "    template=\"ggplot2\",\n",
    "    text_auto=True\n",
    ")\n",
    "\n",
    "fig.update_layout(\n",
    "    title='Final EDA-ed Features Correlation Heatmap',\n",
    "    yaxis_nticks=len(list(corr.columns)),\n",
    "    xaxis_nticks=len(list(corr.columns)),\n",
    ")\n",
    "\n",
    "fig.show()"
   ]
  },
  {
   "cell_type": "code",
   "execution_count": null,
   "id": "c0c65d76",
   "metadata": {},
   "outputs": [],
   "source": [
    "final_df.columns"
   ]
  },
  {
   "cell_type": "code",
   "execution_count": null,
   "id": "4d9bca8f",
   "metadata": {},
   "outputs": [],
   "source": []
  },
  {
   "cell_type": "code",
   "execution_count": null,
   "id": "5ccff880",
   "metadata": {},
   "outputs": [],
   "source": []
  },
  {
   "cell_type": "code",
   "execution_count": null,
   "id": "854a343f",
   "metadata": {
    "scrolled": true
   },
   "outputs": [],
   "source": []
  },
  {
   "cell_type": "code",
   "execution_count": null,
   "id": "7f6ece5a",
   "metadata": {},
   "outputs": [],
   "source": [
    "final = final_df[[\n",
    "    'Weather Code Intensity', 'Month', 'Irregular Departure Time',\n",
    "    'Is Holiday', 'Is Labour Day', 'Is Xmas',\n",
    "    'Departure Delay', 'Origin Precipitation', 'Origin Windspeed',\n",
    "    'Monthly Median Departure Delay', 'Airplane Age',\n",
    "    'Origin Total Operations', 'Classified Departure Delay (5)',\n",
    "    'Classified Departure Delay (5 Equal)'\n",
    "]]"
   ]
  },
  {
   "cell_type": "code",
   "execution_count": null,
   "id": "6d5624bc",
   "metadata": {},
   "outputs": [],
   "source": [
    "print(final.shape)\n",
    "final.head()"
   ]
  },
  {
   "cell_type": "code",
   "execution_count": null,
   "id": "7e227078",
   "metadata": {},
   "outputs": [],
   "source": [
    "final.isnull().sum()"
   ]
  },
  {
   "cell_type": "markdown",
   "id": "f8db93ee",
   "metadata": {},
   "source": [
    "## Exporting Post-EDA Dataset"
   ]
  },
  {
   "cell_type": "code",
   "execution_count": null,
   "id": "b31f146b",
   "metadata": {},
   "outputs": [],
   "source": [
    "final.to_csv(\"model_2018.csv\", index=False)"
   ]
  },
  {
   "cell_type": "code",
   "execution_count": null,
   "id": "124cf232",
   "metadata": {},
   "outputs": [],
   "source": []
  },
  {
   "cell_type": "code",
   "execution_count": null,
   "id": "00ef21ea",
   "metadata": {},
   "outputs": [],
   "source": []
  },
  {
   "cell_type": "markdown",
   "id": "aa635fce",
   "metadata": {},
   "source": [
    "# Visualisations"
   ]
  },
  {
   "cell_type": "markdown",
   "id": "21ed1ddf",
   "metadata": {},
   "source": [
    "## Initial Columns"
   ]
  },
  {
   "cell_type": "code",
   "execution_count": null,
   "id": "751a36df",
   "metadata": {},
   "outputs": [],
   "source": [
    "corr = features_df.corr()\n",
    "\n",
    "fig = px.imshow(\n",
    "    corr,\n",
    "    x=corr.columns,\n",
    "    y=corr.columns,\n",
    "    color_continuous_scale='tealrose', \n",
    "    template=\"ggplot2\"\n",
    ")\n",
    "\n",
    "fig.update_layout(\n",
    "    title='Initial Correlation Heatmap',\n",
    "    yaxis_nticks=len(list(corr.columns)),\n",
    "    xaxis_nticks=len(list(corr.columns)),\n",
    ")\n",
    "\n",
    "fig.show()"
   ]
  },
  {
   "cell_type": "code",
   "execution_count": null,
   "id": "dbc083c5",
   "metadata": {},
   "outputs": [],
   "source": [
    "col = \"Departure Time\"\n",
    "\n",
    "fig = px.histogram(\n",
    "    df, \n",
    "    x=col,\n",
    "    labels={'count': 'Frequency'},\n",
    "    color_discrete_sequence=['teal'],\n",
    "    title='Distribution of Departure Time values',\n",
    "    template=\"ggplot2\",\n",
    ")\n",
    "\n",
    "fig.update_layout(\n",
    "    autosize=True\n",
    ")\n",
    "fig.show()"
   ]
  },
  {
   "cell_type": "markdown",
   "id": "2d66bc78",
   "metadata": {},
   "source": [
    "## Distribution of Departure Delay"
   ]
  },
  {
   "cell_type": "code",
   "execution_count": null,
   "id": "6f60f112",
   "metadata": {},
   "outputs": [],
   "source": [
    "fig = px.histogram(\n",
    "    df, \n",
    "    x='Departure Delay',             \n",
    "    color_discrete_sequence=['teal'],\n",
    "    title='Distribution of Departure Delay values',\n",
    "    template=\"ggplot2\",\n",
    ")\n",
    "fig.update_layout(\n",
    "    autosize=True,\n",
    "    yaxis_title='Count',\n",
    ")\n",
    "fig.show()"
   ]
  },
  {
   "cell_type": "code",
   "execution_count": null,
   "id": "e8421b41",
   "metadata": {},
   "outputs": [],
   "source": [
    "rows = 350000\n",
    "sampled_df = df.sample(n=rows, random_state=42)\n",
    "sampled_df = sampled_df.reset_index()\n",
    "sampled_df.drop('index', axis=1, inplace=True)\n",
    "print(sampled_df.shape)\n",
    "sampled_df.head()\n",
    "\n",
    "fig = px.scatter(\n",
    "    sampled_df, \n",
    "    x='Date', \n",
    "    y='Departure Delay', \n",
    "    opacity=0.01,\n",
    "    template='ggplot2',\n",
    "    color_continuous_scale='tealrose'\n",
    "    title='Distribution of Departure Delay values across the year'\n",
    ")\n",
    "\n",
    "fig.update_layout(\n",
    "    autosize=True\n",
    ")\n",
    "fig.show()"
   ]
  },
  {
   "cell_type": "markdown",
   "id": "f68252bc",
   "metadata": {},
   "source": [
    "## Airlines "
   ]
  },
  {
   "cell_type": "code",
   "execution_count": null,
   "id": "e265aed3",
   "metadata": {
    "scrolled": true
   },
   "outputs": [],
   "source": [
    "num_airline_flights = list(airline_type_df.sum())\n",
    "num_airline_flights\n",
    "\n",
    "fig = go.Figure()\n",
    "fig.add_trace(go.Bar(x=AIRLINE_COLS, y=num_airline_flights, name='Airlines'))\n",
    "\n",
    "fig.update_layout(\n",
    "    title='Number of Flights by Airline in 2018',\n",
    "    xaxis_title='Category',\n",
    "    yaxis_title='Count',\n",
    "    template=\"ggplot2\"\n",
    ")\n",
    "\n",
    "fig.show()"
   ]
  },
  {
   "cell_type": "code",
   "execution_count": null,
   "id": "aa8b7dc5",
   "metadata": {},
   "outputs": [],
   "source": []
  },
  {
   "cell_type": "markdown",
   "id": "5b473c5e",
   "metadata": {},
   "source": [
    "## Airplane"
   ]
  },
  {
   "cell_type": "code",
   "execution_count": null,
   "id": "4f684c54",
   "metadata": {},
   "outputs": [],
   "source": [
    "col = \"Airplane Age\"\n",
    "\n",
    "fig = px.histogram(\n",
    "    features_df, \n",
    "    x=col, \n",
    "    color_discrete_sequence=['teal'],\n",
    "    title='Distribution of Departure Delay values',\n",
    "    template=\"ggplot2\",\n",
    ")\n",
    "fig.update_layout(\n",
    "    autosize=True,\n",
    "    yaxis_title='Count',\n",
    ")\n",
    "fig.show()"
   ]
  },
  {
   "cell_type": "code",
   "execution_count": null,
   "id": "1c02241b",
   "metadata": {},
   "outputs": [],
   "source": []
  },
  {
   "cell_type": "markdown",
   "id": "5819099a",
   "metadata": {},
   "source": [
    "## Binning Departure Delays"
   ]
  },
  {
   "cell_type": "code",
   "execution_count": null,
   "id": "e0379d64",
   "metadata": {},
   "outputs": [],
   "source": [
    "num_bins = 5\n",
    "bin_edges = pd.qcut(df[\"Departure Delay\"], q=num_bins, labels=False, duplicates='drop')\n",
    "\n",
    "df['Classified Departure Delay (Equal)'] = bin_edges\n",
    "df['Classified Departure Delay (Equal)'].value_counts()"
   ]
  },
  {
   "cell_type": "code",
   "execution_count": null,
   "id": "81f23741",
   "metadata": {},
   "outputs": [],
   "source": [
    "print(df[df['Classified Departure Delay (Equal)'] == 0]['Departure Delay'].min())\n",
    "print(df[df['Classified Departure Delay (Equal)'] == 0]['Departure Delay'].max())\n",
    "print()\n",
    "print(df[df['Classified Departure Delay (Equal)'] == 1]['Departure Delay'].min())\n",
    "print(df[df['Classified Departure Delay (Equal)'] == 1]['Departure Delay'].max())\n",
    "print()\n",
    "print(df[df['Classified Departure Delay (Equal)'] == 2]['Departure Delay'].min())\n",
    "print(df[df['Classified Departure Delay (Equal)'] == 2]['Departure Delay'].max())\n",
    "print()\n",
    "print(df[df['Classified Departure Delay (Equal)'] == 3]['Departure Delay'].min())\n",
    "print(df[df['Classified Departure Delay (Equal)'] == 3]['Departure Delay'].max())\n",
    "print()\n",
    "print(df[df['Classified Departure Delay (Equal)'] == 4]['Departure Delay'].min())\n",
    "print(df[df['Classified Departure Delay (Equal)'] == 4]['Departure Delay'].max())"
   ]
  },
  {
   "cell_type": "code",
   "execution_count": null,
   "id": "6f91ebed",
   "metadata": {},
   "outputs": [],
   "source": [
    "fig = px.histogram(\n",
    "    df, \n",
    "    x='Departure Delay',\n",
    "    color='Classified Departure Delay (Equal)',\n",
    "    labels={'count': 'Frequency'},\n",
    "    title='Distribution of Classified Departure Delay values using Equal Count Binning',\n",
    "    template=\"ggplot2\",\n",
    "    color_discrete_sequence=px.colors.qualitative.Prism,\n",
    ")\n",
    "fig.update_layout(\n",
    "    autosize=True,\n",
    "    yaxis_title='Count',\n",
    "    showlegend=False\n",
    ")\n",
    "fig.show()"
   ]
  },
  {
   "cell_type": "code",
   "execution_count": null,
   "id": "5e67fb7a",
   "metadata": {},
   "outputs": [],
   "source": []
  },
  {
   "cell_type": "code",
   "execution_count": null,
   "id": "e0363a15",
   "metadata": {},
   "outputs": [],
   "source": [
    "def classify_dep_delay(row):\n",
    "    if row < -60:\n",
    "        return 0\n",
    "    elif row <= -15:\n",
    "        return 1\n",
    "    elif row <= 15:\n",
    "        return 2\n",
    "    elif row <= 60:\n",
    "        return 3\n",
    "    else:\n",
    "        return 4\n",
    "    \n",
    "df[\"Classified Departure Delay\"] = df[\"Departure Delay\"].apply(classify_dep_delay)"
   ]
  },
  {
   "cell_type": "code",
   "execution_count": null,
   "id": "12f3067b",
   "metadata": {},
   "outputs": [],
   "source": [
    "fig = px.histogram(\n",
    "    df, \n",
    "    x='Departure Delay',\n",
    "    color='Classified Departure Delay',\n",
    "    labels={'count': 'Frequency'},\n",
    "    title='Distribution of Classified Departure Delay values using Predefined Bins',\n",
    "    template=\"ggplot2\",\n",
    "    color_discrete_sequence=px.colors.qualitative.Prism,\n",
    ")\n",
    "fig.update_layout(\n",
    "    autosize=True,\n",
    "    yaxis_title='Count',\n",
    "    showlegend=False\n",
    ")\n",
    "fig.show()"
   ]
  },
  {
   "cell_type": "code",
   "execution_count": null,
   "id": "7d5b5c2e",
   "metadata": {},
   "outputs": [],
   "source": [
    "fig = px.histogram(\n",
    "    final_df, \n",
    "    x='Departure Delay',\n",
    "    color='Classified Departure Delay (3 Equal)',\n",
    "    labels={'count': 'Frequency'},\n",
    "    title='Distribution of Classified Departure Delay values using Predefined Bins',\n",
    "    template=\"ggplot2\",\n",
    "    color_discrete_sequence=px.colors.qualitative.Prism,\n",
    ")\n",
    "fig.update_layout(\n",
    "    autosize=True,\n",
    "    yaxis_title='Count',\n",
    "    showlegend=False\n",
    ")\n",
    "fig.show()"
   ]
  },
  {
   "cell_type": "code",
   "execution_count": null,
   "id": "cc932fe8",
   "metadata": {},
   "outputs": [],
   "source": []
  },
  {
   "cell_type": "code",
   "execution_count": null,
   "id": "9303756c",
   "metadata": {},
   "outputs": [],
   "source": []
  },
  {
   "cell_type": "code",
   "execution_count": null,
   "id": "6b5ade75",
   "metadata": {},
   "outputs": [],
   "source": []
  },
  {
   "cell_type": "code",
   "execution_count": null,
   "id": "ec0aba67",
   "metadata": {},
   "outputs": [],
   "source": []
  },
  {
   "cell_type": "code",
   "execution_count": null,
   "id": "bd000130",
   "metadata": {},
   "outputs": [],
   "source": []
  },
  {
   "cell_type": "code",
   "execution_count": null,
   "id": "4abdabd8",
   "metadata": {},
   "outputs": [],
   "source": []
  },
  {
   "cell_type": "code",
   "execution_count": null,
   "id": "2fee8e5e",
   "metadata": {},
   "outputs": [],
   "source": []
  }
 ],
 "metadata": {
  "kernelspec": {
   "display_name": "Python 3 (ipykernel)",
   "language": "python",
   "name": "python3"
  },
  "language_info": {
   "codemirror_mode": {
    "name": "ipython",
    "version": 3
   },
   "file_extension": ".py",
   "mimetype": "text/x-python",
   "name": "python",
   "nbconvert_exporter": "python",
   "pygments_lexer": "ipython3",
   "version": "3.7.10"
  }
 },
 "nbformat": 4,
 "nbformat_minor": 5
}
