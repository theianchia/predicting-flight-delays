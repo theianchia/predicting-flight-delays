{
 "cells": [
  {
   "cell_type": "code",
   "execution_count": null,
   "id": "b99e98ad",
   "metadata": {},
   "outputs": [],
   "source": [
    "import pandas as pd\n",
    "import numpy as np\n",
    "import plotly.express as px\n",
    "import plotly.graph_objects as go\n",
    "from plotly.subplots import make_subplots\n",
    "from sklearn.feature_selection import VarianceThreshold\n",
    "\n",
    "from sklearn.preprocessing import StandardScaler\n",
    "\n",
    "from sklearn.decomposition import PCA\n",
    "\n",
    "from sklearn.cluster import KMeans"
   ]
  },
  {
   "cell_type": "code",
   "execution_count": null,
   "id": "a8354a3f",
   "metadata": {},
   "outputs": [],
   "source": [
    "# !pip3 install --upgrade plotly"
   ]
  },
  {
   "cell_type": "code",
   "execution_count": null,
   "id": "c446dcda",
   "metadata": {},
   "outputs": [],
   "source": [
    "# df_length = len(df)\n",
    "\n",
    "# df1 = df.iloc[:df_length//2]\n",
    "# df2 = df.iloc[df_length//2:]\n",
    "\n",
    "# df1.to_csv('eda_2018_part1.csv', index=False)\n",
    "# df2.to_csv('eda_2018_part2.csv', index=False)"
   ]
  },
  {
   "cell_type": "code",
   "execution_count": null,
   "id": "d3959991",
   "metadata": {},
   "outputs": [],
   "source": []
  },
  {
   "cell_type": "code",
   "execution_count": null,
   "id": "b2e1d494",
   "metadata": {},
   "outputs": [],
   "source": []
  },
  {
   "cell_type": "code",
   "execution_count": null,
   "id": "15210059",
   "metadata": {},
   "outputs": [],
   "source": []
  },
  {
   "cell_type": "code",
   "execution_count": null,
   "id": "e5dcb787",
   "metadata": {},
   "outputs": [],
   "source": []
  },
  {
   "cell_type": "code",
   "execution_count": null,
   "id": "9e7195f0",
   "metadata": {},
   "outputs": [],
   "source": []
  },
  {
   "cell_type": "code",
   "execution_count": null,
   "id": "de6aee5a",
   "metadata": {},
   "outputs": [],
   "source": []
  },
  {
   "cell_type": "code",
   "execution_count": null,
   "id": "41ed9619",
   "metadata": {},
   "outputs": [],
   "source": []
  },
  {
   "cell_type": "code",
   "execution_count": null,
   "id": "ed33885c",
   "metadata": {},
   "outputs": [],
   "source": []
  },
  {
   "cell_type": "code",
   "execution_count": null,
   "id": "16ff22e6",
   "metadata": {},
   "outputs": [],
   "source": []
  },
  {
   "cell_type": "code",
   "execution_count": null,
   "id": "39f4bd13",
   "metadata": {},
   "outputs": [],
   "source": []
  },
  {
   "cell_type": "code",
   "execution_count": null,
   "id": "d29fa680",
   "metadata": {},
   "outputs": [],
   "source": []
  },
  {
   "cell_type": "code",
   "execution_count": null,
   "id": "172caf52",
   "metadata": {},
   "outputs": [],
   "source": []
  },
  {
   "cell_type": "markdown",
   "id": "237c48a6",
   "metadata": {},
   "source": [
    "# Post-merge EDA"
   ]
  },
  {
   "cell_type": "code",
   "execution_count": null,
   "id": "003046b4",
   "metadata": {},
   "outputs": [],
   "source": [
    "df = pd.read_csv(\"../scripts/eda_2018.csv\")\n",
    "df.head()"
   ]
  },
  {
   "cell_type": "code",
   "execution_count": null,
   "id": "6de95d6c",
   "metadata": {},
   "outputs": [],
   "source": [
    "df.columns"
   ]
  },
  {
   "cell_type": "code",
   "execution_count": null,
   "id": "4fa656ad",
   "metadata": {},
   "outputs": [],
   "source": [
    "print(df.shape)\n",
    "df.isnull().sum()"
   ]
  },
  {
   "cell_type": "code",
   "execution_count": null,
   "id": "d882e1be",
   "metadata": {},
   "outputs": [],
   "source": [
    "df.dropna(inplace=True)\n",
    "df.reset_index(inplace=True, drop=True)\n",
    "print(df.shape)\n",
    "df.head()"
   ]
  },
  {
   "cell_type": "code",
   "execution_count": null,
   "id": "a0f40f7e",
   "metadata": {},
   "outputs": [],
   "source": []
  },
  {
   "cell_type": "code",
   "execution_count": null,
   "id": "73a1c6ba",
   "metadata": {},
   "outputs": [],
   "source": [
    "threshold = 3\n",
    "col = 'Departure Delay'\n",
    "\n",
    "z_scores = np.abs((df[col] - df[col].mean()) / df[col].std())\n",
    "df = df.loc[z_scores < threshold]\n",
    "df.shape"
   ]
  },
  {
   "cell_type": "code",
   "execution_count": null,
   "id": "cfcbd668",
   "metadata": {},
   "outputs": [],
   "source": [
    "print(df[col].max())\n",
    "print(df[col].mean())\n",
    "print(df[col].median())\n",
    "print(df[col].min())"
   ]
  },
  {
   "cell_type": "code",
   "execution_count": null,
   "id": "29f4d615",
   "metadata": {},
   "outputs": [],
   "source": []
  },
  {
   "cell_type": "code",
   "execution_count": null,
   "id": "8ba3c6f6",
   "metadata": {},
   "outputs": [],
   "source": []
  },
  {
   "cell_type": "code",
   "execution_count": null,
   "id": "40db165e",
   "metadata": {},
   "outputs": [],
   "source": []
  },
  {
   "cell_type": "markdown",
   "id": "86166649",
   "metadata": {},
   "source": [
    "## Creating Outcome Column"
   ]
  },
  {
   "cell_type": "code",
   "execution_count": null,
   "id": "7361160a",
   "metadata": {},
   "outputs": [],
   "source": [
    "df['Departure Delay'] = df['Departure Delay'] - df['NAS Delay'] - df['Security Delay']"
   ]
  },
  {
   "cell_type": "code",
   "execution_count": null,
   "id": "bd7cc9cf",
   "metadata": {},
   "outputs": [],
   "source": [
    "departure_delay_df = df['Departure Delay'].reset_index()\n",
    "departure_delay_df.drop('index', axis=1, inplace=True)\n",
    "departure_delay_df.head()"
   ]
  },
  {
   "cell_type": "code",
   "execution_count": null,
   "id": "da96a8cd",
   "metadata": {},
   "outputs": [],
   "source": [
    "print(departure_delay_df.min())\n",
    "print(departure_delay_df.max())\n",
    "print(departure_delay_df.mean())\n",
    "print(departure_delay_df.std())"
   ]
  },
  {
   "cell_type": "code",
   "execution_count": null,
   "id": "2214a61f",
   "metadata": {},
   "outputs": [],
   "source": []
  },
  {
   "cell_type": "code",
   "execution_count": null,
   "id": "46b9ec08",
   "metadata": {},
   "outputs": [],
   "source": []
  },
  {
   "cell_type": "code",
   "execution_count": null,
   "id": "a4e401f4",
   "metadata": {},
   "outputs": [],
   "source": []
  },
  {
   "cell_type": "code",
   "execution_count": null,
   "id": "528563eb",
   "metadata": {},
   "outputs": [],
   "source": []
  },
  {
   "cell_type": "code",
   "execution_count": null,
   "id": "5370d186",
   "metadata": {},
   "outputs": [],
   "source": []
  },
  {
   "cell_type": "code",
   "execution_count": null,
   "id": "f268b03b",
   "metadata": {},
   "outputs": [],
   "source": []
  },
  {
   "cell_type": "code",
   "execution_count": null,
   "id": "91ebc5e3",
   "metadata": {},
   "outputs": [],
   "source": []
  },
  {
   "cell_type": "code",
   "execution_count": null,
   "id": "0635e8b7",
   "metadata": {},
   "outputs": [],
   "source": []
  },
  {
   "cell_type": "code",
   "execution_count": null,
   "id": "9f3d0328",
   "metadata": {},
   "outputs": [],
   "source": []
  },
  {
   "cell_type": "markdown",
   "id": "4eb92e07",
   "metadata": {},
   "source": [
    "## Feature Selection & Engineering"
   ]
  },
  {
   "cell_type": "code",
   "execution_count": null,
   "id": "ab5dc52b",
   "metadata": {},
   "outputs": [],
   "source": [
    "FEATURES_COLS = [\n",
    "    'Distance',\n",
    "    'Seats', 'Airplane Age',\n",
    "    'Origin Total Operations',\n",
    "    'Origin Weather Code', 'Origin Temperature Max',\n",
    "    'Origin Temperature Min', 'Origin Temperature Mean',\n",
    "    'Origin Apparent Temperature Max', 'Origin Apparent Temperature Min',\n",
    "    'Origin Apparent Temperature Mean', 'Origin Sunrise', 'Origin Sunset',\n",
    "    'Origin Shortwave Radiation', 'Origin Precipitation', 'Origin Rain',\n",
    "    'Origin Snowfall', 'Origin Precipitation Hours', 'Origin Windspeed',\n",
    "    'Origin Windgusts', 'Origin Wind Direction',\n",
    "    'Origin Evapotranspiration',\n",
    "    'Departure Delay'\n",
    "]\n",
    "\n",
    "SCALED_FEATURES_COLS = [\n",
    "    'Monthly Median Flight Delay', 'Monthly Median Departure Delay',\n",
    "    'Seats', 'Airplane Age', 'Distance',\n",
    "    'Origin Total Operations', 'Destination Total Operations',\n",
    "    'Origin Precipitation', 'Origin Rain', 'Origin Snowfall', \n",
    "    'Origin Windspeed', 'Origin Windgusts', 'Origin Evapotranspiration',\n",
    "    'Origin Shortwave Radiation'\n",
    "]\n",
    "\n",
    "NON_WEATHER_FEATURES = [\n",
    "    'Seats', 'Airplane Age', 'Distance', 'Origin Total Operations'\n",
    "]\n",
    "\n",
    "ORIGIN_WEATHER_FEATURES = [\n",
    "    'Origin Precipitation', 'Origin Rain',\n",
    "    'Origin Snowfall', 'Origin Windspeed', 'Origin Windgusts',\n",
    "    'Origin Evapotranspiration', 'Origin Shortwave Radiation',\n",
    "]"
   ]
  },
  {
   "cell_type": "code",
   "execution_count": null,
   "id": "e2d44fec",
   "metadata": {},
   "outputs": [],
   "source": [
    "airline_type_df = df['Carrier Code']\n",
    "features_df = df[FEATURES_COLS]"
   ]
  },
  {
   "cell_type": "markdown",
   "id": "10b01310",
   "metadata": {},
   "source": [
    "## Monthly Median Departure Delay for each Carrier"
   ]
  },
  {
   "cell_type": "code",
   "execution_count": null,
   "id": "4f89cfba",
   "metadata": {},
   "outputs": [],
   "source": [
    "airline_type_df = pd.concat([airline_type_df, df['Month'], df['Departure Delay']], axis=1)\n",
    "airline_type_df.head()"
   ]
  },
  {
   "cell_type": "code",
   "execution_count": null,
   "id": "9c8a9717",
   "metadata": {},
   "outputs": [],
   "source": [
    "monthly_median_carrier_dep_delay = airline_type_df.groupby(['Carrier Code', 'Month'])['Departure Delay'].median().reset_index()\n",
    "monthly_median_carrier_dep_delay.rename(columns={'Departure Delay': 'Monthly Median Departure Delay'}, inplace=True)\n",
    "monthly_median_carrier_dep_delay.head()\n"
   ]
  },
  {
   "cell_type": "code",
   "execution_count": null,
   "id": "37afbfe2",
   "metadata": {},
   "outputs": [],
   "source": [
    "df = df.merge(monthly_median_carrier_dep_delay.set_index(['Carrier Code', 'Month']), on=['Carrier Code', 'Month'], how='left')\n",
    "df.head()"
   ]
  },
  {
   "cell_type": "code",
   "execution_count": null,
   "id": "4f956906",
   "metadata": {},
   "outputs": [],
   "source": []
  },
  {
   "cell_type": "code",
   "execution_count": null,
   "id": "88c1cddc",
   "metadata": {},
   "outputs": [],
   "source": []
  },
  {
   "cell_type": "code",
   "execution_count": null,
   "id": "dba1e46f",
   "metadata": {},
   "outputs": [],
   "source": []
  },
  {
   "cell_type": "code",
   "execution_count": null,
   "id": "9db0b71d",
   "metadata": {},
   "outputs": [],
   "source": []
  },
  {
   "cell_type": "code",
   "execution_count": null,
   "id": "22779cd8",
   "metadata": {},
   "outputs": [],
   "source": []
  },
  {
   "cell_type": "code",
   "execution_count": null,
   "id": "73994f45",
   "metadata": {},
   "outputs": [],
   "source": []
  },
  {
   "cell_type": "code",
   "execution_count": null,
   "id": "f91fd409",
   "metadata": {},
   "outputs": [],
   "source": []
  },
  {
   "cell_type": "code",
   "execution_count": null,
   "id": "d7527156",
   "metadata": {},
   "outputs": [],
   "source": []
  },
  {
   "cell_type": "code",
   "execution_count": null,
   "id": "013b272d",
   "metadata": {},
   "outputs": [],
   "source": [
    "\n"
   ]
  },
  {
   "cell_type": "code",
   "execution_count": null,
   "id": "10b619a5",
   "metadata": {},
   "outputs": [],
   "source": []
  },
  {
   "cell_type": "code",
   "execution_count": null,
   "id": "9495a4c7",
   "metadata": {},
   "outputs": [],
   "source": []
  },
  {
   "cell_type": "code",
   "execution_count": null,
   "id": "e033701c",
   "metadata": {},
   "outputs": [],
   "source": []
  },
  {
   "cell_type": "markdown",
   "id": "b135beb7",
   "metadata": {},
   "source": [
    "## Weather EDA"
   ]
  },
  {
   "cell_type": "code",
   "execution_count": null,
   "id": "776306cc",
   "metadata": {},
   "outputs": [],
   "source": []
  },
  {
   "cell_type": "code",
   "execution_count": null,
   "id": "910ccb16",
   "metadata": {},
   "outputs": [],
   "source": []
  },
  {
   "cell_type": "code",
   "execution_count": null,
   "id": "173bd8d1",
   "metadata": {},
   "outputs": [],
   "source": []
  },
  {
   "cell_type": "code",
   "execution_count": null,
   "id": "08f1210f",
   "metadata": {},
   "outputs": [],
   "source": []
  },
  {
   "cell_type": "code",
   "execution_count": null,
   "id": "dd492bc9",
   "metadata": {},
   "outputs": [],
   "source": []
  },
  {
   "cell_type": "code",
   "execution_count": null,
   "id": "533bae77",
   "metadata": {},
   "outputs": [],
   "source": []
  },
  {
   "cell_type": "markdown",
   "id": "0b14eb31",
   "metadata": {},
   "source": [
    "## Binning Continuous value features"
   ]
  },
  {
   "cell_type": "code",
   "execution_count": null,
   "id": "85099ecc",
   "metadata": {},
   "outputs": [],
   "source": []
  },
  {
   "cell_type": "code",
   "execution_count": null,
   "id": "8721800d",
   "metadata": {},
   "outputs": [],
   "source": []
  },
  {
   "cell_type": "code",
   "execution_count": null,
   "id": "28ab374f",
   "metadata": {},
   "outputs": [],
   "source": [
    "clustering_result_df = sampled_df[[\"Departure Time\", \"Flight Delay\"]]\n",
    "clustering_result_df['Cluster'] = labels\n",
    "\n",
    "fig = px.scatter(clustering_result_df, x='Flight Delay', y=\"Departure Time\", color='Cluster')\n",
    "fig.update_layout(title='Scatter Plot with Clustering')\n",
    "fig.show()"
   ]
  },
  {
   "cell_type": "code",
   "execution_count": null,
   "id": "8353f253",
   "metadata": {},
   "outputs": [],
   "source": [
    "CLASSIFIED_DEP_TIME = {\n",
    "    1: 'Morning Dep Time',\n",
    "    2: 'Regular Dep Time',\n",
    "    3: 'Night Dep Time'\n",
    "}\n",
    "\n",
    "def classify_dep_time(row):\n",
    "    if row <= 600:\n",
    "        return 1\n",
    "    elif row <= 2000:\n",
    "        return 2\n",
    "    else:\n",
    "        return 3\n",
    "    \n",
    "col = \"Classified Departure Time\"\n",
    "\n",
    "sampled_df[col] = sampled_df[\"Departure Time\"].apply(classify_dep_time)\n",
    "sampled_df[col].replace(CLASSIFIED_DEP_TIME, inplace=True)\n",
    "encoded_dep_time_df = pd.get_dummies(sampled_df[col])\n",
    "sampled_df.drop(col, axis=1, inplace=True)\n",
    "sampled_df = pd.concat([sampled_df, encoded_dep_time_df], axis=1)\n",
    "sampled_df.head()"
   ]
  },
  {
   "cell_type": "code",
   "execution_count": null,
   "id": "50394f1c",
   "metadata": {},
   "outputs": [],
   "source": []
  },
  {
   "cell_type": "code",
   "execution_count": null,
   "id": "97253271",
   "metadata": {},
   "outputs": [],
   "source": []
  },
  {
   "cell_type": "code",
   "execution_count": null,
   "id": "9d8e9d5c",
   "metadata": {},
   "outputs": [],
   "source": []
  },
  {
   "cell_type": "code",
   "execution_count": null,
   "id": "1a55f735",
   "metadata": {},
   "outputs": [],
   "source": []
  },
  {
   "cell_type": "markdown",
   "id": "a3e64523",
   "metadata": {},
   "source": [
    "## Standardising Features"
   ]
  },
  {
   "cell_type": "code",
   "execution_count": null,
   "id": "fc31d28f",
   "metadata": {},
   "outputs": [],
   "source": [
    "scaler = StandardScaler()\n",
    "scaled_sampled_np = scaler.fit_transform(sampled_df[SCALED_FEATURES_COLS])\n",
    "scaled_sampled_df = pd.DataFrame(scaled_sampled_np , columns=SCALED_FEATURES_COLS)\n",
    "\n",
    "print(scaled_sampled_df.shape)\n",
    "scaled_sampled_df.head()"
   ]
  },
  {
   "cell_type": "markdown",
   "id": "59a1d7a6",
   "metadata": {},
   "source": [
    "## PCA Analysis"
   ]
  },
  {
   "cell_type": "code",
   "execution_count": null,
   "id": "88383725",
   "metadata": {},
   "outputs": [],
   "source": []
  },
  {
   "cell_type": "code",
   "execution_count": null,
   "id": "bbd531d3",
   "metadata": {},
   "outputs": [],
   "source": [
    "origin_weather_df = scaled_sampled_df[ORIGIN_WEATHER_FEATURES]\n",
    "\n",
    "pca = PCA(n_components=2)\n",
    "transformed_data = pca.fit_transform(origin_weather_df)\n",
    "print(f\"Variance explained by each component: {pca.explained_variance_ratio_}\")\n",
    "\n",
    "pca_origin_weather_df = pd.DataFrame(transformed_data, columns=[\"PCA Origin Weather 1\", \"PCA Origin Weather 2\"])\n",
    "pca_origin_weather_df.head()"
   ]
  },
  {
   "cell_type": "code",
   "execution_count": null,
   "id": "5ecc59a1",
   "metadata": {},
   "outputs": [],
   "source": [
    "dest_weather_df = scaled_sampled_df[DEST_WEATHER_FEATURES]\n",
    "\n",
    "pca = PCA(n_components=2)\n",
    "transformed_data = pca.fit_transform(dest_weather_df)\n",
    "print(f\"Variance explained by each component: {pca.explained_variance_ratio_}\")\n",
    "\n",
    "pca_dest_weather_df = pd.DataFrame(transformed_data, columns=[\"PCA Dest Weather 1\", \"PCA Dest Weather 2\"])\n",
    "pca_dest_weather_df.head()"
   ]
  },
  {
   "cell_type": "code",
   "execution_count": null,
   "id": "c970c6f9",
   "metadata": {},
   "outputs": [],
   "source": [
    "final_sampled_df = pd.concat([\n",
    "    scaled_sampled_df[NON_WEATHER_FEATURES], \n",
    "    pca_origin_weather_df, pca_dest_weather_df, \n",
    "    sampled_df[list(CLASSIFIED_DEP_TIME.values())],\n",
    "    scaled_sampled_df[[\n",
    "       'Monthly Median Flight Delay', 'Monthly Median Departure Delay', \n",
    "    ]],\n",
    "    sampled_df[OUTCOMES]\n",
    "], axis=1)\n",
    "\n",
    "print(final_sampled_df.shape)\n",
    "final_sampled_df.head()"
   ]
  },
  {
   "cell_type": "code",
   "execution_count": null,
   "id": "ff8c793a",
   "metadata": {},
   "outputs": [],
   "source": []
  },
  {
   "cell_type": "code",
   "execution_count": null,
   "id": "a49f3e57",
   "metadata": {},
   "outputs": [],
   "source": [
    "threshold = 3\n",
    "col = 'Departure Delay'\n",
    "\n",
    "z_scores = np.abs((final_sampled_df[col] - final_sampled_df[col].mean()) / final_sampled_df[col].std())\n",
    "final_sampled_df = final_sampled_df.loc[z_scores < threshold]\n",
    "print(final_sampled_df.shape)\n",
    "final_sampled_df.head()"
   ]
  },
  {
   "cell_type": "code",
   "execution_count": null,
   "id": "940f4bab",
   "metadata": {},
   "outputs": [],
   "source": []
  },
  {
   "cell_type": "code",
   "execution_count": null,
   "id": "0af2632e",
   "metadata": {},
   "outputs": [],
   "source": [
    "print(final_sampled_df[\"Departure Delay\"].max())\n",
    "print(final_sampled_df[\"Departure Delay\"].min())\n",
    "print(final_sampled_df[\"Departure Delay\"].mean())\n",
    "print(final_sampled_df[\"Departure Delay\"].std())"
   ]
  },
  {
   "cell_type": "code",
   "execution_count": null,
   "id": "364d57c0",
   "metadata": {},
   "outputs": [],
   "source": [
    "print(final_sampled_df.shape)\n",
    "final_sampled_df.isnull().sum()"
   ]
  },
  {
   "cell_type": "markdown",
   "id": "16146375",
   "metadata": {},
   "source": [
    "## Binning Departure Delay (moved to modelling)"
   ]
  },
  {
   "cell_type": "code",
   "execution_count": null,
   "id": "e2c4e259",
   "metadata": {},
   "outputs": [],
   "source": [
    "def classify_dep_delay(row):\n",
    "    if row < -15:\n",
    "        return 0\n",
    "    elif row <= 15:\n",
    "        return 1\n",
    "    else:\n",
    "        return 2\n",
    "    \n",
    "final_sampled_df[\"Classified Departure Delay\"] = final_sampled_df[\"Departure Delay\"].apply(classify_dep_delay)\n"
   ]
  },
  {
   "cell_type": "code",
   "execution_count": null,
   "id": "518eff7f",
   "metadata": {},
   "outputs": [],
   "source": []
  },
  {
   "cell_type": "code",
   "execution_count": null,
   "id": "f7baa882",
   "metadata": {},
   "outputs": [],
   "source": [
    "bin_edges = pd.qcut(final_sampled_df[\"Departure Delay\"], q=num_bins, labels=False, duplicates='drop')\n",
    "\n",
    "final_sampled_df['Classified Departure Delay (Equal)'] = bin_edges\n",
    "final_sampled_df['Classified Departure Delay (Equal)'].value_counts()"
   ]
  },
  {
   "cell_type": "code",
   "execution_count": null,
   "id": "62e93f9b",
   "metadata": {},
   "outputs": [],
   "source": [
    "final_sampled_df[\"Classified Departure Delay\"].value_counts()"
   ]
  },
  {
   "cell_type": "code",
   "execution_count": null,
   "id": "472c3f92",
   "metadata": {},
   "outputs": [],
   "source": []
  },
  {
   "cell_type": "code",
   "execution_count": null,
   "id": "53962fd4",
   "metadata": {},
   "outputs": [],
   "source": []
  },
  {
   "cell_type": "code",
   "execution_count": null,
   "id": "034069ac",
   "metadata": {},
   "outputs": [],
   "source": [
    "print(final_sampled_df[final_sampled_df['Classified Departure Delay (Equal)'] == 0]['Departure Delay'].min())\n",
    "print(final_sampled_df[final_sampled_df['Classified Departure Delay (Equal)'] == 0]['Departure Delay'].max())\n",
    "print()\n",
    "print(final_sampled_df[final_sampled_df['Classified Departure Delay (Equal)'] == 1]['Departure Delay'].min())\n",
    "print(final_sampled_df[final_sampled_df['Classified Departure Delay (Equal)'] == 1]['Departure Delay'].max())\n",
    "print()\n",
    "print(final_sampled_df[final_sampled_df['Classified Departure Delay (Equal)'] == 2]['Departure Delay'].min())\n",
    "print(final_sampled_df[final_sampled_df['Classified Departure Delay (Equal)'] == 2]['Departure Delay'].max())\n",
    "print()\n",
    "print(final_sampled_df[final_sampled_df['Classified Departure Delay (Equal)'] == 3]['Departure Delay'].min())\n",
    "print(final_sampled_df[final_sampled_df['Classified Departure Delay (Equal)'] == 3]['Departure Delay'].max())\n",
    "# print()\n",
    "# print(final_sampled_df[final_sampled_df['Classified Departure Delay (Equal)'] == 4]['Departure Delay'].min())\n",
    "# print(final_sampled_df[final_sampled_df['Classified Departure Delay (Equal)'] == 4]['Departure Delay'].max())"
   ]
  },
  {
   "cell_type": "code",
   "execution_count": null,
   "id": "e7231b49",
   "metadata": {},
   "outputs": [],
   "source": []
  },
  {
   "cell_type": "code",
   "execution_count": null,
   "id": "c0c65d76",
   "metadata": {},
   "outputs": [],
   "source": []
  },
  {
   "cell_type": "code",
   "execution_count": null,
   "id": "4d9bca8f",
   "metadata": {},
   "outputs": [],
   "source": []
  },
  {
   "cell_type": "code",
   "execution_count": null,
   "id": "5ccff880",
   "metadata": {},
   "outputs": [],
   "source": []
  },
  {
   "cell_type": "code",
   "execution_count": null,
   "id": "854a343f",
   "metadata": {
    "scrolled": true
   },
   "outputs": [],
   "source": [
    "FINAL_COLS = [\n",
    "    'Airplane Age', 'Distance', \n",
    "    'Origin Total Operations', 'Destination Total Operations',\n",
    "    'PCA Origin Weather 1', 'PCA Origin Weather 2',\n",
    "    'PCA Dest Weather 1', 'PCA Dest Weather 2',\n",
    "    'Morning Dep Time', 'Regular Dep Time', 'Night Dep Time',\n",
    "    'Monthly Median Departure Delay',\n",
    "    'Departure Delay',\n",
    "]"
   ]
  },
  {
   "cell_type": "code",
   "execution_count": null,
   "id": "7f6ece5a",
   "metadata": {},
   "outputs": [],
   "source": [
    "final = final_sampled_df[FINAL_COLS]\n",
    "final"
   ]
  },
  {
   "cell_type": "markdown",
   "id": "681c45c8",
   "metadata": {},
   "source": [
    "## Exporting Post-EDA Dataset"
   ]
  },
  {
   "cell_type": "code",
   "execution_count": null,
   "id": "b31f146b",
   "metadata": {},
   "outputs": [],
   "source": [
    "final.to_csv(\"model_2018.csv\", index=False)"
   ]
  },
  {
   "cell_type": "code",
   "execution_count": null,
   "id": "124cf232",
   "metadata": {},
   "outputs": [],
   "source": []
  },
  {
   "cell_type": "code",
   "execution_count": null,
   "id": "00ef21ea",
   "metadata": {},
   "outputs": [],
   "source": []
  },
  {
   "cell_type": "markdown",
   "id": "aa635fce",
   "metadata": {},
   "source": [
    "# Visualisations"
   ]
  },
  {
   "cell_type": "markdown",
   "id": "98affb08",
   "metadata": {},
   "source": [
    "## Initial Columns"
   ]
  },
  {
   "cell_type": "code",
   "execution_count": null,
   "id": "7fb35df8",
   "metadata": {},
   "outputs": [],
   "source": [
    "corr = features_df.corr()\n",
    "\n",
    "fig = px.imshow(\n",
    "    corr,\n",
    "    x=corr.columns,\n",
    "    y=corr.columns,\n",
    "    color_continuous_scale='tealrose', \n",
    "    template=\"ggplot2\"\n",
    ")\n",
    "\n",
    "fig.update_layout(\n",
    "    title='Initial Correlation Heatmap',\n",
    "    yaxis_nticks=len(list(corr.columns)),\n",
    "    xaxis_nticks=len(list(corr.columns)),\n",
    ")\n",
    "\n",
    "fig.show()"
   ]
  },
  {
   "cell_type": "code",
   "execution_count": null,
   "id": "c06485b0",
   "metadata": {},
   "outputs": [],
   "source": [
    "col = \"Departure Time\"\n",
    "\n",
    "fig = px.histogram(\n",
    "    df, \n",
    "    x=col,\n",
    "    labels={'count': 'Frequency'},\n",
    "    color_discrete_sequence=['teal'],\n",
    "    title='Distribution of Departure Time values',\n",
    "    template=\"ggplot2\",\n",
    ")\n",
    "\n",
    "fig.update_layout(\n",
    "    autosize=True\n",
    ")\n",
    "fig.show()"
   ]
  },
  {
   "cell_type": "markdown",
   "id": "8c9af10b",
   "metadata": {},
   "source": [
    "## Distribution of Departure Delay"
   ]
  },
  {
   "cell_type": "code",
   "execution_count": null,
   "id": "67a97b8b",
   "metadata": {},
   "outputs": [],
   "source": [
    "fig = px.histogram(\n",
    "    df, \n",
    "    x='Departure Delay',             \n",
    "    labels={'count': 'Frequency'},\n",
    "    color_discrete_sequence=['teal'],\n",
    "    title='Distribution of Departure Delay values',\n",
    "    template=\"ggplot2\",\n",
    ")\n",
    "fig.update_layout(\n",
    "    autosize=True\n",
    ")\n",
    "fig.show()"
   ]
  },
  {
   "cell_type": "code",
   "execution_count": null,
   "id": "e8421b41",
   "metadata": {},
   "outputs": [],
   "source": [
    "rows = 350000\n",
    "sampled_df = df.sample(n=rows, random_state=42)\n",
    "sampled_df = sampled_df.reset_index()\n",
    "sampled_df.drop('index', axis=1, inplace=True)\n",
    "print(sampled_df.shape)\n",
    "sampled_df.head()\n",
    "\n",
    "fig = px.scatter(\n",
    "    sampled_df, \n",
    "    x='Date', \n",
    "    y='Departure Delay', \n",
    "    opacity=0.01,\n",
    "    template='ggplot2',\n",
    "    color_continuous_scale='tealrose'\n",
    "    title='Distribution of Departure Delay values across the year'\n",
    ")\n",
    "fig.update_layout(\n",
    "    autosize=True\n",
    ")\n",
    "fig.show()"
   ]
  },
  {
   "cell_type": "markdown",
   "id": "173faebd",
   "metadata": {},
   "source": [
    "## Airlines "
   ]
  },
  {
   "cell_type": "code",
   "execution_count": null,
   "id": "e265aed3",
   "metadata": {
    "scrolled": true
   },
   "outputs": [],
   "source": [
    "num_airline_flights = list(airline_type_df.sum())\n",
    "num_airline_flights\n",
    "\n",
    "fig = go.Figure()\n",
    "fig.add_trace(go.Bar(x=AIRLINE_COLS, y=num_airline_flights, name='Airlines'))\n",
    "\n",
    "fig.update_layout(\n",
    "    title='Number of Flights by Airline in 2018',\n",
    "    xaxis_title='Category',\n",
    "    yaxis_title='Count',\n",
    "    template=\"ggplot2\"\n",
    ")\n",
    "fig.show()"
   ]
  },
  {
   "cell_type": "code",
   "execution_count": null,
   "id": "aa8b7dc5",
   "metadata": {},
   "outputs": [],
   "source": []
  },
  {
   "cell_type": "markdown",
   "id": "27ffbd20",
   "metadata": {},
   "source": [
    "## Airplane"
   ]
  },
  {
   "cell_type": "code",
   "execution_count": null,
   "id": "4f684c54",
   "metadata": {},
   "outputs": [],
   "source": [
    "col = \"Airplane Age\"\n",
    "\n",
    "fig = px.histogram(\n",
    "    features_df, \n",
    "    x=col, \n",
    "    labels={'count': 'Frequency'},\n",
    "    color_discrete_sequence=['teal'],\n",
    "    title='Distribution of Departure Delay values',\n",
    "    template=\"ggplot2\",\n",
    ")\n",
    "fig.update_layout(\n",
    "    title=f\"{col} Histogram\"\n",
    ")\n",
    "fig.show()"
   ]
  },
  {
   "cell_type": "code",
   "execution_count": null,
   "id": "1c02241b",
   "metadata": {},
   "outputs": [],
   "source": []
  },
  {
   "cell_type": "code",
   "execution_count": null,
   "id": "894cee97",
   "metadata": {},
   "outputs": [],
   "source": []
  },
  {
   "cell_type": "code",
   "execution_count": null,
   "id": "e0379d64",
   "metadata": {},
   "outputs": [],
   "source": []
  },
  {
   "cell_type": "code",
   "execution_count": null,
   "id": "81f23741",
   "metadata": {},
   "outputs": [],
   "source": []
  },
  {
   "cell_type": "code",
   "execution_count": null,
   "id": "6f91ebed",
   "metadata": {},
   "outputs": [],
   "source": []
  },
  {
   "cell_type": "code",
   "execution_count": null,
   "id": "5e67fb7a",
   "metadata": {},
   "outputs": [],
   "source": []
  },
  {
   "cell_type": "code",
   "execution_count": null,
   "id": "e0363a15",
   "metadata": {},
   "outputs": [],
   "source": []
  },
  {
   "cell_type": "code",
   "execution_count": null,
   "id": "12f3067b",
   "metadata": {},
   "outputs": [],
   "source": []
  },
  {
   "cell_type": "code",
   "execution_count": null,
   "id": "7d5b5c2e",
   "metadata": {},
   "outputs": [],
   "source": []
  },
  {
   "cell_type": "code",
   "execution_count": null,
   "id": "cc932fe8",
   "metadata": {},
   "outputs": [],
   "source": []
  },
  {
   "cell_type": "code",
   "execution_count": null,
   "id": "9303756c",
   "metadata": {},
   "outputs": [],
   "source": []
  },
  {
   "cell_type": "code",
   "execution_count": null,
   "id": "6b5ade75",
   "metadata": {},
   "outputs": [],
   "source": []
  },
  {
   "cell_type": "code",
   "execution_count": null,
   "id": "ec0aba67",
   "metadata": {},
   "outputs": [],
   "source": []
  },
  {
   "cell_type": "code",
   "execution_count": null,
   "id": "bd000130",
   "metadata": {},
   "outputs": [],
   "source": []
  },
  {
   "cell_type": "code",
   "execution_count": null,
   "id": "4abdabd8",
   "metadata": {},
   "outputs": [],
   "source": []
  },
  {
   "cell_type": "code",
   "execution_count": null,
   "id": "2fee8e5e",
   "metadata": {},
   "outputs": [],
   "source": []
  }
 ],
 "metadata": {
  "kernelspec": {
   "display_name": "Python 3 (ipykernel)",
   "language": "python",
   "name": "python3"
  },
  "language_info": {
   "codemirror_mode": {
    "name": "ipython",
    "version": 3
   },
   "file_extension": ".py",
   "mimetype": "text/x-python",
   "name": "python",
   "nbconvert_exporter": "python",
   "pygments_lexer": "ipython3",
   "version": "3.7.10"
  }
 },
 "nbformat": 4,
 "nbformat_minor": 5
}
