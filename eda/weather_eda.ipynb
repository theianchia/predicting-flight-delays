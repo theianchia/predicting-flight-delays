{
 "cells": [
  {
   "cell_type": "code",
   "execution_count": null,
   "id": "fdff2071",
   "metadata": {},
   "outputs": [],
   "source": [
    "import pandas as pd\n",
    "import numpy as np\n",
    "import plotly.express as px\n",
    "import plotly.graph_objects as go\n",
    "from plotly.subplots import make_subplots\n",
    "import seaborn as sns\n",
    "\n",
    "from sklearn.preprocessing import StandardScaler\n",
    "\n",
    "from sklearn.decomposition import PCA\n",
    "\n",
    "from sklearn.cluster import KMeans"
   ]
  },
  {
   "cell_type": "code",
   "execution_count": null,
   "id": "49299757",
   "metadata": {},
   "outputs": [],
   "source": [
    "df = pd.read_csv(\"../scripts/eda_2018.csv\")"
   ]
  },
  {
   "cell_type": "code",
   "execution_count": null,
   "id": "1f7b7f8b",
   "metadata": {},
   "outputs": [],
   "source": [
    "print(df.shape)\n",
    "df.head()"
   ]
  },
  {
   "cell_type": "code",
   "execution_count": null,
   "id": "9932c25c",
   "metadata": {},
   "outputs": [],
   "source": [
    "df.isnull().sum()"
   ]
  },
  {
   "cell_type": "code",
   "execution_count": null,
   "id": "4bdfd117",
   "metadata": {},
   "outputs": [],
   "source": []
  },
  {
   "cell_type": "code",
   "execution_count": null,
   "id": "a080979d",
   "metadata": {},
   "outputs": [],
   "source": [
    "FEATURES = [\n",
    "    'Departure Time', 'Origin', 'Destination', 'Month',\n",
    "    'Origin Weather Code', 'Origin Temperature Max',\n",
    "    'Origin Temperature Min', 'Origin Temperature Mean',\n",
    "    'Origin Apparent Temperature Max', 'Origin Apparent Temperature Min',\n",
    "    'Origin Apparent Temperature Mean', 'Origin Sunrise', 'Origin Sunset',\n",
    "    'Origin Shortwave Radiation', 'Origin Precipitation', 'Origin Rain',\n",
    "    'Origin Snowfall', 'Origin Precipitation Hours', 'Origin Windspeed',\n",
    "    'Origin Windgusts', 'Origin Wind Direction',\n",
    "    'Origin Evapotranspiration', 'Destination Weather Code',\n",
    "    'Destination Temperature Max', 'Destination Temperature Min',\n",
    "    'Destination Temperature Mean', 'Destination Apparent Temperature Max',\n",
    "    'Destination Apparent Temperature Min',\n",
    "    'Destination Apparent Temperature Mean', 'Destination Sunrise',\n",
    "    'Destination Sunset', 'Destination Shortwave Radiation',\n",
    "    'Destination Precipitation', 'Destination Rain', 'Destination Snowfall',\n",
    "    'Destination Precipitation Hours', 'Destination Windspeed',\n",
    "    'Destination Windgusts', 'Destination Wind Direction',\n",
    "    'Destination Evapotranspiration',\n",
    "    'Departure Delay',\n",
    "]\n",
    "weather_df = df[FEATURES]"
   ]
  },
  {
   "cell_type": "code",
   "execution_count": null,
   "id": "b1c889d5",
   "metadata": {},
   "outputs": [],
   "source": [
    "n = 300000\n",
    "sampled_weather_df = weather_df.sample(n)\n",
    "sampled_weather_df.shape"
   ]
  },
  {
   "cell_type": "code",
   "execution_count": null,
   "id": "713ecdd9",
   "metadata": {},
   "outputs": [],
   "source": [
    "corr = sampled_weather_df.corr()\n",
    "\n",
    "fig = px.imshow(\n",
    "    corr,\n",
    "    x=corr.columns,\n",
    "    y=corr.columns,\n",
    "    color_continuous_scale='tealrose', \n",
    "    template=\"plotly_dark\"\n",
    ")\n",
    "\n",
    "fig.update_layout(title='Correlation Heatmap')\n",
    "\n",
    "fig.show()"
   ]
  },
  {
   "cell_type": "code",
   "execution_count": null,
   "id": "4a907e35",
   "metadata": {},
   "outputs": [],
   "source": [
    "MEDIAN_WEATHER_COLS = [\n",
    "    'Origin Temperature Max', 'Origin Temperature Min', 'Origin Temperature Mean',\n",
    "    'Origin Apparent Temperature Max', 'Origin Apparent Temperature Min', 'Origin Apparent Temperature Mean', \n",
    "    'Origin Shortwave Radiation', 'Origin Precipitation', 'Origin Rain', 'Origin Snowfall',\n",
    "    'Origin Windspeed', 'Origin Windgusts', 'Origin Wind Direction', 'Origin Evapotranspiration',\n",
    "    'Departure Delay'\n",
    "]\n",
    "\n",
    "MODE_WEATHER_COLS = [\n",
    "    'Origin Weather Code', 'Origin Precipitation Hours'\n",
    "]\n",
    "\n",
    "monthly_median_df = sampled_weather_df.groupby('Month')[MEDIAN_WEATHER_COLS].median().reset_index()\n",
    "monthly_mode_df = sampled_weather_df.groupby('Month')[MODE_WEATHER_COLS].agg(lambda x:x.value_counts().index[0]).reset_index()"
   ]
  },
  {
   "cell_type": "code",
   "execution_count": null,
   "id": "165a1d67",
   "metadata": {},
   "outputs": [],
   "source": [
    "monthly_median_df['Origin Monthly Median Temperature Range'] = monthly_median_df['Origin Temperature Max'] - monthly_median_df['Origin Temperature Min']\n",
    "monthly_median_df['Origin Monthly Median Apparent Temperature Range'] = monthly_median_df['Origin Apparent Temperature Max'] - monthly_median_df['Origin Apparent Temperature Min']"
   ]
  },
  {
   "cell_type": "code",
   "execution_count": null,
   "id": "811a51d7",
   "metadata": {},
   "outputs": [],
   "source": [
    "RENAMED_MONTHLY_WEATHER_COLS = {\n",
    "    'Origin Shortwave Radiation':'Origin Monthly Median Shortwave Radiation', \n",
    "    'Origin Precipitation': 'Origin Monthly Median Precipitation', \n",
    "    'Origin Rain': 'Origin Monthly Median Rain',\n",
    "    'Origin Snowfall': 'Origin Monthly Median Snowfall', \n",
    "    'Origin Windspeed': 'Origin Monthly Median Windspeed', \n",
    "    'Origin Windgusts': 'Origin Monthly Median Windgusts', \n",
    "    'Origin Wind Direction': 'Origin Monthly Median Wind Direction',\n",
    "    'Origin Evapotranspiration': 'Origin Monthly Median Evapotranspiration', \n",
    "    'Departure Delay': 'Monthly Median Departure Delay'\n",
    "}\n",
    "\n",
    "SELECTED_MONTHLY_WEATHER_COLS = [\n",
    "    'Month',\n",
    "    'Origin Monthly Median Temperature Range',\n",
    "    'Origin Monthly Median Apparent Temperature Range',\n",
    "    'Origin Monthly Median Shortwave Radiation',\n",
    "    'Origin Monthly Median Precipitation',\n",
    "    'Origin Monthly Median Rain',\n",
    "    'Origin Monthly Median Snowfall',\n",
    "    'Origin Monthly Median Windspeed',\n",
    "    'Origin Monthly Median Windgusts',\n",
    "    'Origin Monthly Median Wind Direction',\n",
    "    'Origin Monthly Median Evapotranspiration',\n",
    "    'Monthly Median Departure Delay'\n",
    "]\n",
    "\n",
    "monthly_median_df.rename(columns=RENAMED_MONTHLY_WEATHER_COLS, inplace = True)\n",
    "monthly_df = monthly_median_df[SELECTED_MONTHLY_WEATHER_COLS]\n",
    "monthly_df['Origin Monthly Mode Weather Code'] = monthly_mode_df['Origin Weather Code']\n",
    "monthly_df['Origin Monthly Mode Precipitation Hours'] = monthly_mode_df['Origin Precipitation Hours']"
   ]
  },
  {
   "cell_type": "code",
   "execution_count": null,
   "id": "84ba90b6",
   "metadata": {},
   "outputs": [],
   "source": [
    "new_weather_df = sampled_weather_df[['Departure Delay', 'Month']]\n",
    "new_weather_df = new_weather_df.merge(monthly_df.set_index('Month'), on='Month', how='left')\n",
    "new_weather_df.head()"
   ]
  },
  {
   "cell_type": "code",
   "execution_count": null,
   "id": "243804fd",
   "metadata": {},
   "outputs": [],
   "source": []
  },
  {
   "cell_type": "code",
   "execution_count": null,
   "id": "370476e0",
   "metadata": {},
   "outputs": [],
   "source": [
    "num_bins = 5\n",
    "\n",
    "bin_edges = pd.qcut(sampled_weather_df['Origin Precipitation Hours'], q=num_bins, labels=False, duplicates='drop')\n",
    "\n",
    "sampled_weather_df['Origin Precipitation Hours (Equal)'] = bin_edges\n",
    "sampled_weather_df['Origin Precipitation Hours (Equal)'].value_counts()"
   ]
  },
  {
   "cell_type": "code",
   "execution_count": null,
   "id": "658a629b",
   "metadata": {},
   "outputs": [],
   "source": [
    "fig = px.scatter(\n",
    "    sampled_weather_df,\n",
    "    x='Origin Precipitation Hours', \n",
    "    y='Departure Delay', \n",
    "    color='Origin Precipitation Hours (Equal)',\n",
    "    color_continuous_scale='tealrose', \n",
    "    template=\"plotly_dark\"\n",
    ")\n",
    "fig.update_layout(title='Scatter Plot after binning')\n",
    "fig.show()"
   ]
  },
  {
   "cell_type": "code",
   "execution_count": null,
   "id": "e4ebc492",
   "metadata": {},
   "outputs": [],
   "source": []
  },
  {
   "cell_type": "code",
   "execution_count": null,
   "id": "ba0bc492",
   "metadata": {},
   "outputs": [],
   "source": [
    "sampled_weather_df['Origin Daylight'] = pd.to_datetime(sampled_weather_df['Origin Sunset']) - pd.to_datetime(sampled_weather_df['Origin Sunrise'])\n",
    "sampled_weather_df['Origin Daylight'] = sampled_weather_df['Origin Daylight'].apply(lambda x:x.total_seconds())\n",
    "\n",
    "num_bins = 4\n",
    "\n",
    "bin_edges = pd.qcut(sampled_weather_df['Origin Daylight'], q=num_bins, labels=False, duplicates='drop')\n",
    "\n",
    "sampled_weather_df['Origin Daylight (Equal)'] = bin_edges\n",
    "sampled_weather_df['Origin Daylight (Equal)'].value_counts()"
   ]
  },
  {
   "cell_type": "code",
   "execution_count": null,
   "id": "415ded3a",
   "metadata": {},
   "outputs": [],
   "source": [
    "fig = px.scatter(\n",
    "    sampled_weather_df,\n",
    "    x='Origin Daylight', \n",
    "    y='Departure Delay',\n",
    "    color='Origin Daylight (Equal)', \n",
    "    color_continuous_scale='tealrose', \n",
    "    template=\"plotly_dark\"\n",
    ")\n",
    "fig.update_layout(title='Scatter Plot after binning')\n",
    "fig.show()"
   ]
  },
  {
   "cell_type": "code",
   "execution_count": null,
   "id": "4eea1b76",
   "metadata": {},
   "outputs": [],
   "source": [
    "fig = px.scatter(\n",
    "    sampled_weather_df,\n",
    "    x='Origin Weather Code', \n",
    "    y='Departure Delay',\n",
    "    color='Origin Weather Code', \n",
    "    color_continuous_scale='tealrose', \n",
    "    template=\"plotly_dark\"\n",
    ")\n",
    "fig.update_layout(title='Scatter Plot after binning')\n",
    "fig.show()"
   ]
  },
  {
   "cell_type": "code",
   "execution_count": null,
   "id": "8f5548d0",
   "metadata": {},
   "outputs": [],
   "source": [
    "SELECTED_WEATHER_COLS = [\n",
    "    'Origin Shortwave Radiation', 'Origin Precipitation', 'Origin Rain',\n",
    "    'Origin Snowfall', 'Origin Windspeed', 'Origin Windgusts', 'Origin Wind Direction',\n",
    "    'Origin Evapotranspiration',\n",
    "    'Departure Delay'\n",
    "]\n",
    "\n",
    "selected_df = sampled_weather_df[SELECTED_WEATHER_COLS]\n",
    "corr = selected_df.corr()\n",
    "\n",
    "fig = px.imshow(\n",
    "    corr,\n",
    "    x=corr.columns,\n",
    "    y=corr.columns,\n",
    "    color_continuous_scale='tealrose', \n",
    "    template=\"plotly_dark\"\n",
    ")\n",
    "\n",
    "fig.update_layout(title='Correlation Heatmap')\n",
    "\n",
    "fig.show()"
   ]
  },
  {
   "cell_type": "code",
   "execution_count": null,
   "id": "76823302",
   "metadata": {},
   "outputs": [],
   "source": []
  },
  {
   "cell_type": "code",
   "execution_count": null,
   "id": "5da81b1b",
   "metadata": {},
   "outputs": [],
   "source": []
  },
  {
   "cell_type": "code",
   "execution_count": null,
   "id": "1ec59149",
   "metadata": {},
   "outputs": [],
   "source": [
    "corr = new_weather_df.corr()\n",
    "\n",
    "fig = px.imshow(\n",
    "    corr,\n",
    "    x=corr.columns,\n",
    "    y=corr.columns,\n",
    "    color_continuous_scale='tealrose', \n",
    "    template=\"plotly_dark\"\n",
    ")\n",
    "\n",
    "fig.update_layout(title='Correlation Heatmap')\n",
    "\n",
    "fig.show()"
   ]
  },
  {
   "cell_type": "code",
   "execution_count": null,
   "id": "55166682",
   "metadata": {},
   "outputs": [],
   "source": [
    "final_df = sampled_weather_df[['Origin Precipitation', 'Origin Weather Code', 'Origin Daylight (Equal)', 'Origin Precipitation Hours (Equal)', 'Departure Delay']]\n",
    "\n",
    "corr = final_df.corr()\n",
    "\n",
    "fig = px.imshow(\n",
    "    corr,\n",
    "    x=corr.columns,\n",
    "    y=corr.columns,\n",
    "    color_continuous_scale='tealrose', \n",
    "    template=\"plotly_dark\"\n",
    ")\n",
    "\n",
    "fig.update_layout(title='Correlation Heatmap')\n",
    "\n",
    "fig.show()"
   ]
  },
  {
   "cell_type": "code",
   "execution_count": null,
   "id": "0f50308a",
   "metadata": {},
   "outputs": [],
   "source": []
  }
 ],
 "metadata": {
  "kernelspec": {
   "display_name": "Python 3 (ipykernel)",
   "language": "python",
   "name": "python3"
  },
  "language_info": {
   "codemirror_mode": {
    "name": "ipython",
    "version": 3
   },
   "file_extension": ".py",
   "mimetype": "text/x-python",
   "name": "python",
   "nbconvert_exporter": "python",
   "pygments_lexer": "ipython3",
   "version": "3.7.10"
  }
 },
 "nbformat": 4,
 "nbformat_minor": 5
}
