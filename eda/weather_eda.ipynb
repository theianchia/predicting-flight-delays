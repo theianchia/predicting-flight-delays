{
 "cells": [
  {
   "cell_type": "code",
   "execution_count": null,
   "id": "fdff2071",
   "metadata": {},
   "outputs": [],
   "source": [
    "import pandas as pd\n",
    "import numpy as np\n",
    "import plotly.express as px\n",
    "import plotly.graph_objects as go\n",
    "from plotly.subplots import make_subplots\n",
    "import seaborn as sns\n",
    "import matplotlib.pyplot as plt\n",
    "import seaborn as sns\n",
    "from datetime import datetime, date, timedelta\n",
    "import time\n",
    "import statsmodels.api as sm\n",
    "\n",
    "from sklearn.preprocessing import StandardScaler\n",
    "\n",
    "from sklearn.decomposition import PCA\n",
    "\n",
    "from sklearn.cluster import KMeans"
   ]
  },
  {
   "cell_type": "code",
   "execution_count": null,
   "id": "49299757",
   "metadata": {},
   "outputs": [],
   "source": [
    "df = pd.read_csv(\"eda_2018.csv\")"
   ]
  },
  {
   "cell_type": "code",
   "execution_count": null,
   "id": "1f7b7f8b",
   "metadata": {},
   "outputs": [],
   "source": [
    "print(df.shape)\n",
    "df.isnull().sum()"
   ]
  },
  {
   "cell_type": "code",
   "execution_count": null,
   "id": "5767bd50",
   "metadata": {},
   "outputs": [],
   "source": [
    "df.head()"
   ]
  },
  {
   "cell_type": "code",
   "execution_count": null,
   "id": "08e0e6cb",
   "metadata": {},
   "outputs": [],
   "source": []
  },
  {
   "cell_type": "code",
   "execution_count": null,
   "id": "9932c25c",
   "metadata": {},
   "outputs": [],
   "source": []
  },
  {
   "cell_type": "code",
   "execution_count": null,
   "id": "71c1c5b6",
   "metadata": {},
   "outputs": [],
   "source": []
  },
  {
   "cell_type": "code",
   "execution_count": null,
   "id": "ecc97dd0",
   "metadata": {},
   "outputs": [],
   "source": []
  },
  {
   "cell_type": "code",
   "execution_count": null,
   "id": "3cae2358",
   "metadata": {},
   "outputs": [],
   "source": []
  },
  {
   "cell_type": "code",
   "execution_count": null,
   "id": "7d301bb3",
   "metadata": {},
   "outputs": [],
   "source": [
    "df['Departure Delay'] = df['Departure Delay'] - df['Security Delay']"
   ]
  },
  {
   "cell_type": "code",
   "execution_count": null,
   "id": "e1b62f98",
   "metadata": {},
   "outputs": [],
   "source": [
    "threshold = 3\n",
    "col = 'Departure Delay'\n",
    "\n",
    "z_scores = np.abs((df[col] - df[col].mean()) / df[col].std())\n",
    "df = df.loc[z_scores < threshold]\n",
    "df.shape"
   ]
  },
  {
   "cell_type": "code",
   "execution_count": null,
   "id": "da0ba565",
   "metadata": {},
   "outputs": [],
   "source": [
    "print(df[col].max())\n",
    "print(df[col].mean())\n",
    "print(df[col].median())\n",
    "print(df[col].min())"
   ]
  },
  {
   "cell_type": "code",
   "execution_count": null,
   "id": "96dde6dd",
   "metadata": {},
   "outputs": [],
   "source": []
  },
  {
   "cell_type": "code",
   "execution_count": null,
   "id": "a080979d",
   "metadata": {},
   "outputs": [],
   "source": [
    "FEATURES = [\n",
    "    'Date', 'Month',\n",
    "    'Origin Weather Code', 'Origin Temperature Max',\n",
    "    'Origin Temperature Min', 'Origin Temperature Mean',\n",
    "    'Origin Apparent Temperature Max', 'Origin Apparent Temperature Min',\n",
    "    'Origin Apparent Temperature Mean', 'Origin Sunrise', 'Origin Sunset',\n",
    "    'Origin Shortwave Radiation', 'Origin Precipitation', 'Origin Rain',\n",
    "    'Origin Snowfall', 'Origin Precipitation Hours', 'Origin Windspeed',\n",
    "    'Origin Windgusts', 'Origin Wind Direction',\n",
    "    'Origin Evapotranspiration',\n",
    "    'Departure Delay',\n",
    "]\n",
    "\n",
    "# n = 300000\n",
    "# weather_df = df[FEATURES]\n",
    "# sampled_weather_df = weather_df.sample(n)\n",
    "# sampled_weather_df.shape\n",
    "\n",
    "sampled_weather_df = df[FEATURES]"
   ]
  },
  {
   "cell_type": "markdown",
   "id": "55860aec",
   "metadata": {},
   "source": [
    "## Initial Correlation Matrix"
   ]
  },
  {
   "cell_type": "code",
   "execution_count": null,
   "id": "713ecdd9",
   "metadata": {},
   "outputs": [],
   "source": [
    "corr = sampled_weather_df.corr()\n",
    "\n",
    "fig = px.imshow(\n",
    "    corr,\n",
    "    x=corr.columns,\n",
    "    y=corr.columns,\n",
    "    color_continuous_scale='tealrose', \n",
    "    title='Weather features Correlation Heatmap',\n",
    "    template=\"ggplot2\",\n",
    ")\n",
    "\n",
    "fig.update_layout(\n",
    "    autosize=True,\n",
    "    yaxis_nticks=len(list(corr.columns)),\n",
    "    xaxis_nticks=len(list(corr.columns)),\n",
    ")\n",
    "\n",
    "fig.show()"
   ]
  },
  {
   "cell_type": "code",
   "execution_count": null,
   "id": "d9085608",
   "metadata": {},
   "outputs": [],
   "source": []
  },
  {
   "cell_type": "code",
   "execution_count": null,
   "id": "f842eef0",
   "metadata": {},
   "outputs": [],
   "source": []
  },
  {
   "cell_type": "markdown",
   "id": "eb3fa5dc",
   "metadata": {},
   "source": [
    "## Forward Selection"
   ]
  },
  {
   "cell_type": "code",
   "execution_count": null,
   "id": "9aef5f2f",
   "metadata": {},
   "outputs": [],
   "source": [
    "y = sampled_weather_df[\"Departure Delay\"]\n",
    "X = sampled_weather_df[[\n",
    "    'Origin Weather Code', 'Origin Temperature Max',\n",
    "    'Origin Temperature Min', 'Origin Temperature Mean',\n",
    "    'Origin Apparent Temperature Max', 'Origin Apparent Temperature Min',\n",
    "    'Origin Apparent Temperature Mean', 'Origin Shortwave Radiation',\n",
    "    'Origin Precipitation', 'Origin Rain', 'Origin Snowfall',\n",
    "    'Origin Precipitation Hours', 'Origin Windspeed', 'Origin Windgusts',\n",
    "    'Origin Wind Direction', 'Origin Evapotranspiration'\n",
    "]]"
   ]
  },
  {
   "cell_type": "code",
   "execution_count": null,
   "id": "d038aebd",
   "metadata": {},
   "outputs": [],
   "source": [
    "def processSubset(feature_set):\n",
    "    # Fit model on feature_set and calculate RSS\n",
    "    model = sm.OLS(y,X[list(feature_set)])\n",
    "    regr = model.fit()\n",
    "    RSS = ((regr.predict(X[list(feature_set)]) - y) ** 2).sum()\n",
    "    return {\"model\":regr, \"RSS\":RSS}\n",
    "\n",
    "def forward(predictors):\n",
    "\n",
    "    # Pull out predictors we still need to process\n",
    "    remaining_predictors = [p for p in X.columns if p not in predictors]\n",
    "    \n",
    "    tic = time.time()\n",
    "    \n",
    "    results = []\n",
    "    \n",
    "    for p in remaining_predictors:\n",
    "        results.append(processSubset(predictors+[p]))\n",
    "    \n",
    "    # Wrap everything up in a nice dataframe\n",
    "    models = pd.DataFrame(results)\n",
    "    \n",
    "    # Choose the model with the highest RSS\n",
    "    best_model = models.loc[models['RSS'].argmin()]\n",
    "    \n",
    "    toc = time.time()\n",
    "    print(\"Processed \", models.shape[0], \"models on\", len(predictors)+1, \"predictors in\", (toc-tic), \"seconds.\")\n",
    "    \n",
    "    # Return the best model, along with some other useful information about the model\n",
    "    return best_model"
   ]
  },
  {
   "cell_type": "code",
   "execution_count": null,
   "id": "8de1a3c3",
   "metadata": {},
   "outputs": [],
   "source": [
    "models_fwd = pd.DataFrame(columns=[\"RSS\", \"model\"])\n",
    "\n",
    "tic = time.time()\n",
    "predictors = []\n",
    "\n",
    "for i in range(1,6):    \n",
    "    models_fwd.loc[i] = forward(predictors)\n",
    "    predictors = models_fwd.loc[i][\"model\"].model.exog_names\n",
    "\n",
    "toc = time.time()\n",
    "print(\"Total elapsed time:\", (toc-tic), \"seconds.\")"
   ]
  },
  {
   "cell_type": "code",
   "execution_count": null,
   "id": "d623be2f",
   "metadata": {},
   "outputs": [],
   "source": [
    "print(models_fwd.loc[1, \"model\"].summary())\n",
    "print(models_fwd.loc[2, \"model\"].summary())"
   ]
  },
  {
   "cell_type": "code",
   "execution_count": null,
   "id": "6c86a4d4",
   "metadata": {},
   "outputs": [],
   "source": [
    "print(models_fwd.loc[3, \"model\"].summary())\n",
    "print(models_fwd.loc[4, \"model\"].summary())"
   ]
  },
  {
   "cell_type": "code",
   "execution_count": null,
   "id": "ff8acb3f",
   "metadata": {},
   "outputs": [],
   "source": [
    "print(models_fwd.loc[5, \"model\"].summary())"
   ]
  },
  {
   "cell_type": "markdown",
   "id": "e227ff8f",
   "metadata": {},
   "source": [
    "* Not much change in Adj r squared beyond 3. \n",
    "* Hence for departure delay, Origin Windgusts, Origin Precipitation Hours, Origin Shortwave Radiation should be retained\n",
    "* Rest to be dropped"
   ]
  },
  {
   "cell_type": "code",
   "execution_count": null,
   "id": "a92d1a1f",
   "metadata": {},
   "outputs": [],
   "source": []
  },
  {
   "cell_type": "markdown",
   "id": "ee9f8d19",
   "metadata": {},
   "source": [
    "## Smoothening"
   ]
  },
  {
   "cell_type": "code",
   "execution_count": null,
   "id": "de58832e",
   "metadata": {},
   "outputs": [],
   "source": [
    "df_smooth_origin = sampled_weather_df[[\n",
    "    'Date','Origin', 'Origin Temperature Max',\n",
    "    'Origin Temperature Min', 'Origin Temperature Mean',\n",
    "    'Origin Apparent Temperature Max', 'Origin Apparent Temperature Min',\n",
    "    'Origin Apparent Temperature Mean',\n",
    "    'Origin Shortwave Radiation', 'Origin Precipitation', 'Origin Rain',\n",
    "    'Origin Snowfall', 'Origin Precipitation Hours', 'Origin Windspeed',\n",
    "    'Origin Windgusts', 'Origin Wind Direction',\n",
    "    'Origin Evapotranspiration'\n",
    "]]"
   ]
  },
  {
   "cell_type": "code",
   "execution_count": null,
   "id": "2ab8ca4f",
   "metadata": {},
   "outputs": [],
   "source": [
    "df_smooth_origin = df_smooth_origin.drop_duplicates()"
   ]
  },
  {
   "cell_type": "code",
   "execution_count": null,
   "id": "e6692c42",
   "metadata": {},
   "outputs": [],
   "source": [
    "for column in list(df_smooth_origin.iloc[:,2:].columns):\n",
    "    df_smooth_origin[column] = df_smooth_origin.groupby('Origin')[column].transform(lambda x: x.rolling(window=2).mean())"
   ]
  },
  {
   "cell_type": "code",
   "execution_count": null,
   "id": "2d4eae92",
   "metadata": {},
   "outputs": [],
   "source": [
    "df_merged = sampled_weather_df[[\"Date\", \"Origin\", \"Departure Delay\"]]\n",
    "df_merged = pd.merge(\n",
    "    df_merged,\n",
    "    df_smooth_origin, \n",
    "    how=\"left\", \n",
    "    on=[\"Date\", \"Origin\"]\n",
    ")\n",
    "df_merged = df_merged.dropna()\n",
    "df_merged.iloc[:, 3:].corr()['Departure Delay']"
   ]
  },
  {
   "cell_type": "code",
   "execution_count": null,
   "id": "47d4fbc1",
   "metadata": {},
   "outputs": [],
   "source": []
  },
  {
   "cell_type": "code",
   "execution_count": null,
   "id": "36c330b2",
   "metadata": {},
   "outputs": [],
   "source": []
  },
  {
   "cell_type": "code",
   "execution_count": null,
   "id": "127394d9",
   "metadata": {},
   "outputs": [],
   "source": []
  },
  {
   "cell_type": "markdown",
   "id": "f961702e",
   "metadata": {},
   "source": [
    "## Monthly Macro Trends"
   ]
  },
  {
   "cell_type": "code",
   "execution_count": null,
   "id": "4a907e35",
   "metadata": {},
   "outputs": [],
   "source": [
    "MEDIAN_WEATHER_COLS = [\n",
    "    'Origin Temperature Max', 'Origin Temperature Min', 'Origin Temperature Mean',\n",
    "    'Origin Apparent Temperature Max', 'Origin Apparent Temperature Min', 'Origin Apparent Temperature Mean', \n",
    "    'Origin Shortwave Radiation', 'Origin Precipitation', 'Origin Rain', 'Origin Snowfall',\n",
    "    'Origin Windspeed', 'Origin Windgusts', 'Origin Wind Direction', 'Origin Evapotranspiration',\n",
    "    'Departure Delay'\n",
    "]\n",
    "\n",
    "MODE_WEATHER_COLS = [\n",
    "    'Origin Weather Code', 'Origin Precipitation Hours'\n",
    "]\n",
    "\n",
    "monthly_median_df = sampled_weather_df.groupby('Month')[MEDIAN_WEATHER_COLS].median().reset_index()\n",
    "monthly_mode_df = sampled_weather_df.groupby('Month')[MODE_WEATHER_COLS].agg(lambda x:x.value_counts().index[0]).reset_index()\n"
   ]
  },
  {
   "cell_type": "code",
   "execution_count": null,
   "id": "9f8dc8e3",
   "metadata": {},
   "outputs": [],
   "source": [
    "monthly_median_df['Origin Monthly Median Temperature Range'] = monthly_median_df['Origin Temperature Max'] - monthly_median_df['Origin Temperature Min']\n",
    "monthly_median_df['Origin Monthly Median Apparent Temperature Range'] = monthly_median_df['Origin Apparent Temperature Max'] - monthly_median_df['Origin Apparent Temperature Min']\n"
   ]
  },
  {
   "cell_type": "code",
   "execution_count": null,
   "id": "831fcde9",
   "metadata": {},
   "outputs": [],
   "source": [
    "RENAMED_MONTHLY_WEATHER_COLS = {\n",
    "    'Origin Shortwave Radiation':'Origin Monthly Median Shortwave Radiation', \n",
    "    'Origin Precipitation': 'Origin Monthly Median Precipitation', \n",
    "    'Origin Rain': 'Origin Monthly Median Rain',\n",
    "    'Origin Snowfall': 'Origin Monthly Median Snowfall', \n",
    "    'Origin Windspeed': 'Origin Monthly Median Windspeed', \n",
    "    'Origin Windgusts': 'Origin Monthly Median Windgusts', \n",
    "    'Origin Wind Direction': 'Origin Monthly Median Wind Direction',\n",
    "    'Origin Evapotranspiration': 'Origin Monthly Median Evapotranspiration', \n",
    "    'Departure Delay': 'Monthly Median Departure Delay'\n",
    "}\n",
    "\n",
    "SELECTED_MONTHLY_WEATHER_COLS = [\n",
    "    'Month',\n",
    "    'Origin Monthly Median Temperature Range',\n",
    "    'Origin Monthly Median Apparent Temperature Range',\n",
    "    'Origin Monthly Median Shortwave Radiation',\n",
    "    'Origin Monthly Median Precipitation',\n",
    "    'Origin Monthly Median Rain',\n",
    "    'Origin Monthly Median Snowfall',\n",
    "    'Origin Monthly Median Windspeed',\n",
    "    'Origin Monthly Median Windgusts',\n",
    "    'Origin Monthly Median Wind Direction',\n",
    "    'Origin Monthly Median Evapotranspiration',\n",
    "    'Monthly Median Departure Delay'\n",
    "]\n",
    "\n",
    "monthly_median_df.rename(columns=RENAMED_MONTHLY_WEATHER_COLS, inplace = True)\n",
    "monthly_df = monthly_median_df[SELECTED_MONTHLY_WEATHER_COLS]\n",
    "monthly_df = monthly_median_df\n",
    "monthly_df['Origin Monthly Mode Weather Code'] = monthly_mode_df['Origin Weather Code']\n",
    "monthly_df['Origin Monthly Mode Precipitation Hours'] = monthly_mode_df['Origin Precipitation Hours']"
   ]
  },
  {
   "cell_type": "code",
   "execution_count": null,
   "id": "2876c62e",
   "metadata": {},
   "outputs": [],
   "source": [
    "tmp = sampled_weather_df[['Departure Delay', 'Month']]\n",
    "new_monthly_df = tmp.merge(monthly_df.set_index('Month'), on='Month', how='left')\n",
    "print(new_monthly_df.shape)\n",
    "new_monthly_df.head()"
   ]
  },
  {
   "cell_type": "code",
   "execution_count": null,
   "id": "e7d1c2fc",
   "metadata": {},
   "outputs": [],
   "source": [
    "corr = new_monthly_df.corr()\n",
    "\n",
    "fig = px.imshow(\n",
    "    corr,\n",
    "    x=corr.columns,\n",
    "    y=corr.columns,\n",
    "    color_continuous_scale='tealrose', \n",
    "    template=\"ggplot2\",\n",
    "    title='Monthly Macro Weather Features Correlation Matrix Heatmap',\n",
    "    text_auto=True,\n",
    ")\n",
    "\n",
    "fig.update_layout(\n",
    "    autosize=True,\n",
    "    yaxis_nticks=len(list(corr.columns)),\n",
    "    xaxis_nticks=len(list(corr.columns)),\n",
    ")\n",
    "\n",
    "fig.show()"
   ]
  },
  {
   "cell_type": "code",
   "execution_count": null,
   "id": "4805e7e9",
   "metadata": {},
   "outputs": [],
   "source": [
    "SELECTED = [\n",
    "    'Origin Monthly Median Precipitation', 'Origin Monthly Median Windspeed',\n",
    "    'Origin Monthly Median Windgusts',\n",
    "    'Departure Delay', 'Monthly Median Departure Delay', \n",
    "]\n",
    "selected = new_monthly_df[SELECTED]\n",
    "\n",
    "corr = selected.corr()\n",
    "\n",
    "fig = px.imshow(\n",
    "    corr,\n",
    "    x=corr.columns,\n",
    "    y=corr.columns,\n",
    "    color_continuous_scale='tealrose', \n",
    "    template=\"ggplot2\",\n",
    "    title='Monthly Macro Weather Features Correlation Matrix Heatmap',\n",
    "    text_auto=True,\n",
    ")\n",
    "\n",
    "fig.update_layout(\n",
    "    autosize=True,\n",
    "    yaxis_nticks=len(list(corr.columns)),\n",
    "    xaxis_nticks=len(list(corr.columns)),\n",
    ")\n",
    "\n",
    "fig.show()"
   ]
  },
  {
   "cell_type": "code",
   "execution_count": null,
   "id": "b315888d",
   "metadata": {},
   "outputs": [],
   "source": [
    "SELECTED_MONTHLY_WEATHER_COLS = [\n",
    "    'Origin Monthly Median Temperature Range',\n",
    "    'Origin Monthly Median Apparent Temperature Range',\n",
    "    'Origin Monthly Median Shortwave Radiation',\n",
    "    'Origin Monthly Median Precipitation',\n",
    "    'Origin Monthly Median Rain',\n",
    "    'Origin Monthly Median Snowfall',\n",
    "    'Origin Monthly Median Windspeed',\n",
    "    'Origin Monthly Median Windgusts',\n",
    "    'Origin Monthly Median Wind Direction',\n",
    "    'Origin Monthly Median Evapotranspiration',\n",
    "    'Monthly Median Departure Delay'\n",
    "]\n",
    "\n",
    "monthly_features = new_monthly_df[SELECTED_MONTHLY_WEATHER_COLS]\n",
    "scaler = StandardScaler()\n",
    "scaled_sampled_np = scaler.fit_transform(monthly_features)\n",
    "scaled_sampled_df = pd.DataFrame(monthly_features , columns=SELECTED_MONTHLY_WEATHER_COLS)\n",
    "scaled_sampled_df['Departure Delay'] = new_monthly_df['Departure Delay']\n",
    "\n",
    "print(scaled_sampled_df.shape)\n",
    "scaled_sampled_df.head()"
   ]
  },
  {
   "cell_type": "code",
   "execution_count": null,
   "id": "712fe6b8",
   "metadata": {},
   "outputs": [],
   "source": [
    "corr = scaled_sampled_df.corr()\n",
    "\n",
    "fig = px.imshow(\n",
    "    corr,\n",
    "    x=corr.columns,\n",
    "    y=corr.columns,\n",
    "    color_continuous_scale='tealrose', \n",
    "    template=\"ggplot2\",\n",
    "    title='Monthly Macro Standardised Weather Features Correlation Matrix Heatmap',\n",
    "    text_auto=True,\n",
    ")\n",
    "\n",
    "fig.update_layout(\n",
    "    autosize=True,\n",
    "    yaxis_nticks=len(list(corr.columns)),\n",
    "    xaxis_nticks=len(list(corr.columns)),\n",
    ")\n",
    "\n",
    "fig.show()"
   ]
  },
  {
   "cell_type": "code",
   "execution_count": null,
   "id": "8887f718",
   "metadata": {},
   "outputs": [],
   "source": []
  },
  {
   "cell_type": "markdown",
   "id": "42cd191e",
   "metadata": {},
   "source": [
    "## Binning Continuous Values using Equal Frequency Binning"
   ]
  },
  {
   "cell_type": "code",
   "execution_count": null,
   "id": "6dc50ea1",
   "metadata": {},
   "outputs": [],
   "source": []
  },
  {
   "cell_type": "code",
   "execution_count": null,
   "id": "6e747261",
   "metadata": {},
   "outputs": [],
   "source": [
    "num_bins = 5\n",
    "\n",
    "bin_edges = pd.qcut(sampled_weather_df['Origin Precipitation Hours'], q=num_bins, labels=False, duplicates='drop')\n",
    "\n",
    "sampled_weather_df['Origin Precipitation Hours (Equal)'] = bin_edges\n",
    "sampled_weather_df['Origin Precipitation Hours (Equal)'].value_counts()"
   ]
  },
  {
   "cell_type": "code",
   "execution_count": null,
   "id": "0fee0e87",
   "metadata": {},
   "outputs": [],
   "source": [
    "fig = px.scatter(\n",
    "    sampled_weather_df,\n",
    "    x='Origin Precipitation Hours', \n",
    "    y='Departure Delay', \n",
    "    color='Origin Precipitation Hours (Equal)',\n",
    "    color_continuous_scale='tealrose', \n",
    "    template=\"ggplot2\",\n",
    "    opacity=0.01,\n",
    "    title='Scatter Plot after binning'\n",
    ")\n",
    "fig.update_layout(\n",
    "    autosize=True\n",
    ")\n",
    "fig.show()"
   ]
  },
  {
   "cell_type": "code",
   "execution_count": null,
   "id": "25c6da74",
   "metadata": {},
   "outputs": [],
   "source": []
  },
  {
   "cell_type": "code",
   "execution_count": null,
   "id": "8ed06876",
   "metadata": {},
   "outputs": [],
   "source": [
    "sampled_weather_df['Origin Daylight'] = pd.to_datetime(sampled_weather_df['Origin Sunset']) - pd.to_datetime(sampled_weather_df['Origin Sunrise'])\n",
    "sampled_weather_df['Origin Daylight'] = sampled_weather_df['Origin Daylight'].apply(lambda x:x.total_seconds())\n",
    "\n",
    "num_bins = 4\n",
    "\n",
    "bin_edges = pd.qcut(sampled_weather_df['Origin Daylight'], q=num_bins, labels=False, duplicates='drop')\n",
    "\n",
    "sampled_weather_df['Origin Daylight (Equal)'] = bin_edges\n",
    "sampled_weather_df['Origin Daylight (Equal)'].value_counts()\n"
   ]
  },
  {
   "cell_type": "code",
   "execution_count": null,
   "id": "c07740a8",
   "metadata": {},
   "outputs": [],
   "source": [
    "fig = px.scatter(\n",
    "    sampled_weather_df,\n",
    "    x='Origin Daylight', \n",
    "    y='Departure Delay',\n",
    "    color='Origin Daylight (Equal)', \n",
    "    color_continuous_scale='tealrose', \n",
    "    template=\"ggplot2\"\n",
    ")\n",
    "fig.update_layout(title='Scatter Plot after binning')\n",
    "fig.show()"
   ]
  },
  {
   "cell_type": "code",
   "execution_count": null,
   "id": "c2a52ae4",
   "metadata": {},
   "outputs": [],
   "source": [
    "fig = px.scatter(\n",
    "    sampled_weather_df,\n",
    "    x='Origin Weather Code', \n",
    "    y='Departure Delay',\n",
    "    color='Origin Weather Code', \n",
    "    color_continuous_scale='tealrose', \n",
    "    template=\"ggplot2\",\n",
    "    title='Scatter Plot after binning'\n",
    ")\n",
    "fig.update_layout(\n",
    "    autosize=True\n",
    ")\n",
    "fig.show()"
   ]
  },
  {
   "cell_type": "code",
   "execution_count": null,
   "id": "1a422043",
   "metadata": {},
   "outputs": [],
   "source": [
    "BINNED_COLS = [\n",
    "    'Origin Precipitation Hours (Equal)',\n",
    "    'Origin Daylight (Equal)',\n",
    "    'Origin Weather Code',\n",
    "    'Departure Delay' \n",
    "]\n",
    "\n",
    "new_binned_df = sampled_weather_df[BINNED_COLS]\n",
    "corr = new_binned_df.corr()\n",
    "\n",
    "fig = px.imshow(\n",
    "    corr,\n",
    "    x=corr.columns,\n",
    "    y=corr.columns,\n",
    "    color_continuous_scale='tealrose', \n",
    "    template=\"ggplot2\",\n",
    "    title='Binned Weather Features Correlation Matrix Heatmap',\n",
    "    text_auto=True,\n",
    ")\n",
    "\n",
    "fig.update_layout(\n",
    "    autosize=True,\n",
    "    yaxis_nticks=len(list(corr.columns)),\n",
    "    xaxis_nticks=len(list(corr.columns)),\n",
    ")\n",
    "\n",
    "fig.show()"
   ]
  },
  {
   "cell_type": "code",
   "execution_count": null,
   "id": "af3e638e",
   "metadata": {},
   "outputs": [],
   "source": []
  },
  {
   "cell_type": "code",
   "execution_count": null,
   "id": "42932887",
   "metadata": {},
   "outputs": [],
   "source": []
  },
  {
   "cell_type": "code",
   "execution_count": null,
   "id": "ce3eadda",
   "metadata": {},
   "outputs": [],
   "source": []
  },
  {
   "cell_type": "code",
   "execution_count": null,
   "id": "785a4cf6",
   "metadata": {},
   "outputs": [],
   "source": []
  },
  {
   "cell_type": "code",
   "execution_count": null,
   "id": "4f3f5fc8",
   "metadata": {},
   "outputs": [],
   "source": []
  },
  {
   "cell_type": "markdown",
   "id": "6c17607e",
   "metadata": {},
   "source": [
    "## Weekly Macro Trends"
   ]
  },
  {
   "cell_type": "code",
   "execution_count": null,
   "id": "438c901d",
   "metadata": {},
   "outputs": [],
   "source": [
    "MEDIAN_WEATHER_COLS = [\n",
    "    'Date',\n",
    "    'Origin Temperature Max', 'Origin Temperature Min', 'Origin Temperature Mean',\n",
    "    'Origin Apparent Temperature Max', 'Origin Apparent Temperature Min', 'Origin Apparent Temperature Mean', \n",
    "    'Origin Shortwave Radiation', 'Origin Precipitation', 'Origin Rain', 'Origin Snowfall',\n",
    "    'Origin Windspeed', 'Origin Windgusts', 'Origin Wind Direction', 'Origin Evapotranspiration',\n",
    "    'Departure Delay'\n",
    "]\n",
    "\n",
    "MODE_WEATHER_COLS = [\n",
    "    'Date',\n",
    "    'Origin Weather Code', 'Origin Precipitation Hours'\n",
    "]\n",
    "median_weather_df = sampled_weather_df[MEDIAN_WEATHER_COLS]\n",
    "mode_weather_df = sampled_weather_df[MODE_WEATHER_COLS]\n",
    "mode_weather_df"
   ]
  },
  {
   "cell_type": "code",
   "execution_count": null,
   "id": "5d9c006d",
   "metadata": {},
   "outputs": [],
   "source": [
    "median_weather_df['Date'] = pd.to_datetime(median_weather_df['Date'])\n",
    "mode_weather_df['Date'] = pd.to_datetime(mode_weather_df['Date'])\n",
    "\n",
    "median_weather_df.set_index('Date', inplace=True)\n",
    "mode_weather_df.set_index('Date', inplace=True)\n",
    "\n",
    "weekly_medians = median_weather_df.resample('W').median()\n",
    "weekly_modes = mode_weather_df.resample('W').median()\n",
    "\n",
    "print(weekly_medians.shape)\n",
    "weekly_medians.columns"
   ]
  },
  {
   "cell_type": "code",
   "execution_count": null,
   "id": "2cb82e31",
   "metadata": {},
   "outputs": [],
   "source": [
    "print(weekly_modes.shape)\n",
    "weekly_modes.head()"
   ]
  },
  {
   "cell_type": "code",
   "execution_count": null,
   "id": "1a510cdb",
   "metadata": {},
   "outputs": [],
   "source": [
    "RENAMED_WEEKLY_WEATHER_COLS = {\n",
    "    'Origin Shortwave Radiation':'Origin Weekly Median Shortwave Radiation', \n",
    "    'Origin Precipitation': 'Origin Weekly Median Precipitation', \n",
    "    'Origin Rain': 'Origin Weekly Median Rain',\n",
    "    'Origin Snowfall': 'Origin Weekly Median Snowfall', \n",
    "    'Origin Windspeed': 'Origin Weekly Median Windspeed', \n",
    "    'Origin Windgusts': 'Origin Weekly Median Windgusts', \n",
    "    'Origin Wind Direction': 'Origin Weekly Median Wind Direction',\n",
    "    'Origin Evapotranspiration': 'Origin Weekly Median Evapotranspiration', \n",
    "    'Departure Delay': 'Weekly Median Departure Delay'\n",
    "}\n",
    "\n",
    "SELECTED_COLS = [\n",
    "    'Date',\n",
    "    'Origin Weekly Median Shortwave Radiation', \n",
    "    'Origin Weekly Median Precipitation', \n",
    "    'Origin Weekly Median Rain',\n",
    "    'Origin Weekly Median Snowfall', \n",
    "    'Origin Weekly Median Windspeed', \n",
    "    'Origin Weekly Median Windgusts', \n",
    "    'Origin Weekly Median Wind Direction',\n",
    "    'Origin Weekly Median Evapotranspiration', \n",
    "    'Weekly Median Departure Delay',\n",
    "    'Origin Weekly Mode Weather Code',\n",
    "    'Origin Weekly Mode Precipitation Hours',\n",
    "    'Origin Weekly Median Temperature Range',\n",
    "    'Origin Weekly Median Apparent Temperature Range',\n",
    "]\n",
    "\n",
    "weekly_df = weekly_medians.rename(columns=RENAMED_WEEKLY_WEATHER_COLS)\n",
    "weekly_df['Origin Weekly Mode Weather Code'] = weekly_modes['Origin Weather Code']\n",
    "weekly_df['Origin Weekly Mode Precipitation Hours'] = weekly_modes['Origin Precipitation Hours']\n",
    "\n",
    "weekly_df['Origin Weekly Median Temperature Range'] = weekly_medians['Origin Temperature Max'] - weekly_medians['Origin Temperature Min']\n",
    "weekly_df['Origin Weekly Median Apparent Temperature Range'] = weekly_medians['Origin Apparent Temperature Max'] - weekly_medians['Origin Apparent Temperature Min']\n",
    "weekly_df.reset_index(inplace=True)\n",
    "weekly_df = weekly_df[SELECTED_COLS]\n",
    "weekly_df.head()"
   ]
  },
  {
   "cell_type": "code",
   "execution_count": null,
   "id": "821002b0",
   "metadata": {},
   "outputs": [],
   "source": []
  },
  {
   "cell_type": "code",
   "execution_count": null,
   "id": "43717a54",
   "metadata": {},
   "outputs": [],
   "source": []
  },
  {
   "cell_type": "code",
   "execution_count": null,
   "id": "55f6d97d",
   "metadata": {},
   "outputs": [],
   "source": [
    "count = 0\n",
    "daily_df = pd.DataFrame([])\n",
    "for week in weekly_df['Date']:\n",
    "    start_date = week + pd.DateOffset(days=-6)\n",
    "    end_date = week\n",
    "    \n",
    "    for date in pd.date_range(start_date, end_date, freq='D'):\n",
    "        row = weekly_df.loc[count:count]\n",
    "        row = row.assign(Day=str(date))\n",
    "        daily_df = pd.concat([daily_df, row])\n",
    "    count += 1\n",
    "\n",
    "daily_df.drop(['Date'], axis=1, inplace=True)\n",
    "daily_df['Day'] = pd.to_datetime(daily_df['Day'])\n",
    "daily_df.rename(columns={'Day':'Date'}, inplace=True)\n",
    "daily_df.head()"
   ]
  },
  {
   "cell_type": "code",
   "execution_count": null,
   "id": "757cffcb",
   "metadata": {},
   "outputs": [],
   "source": []
  },
  {
   "cell_type": "code",
   "execution_count": null,
   "id": "eb81f21c",
   "metadata": {},
   "outputs": [],
   "source": [
    "tmp = sampled_weather_df[['Date', 'Departure Delay']]\n",
    "tmp['Date'] = pd.to_datetime(tmp['Date'])\n",
    "\n",
    "merged_weekly_df = tmp.merge(daily_df, on='Date', how='left')\n",
    "merged_weekly_df.head()"
   ]
  },
  {
   "cell_type": "code",
   "execution_count": null,
   "id": "b2c30518",
   "metadata": {},
   "outputs": [],
   "source": [
    "corr = merged_weekly_df.corr()\n",
    "\n",
    "fig = px.imshow(\n",
    "    corr,\n",
    "    x=corr.columns,\n",
    "    y=corr.columns,\n",
    "    color_continuous_scale='tealrose', \n",
    "    template=\"ggplot2\",\n",
    "    title=\"Weekly Correlation Heatmap\"\n",
    ")\n",
    "\n",
    "fig.update_layout(\n",
    "    autosize=True,\n",
    "    yaxis_nticks=len(list(corr.columns)),\n",
    "    xaxis_nticks=len(list(corr.columns)),\n",
    ")\n",
    "\n",
    "fig.show()"
   ]
  },
  {
   "cell_type": "code",
   "execution_count": null,
   "id": "48e7ca85",
   "metadata": {},
   "outputs": [],
   "source": [
    "SELECTED = [\n",
    "    'Origin Weekly Median Precipitation', 'Origin Weekly Median Windspeed',\n",
    "    'Origin Weekly Median Windgusts',\n",
    "    'Departure Delay', 'Weekly Median Departure Delay', \n",
    "]\n",
    "selected = merged_weekly_df[SELECTED]\n",
    "\n",
    "corr = selected.corr()\n",
    "\n",
    "fig = px.imshow(\n",
    "    corr,\n",
    "    x=corr.columns,\n",
    "    y=corr.columns,\n",
    "    color_continuous_scale='tealrose', \n",
    "    template=\"ggplot2\",\n",
    "    title='Weekly Macro Weather Features Correlation Matrix Heatmap',\n",
    "    text_auto=True,\n",
    ")\n",
    "\n",
    "fig.update_layout(\n",
    "    autosize=True,\n",
    "    yaxis_nticks=len(list(corr.columns)),\n",
    "    xaxis_nticks=len(list(corr.columns)),\n",
    ")\n",
    "\n",
    "fig.show()\n"
   ]
  },
  {
   "cell_type": "code",
   "execution_count": null,
   "id": "4fdf9204",
   "metadata": {},
   "outputs": [],
   "source": [
    "SELECTED_WEEKLY_COLS = [\n",
    "    'Origin Weekly Median Temperature Range',\n",
    "    'Origin Weekly Median Precipitation',\n",
    "    'Origin Weekly Median Windspeed',\n",
    "    'Origin Weekly Mode Weather Code',\n",
    "    'Origin Weekly Mode Precipitation Hours',\n",
    "    'Weekly Median Departure Delay',\n",
    "    'Departure Delay'\n",
    "]\n",
    "\n",
    "selected_weekly_df = merged_weekly_df[SELECTED_WEEKLY_COLS]\n",
    "\n",
    "corr = selected_weekly_df.corr()\n",
    "\n",
    "fig = px.imshow(\n",
    "    corr,\n",
    "    x=corr.columns,\n",
    "    y=corr.columns,\n",
    "    color_continuous_scale='tealrose', \n",
    "    template=\"ggplot2\",\n",
    "    title=\"Weekly Correlation Heatmap\"\n",
    ")\n",
    "\n",
    "fig.update_layout(\n",
    "    autosize=True,\n",
    "    yaxis_nticks=len(list(corr.columns)),\n",
    "    xaxis_nticks=len(list(corr.columns)),\n",
    ")\n",
    "\n",
    "fig.show()"
   ]
  },
  {
   "cell_type": "code",
   "execution_count": null,
   "id": "a7e2db68",
   "metadata": {},
   "outputs": [],
   "source": [
    "SELECTED_WEEKLY_WEATHER_COLS = [\n",
    "    'Origin Weekly Median Temperature Range',\n",
    "    'Origin Weekly Median Precipitation',\n",
    "    'Origin Weekly Median Windspeed',\n",
    "    'Origin Weekly Mode Weather Code',\n",
    "    'Origin Weekly Mode Precipitation Hours',\n",
    "    'Weekly Median Departure Delay',\n",
    "]\n",
    "\n",
    "weekly_features = merged_weekly_df[SELECTED_WEEKLY_WEATHER_COLS]\n",
    "scaler = StandardScaler()\n",
    "scaled_sampled_np = scaler.fit_transform(monthly_features)\n",
    "scaled_sampled_df = pd.DataFrame(weekly_features , columns=SELECTED_WEEKLY_WEATHER_COLS)\n",
    "scaled_sampled_df['Departure Delay'] = merged_weekly_df['Departure Delay']\n",
    "\n",
    "print(scaled_sampled_df.shape)\n",
    "scaled_sampled_df.head()"
   ]
  },
  {
   "cell_type": "code",
   "execution_count": null,
   "id": "90c36d11",
   "metadata": {},
   "outputs": [],
   "source": [
    "corr = selected_weekly_df.corr()\n",
    "\n",
    "fig = px.imshow(\n",
    "    corr,\n",
    "    x=corr.columns,\n",
    "    y=corr.columns,\n",
    "    color_continuous_scale='tealrose', \n",
    "    template=\"ggplot2\",\n",
    "    title=\"Weekly Correlation Heatmap\"\n",
    ")\n",
    "\n",
    "fig.update_layout(\n",
    "    autosize=True,\n",
    "    yaxis_nticks=len(list(corr.columns)),\n",
    "    xaxis_nticks=len(list(corr.columns)),\n",
    ")\n",
    "\n",
    "fig.show()"
   ]
  },
  {
   "cell_type": "code",
   "execution_count": null,
   "id": "e7a76094",
   "metadata": {},
   "outputs": [],
   "source": []
  },
  {
   "cell_type": "code",
   "execution_count": null,
   "id": "92e13461",
   "metadata": {},
   "outputs": [],
   "source": [
    "selected_weekly_df['Weekly Median Departure Delay'].value_counts()"
   ]
  },
  {
   "cell_type": "code",
   "execution_count": null,
   "id": "997cadf2",
   "metadata": {},
   "outputs": [],
   "source": []
  },
  {
   "cell_type": "code",
   "execution_count": null,
   "id": "c5b66c52",
   "metadata": {},
   "outputs": [],
   "source": []
  },
  {
   "cell_type": "code",
   "execution_count": null,
   "id": "919e5f29",
   "metadata": {},
   "outputs": [],
   "source": []
  }
 ],
 "metadata": {
  "kernelspec": {
   "display_name": "Python 3 (ipykernel)",
   "language": "python",
   "name": "python3"
  },
  "language_info": {
   "codemirror_mode": {
    "name": "ipython",
    "version": 3
   },
   "file_extension": ".py",
   "mimetype": "text/x-python",
   "name": "python",
   "nbconvert_exporter": "python",
   "pygments_lexer": "ipython3",
   "version": "3.7.10"
  }
 },
 "nbformat": 4,
 "nbformat_minor": 5
}
