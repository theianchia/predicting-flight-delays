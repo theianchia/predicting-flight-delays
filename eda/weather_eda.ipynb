{
 "cells": [
  {
   "cell_type": "code",
   "execution_count": null,
   "id": "fdff2071",
   "metadata": {},
   "outputs": [],
   "source": [
    "import pandas as pd\n",
    "import numpy as np\n",
    "import plotly.express as px\n",
    "import plotly.graph_objects as go\n",
    "from plotly.subplots import make_subplots\n",
    "import seaborn as sns\n",
    "\n",
    "from sklearn.preprocessing import StandardScaler\n",
    "\n",
    "from sklearn.decomposition import PCA\n",
    "\n",
    "from sklearn.cluster import KMeans"
   ]
  },
  {
   "cell_type": "code",
   "execution_count": null,
   "id": "49299757",
   "metadata": {},
   "outputs": [],
   "source": [
    "df = pd.read_csv(\"../scripts/eda_2018.csv\")"
   ]
  },
  {
   "cell_type": "code",
   "execution_count": null,
   "id": "1f7b7f8b",
   "metadata": {},
   "outputs": [],
   "source": [
    "print(df.shape)\n",
    "df.head()"
   ]
  },
  {
   "cell_type": "code",
   "execution_count": null,
   "id": "9932c25c",
   "metadata": {},
   "outputs": [],
   "source": [
    "df.isnull().sum()"
   ]
  },
  {
   "cell_type": "code",
   "execution_count": null,
   "id": "565d7e25",
   "metadata": {},
   "outputs": [],
   "source": [
    "threshold = 3\n",
    "col = 'Departure Delay'\n",
    "\n",
    "z_scores = np.abs((df[col] - df[col].mean()) / df[col].std())\n",
    "df = df.loc[z_scores < threshold]\n",
    "df.shape"
   ]
  },
  {
   "cell_type": "code",
   "execution_count": null,
   "id": "e9fd9e77",
   "metadata": {},
   "outputs": [],
   "source": [
    "print(df[col].max())\n",
    "print(df[col].mean())\n",
    "print(df[col].median())\n",
    "print(df[col].min())"
   ]
  },
  {
   "cell_type": "code",
   "execution_count": null,
   "id": "a66af83e",
   "metadata": {},
   "outputs": [],
   "source": [
    "df['Departure Delay'] = df['Departure Delay'] - df['NAS Delay'] - df['Security Delay']"
   ]
  },
  {
   "cell_type": "code",
   "execution_count": null,
   "id": "a080979d",
   "metadata": {},
   "outputs": [],
   "source": [
    "FEATURES = [\n",
    "    'Date', 'Month',\n",
    "    'Origin Weather Code', 'Origin Temperature Max',\n",
    "    'Origin Temperature Min', 'Origin Temperature Mean',\n",
    "    'Origin Apparent Temperature Max', 'Origin Apparent Temperature Min',\n",
    "    'Origin Apparent Temperature Mean', 'Origin Sunrise', 'Origin Sunset',\n",
    "    'Origin Shortwave Radiation', 'Origin Precipitation', 'Origin Rain',\n",
    "    'Origin Snowfall', 'Origin Precipitation Hours', 'Origin Windspeed',\n",
    "    'Origin Windgusts', 'Origin Wind Direction',\n",
    "    'Origin Evapotranspiration',\n",
    "    'Departure Delay',\n",
    "]\n",
    "\n",
    "# n = 300000\n",
    "# weather_df = df[FEATURES]\n",
    "# sampled_weather_df = weather_df.sample(n)\n",
    "# sampled_weather_df.shape\n",
    "\n",
    "sampled_weather_df = df[FEATURES]"
   ]
  },
  {
   "cell_type": "markdown",
   "id": "addcd4ca",
   "metadata": {},
   "source": [
    "## Initial Correlation Matrix"
   ]
  },
  {
   "cell_type": "code",
   "execution_count": null,
   "id": "713ecdd9",
   "metadata": {},
   "outputs": [],
   "source": [
    "corr = sampled_weather_df.corr()\n",
    "\n",
    "fig = px.imshow(\n",
    "    corr,\n",
    "    x=corr.columns,\n",
    "    y=corr.columns,\n",
    "    color_continuous_scale='tealrose', \n",
    "    title='Weather features Correlation Heatmap',\n",
    "    template=\"ggplot2\",\n",
    ")\n",
    "\n",
    "fig.update_layout(\n",
    "    autosize=True,\n",
    "    yaxis_nticks=len(list(corr.columns)),\n",
    "    xaxis_nticks=len(list(corr.columns)),\n",
    ")\n",
    "\n",
    "fig.show()"
   ]
  },
  {
   "cell_type": "code",
   "execution_count": null,
   "id": "541912f2",
   "metadata": {},
   "outputs": [],
   "source": []
  },
  {
   "cell_type": "markdown",
   "id": "b9344d5f",
   "metadata": {},
   "source": [
    "## Monthly Macro Trends"
   ]
  },
  {
   "cell_type": "code",
   "execution_count": null,
   "id": "4a907e35",
   "metadata": {},
   "outputs": [],
   "source": [
    "MEDIAN_WEATHER_COLS = [\n",
    "    'Origin Temperature Max', 'Origin Temperature Min', 'Origin Temperature Mean',\n",
    "    'Origin Apparent Temperature Max', 'Origin Apparent Temperature Min', 'Origin Apparent Temperature Mean', \n",
    "    'Origin Shortwave Radiation', 'Origin Precipitation', 'Origin Rain', 'Origin Snowfall',\n",
    "    'Origin Windspeed', 'Origin Windgusts', 'Origin Wind Direction', 'Origin Evapotranspiration',\n",
    "    'Departure Delay'\n",
    "]\n",
    "\n",
    "MODE_WEATHER_COLS = [\n",
    "    'Origin Weather Code', 'Origin Precipitation Hours'\n",
    "]\n",
    "\n",
    "monthly_median_df = sampled_weather_df.groupby('Month')[MEDIAN_WEATHER_COLS].median().reset_index()\n",
    "monthly_mode_df = sampled_weather_df.groupby('Month')[MODE_WEATHER_COLS].agg(lambda x:x.value_counts().index[0]).reset_index()\n"
   ]
  },
  {
   "cell_type": "code",
   "execution_count": null,
   "id": "e2b93b39",
   "metadata": {},
   "outputs": [],
   "source": [
    "monthly_median_df['Origin Monthly Median Temperature Range'] = monthly_median_df['Origin Temperature Max'] - monthly_median_df['Origin Temperature Min']\n",
    "monthly_median_df['Origin Monthly Median Apparent Temperature Range'] = monthly_median_df['Origin Apparent Temperature Max'] - monthly_median_df['Origin Apparent Temperature Min']\n"
   ]
  },
  {
   "cell_type": "code",
   "execution_count": null,
   "id": "fb69d212",
   "metadata": {},
   "outputs": [],
   "source": [
    "RENAMED_MONTHLY_WEATHER_COLS = {\n",
    "    'Origin Shortwave Radiation':'Origin Monthly Median Shortwave Radiation', \n",
    "    'Origin Precipitation': 'Origin Monthly Median Precipitation', \n",
    "    'Origin Rain': 'Origin Monthly Median Rain',\n",
    "    'Origin Snowfall': 'Origin Monthly Median Snowfall', \n",
    "    'Origin Windspeed': 'Origin Monthly Median Windspeed', \n",
    "    'Origin Windgusts': 'Origin Monthly Median Windgusts', \n",
    "    'Origin Wind Direction': 'Origin Monthly Median Wind Direction',\n",
    "    'Origin Evapotranspiration': 'Origin Monthly Median Evapotranspiration', \n",
    "    'Departure Delay': 'Monthly Median Departure Delay'\n",
    "}\n",
    "\n",
    "SELECTED_MONTHLY_WEATHER_COLS = [\n",
    "    'Month',\n",
    "    'Origin Monthly Median Temperature Range',\n",
    "    'Origin Monthly Median Apparent Temperature Range',\n",
    "    'Origin Monthly Median Shortwave Radiation',\n",
    "    'Origin Monthly Median Precipitation',\n",
    "    'Origin Monthly Median Rain',\n",
    "    'Origin Monthly Median Snowfall',\n",
    "    'Origin Monthly Median Windspeed',\n",
    "    'Origin Monthly Median Windgusts',\n",
    "    'Origin Monthly Median Wind Direction',\n",
    "    'Origin Monthly Median Evapotranspiration',\n",
    "    'Monthly Median Departure Delay'\n",
    "]\n",
    "\n",
    "monthly_median_df.rename(columns=RENAMED_MONTHLY_WEATHER_COLS, inplace = True)\n",
    "monthly_df = monthly_median_df[SELECTED_MONTHLY_WEATHER_COLS]\n",
    "monthly_df['Origin Monthly Mode Weather Code'] = monthly_mode_df['Origin Weather Code']\n",
    "monthly_df['Origin Monthly Mode Precipitation Hours'] = monthly_mode_df['Origin Precipitation Hours']"
   ]
  },
  {
   "cell_type": "code",
   "execution_count": null,
   "id": "f474b437",
   "metadata": {},
   "outputs": [],
   "source": [
    "tmp = sampled_weather_df[['Departure Delay', 'Month']]\n",
    "new_monthly_df = tmp.merge(monthly_df.set_index('Month'), on='Month', how='left')\n",
    "print(new_weather_df.shape)\n",
    "new_monthly_df.head()"
   ]
  },
  {
   "cell_type": "code",
   "execution_count": null,
   "id": "9d896cac",
   "metadata": {},
   "outputs": [],
   "source": [
    "corr = new_monthly_df.corr()\n",
    "\n",
    "fig = px.imshow(\n",
    "    corr,\n",
    "    x=corr.columns,\n",
    "    y=corr.columns,\n",
    "    color_continuous_scale='tealrose', \n",
    "    template=\"ggplot2\",\n",
    "    title='Monthly Macro Weather Features Correlation Matrix Heatmap',\n",
    "    text_auto=True,\n",
    ")\n",
    "\n",
    "fig.update_layout(\n",
    "    autosize=True,\n",
    "    yaxis_nticks=len(list(corr.columns)),\n",
    "    xaxis_nticks=len(list(corr.columns)),\n",
    ")\n",
    "\n",
    "fig.show()"
   ]
  },
  {
   "cell_type": "markdown",
   "id": "f1eebae4",
   "metadata": {},
   "source": [
    "## Binning Continuous Values using Equal Frequency Binning"
   ]
  },
  {
   "cell_type": "code",
   "execution_count": null,
   "id": "37e217ea",
   "metadata": {},
   "outputs": [],
   "source": []
  },
  {
   "cell_type": "code",
   "execution_count": null,
   "id": "05537be3",
   "metadata": {},
   "outputs": [],
   "source": [
    "num_bins = 5\n",
    "\n",
    "bin_edges = pd.qcut(sampled_weather_df['Origin Precipitation Hours'], q=num_bins, labels=False, duplicates='drop')\n",
    "\n",
    "sampled_weather_df['Origin Precipitation Hours (Equal)'] = bin_edges\n",
    "sampled_weather_df['Origin Precipitation Hours (Equal)'].value_counts()"
   ]
  },
  {
   "cell_type": "code",
   "execution_count": null,
   "id": "a5c891ba",
   "metadata": {},
   "outputs": [],
   "source": [
    "fig = px.scatter(\n",
    "    sampled_weather_df,\n",
    "    x='Origin Precipitation Hours', \n",
    "    y='Departure Delay', \n",
    "    color='Origin Precipitation Hours (Equal)',\n",
    "    color_continuous_scale='tealrose', \n",
    "    template=\"ggplot2\",\n",
    "    opacity=0.01,\n",
    "    title='Scatter Plot after binning'\n",
    ")\n",
    "fig.update_layout(\n",
    "    autosize=True\n",
    ")\n",
    "fig.show()"
   ]
  },
  {
   "cell_type": "code",
   "execution_count": null,
   "id": "85d4ec01",
   "metadata": {},
   "outputs": [],
   "source": []
  },
  {
   "cell_type": "code",
   "execution_count": null,
   "id": "ead20432",
   "metadata": {},
   "outputs": [],
   "source": [
    "sampled_weather_df['Origin Daylight'] = pd.to_datetime(sampled_weather_df['Origin Sunset']) - pd.to_datetime(sampled_weather_df['Origin Sunrise'])\n",
    "sampled_weather_df['Origin Daylight'] = sampled_weather_df['Origin Daylight'].apply(lambda x:x.total_seconds())\n",
    "\n",
    "num_bins = 4\n",
    "\n",
    "bin_edges = pd.qcut(sampled_weather_df['Origin Daylight'], q=num_bins, labels=False, duplicates='drop')\n",
    "\n",
    "sampled_weather_df['Origin Daylight (Equal)'] = bin_edges\n",
    "sampled_weather_df['Origin Daylight (Equal)'].value_counts()\n"
   ]
  },
  {
   "cell_type": "code",
   "execution_count": null,
   "id": "ddb77705",
   "metadata": {},
   "outputs": [],
   "source": [
    "fig = px.scatter(\n",
    "    sampled_weather_df,\n",
    "    x='Origin Daylight', \n",
    "    y='Departure Delay',\n",
    "    color='Origin Daylight (Equal)', \n",
    "    color_continuous_scale='tealrose', \n",
    "    template=\"ggplot2\"\n",
    ")\n",
    "fig.update_layout(title='Scatter Plot after binning')\n",
    "fig.show()"
   ]
  },
  {
   "cell_type": "code",
   "execution_count": null,
   "id": "c868c11e",
   "metadata": {},
   "outputs": [],
   "source": [
    "fig = px.scatter(\n",
    "    sampled_weather_df,\n",
    "    x='Origin Weather Code', \n",
    "    y='Departure Delay',\n",
    "    color='Origin Weather Code', \n",
    "    color_continuous_scale='tealrose', \n",
    "    template=\"ggplot2\",\n",
    "    title='Scatter Plot after binning'\n",
    ")\n",
    "fig.update_layout(\n",
    "    autosize=True\n",
    ")\n",
    "fig.show()"
   ]
  },
  {
   "cell_type": "code",
   "execution_count": null,
   "id": "1f1504d2",
   "metadata": {},
   "outputs": [],
   "source": [
    "BINNED_COLS = [\n",
    "    'Origin Precipitation Hours (Equal)',\n",
    "    'Origin Daylight (Equal)',\n",
    "    'Origin Weather Code',\n",
    "    'Departure Delay' \n",
    "]\n",
    "\n",
    "new_binned_df = sampled_weather_df[BINNED_COLS]\n",
    "corr = new_binned_df.corr()\n",
    "\n",
    "fig = px.imshow(\n",
    "    corr,\n",
    "    x=corr.columns,\n",
    "    y=corr.columns,\n",
    "    color_continuous_scale='tealrose', \n",
    "    template=\"ggplot2\",\n",
    "    title='Binned Weather Features Correlation Matrix Heatmap',\n",
    "    text_auto=True,\n",
    ")\n",
    "\n",
    "fig.update_layout(\n",
    "    autosize=True,\n",
    "    yaxis_nticks=len(list(corr.columns)),\n",
    "    xaxis_nticks=len(list(corr.columns)),\n",
    ")\n",
    "\n",
    "fig.show()"
   ]
  },
  {
   "cell_type": "code",
   "execution_count": null,
   "id": "5220b72b",
   "metadata": {},
   "outputs": [],
   "source": []
  },
  {
   "cell_type": "code",
   "execution_count": null,
   "id": "1d36c586",
   "metadata": {},
   "outputs": [],
   "source": []
  },
  {
   "cell_type": "code",
   "execution_count": null,
   "id": "3edd6986",
   "metadata": {},
   "outputs": [],
   "source": []
  },
  {
   "cell_type": "code",
   "execution_count": null,
   "id": "e7274456",
   "metadata": {},
   "outputs": [],
   "source": []
  },
  {
   "cell_type": "code",
   "execution_count": null,
   "id": "89ccc73b",
   "metadata": {},
   "outputs": [],
   "source": []
  },
  {
   "cell_type": "markdown",
   "id": "5674dcc1",
   "metadata": {},
   "source": [
    "## Weekly Macro Trends"
   ]
  },
  {
   "cell_type": "code",
   "execution_count": null,
   "id": "ca50d001",
   "metadata": {},
   "outputs": [],
   "source": [
    "MEDIAN_WEATHER_COLS = [\n",
    "    'Date',\n",
    "    'Origin Temperature Max', 'Origin Temperature Min', 'Origin Temperature Mean',\n",
    "    'Origin Apparent Temperature Max', 'Origin Apparent Temperature Min', 'Origin Apparent Temperature Mean', \n",
    "    'Origin Shortwave Radiation', 'Origin Precipitation', 'Origin Rain', 'Origin Snowfall',\n",
    "    'Origin Windspeed', 'Origin Windgusts', 'Origin Wind Direction', 'Origin Evapotranspiration',\n",
    "    'Departure Delay'\n",
    "]\n",
    "\n",
    "MODE_WEATHER_COLS = [\n",
    "    'Date',\n",
    "    'Origin Weather Code', 'Origin Precipitation Hours'\n",
    "]\n",
    "median_weather_df = sampled_weather_df[MEDIAN_WEATHER_COLS]\n",
    "mode_weather_df = sampled_weather_df[MODE_WEATHER_COLS]\n",
    "mode_weather_df"
   ]
  },
  {
   "cell_type": "code",
   "execution_count": null,
   "id": "a247b686",
   "metadata": {},
   "outputs": [],
   "source": [
    "median_weather_df['Date'] = pd.to_datetime(median_weather_df['Date'])\n",
    "mode_weather_df['Date'] = pd.to_datetime(mode_weather_df['Date'])\n",
    "\n",
    "median_weather_df.set_index('Date', inplace=True)\n",
    "mode_weather_df.set_index('Date', inplace=True)\n",
    "\n",
    "weekly_medians = median_weather_df.resample('W').median()\n",
    "weekly_modes = mode_weather_df.resample('W').median()\n",
    "\n",
    "print(weekly_medians.shape)\n",
    "weekly_medians.columns"
   ]
  },
  {
   "cell_type": "code",
   "execution_count": null,
   "id": "f31cdd48",
   "metadata": {},
   "outputs": [],
   "source": [
    "print(weekly_modes.shape)\n",
    "weekly_modes.head()"
   ]
  },
  {
   "cell_type": "code",
   "execution_count": null,
   "id": "9de4ee3b",
   "metadata": {},
   "outputs": [],
   "source": [
    "RENAMED_WEEKLY_WEATHER_COLS = {\n",
    "    'Origin Shortwave Radiation':'Origin Weekly Median Shortwave Radiation', \n",
    "    'Origin Precipitation': 'Origin Weekly Median Precipitation', \n",
    "    'Origin Rain': 'Origin Weekly Median Rain',\n",
    "    'Origin Snowfall': 'Origin Weekly Median Snowfall', \n",
    "    'Origin Windspeed': 'Origin Weekly Median Windspeed', \n",
    "    'Origin Windgusts': 'Origin Weekly Median Windgusts', \n",
    "    'Origin Wind Direction': 'Origin Weekly Median Wind Direction',\n",
    "    'Origin Evapotranspiration': 'Origin Weekly Median Evapotranspiration', \n",
    "    'Departure Delay': 'Weekly Median Departure Delay'\n",
    "}\n",
    "\n",
    "weekly_df = weekly_medians.rename(columns=RENAMED_WEEKLY_WEATHER_COLS)\n",
    "weekly_df['Origin Weekly Mode Weather Code'] = weekly_modes['Origin Weather Code']\n",
    "weekly_df['Origin Weekly Mode Precipitation Hours'] = weekly_modes['Origin Precipitation Hours']\n",
    "\n",
    "weekly_df['Origin Weekly Median Temperature Range'] = weekly_medians['Origin Temperature Max'] - weekly_medians['Origin Temperature Min']\n",
    "weekly_df['Origin Weekly Median Apparent Temperature Range'] = weekly_medians['Origin Apparent Temperature Max'] - weekly_medians['Origin Apparent Temperature Min']\n",
    "weekly_df.head()"
   ]
  },
  {
   "cell_type": "code",
   "execution_count": null,
   "id": "ae54539d",
   "metadata": {},
   "outputs": [],
   "source": [
    "tmp = sampled_weather_df[['Date', 'Departure Delay']]\n",
    "tmp['Date'] = pd.to_datetime(tmp['Date'])\n",
    "\n",
    "merged_weekly_df = tmp.merge(weekly_df, on='Date', how='left')\n",
    "merged_weekly_df.head()"
   ]
  },
  {
   "cell_type": "code",
   "execution_count": null,
   "id": "d41ffe9a",
   "metadata": {},
   "outputs": [],
   "source": []
  },
  {
   "cell_type": "code",
   "execution_count": null,
   "id": "7402bbb9",
   "metadata": {},
   "outputs": [],
   "source": [
    "SELECTED_WEEKLY_COLS = [\n",
    "    'Origin Weekly Median Temperature Range',\n",
    "    'Origin Weekly Median Precipitation',\n",
    "    'Origin Weekly Median Windspeed',\n",
    "    'Origin Weekly Mode Weather Code',\n",
    "    'Origin Weekly Mode Precipitation Hours',\n",
    "    'Weekly Median Departure Delay',\n",
    "    'Departure Delay'\n",
    "]\n",
    "\n",
    "selected_weekly_df = merged_weekly_df[SELECTED_WEEKLY_COLS]\n",
    "selected_weekly_df['Departure Delay'] = \n",
    "\n",
    "corr = selected_weekly_df.corr()\n",
    "\n",
    "fig = px.imshow(\n",
    "    corr,\n",
    "    x=corr.columns,\n",
    "    y=corr.columns,\n",
    "    color_continuous_scale='tealrose', \n",
    "    template=\"plotly_dark\",\n",
    ")\n",
    "\n",
    "fig.update_layout(title='Correlation Heatmap')\n",
    "\n",
    "fig.show()"
   ]
  },
  {
   "cell_type": "code",
   "execution_count": null,
   "id": "f2594309",
   "metadata": {},
   "outputs": [],
   "source": [
    "selected_weekly_df['Weekly Median Departure Delay'].value_counts()"
   ]
  },
  {
   "cell_type": "code",
   "execution_count": null,
   "id": "3da9783f",
   "metadata": {},
   "outputs": [],
   "source": []
  },
  {
   "cell_type": "code",
   "execution_count": null,
   "id": "5165dcba",
   "metadata": {},
   "outputs": [],
   "source": []
  },
  {
   "cell_type": "markdown",
   "id": "85803e2c",
   "metadata": {},
   "source": [
    "## Standardising Weather Features"
   ]
  },
  {
   "cell_type": "code",
   "execution_count": null,
   "id": "0fdff3c1",
   "metadata": {},
   "outputs": [],
   "source": []
  },
  {
   "cell_type": "code",
   "execution_count": null,
   "id": "1bdb88ae",
   "metadata": {},
   "outputs": [],
   "source": []
  }
 ],
 "metadata": {
  "kernelspec": {
   "display_name": "Python 3 (ipykernel)",
   "language": "python",
   "name": "python3"
  },
  "language_info": {
   "codemirror_mode": {
    "name": "ipython",
    "version": 3
   },
   "file_extension": ".py",
   "mimetype": "text/x-python",
   "name": "python",
   "nbconvert_exporter": "python",
   "pygments_lexer": "ipython3",
   "version": "3.7.10"
  }
 },
 "nbformat": 4,
 "nbformat_minor": 5
}
